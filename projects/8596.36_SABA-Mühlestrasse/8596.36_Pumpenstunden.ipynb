{
 "cells": [
  {
   "cell_type": "markdown",
   "metadata": {},
   "source": [
    "# Imports"
   ]
  },
  {
   "cell_type": "code",
   "execution_count": 2,
   "metadata": {},
   "outputs": [],
   "source": [
    "import pandas as pd\n",
    "import plotly.graph_objects as go\n",
    "import pytz\n",
    "from pathlib import Path\n",
    "from plotly.subplots import  make_subplots\n",
    "from datetime import timedelta as td\n",
    "from datetime import datetime as dt\n",
    "from hbt_tools import utils_hbt as uh"
   ]
  },
  {
   "cell_type": "markdown",
   "metadata": {},
   "source": [
    "# Functions"
   ]
  },
  {
   "cell_type": "code",
   "execution_count": null,
   "metadata": {},
   "outputs": [],
   "source": [
    "def make_df_betrieb(df_pw, on_name='On Time', off_name='Off Time'):\n",
    "    # On time\n",
    "    time_on = df_pw[on_name]\n",
    "    time_on = time_on.sort_values()\n",
    "    time_on2 = time_on - td(milliseconds=1)\n",
    "    time_on = pd.DataFrame(index=time_on)\n",
    "    time_on.index.rename(name='zeit', inplace=True)\n",
    "    time_on['betrieb'] = 1\n",
    "\n",
    "    time_on2 = pd.DataFrame(index=time_on2)\n",
    "    time_on2.index.rename(name='zeit', inplace=True)\n",
    "    time_on2['betrieb'] = 0\n",
    "\n",
    "    # Off time\n",
    "    time_off = df_pw[off_name]\n",
    "    time_off = time_off.sort_values()\n",
    "    time_off2 = time_off + td(milliseconds=1)\n",
    "    time_off = pd.DataFrame(index=time_off)\n",
    "    time_off.index.rename(name='zeit', inplace=True)\n",
    "    time_off['betrieb'] = 1\n",
    "\n",
    "    time_off2 = pd.DataFrame(index=time_off2)\n",
    "    time_off2.index.rename(name='zeit', inplace=True)\n",
    "    time_off2['betrieb'] = 0\n",
    "\n",
    "    # Conatenate\n",
    "    df_betrieb = pd.concat([time_on2, time_on, time_off, time_off2])\n",
    "    df_betrieb.sort_index(inplace=True)\n",
    "\n",
    "    # Compute 'betriebsdauer' / 'pumpenstunden'\n",
    "    df_betrieb['betriebdauer'] = df_betrieb.index\n",
    "    df_betrieb['betriebdauer'] -= df_betrieb['betriebdauer'].shift(1)\n",
    "\n",
    "    mask = df_betrieb['betrieb']==0\n",
    "    df_betrieb.loc[mask,'betriebdauer'] = td()\n",
    "\n",
    "    df_betrieb['pumpenstunden'] = df_betrieb['betriebdauer'].cumsum()\n",
    "    df_betrieb['pumpenstunden'] = df_betrieb['pumpenstunden'].dt.total_seconds() / (60**2)\n",
    "\n",
    "    return df_betrieb\n",
    "#-------------------------------------------------------------------------------\n",
    "\n",
    "def plot_pw(df_pw, col_niveau=0, col_betrieb=4):\n",
    "    fig = make_subplots(cols=1, rows=2, subplot_titles=['Niveau', 'Betrieb'],\n",
    "        shared_xaxes=True)\n",
    "\n",
    "    fig = make_subplots(specs=[[{\"secondary_y\": True}]])\n",
    "    fig.add_trace(go.Scatter(x=df_pw.index, y=df_pw.iloc[:,col_niveau],\n",
    "        name='Niveau'), secondary_y=False)\n",
    "    \n",
    "    fig.add_trace(go.Scatter(x=df_pw.index, y=df_pw.iloc[:,col_betrieb],\n",
    "        name='Betrieb'), secondary_y=True)\n",
    "\n",
    "    return fig\n",
    "#-------------------------------------------------------------------------------\n",
    "\n",
    "def make_df_pw(df_pw, A_pw, min_Q):\n",
    "    # delta_h\n",
    "    df_pw['delta_h'] = df_pw['wert'] - df_pw['wert'].shift()\n",
    "    df_pw.iloc[0, 1] = 0\n",
    "\n",
    "    # delta_t\n",
    "    df_pw['delta_t'] = df_pw.index\n",
    "    df_pw['delta_t'] -= df_pw['delta_t'].shift()\n",
    "    df_pw.iloc[0, 2] = td(0)\n",
    "    df_pw['delta_t'] = df_pw['delta_t'].dt.total_seconds()\n",
    "\n",
    "    # vel_h\n",
    "    df_pw['vel_h'] = df_pw['delta_h'] / df_pw['delta_t']\n",
    "\n",
    "    min_vel = (min_Q / A_pw) * -1\n",
    "\n",
    "    # betrieb\n",
    "    df_pw['betrieb'] = 0\n",
    "    mask = df_pw['vel_h'] < min_vel\n",
    "    df_pw.loc[mask, 'betrieb'] = 1\n",
    "\n",
    "    # pumpenstunden\n",
    "    df_pw['pumpenstunden'] = df_pw['delta_t']\n",
    "    mask = df_pw['betrieb']==0\n",
    "    df_pw.loc[mask,'pumpenstunden'] = 0\n",
    "    df_pw['pumpenstunden'] = df_pw['pumpenstunden'].cumsum() / (60**2)\n",
    "\n",
    "    return df_pw"
   ]
  },
  {
   "cell_type": "markdown",
   "metadata": {},
   "source": [
    "# Parameters"
   ]
  },
  {
   "cell_type": "code",
   "execution_count": 9,
   "metadata": {},
   "outputs": [],
   "source": [
    "dt_format = '%d.%m.%Y %H:%M'\n",
    "save_dir = Path(r\"H:\\2 Projekte\\8000-\\8500er\\8596\\8596.36-Mühlestrasse\"\n",
    "    r\"\\05 Berechnungen Grundlagen\\Datenauswertung\\Pumpenstunden\")\n",
    "path_hirsen = Path(r\"H:\\2 Projekte\\8000-\\8500er\\8596\"\n",
    "    r\"\\8596.36-Mühlestrasse\\05 Berechnungen Grundlagen\\Datenauswertung\"\n",
    "    r\"\\Pumpenstunden\\PWHIRS 01.10.2021-31.07.2023.xlsx\")\n",
    "path_sonnenberg = Path(r\"H:\\2 Projekte\\8000-\\8500er\\8596\"\n",
    "    r\"\\8596.36-Mühlestrasse\\05 Berechnungen Grundlagen\\Datenauswertung\"\n",
    "    r\"\\Pumpenstunden\\PWSONB 01.10.2023-31.07.2023.xlsx\")\n",
    "\n",
    "date_from = dt(2021, 9, 29, tzinfo=pytz.timezone('Europe/Zurich'))\n",
    "date_to = dt(2022, 10, 1, tzinfo=pytz.timezone('Europe/Zurich'))"
   ]
  },
  {
   "cell_type": "markdown",
   "metadata": {},
   "source": [
    "# Read Data"
   ]
  },
  {
   "cell_type": "markdown",
   "metadata": {},
   "source": [
    "## Pumpen"
   ]
  },
  {
   "cell_type": "code",
   "execution_count": null,
   "metadata": {},
   "outputs": [],
   "source": [
    "# PW Hirsen\n",
    "id = 432\n",
    "pw_hirsen = uh.hbtdb_get_data(id, date_from=date_from, date_to=date_to)\n",
    "pw_hirsen = pw_hirsen / 100 # cm -> m\n",
    "mask = pw_hirsen.index < dt(2021, 10, 29, 12, 3, tzinfo=pytz.timezone('Europe/Zurich'))\n",
    "pw_hirsen.loc[mask, 'wert'] = 0"
   ]
  },
  {
   "cell_type": "code",
   "execution_count": null,
   "metadata": {},
   "outputs": [],
   "source": [
    "min_Q = 2e-3 # m3/s\n",
    "A_pw = 5 * 4 # m2\n",
    "pw_hirsen = make_df_pw(pw_hirsen, A_pw=A_pw, min_Q=min_Q)"
   ]
  },
  {
   "cell_type": "code",
   "execution_count": null,
   "metadata": {},
   "outputs": [],
   "source": [
    "# PW Sonnenbergstrasse\n",
    "id = 457\n",
    "pw_sonnenberg = uh.hbtdb_get_data(id, date_from=date_from, date_to=date_to)"
   ]
  },
  {
   "cell_type": "code",
   "execution_count": null,
   "metadata": {},
   "outputs": [],
   "source": [
    "min_Q = 2.5e-3 # m3/s\n",
    "A_pw = 7.7 * 2.5 # m2\n",
    "pw_sonnenberg = make_df_pw(pw_sonnenberg, A_pw=A_pw, min_Q=min_Q)"
   ]
  },
  {
   "cell_type": "markdown",
   "metadata": {},
   "source": [
    "## Filterleistung"
   ]
  },
  {
   "cell_type": "code",
   "execution_count": 5,
   "metadata": {},
   "outputs": [],
   "source": [
    "path_filterleistung = Path(r\"H:\\2 Projekte\\8000-\\8500er\\8596\\8596.36-Mühlestrasse\\05 Berechnungen Grundlagen\\Datenauswertung\\Filterleistung\\Daten-Filterleistung.xlsx\")\n",
    "\n",
    "filterleistung = pd.read_excel(path_filterleistung, sheet_name='Tabelle2',\n",
    "    skiprows=1, index_col=0)"
   ]
  },
  {
   "cell_type": "markdown",
   "metadata": {},
   "source": [
    "## Rain"
   ]
  },
  {
   "cell_type": "code",
   "execution_count": null,
   "metadata": {},
   "outputs": [],
   "source": [
    "path_rain = Path(r\"H:\\2 Projekte\\8000-\\8500er\\8596\\8596.36-Mühlestrasse\"\n",
    "    r\"\\05 Berechnungen Grundlagen\\Regendaten\\LUZ_2020 bis 2023_data.csv\")\n",
    "\n",
    "rain = uh.read_raindata_meteoschweiz(path_rain, abbr=True)\n",
    "rain = rain[(rain.index>=date_from) & (rain.index<date_to)]\n",
    "rain['cumsum'] = rain.cumsum()"
   ]
  },
  {
   "cell_type": "markdown",
   "metadata": {},
   "source": [
    "# Computations"
   ]
  },
  {
   "cell_type": "code",
   "execution_count": null,
   "metadata": {},
   "outputs": [],
   "source": [
    "# Betriebsstunden PW Hirsen\n",
    "tot_h = pw_hirsen.iloc[-1, 5]\n",
    "tot_h"
   ]
  },
  {
   "cell_type": "code",
   "execution_count": null,
   "metadata": {},
   "outputs": [],
   "source": [
    "# Betriebsstunden PW Sonnenbergstrasse\n",
    "tot_h = pw_sonnenberg.iloc[-1, 5]\n",
    "tot_h"
   ]
  },
  {
   "cell_type": "markdown",
   "metadata": {},
   "source": [
    "# Plots"
   ]
  },
  {
   "cell_type": "markdown",
   "metadata": {},
   "source": [
    "## Plot Paul"
   ]
  },
  {
   "cell_type": "code",
   "execution_count": null,
   "metadata": {},
   "outputs": [],
   "source": [
    "fig = make_subplots(\n",
    "    specs=[[{\"secondary_y\": False}], [{\"secondary_y\": True}]],\n",
    "    cols=1, rows=2,\n",
    "    subplot_titles=['Filterleistung', 'Niederschlag'],\n",
    "    shared_xaxes=True\n",
    "    )\n",
    "\n",
    "# Row 1\n",
    "fig.add_trace(go.Scatter(\n",
    "    mode='markers',\n",
    "    x=filterleistung.index,\n",
    "    y=filterleistung.iloc[:,0],\n",
    "    name='RFB 1',\n",
    "    line=dict(color='red')\n",
    "), secondary_y=False, row=1, col=1)\n",
    "\n",
    "fig.add_trace(go.Scatter(\n",
    "    mode='markers',\n",
    "    x=filterleistung.index,\n",
    "    y=filterleistung.iloc[:,1],\n",
    "    name='RFB 2',\n",
    "    line=dict(color='blue')\n",
    "), secondary_y=False, row=1, col=1)\n",
    "\n",
    "val = 3\n",
    "fig.add_hline(y=val, row=1, col=1)\n",
    "fig.add_annotation(x=rain.index[0], y=val, text=f'{val} l/min/m2',\n",
    "    font=dict(size=20, color='black'))\n",
    "\n",
    "# Row 2\n",
    "fig.add_trace(go.Scatter(\n",
    "    x=rain.index,\n",
    "    y=rain.iloc[:,0],\n",
    "    name='Regen',\n",
    "    line=dict(color='blue')\n",
    "), secondary_y=False, row=2, col=1)\n",
    "\n",
    "fig.add_trace(go.Scatter(\n",
    "    x=rain.index,\n",
    "    y=rain.iloc[:,1],\n",
    "    name='Regen kumulativ',\n",
    "    line=dict(color='blue', dash='dash')\n",
    "), secondary_y=True, row=2, col=1)"
   ]
  },
  {
   "cell_type": "code",
   "execution_count": null,
   "metadata": {},
   "outputs": [],
   "source": [
    "fig.update_layout(\n",
    "    font=dict(size=25)\n",
    ")\n",
    "\n",
    "fig.update_annotations(font_size=28)\n",
    "\n",
    "save_path = Path(r\"H:\\2 Projekte\\8000-\\8500er\\8596\\8596.36-Mühlestrasse\"\n",
    "    r\"\\05 Berechnungen Grundlagen\\Datenauswertung\\Pumpenstunden\\Plot-kombiniert.html\")\n",
    "fig.write_html(save_path)"
   ]
  },
  {
   "cell_type": "markdown",
   "metadata": {},
   "source": [
    "## Plot Filterleistung"
   ]
  },
  {
   "cell_type": "code",
   "execution_count": 13,
   "metadata": {},
   "outputs": [],
   "source": [
    "fig = make_subplots()\n",
    "\n",
    "size = 20\n",
    "fig.add_trace(go.Scatter(\n",
    "    mode='markers',\n",
    "    x=filterleistung.index,\n",
    "    y=filterleistung.iloc[:,0],\n",
    "    name='RFB 1',\n",
    "    marker=dict(color='red', size=size,)\n",
    "))\n",
    "\n",
    "fig.add_trace(go.Scatter(\n",
    "    mode='markers',\n",
    "    x=filterleistung.index,\n",
    "    y=filterleistung.iloc[:,1],\n",
    "    name='RFB 2',\n",
    "    marker=dict(color='blue', size=size,)\n",
    "))\n",
    "\n",
    "val = 3\n",
    "fig.add_hline(y=val, row=1, col=1)\n",
    "fig.add_annotation(x=filterleistung.index[0], y=val, text=f'{val} l/min/m2',\n",
    "    font=dict(size=25, color='black'))\n",
    "\n",
    "fig.update_layout(\n",
    "    font=dict(size=25)\n",
    ")\n",
    "\n",
    "save_path = save_dir.parent / 'Plots/Filterleistung2023.html'\n",
    "fig.write_html(save_path)"
   ]
  }
 ],
 "metadata": {
  "kernelspec": {
   "display_name": "Python 3.10.8 ('venv': venv)",
   "language": "python",
   "name": "python3"
  },
  "language_info": {
   "codemirror_mode": {
    "name": "ipython",
    "version": 3
   },
   "file_extension": ".py",
   "mimetype": "text/x-python",
   "name": "python",
   "nbconvert_exporter": "python",
   "pygments_lexer": "ipython3",
   "version": "3.10.11"
  },
  "orig_nbformat": 4,
  "vscode": {
   "interpreter": {
    "hash": "fcbcf634104c4732b8439a3fb9bd2e33824138a0380f5d18bd4ad379b42013a3"
   }
  }
 },
 "nbformat": 4,
 "nbformat_minor": 2
}
