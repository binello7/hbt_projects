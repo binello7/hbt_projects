{
 "cells": [
  {
   "cell_type": "markdown",
   "metadata": {},
   "source": [
    "# Imports"
   ]
  },
  {
   "cell_type": "code",
   "execution_count": null,
   "metadata": {},
   "outputs": [],
   "source": [
    "import pandas as pd\n",
    "import plotly.graph_objects as go\n",
    "import pytz\n",
    "from datetime import datetime as dt\n",
    "from datetime import timedelta as td\n",
    "from hbt_tools import utils_hbt as uh\n",
    "from hbt_tools import plots as hp\n",
    "from pathlib import Path"
   ]
  },
  {
   "cell_type": "markdown",
   "metadata": {},
   "source": [
    "# Functions"
   ]
  },
  {
   "cell_type": "code",
   "execution_count": null,
   "metadata": {},
   "outputs": [],
   "source": [
    "def plot_pw(ts_pw, ts_rain, names=['PW', 'rain']):\n",
    "    fig = go.Figure()\n",
    "    fig.add_trace(go.Scatter(\n",
    "        x=ts_pw.index,\n",
    "        y=ts_pw.iloc[:,0],\n",
    "        name=names[0],\n",
    "        line=dict(color='red', width=1),\n",
    "        yaxis=\"y1\"\n",
    "        ))\n",
    "    \n",
    "    fig.add_trace(go.Bar(\n",
    "        x=ts_rain.index,\n",
    "        y=ts_rain.iloc[:,0],\n",
    "        name=names[1],\n",
    "        marker_color='blue', \n",
    "        yaxis=\"y2\"\n",
    "        ))\n",
    "\n",
    "    fig.update_layout(\n",
    "        yaxis=dict(\n",
    "            title=\"Niveau\",\n",
    "            titlefont=dict(color=\"red\"),\n",
    "            tickfont=dict(color=\"red\"),\n",
    "            anchor=\"free\",\n",
    "            side=\"left\",\n",
    "        ),\n",
    "        yaxis2=dict(\n",
    "            title=\"Regenmenge [mm/10 min]\",\n",
    "            titlefont=dict(color=\"blue\"),\n",
    "            tickfont=dict(color=\"blue\"),\n",
    "            anchor=\"free\",\n",
    "            overlaying=\"y\",\n",
    "            side=\"right\",\n",
    "        )\n",
    "    )\n",
    "\n",
    "    return fig\n",
    "#-------------------------------------------------------------------------------\n",
    "\n",
    "def filter_ts(ts, date_from, date_to):\n",
    "    ts = ts[(ts.index>=date_from) & (ts.index<date_to)]\n",
    "\n",
    "    return ts\n",
    "#-------------------------------------------------------------------------------\n",
    "\n",
    "def del_values(ts, val):\n",
    "    mask = ts.iloc[:,0]==val\n",
    "    ts_out = ts.drop(ts[mask].index)\n",
    "    return ts_out\n",
    "#-------------------------------------------------------------------------------\n",
    "\n",
    "def ts_delta_t(ts):\n",
    "    '''\n",
    "    ts: timeseries\n",
    "    return: delta_t\n",
    "    '''\n",
    "    ts_out = pd.DataFrame()\n",
    "    ts_out['delta_t'] = ts.index\n",
    "    delta_t = ts_out['delta_t'] - ts_out['delta_t'].shift()\n",
    "\n",
    "    ts_out['delta_t'] = delta_t\n",
    "\n",
    "    return ts_out\n",
    "#-------------------------------------------------------------------------------\n",
    "\n",
    "def poleni(ts_h, B, mu=0.5):\n",
    "    '''\n",
    "    h: ts [m]\n",
    "    B: Breite [m]\n",
    "    return: Q_pol [m3/s]\n",
    "    '''\n",
    "    ts_h['Q [m3/s]'] = 2/3 * mu * (2 * 9.81)**(1/2) * B * (ts_h.iloc[:,0])**(3/2)\n",
    "    ts_h['delta_t'] = ts_h.index\n",
    "    ts_h['delta_t'] = (ts_h['delta_t'] - ts_h['delta_t'].shift()).dt.total_seconds()\n",
    "    ts_h['volume'] = ts_h['Q [m3/s]'] * ts_h['delta_t']\n",
    "    \n",
    "    return ts_h\n",
    "#-------------------------------------------------------------------------------\n",
    "\n",
    "def add_ply_hline(fig, y, yref='y2', color='red', width=0.8):\n",
    "    fig.add_shape(type=\"line\", \n",
    "        xref=\"paper\", yref=yref,\n",
    "        x0=0, y0=y, x1=0.94, y1=y,\n",
    "        line=dict(\n",
    "            color=color,\n",
    "            width=width\n",
    "        ),\n",
    "    )\n",
    "#-------------------------------------------------------------------------------"
   ]
  },
  {
   "cell_type": "markdown",
   "metadata": {},
   "source": [
    "# Parameters"
   ]
  },
  {
   "cell_type": "code",
   "execution_count": null,
   "metadata": {},
   "outputs": [],
   "source": [
    "dt_format = '%d.%m.%Y %H:%M'\n",
    "save_dir = Path(r\"H:\\2 Projekte\\8000-\\8500er\\8596\\8596.36-Mühlestrasse\"\n",
    "    r\"\\05 Berechnungen Grundlagen\\Datenauswertung\\Plots\")\n",
    "date_from = dt(2021, 10, 1, tzinfo=pytz.timezone('Europe/Zurich'))\n",
    "date_to = dt(2023, 10, 1, tzinfo=pytz.timezone('Europe/Zurich'))"
   ]
  },
  {
   "cell_type": "markdown",
   "metadata": {},
   "source": [
    "# Rain Data"
   ]
  },
  {
   "cell_type": "code",
   "execution_count": null,
   "metadata": {},
   "outputs": [],
   "source": [
    "id = 2039\n",
    "date_format = '%d.%m.%Y %H:%M'\n",
    "rain = uh.hbtdb_get_data(id, date_from, date_to, date_format)"
   ]
  },
  {
   "cell_type": "markdown",
   "metadata": {},
   "source": [
    "# Pumpwerke"
   ]
  },
  {
   "cell_type": "markdown",
   "metadata": {},
   "source": [
    "## PW Sonnenbergstrasse"
   ]
  },
  {
   "cell_type": "code",
   "execution_count": null,
   "metadata": {},
   "outputs": [],
   "source": [
    "# Read data\n",
    "id = 457\n",
    "lvl_sonnenberg = uh.hbtdb_get_data(id, date_from=date_from, date_to=date_to)"
   ]
  },
  {
   "cell_type": "code",
   "execution_count": null,
   "metadata": {},
   "outputs": [],
   "source": [
    "h_messband = 4.67 # m\n",
    "h_drucksonde = 0.35 # m\n",
    "lvl_kante_pw = 469.66 # m ü.M.\n",
    "lvl_ül = 468.20 # m ü.M.\n",
    "lvl_min = 464.90 # m ü.M.\n",
    "\n",
    "h_corr = lvl_kante_pw - h_messband - h_drucksonde\n",
    "\n",
    "lvl_sonnenberg += h_corr"
   ]
  },
  {
   "cell_type": "code",
   "execution_count": null,
   "metadata": {},
   "outputs": [],
   "source": [
    "fig = hp.ply_2y(lvl_sonnenberg, rain, names=['Niveau PW', 'Regen LUZ'],\n",
    "    xlabel='Zeit', ylabels=['Niveau [m ü.M.]', 'Regen [mm/10min]'],\n",
    "    colors=['red', 'blue'])"
   ]
  },
  {
   "cell_type": "code",
   "execution_count": null,
   "metadata": {},
   "outputs": [],
   "source": [
    "fig.update_layout(\n",
    "    title='PW Sonnenbergstrasse', font=dict(size=25)\n",
    ")\n",
    "\n",
    "fig.add_hline(y=lvl_ül, line_width=1, line_color='black')\n",
    "fig.add_annotation(x=lvl_sonnenberg.index[100000], y=lvl_ül, text=f'Überlauf {lvl_ül} m ü.M.',\n",
    "    font=dict(size=20, color='black'))"
   ]
  },
  {
   "cell_type": "code",
   "execution_count": null,
   "metadata": {},
   "outputs": [],
   "source": [
    "save_path = save_dir / 'Niveau_PW-Sonnenbergstrasse.html'\n",
    "fig.write_html(save_path)"
   ]
  },
  {
   "cell_type": "markdown",
   "metadata": {},
   "source": [
    "### Entlastungen"
   ]
  },
  {
   "cell_type": "code",
   "execution_count": null,
   "metadata": {},
   "outputs": [],
   "source": [
    "# Entlastungen\n",
    "entl_sonnenberg = lvl_sonnenberg - lvl_ül\n",
    "mask = entl_sonnenberg['wert'] < 0\n",
    "entl_sonnenberg.loc[mask, 'wert'] = 0\n",
    "entl_sonnenberg = poleni(entl_sonnenberg, B=2.6)\n",
    "tot_entl = entl_sonnenberg['volume'].sum()\n",
    "print(f'Tot. Entlastungsmenge Sonnenberg: {tot_entl:0.0f} m3')"
   ]
  },
  {
   "cell_type": "code",
   "execution_count": null,
   "metadata": {},
   "outputs": [],
   "source": [
    "save_path = Path(r\"H:\\2 Projekte\\8000-\\8500er\\8596\\8596.36-Mühlestrasse\"\n",
    "    r\"\\05 Berechnungen Grundlagen\\Datenauswertung\\Hydraulischer Wirkungsgrad\\ent_sonnenberg.csv\")\n",
    "mask = entl_sonnenberg['volume']!=0\n",
    "entl_sonnenberg.loc[mask, :].to_csv(save_path, sep=';')"
   ]
  },
  {
   "cell_type": "markdown",
   "metadata": {},
   "source": [
    "## PW Hirsen"
   ]
  },
  {
   "cell_type": "code",
   "execution_count": null,
   "metadata": {},
   "outputs": [],
   "source": [
    "# Read data\n",
    "id = 432\n",
    "lvl_hirsen = uh.hbtdb_get_data(id, date_from=date_from, date_to=date_to)\n",
    "lvl_hirsen = filter_ts(lvl_hirsen, date_from, date_to)\n",
    "lvl_hirsen = lvl_hirsen / 100 # cm -> m"
   ]
  },
  {
   "cell_type": "code",
   "execution_count": null,
   "metadata": {},
   "outputs": [],
   "source": [
    "h_messband = 4.73 # m\n",
    "h_drucksonde = 0.94 # m\n",
    "lvl_kante_pw = 446.30 # m ü.M.\n",
    "lvl_ül = 443.80 # m ü.M.\n",
    "lvl_min = 440.70 # m ü.M.\n",
    "\n",
    "h_corr = lvl_kante_pw - h_messband - h_drucksonde\n",
    "\n",
    "lvl_hirsen += h_corr"
   ]
  },
  {
   "cell_type": "code",
   "execution_count": null,
   "metadata": {},
   "outputs": [],
   "source": [
    "fig = hp.ply_2y(lvl_hirsen, rain, names=['Niveau PW', 'Regen LUZ'],\n",
    "    xlabel='Zeit', ylabels=['Niveau [m ü.M.]', 'Regen [mm/10min]'],\n",
    "    colors=['red', 'blue']);"
   ]
  },
  {
   "cell_type": "code",
   "execution_count": null,
   "metadata": {},
   "outputs": [],
   "source": [
    "fig.update_layout(\n",
    "    title='PW Hirsen', font=dict(size=25)\n",
    ")\n",
    "\n",
    "fig.add_hline(y=lvl_ül, line_width=1, line_color='black')\n",
    "fig.add_annotation(x=lvl_hirsen.index[100000], y=lvl_ül,text=f'Überlauf {lvl_ül} m ü.M.',\n",
    "    font=dict(size=20, color='black'))"
   ]
  },
  {
   "cell_type": "code",
   "execution_count": null,
   "metadata": {},
   "outputs": [],
   "source": [
    "save_path = save_dir / 'Niveau_PW-Hirsen.html'\n",
    "fig.write_html(save_path)"
   ]
  },
  {
   "cell_type": "markdown",
   "metadata": {},
   "source": [
    "### Entlastungen"
   ]
  },
  {
   "cell_type": "code",
   "execution_count": null,
   "metadata": {},
   "outputs": [],
   "source": [
    "entl_hirsen = lvl_hirsen - lvl_ül\n",
    "mask = entl_hirsen['wert'] < 0\n",
    "entl_hirsen.loc[mask, 'wert'] = 0\n",
    "entl_hirsen = poleni(entl_hirsen, B=0.5)\n",
    "tot_entl = entl_hirsen['volume'].sum()\n",
    "print(f'Tot. Entlastungsmenge Hirsen: {tot_entl:0.0f} m3')"
   ]
  },
  {
   "cell_type": "code",
   "execution_count": null,
   "metadata": {},
   "outputs": [],
   "source": [
    "save_path = Path(r\"H:\\2 Projekte\\8000-\\8500er\\8596\\8596.36-Mühlestrasse\"\n",
    "    r\"\\05 Berechnungen Grundlagen\\Datenauswertung\\Hydraulischer Wirkungsgrad\\ent_hirsern2023.csv\")\n",
    "mask = entl_hirsen['volume']!=0\n",
    "entl_hirsen.loc[mask, :].to_csv(save_path, sep=';')"
   ]
  },
  {
   "cell_type": "markdown",
   "metadata": {},
   "source": [
    "## PW Sonnenbergstrasse & PW Hirsen"
   ]
  },
  {
   "cell_type": "code",
   "execution_count": null,
   "metadata": {},
   "outputs": [],
   "source": [
    "\n",
    "fig = hp.ply_2y(lvl_sonnenberg, lvl_hirsen, names=['Niveau PW Sonnenberg',\n",
    "    'Niveau PW Hirsen'], colors=['green', 'magenta'], xlabel='Zeit',\n",
    "    ylabels=['Niveau [m ü.M.]', 'Niveau [m ü.M.]']);"
   ]
  },
  {
   "cell_type": "code",
   "execution_count": null,
   "metadata": {},
   "outputs": [],
   "source": [
    "fig.update_layout(\n",
    "    title='PW Hirsen und PW Sonnenberg',\n",
    "    font=dict(size=25),\n",
    "    plot_bgcolor='white'\n",
    ")\n",
    "\n",
    "fig.update_xaxes(\n",
    "    mirror=True,\n",
    "    ticks='outside',\n",
    "    showline=True,\n",
    "    linecolor='black',\n",
    "    gridcolor='lightgrey'\n",
    ")\n",
    "fig.update_yaxes(\n",
    "    mirror=True,\n",
    "    ticks='outside',\n",
    "    showline=True,\n",
    "    linecolor='black',\n",
    "    gridcolor='lightgrey'\n",
    ")\n",
    "\n",
    "lvl_ül_sonnenberg = 468.20 # m ü.M.\n",
    "lvl_ül_hirsen = 443.80 # m ü.M.\n",
    "p1_hirsen = 442.35 # m ü.M.\n",
    "p2_hirsen = 443.30 # m ü.M.\n",
    "aus_hirsen = 440.70 # m ü.M.\n",
    "p1_sonnenberg = 466.60 # m ü.M.\n",
    "p2_sonnenberg = 468.00 # m ü.M.\n",
    "aus_sonnenberg = 464.90 # m ü.M.\n",
    "\n",
    "fig.add_hline(y=lvl_ül_sonnenberg, line_width=0.8, line_color='black')\n",
    "\n",
    "add_ply_hline(fig, y=lvl_ül_hirsen, color='black')"
   ]
  },
  {
   "cell_type": "code",
   "execution_count": null,
   "metadata": {},
   "outputs": [],
   "source": [
    "save_path = save_dir / 'Niveau_PW-Hirsen-Sonnenbergstrsase2023.html'\n",
    "fig.write_html(save_path)"
   ]
  },
  {
   "cell_type": "markdown",
   "metadata": {},
   "source": [
    "# SABA"
   ]
  },
  {
   "cell_type": "markdown",
   "metadata": {},
   "source": [
    "## ASB"
   ]
  },
  {
   "cell_type": "markdown",
   "metadata": {},
   "source": [
    "### Niveau Einlaufkammer"
   ]
  },
  {
   "cell_type": "code",
   "execution_count": null,
   "metadata": {},
   "outputs": [],
   "source": [
    "id = 458\n",
    "asb1 = uh.hbtdb_get_data(id, date_from=date_from, date_to=date_to)"
   ]
  },
  {
   "cell_type": "code",
   "execution_count": null,
   "metadata": {},
   "outputs": [],
   "source": [
    "fig = hp.ply_2y(asb1, rain, names=['Niveau Einlauf ASB', 'Regen LUZ'],\n",
    "    xlabel='Zeit', ylabels=['Niveau [cm]', 'Regen [mm/10min]'],\n",
    "    colors=['red', 'blue'])"
   ]
  },
  {
   "cell_type": "code",
   "execution_count": null,
   "metadata": {},
   "outputs": [],
   "source": [
    "save_path = save_dir / 'Niveau_Einlauf-ASB.html'\n",
    "fig.write_html(save_path)"
   ]
  },
  {
   "cell_type": "markdown",
   "metadata": {},
   "source": [
    "### Niveau Becken"
   ]
  },
  {
   "cell_type": "code",
   "execution_count": null,
   "metadata": {},
   "outputs": [],
   "source": [
    "id = 465\n",
    "\n",
    "# Niveau\n",
    "asb2 = uh.hbtdb_get_data(id, date_from=date_from, date_to=date_to)"
   ]
  },
  {
   "cell_type": "code",
   "execution_count": null,
   "metadata": {},
   "outputs": [],
   "source": [
    "# Correct 'asb2'\n",
    "asb2 = asb2 - 105 # cm, 1.05 Messwert bei ansprigngen des Wehres/Entlastung (Christian)\n",
    "asb2 = asb2 + 0.9\n",
    "\n",
    "# Durchfluss\n",
    "B = 4 # der Wert ist aus dem Schalungsplan\n",
    "mu = 0.6\n",
    "q_asb = poleni(B=B, mu=mu, ts_h=asb2/100) # l/s\n",
    "q_asb.fillna(0, inplace=True)"
   ]
  },
  {
   "cell_type": "code",
   "execution_count": null,
   "metadata": {},
   "outputs": [],
   "source": [
    "q_asb"
   ]
  },
  {
   "cell_type": "code",
   "execution_count": null,
   "metadata": {},
   "outputs": [],
   "source": [
    "fig = hp.ply_2y(asb2, rain, names=['Niveau ASB', 'Regen LUZ'], \n",
    "    xlabel='Zeit', ylabels=['Niveau [cm]', 'Regen [mm/10min]'],\n",
    "    colors=['red', 'blue'])"
   ]
  },
  {
   "cell_type": "code",
   "execution_count": null,
   "metadata": {},
   "outputs": [],
   "source": [
    "fig.update_layout(\n",
    "    title='Absetzbecken', font=dict(size=25)\n",
    ")\n",
    "\n",
    "fig.update_xaxes(title=dict(font=dict(size=25)))\n",
    "fig.update_yaxes(title=dict(font=dict(size=25)));"
   ]
  },
  {
   "cell_type": "code",
   "execution_count": null,
   "metadata": {},
   "outputs": [],
   "source": [
    "save_path = save_dir / 'Niveau_ASB.html'\n",
    "fig.write_html(save_path)"
   ]
  },
  {
   "cell_type": "markdown",
   "metadata": {},
   "source": [
    "### Abfluss ASB"
   ]
  },
  {
   "cell_type": "code",
   "execution_count": null,
   "metadata": {},
   "outputs": [],
   "source": [
    "fig = hp.ply_2y(asb2, q_asb, names=['Niveau ASB', 'Abfluss ASB'], \n",
    "    xlabel='Zeit', ylabels=['Niveau [cm]', 'Durchfluss [l/s]'],\n",
    "    colors=['red', 'blue'])"
   ]
  },
  {
   "cell_type": "code",
   "execution_count": null,
   "metadata": {},
   "outputs": [],
   "source": [
    "fig.update_layout(\n",
    "    title='Abfluss Absetzbecken', font=dict(size=25)\n",
    ")\n",
    "\n",
    "fig.update_xaxes(title=dict(font=dict(size=25)))\n",
    "fig.update_yaxes(title=dict(font=dict(size=25)));"
   ]
  },
  {
   "cell_type": "code",
   "execution_count": null,
   "metadata": {},
   "outputs": [],
   "source": [
    "save_path = save_dir / 'Abfluss_ASB.html'\n",
    "fig.write_html(save_path)"
   ]
  },
  {
   "cell_type": "markdown",
   "metadata": {},
   "source": [
    "## Ablauf SABA"
   ]
  },
  {
   "cell_type": "code",
   "execution_count": null,
   "metadata": {},
   "outputs": [],
   "source": [
    "id = 466\n",
    "q_ab = uh.hbtdb_get_data(id, date_from=date_from, date_to=date_to)"
   ]
  },
  {
   "cell_type": "code",
   "execution_count": null,
   "metadata": {},
   "outputs": [],
   "source": [
    "fig = hp.ply_2y(q_ab, rain, names=['Ablauf SABA', 'Regen LUZ'], xlabel='Zeit',\n",
    "    ylabels=['Durchfluss [l/s]', 'Regen [mm/10min]'], colors=['red', 'blue'])"
   ]
  },
  {
   "cell_type": "code",
   "execution_count": null,
   "metadata": {},
   "outputs": [],
   "source": [
    "fig.update_layout(\n",
    "    title='SABA Ablauf', font=dict(size=25)\n",
    ")\n",
    "\n",
    "fig.update_xaxes(title=dict(font=dict(size=25)))\n",
    "fig.update_yaxes(title=dict(font=dict(size=25)));"
   ]
  },
  {
   "cell_type": "code",
   "execution_count": null,
   "metadata": {},
   "outputs": [],
   "source": [
    "save_path = save_dir / 'Ablauf_SABA2023.html'\n",
    "fig.write_html(save_path)"
   ]
  },
  {
   "cell_type": "code",
   "execution_count": null,
   "metadata": {},
   "outputs": [],
   "source": [
    "delta_t = ts_delta_t(q_ab)\n",
    "delta_t.sort_values(by=delta_t.columns[0], ascending=False, inplace=True)\n",
    "# delta_t = delta_t[delta_t>pd.Timedelta(minutes=1)]\n",
    "\n",
    "save_path = Path(r\"H:\\2 Projekte\\8000-\\8500er\\8596\\8596.36-Mühlestrasse\"\n",
    "    r\"\\05 Berechnungen Grundlagen\\Datenauswertung\")\n",
    "save_path = save_path / 'Delta-t_Q-ab2023.csv'\n",
    "delta_t.to_csv(save_path, sep=';')"
   ]
  },
  {
   "cell_type": "markdown",
   "metadata": {},
   "source": [
    "### Entlastungen"
   ]
  },
  {
   "cell_type": "code",
   "execution_count": null,
   "metadata": {},
   "outputs": [],
   "source": [
    "q_entl = q_ab.copy()\n",
    "q_entl['bool'] = 0\n",
    "date_entl = [\n",
    "    [dt(2022, 6, 24, 12, 35), dt(2022, 6, 24, 21, 54)],\n",
    "    [dt(2022, 6, 30, 20, 27), dt(2022, 7, 1, 20, 21)],\n",
    "    [dt(2022, 8, 19, 0, 49), dt(2022, 8, 19, 22, 19)],\n",
    "    [dt(2022, 9, 8, 2, 10), dt(2022, 9, 8, 11, 34)],\n",
    "    [dt(2022, 9, 15, 18, 30), dt(2022, 9, 16, 17, 54)],\n",
    "    [dt(2022, 9, 28, 6, 47), dt(2022, 9, 29, 4, 30)],\n",
    "    [dt(2022, 12, 21, 21, 00), dt(2023, 1, 2, 1, 00)],\n",
    "    [dt(2023, 3, 13, 18, 0), dt(2023, 3, 14, 9, 0)],\n",
    "    [dt(2023, 4, 29, 15, 30), dt(2023, 4, 29, 21, 30)],\n",
    "]\n",
    "\n",
    "for i in range(len(date_entl)):\n",
    "    date_entl[i][0] = date_entl[i][0].astimezone(pytz.timezone('Europe/Zurich'))\n",
    "    date_entl[i][1] = date_entl[i][1].astimezone(pytz.timezone('Europe/Zurich'))\n",
    "\n",
    "# Select Entlastungsereignisse\n",
    "i = 1\n",
    "for date in date_entl:\n",
    "    mask = ((q_entl.index > date[0]) & (q_entl.index <= date[1]))\n",
    "    q_entl.loc[mask, 'bool'] = i\n",
    "    i+=1\n",
    "\n",
    "q_entl = q_entl[q_entl['bool'] != 0]\n",
    "\n",
    "# Set Anspringsdurchfluss\n",
    "q_anspr = [39, 10, 28, 22, 26, 18, 3, 7.5, 6.5]\n",
    "for i in range(len(q_anspr)):\n",
    "    mask = (q_entl['bool'] == i)\n",
    "    q_entl.loc[mask, 'wert'] -= q_anspr[i-1]\n",
    "    mask = q_entl['wert'] < 0\n",
    "    q_entl.loc[mask, 'wert'] = 0"
   ]
  },
  {
   "cell_type": "code",
   "execution_count": null,
   "metadata": {},
   "outputs": [],
   "source": [
    "fig = hp.ply_1y(q_entl, xlabel='Zeit', names=['Ablauf SABA'], ylabel='Durchfluss [l/s]')"
   ]
  },
  {
   "cell_type": "code",
   "execution_count": null,
   "metadata": {},
   "outputs": [],
   "source": [
    "fig.update_layout(\n",
    "    title='Entlastungsdurchfluss SABA', font=dict(size=25)\n",
    ")\n",
    "\n",
    "fig.update_xaxes(title=dict(font=dict(size=25)))\n",
    "fig.update_yaxes(title=dict(font=dict(size=25)));"
   ]
  },
  {
   "cell_type": "code",
   "execution_count": null,
   "metadata": {},
   "outputs": [],
   "source": [
    "save_path = save_dir / 'Entlastungsdurchfluss_SABA_2023.html'\n",
    "fig.write_html(save_path)"
   ]
  },
  {
   "cell_type": "code",
   "execution_count": null,
   "metadata": {},
   "outputs": [],
   "source": [
    "# Berechnung Gesamt-Entlastungsvolumen\n",
    "q_entl['delta_t'] = q_entl.index\n",
    "q_entl['delta_t'] = q_entl['delta_t'] - q_entl['delta_t'].shift()\n",
    "q_entl.iloc[0, 2] = td(0)\n",
    "\n",
    "q_entl['volume [l]'] = q_entl['wert'] * q_entl['delta_t'].dt.total_seconds()\n",
    "\n",
    "tot_vol = q_entl['volume [l]'].sum() / 1e3\n",
    "print(f\"Gesamt-Entlastungsvolumen: {tot_vol:0.0f} m3\")"
   ]
  },
  {
   "cell_type": "code",
   "execution_count": null,
   "metadata": {},
   "outputs": [],
   "source": [
    "save_path = Path(r\"H:\\2 Projekte\\8000-\\8500er\\8596\\8596.36-Mühlestrasse\"\n",
    "    r\"\\05 Berechnungen Grundlagen\\Datenauswertung\\Hydraulischer Wirkungsgrad\\ent_saba.csv\")\n",
    "mask = q_entl['wert'] != 0\n",
    "q_entl = q_entl[mask]\n",
    "q_entl.to_csv(save_path, sep=';')"
   ]
  },
  {
   "cell_type": "markdown",
   "metadata": {},
   "source": [
    "## RFB"
   ]
  },
  {
   "cell_type": "markdown",
   "metadata": {},
   "source": [
    "### RFB 1"
   ]
  },
  {
   "cell_type": "code",
   "execution_count": null,
   "metadata": {},
   "outputs": [],
   "source": [
    "id = 459\n",
    "rfb1 = uh.hbtdb_get_data(id, date_from=date_from, date_to=date_to)"
   ]
  },
  {
   "cell_type": "code",
   "execution_count": null,
   "metadata": {},
   "outputs": [],
   "source": [
    "# Reframe data points\n",
    "a = 1.74\n",
    "rfb1 = (rfb1 - a) * -1 * 100\n",
    "rfb1 = del_values(rfb1, 74)"
   ]
  },
  {
   "cell_type": "code",
   "execution_count": null,
   "metadata": {},
   "outputs": [],
   "source": [
    "id = 460\n",
    "rfb1_d_ = uh.hbtdb_get_data(id, date_from=date_from, date_to=date_to)"
   ]
  },
  {
   "cell_type": "code",
   "execution_count": null,
   "metadata": {},
   "outputs": [],
   "source": [
    "# Reframe data points\n",
    "rfb1_d = rfb1_d_ * 100"
   ]
  },
  {
   "cell_type": "code",
   "execution_count": null,
   "metadata": {},
   "outputs": [],
   "source": [
    "fig = hp.ply_2y(rfb1, rain, names=['Niveau RFB 1', 'Regen LUZ'],\n",
    "    xlabel='Zeit', ylabels=['Niveau [cm]', 'Regen [mm/10min]'],\n",
    "    colors=['red', 'blue'])"
   ]
  },
  {
   "cell_type": "code",
   "execution_count": null,
   "metadata": {},
   "outputs": [],
   "source": [
    "fig.update_layout(\n",
    "    title='Niveau RFB 1', font=dict(size=25)\n",
    ")\n",
    "\n",
    "fig.update_xaxes(title=dict(font=dict(size=25)))\n",
    "fig.update_yaxes(title=dict(font=dict(size=25)))\n",
    "\n",
    "h_ül = 66  # cm - gemäss Fotos Begehung\n",
    "fig.add_hline(y=h_ül, line_width=1, line_color='black')\n",
    "fig.add_annotation(x=rfb1.index[0], y=h_ül,text=f'{h_ül} cm',\n",
    "    font=dict(size=20, color='black'))\n",
    "fig"
   ]
  },
  {
   "cell_type": "code",
   "execution_count": null,
   "metadata": {},
   "outputs": [],
   "source": [
    "save_path = save_dir / 'Niveau_RFB1_2023.html'\n",
    "fig.write_html(save_path)"
   ]
  },
  {
   "cell_type": "code",
   "execution_count": null,
   "metadata": {},
   "outputs": [],
   "source": [
    "fig = hp.ply_2y([rfb1, rfb1_d], q_ab,\n",
    "    names=['Niveau Radar', 'Niveau Drucksonde', 'Ablauf'],\n",
    "    xlabel='Zeit', ylabels=['Niveau [cm]', 'Abfluss [l/s]'],\n",
    "    colors=['blue', 'red', 'green'])"
   ]
  },
  {
   "cell_type": "code",
   "execution_count": null,
   "metadata": {},
   "outputs": [],
   "source": [
    "fig.update_layout(\n",
    "    title='Niveau RFB 1', font=dict(size=25)\n",
    ");"
   ]
  },
  {
   "cell_type": "code",
   "execution_count": null,
   "metadata": {},
   "outputs": [],
   "source": [
    "save_path = save_dir / 'Niveau_Druck_RFB1_2023.html'\n",
    "fig.write_html(save_path)"
   ]
  },
  {
   "cell_type": "markdown",
   "metadata": {},
   "source": [
    "### RFB 2"
   ]
  },
  {
   "cell_type": "code",
   "execution_count": null,
   "metadata": {},
   "outputs": [],
   "source": [
    "id = 461\n",
    "rfb2 = uh.hbtdb_get_data(id, date_from=date_from, date_to=date_to)"
   ]
  },
  {
   "cell_type": "code",
   "execution_count": null,
   "metadata": {},
   "outputs": [],
   "source": [
    "# Reframe data points\n",
    "rfb2 = (rfb2 - 0.92) * -1 * 100\n",
    "rfb2 = del_values(rfb2, 92)"
   ]
  },
  {
   "cell_type": "code",
   "execution_count": null,
   "metadata": {},
   "outputs": [],
   "source": [
    "fig = hp.ply_2y(rfb2, rain, names=['Niveau RFB 2', 'Regen LUZ'],\n",
    "    xlabel='Zeit', ylabels=['Niveau [cm]', 'Regen [mm/10min]'],\n",
    "    colors=['red', 'blue'])"
   ]
  },
  {
   "cell_type": "code",
   "execution_count": null,
   "metadata": {},
   "outputs": [],
   "source": [
    "fig.update_layout(\n",
    "    title='Niveau RFB 2', font=dict(size=25)\n",
    ")\n",
    "\n",
    "fig.update_xaxes(title=dict(font=dict(size=25)))\n",
    "fig.update_yaxes(title=dict(font=dict(size=25)))\n",
    "\n",
    "h_ül = 62 # cm - gemäss Fotos Begehung\n",
    "fig.add_hline(y=h_ül, line_width=1, line_color='black')\n",
    "fig.add_annotation(x=rfb2.index[0], y=h_ül,text=f'{h_ül} cm',\n",
    "    font=dict(size=20, color='black'))\n",
    "fig"
   ]
  },
  {
   "cell_type": "code",
   "execution_count": null,
   "metadata": {},
   "outputs": [],
   "source": [
    "save_path = save_dir / 'Niveau_RFB2_2023.html'\n",
    "fig.write_html(save_path)"
   ]
  },
  {
   "cell_type": "code",
   "execution_count": null,
   "metadata": {},
   "outputs": [],
   "source": [
    "fig = hp.ply_2y(rfb2, q_ab,\n",
    "    names=['Niveau Radar', 'Ablauf'],\n",
    "    xlabel='Zeit', ylabels=['Niveau [cm]', 'Abfluss [l/s]'],\n",
    "    colors=['blue', 'green'])"
   ]
  },
  {
   "cell_type": "code",
   "execution_count": null,
   "metadata": {},
   "outputs": [],
   "source": [
    "fig.update_layout(\n",
    "    title='Niveau RFB 2', font=dict(size=25)\n",
    ");"
   ]
  },
  {
   "cell_type": "code",
   "execution_count": null,
   "metadata": {},
   "outputs": [],
   "source": [
    "save_path = save_dir / 'Niveau_Druck_RFB2_2023.html'\n",
    "fig.write_html(save_path)"
   ]
  },
  {
   "cell_type": "code",
   "execution_count": null,
   "metadata": {},
   "outputs": [],
   "source": [
    "fig = hp.ply_2y([rfb1, rfb2], q_ab,\n",
    "    names=['Niveau RFB 1', 'Niveau RFB 2', 'Ablauf SABA'],\n",
    "    xlabel='Zeit', ylabels=['Niveau [cm]', 'Abfluss [l/s]'],\n",
    ")"
   ]
  },
  {
   "cell_type": "code",
   "execution_count": null,
   "metadata": {},
   "outputs": [],
   "source": [
    "fig.update_layout(\n",
    "    font=dict(size=25)\n",
    ");"
   ]
  },
  {
   "cell_type": "code",
   "execution_count": null,
   "metadata": {},
   "outputs": [],
   "source": [
    "save_path = save_dir / 'Ablauf-RFB1-RFB2_2023.html'\n",
    "fig.write_html(save_path)"
   ]
  }
 ],
 "metadata": {
  "kernelspec": {
   "display_name": "Python 3.10.8 ('venv': venv)",
   "language": "python",
   "name": "python3"
  },
  "language_info": {
   "codemirror_mode": {
    "name": "ipython",
    "version": 3
   },
   "file_extension": ".py",
   "mimetype": "text/x-python",
   "name": "python",
   "nbconvert_exporter": "python",
   "pygments_lexer": "ipython3",
   "version": "3.10.11"
  },
  "orig_nbformat": 4,
  "vscode": {
   "interpreter": {
    "hash": "fcbcf634104c4732b8439a3fb9bd2e33824138a0380f5d18bd4ad379b42013a3"
   }
  }
 },
 "nbformat": 4,
 "nbformat_minor": 2
}
