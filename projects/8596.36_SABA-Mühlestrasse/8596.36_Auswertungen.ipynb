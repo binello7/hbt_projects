{
 "cells": [
  {
   "cell_type": "markdown",
   "metadata": {},
   "source": [
    "# Imports"
   ]
  },
  {
   "cell_type": "code",
   "execution_count": null,
   "metadata": {},
   "outputs": [],
   "source": [
    "import pandas as pd\n",
    "from hbt_tools import utils_hbt as uh\n",
    "from hbt_tools import plots as hp\n",
    "from pathlib import Path\n",
    "from pytz import timezone"
   ]
  },
  {
   "cell_type": "markdown",
   "metadata": {},
   "source": [
    "# Functions"
   ]
  },
  {
   "cell_type": "code",
   "execution_count": null,
   "metadata": {},
   "outputs": [],
   "source": [
    "def poleni(h, B, mu=0.5):\n",
    "    '''\n",
    "    h: ts [cm]\n",
    "    B: Breite [m]\n",
    "    return: Q_pol [l/s]\n",
    "    '''\n",
    "    h = h.copy() / 100 # cm -> m\n",
    "    Q_pol = 2/3 * mu * (2 * 9.81)**(1/2) * B * (h)**(3/2)\n",
    "    Q_pol = Q_pol * 1e3 # m3/s -> l/s\n",
    "    return Q_pol\n",
    "#-------------------------------------------------------------------------------\n",
    "\n",
    "def sum_per_period(periods, ts, date_format, idx_col=0):\n",
    "    df_res = pd.DataFrame(columns=['von', 'bis', 'summe'])\n",
    "    tz = timezone('Europe/Zurich')\n",
    "    for i, p in enumerate(periods):\n",
    "        date_start = pd.to_datetime(p[0], format=date_format)\n",
    "        date_start = tz.localize(date_start)\n",
    "\n",
    "        date_end = pd.to_datetime(p[1], format=date_format)\n",
    "        date_end = tz.localize(date_end)\n",
    "\n",
    "        ts_period = ts[(ts.index>=date_start) & (ts.index<=date_end)]\n",
    "        df_temp = pd.DataFrame({'von': [p[0]], 'bis': [p[1]],\n",
    "            'summe': [ts_period.iloc[:,idx_col].sum()]})\n",
    "        \n",
    "        df_res = pd.concat((df_res, df_temp))\n",
    "    \n",
    "    return df_res\n",
    "#-------------------------------------------------------------------------------\n",
    "\n",
    "def ts_filter_date(ts, date_from, date_to):\n",
    "    ts = ts[(ts.index>=date_from) & (ts.index<date_to)]\n",
    "\n",
    "    return ts\n",
    "#-------------------------------------------------------------------------------\n",
    "\n",
    "def ts_add_vol(ts):\n",
    "    '''\n",
    "    ts: timeseries [l/s] or [m3/s]\n",
    "    return: ts\n",
    "    '''\n",
    "    ts['delta_t'] = ts.index\n",
    "    delta_t = ts['delta_t'] - ts['delta_t'].shift()\n",
    "\n",
    "    ts['delta_t'] = delta_t\n",
    "    ts['volumen'] = ts.iloc[:,0] * ts['delta_t'].dt.total_seconds()\n",
    "\n",
    "    return ts\n",
    "#-------------------------------------------------------------------------------\n",
    "\n",
    "def ts_del_values(ts, val, idx_col=0):\n",
    "    mask = ts.iloc[:,idx_col]==val\n",
    "    ts_out = ts.drop(ts[mask].index)\n",
    "    return ts_out\n",
    "#-------------------------------------------------------------------------------"
   ]
  },
  {
   "cell_type": "markdown",
   "metadata": {},
   "source": [
    "# Parameters"
   ]
  },
  {
   "cell_type": "code",
   "execution_count": null,
   "metadata": {},
   "outputs": [],
   "source": [
    "date_format = '%d.%m.%Y %H:%M'\n",
    "\n",
    "tz = timezone('Europe/Zurich')\n",
    "\n",
    "date_start = pd.to_datetime('01.10.2022 00:00', format=date_format)\n",
    "date_start = tz.localize(date_start)\n",
    "\n",
    "date_end = pd.to_datetime('01.10.2023 00:00', format=date_format)\n",
    "date_end = tz.localize(date_end)\n",
    "\n",
    "ezg_tot = 2.97 # [ha]\n",
    "ab_bw = 0.8 # [-]\n",
    "\n",
    "save_dir = Path(r\"Q:\\Projekte\\8000-\\8500er\\8596\\8596.36-Mühlestrasse\"\n",
    "    r\"\\05 Berechnungen Grundlagen\\Datenauswertung\\Hydraulischer Wirkungsgrad\")\n",
    "\n",
    "periods = [\n",
    "    ('28.09.2022 19:49', '08.10.2022 20:49'),\n",
    "    ('08.10.2022 20:49', '04.11.2022 02:18'),\n",
    "    ('04.11.2022 12:33', '05.11.2022 12:13'),\n",
    "    ('05.11.2022 12:13', '10.12.2022 06:44'),\n",
    "    ('10.12.2022 06:44', '24.12.2022 03:13'),\n",
    "    ('24.12.2022 03:13', '26.12.2022 19:20'),\n",
    "    ('26.01.2023 13:39', '12.03.2023 03:31'),\n",
    "    ('12.03.2023 03:31', '25.03.2023 01:04'),\n",
    "    ('25.03.2023 01:04', '03.04.2023 14:47'),\n",
    "    ('03.04.2023 15:04', '24.04.2023 05:35'),\n",
    "    ('24.04.2023 05:35', '01.05.2023 21:06'),\n",
    "    ('01.05.2023 21:06', '10.05.2023 03:28'),\n",
    "    ('31.05.2023 13:50', '19.06.2023 16:53'),\n",
    "    ('19.06.2023 16:53', '13.07.2023 00:05'),\n",
    "    ('13.07.2023 00:05', '26.07.2023 01:31'),\n",
    "    ('26.07.2023 01:31', '28.08.2023 04:54'),\n",
    "    ('28.08.2023 04:54', '03.10.2023 10:25'),\n",
    "\n",
    "]\n",
    "\n",
    "date_from = periods[0][0]\n",
    "date_to = periods[-1][-1]"
   ]
  },
  {
   "cell_type": "markdown",
   "metadata": {},
   "source": [
    "# Regen"
   ]
  },
  {
   "cell_type": "code",
   "execution_count": null,
   "metadata": {},
   "outputs": [],
   "source": [
    "id = 2039\n",
    "ts_rain = uh.hbtdb_get_data(id, date_start, date_end, date_format)"
   ]
  },
  {
   "cell_type": "code",
   "execution_count": null,
   "metadata": {},
   "outputs": [],
   "source": [
    "df_rain_periods = sum_per_period(periods, ts_rain, date_format)\n",
    "df_rain_periods"
   ]
  },
  {
   "cell_type": "code",
   "execution_count": null,
   "metadata": {},
   "outputs": [],
   "source": [
    "tot_rain = ts_rain.iloc[:,0].sum()\n",
    "print(f'Tot. Regen: {tot_rain:0.1f} mm')\n",
    "\n",
    "vol_zu_rain = tot_rain * ezg_tot * 10\n",
    "print(f'Tot. Zufluss (Regen): {vol_zu_rain:0.2f} m3')"
   ]
  },
  {
   "cell_type": "markdown",
   "metadata": {},
   "source": [
    "# Zulauf"
   ]
  },
  {
   "cell_type": "code",
   "execution_count": null,
   "metadata": {},
   "outputs": [],
   "source": [
    "id = 465\n",
    "h_zu = uh.hbtdb_get_data(id, date_start, date_end, date_format)\n",
    "h_zu = h_zu - 105 # cm, 1.05 Messwert bei ansprigngen des Wehres/Entlastung (Christian)\n",
    "\n",
    "# Convert Zulauf from h to Q (Poleni)\n",
    "B = 2.75 # der Wert ist aus dem Schalungsplan\n",
    "mu = 0.6\n",
    "q_zu = poleni(B=B, mu=mu, h=h_zu/100) * 1000 # l/s\n",
    "q_zu.fillna(0, inplace=True)\n",
    "\n",
    "# Compute volume per time-step\n",
    "q_zu['delta_t'] = q_zu.index\n",
    "delta_t = q_zu['delta_t'] - q_zu['delta_t'].shift()\n",
    "q_zu['delta_t'] = delta_t\n",
    "q_zu['volumen [l]'] = q_zu['wert'] * q_zu['delta_t'].dt.total_seconds()"
   ]
  },
  {
   "cell_type": "code",
   "execution_count": null,
   "metadata": {},
   "outputs": [],
   "source": [
    "# Check dts\n",
    "dt_min = delta_t.unique()\n",
    "dt_min"
   ]
  },
  {
   "cell_type": "code",
   "execution_count": null,
   "metadata": {},
   "outputs": [],
   "source": [
    "df_zufluss = sum_per_period(periods, q_zu, date_format, 2)\n",
    "df_zufluss.iloc[:,2] /= 1e3 # l -> m3\n",
    "df_zufluss"
   ]
  },
  {
   "cell_type": "code",
   "execution_count": null,
   "metadata": {},
   "outputs": [],
   "source": [
    "tot_vol_zu = ts_filter_date(q_zu, date_start, date_end)['volumen [l]'].sum() / 1e3\n",
    "print(f'Zufluss Vol: {tot_vol_zu:0.3f} m3')"
   ]
  },
  {
   "cell_type": "markdown",
   "metadata": {},
   "source": [
    "# Ablauf"
   ]
  },
  {
   "cell_type": "code",
   "execution_count": null,
   "metadata": {},
   "outputs": [],
   "source": [
    "id = 466\n",
    "q_ab = uh.hbtdb_get_data(id, date_from, date_to, date_format)\n",
    "q_ab.index = pd.to_datetime(q_ab.index, utc=True)\n",
    "\n",
    "# Compute volume per time-step\n",
    "q_ab['delta_t'] = q_ab.index\n",
    "delta_t = q_ab['delta_t'] - q_ab['delta_t'].shift()\n",
    "q_ab['delta_t'] = delta_t\n",
    "q_ab['volumen'] = q_ab['wert'] * q_ab['delta_t'].dt.total_seconds()"
   ]
  },
  {
   "cell_type": "code",
   "execution_count": null,
   "metadata": {},
   "outputs": [],
   "source": [
    "q_ab['delta_t'].unique()"
   ]
  },
  {
   "cell_type": "code",
   "execution_count": null,
   "metadata": {},
   "outputs": [],
   "source": [
    "df_abfluss = sum_per_period(periods, q_ab, date_format, 2)\n",
    "df_abfluss.iloc[:,2] /= 1e3 # l -> m3\n",
    "df_abfluss"
   ]
  },
  {
   "cell_type": "code",
   "execution_count": null,
   "metadata": {},
   "outputs": [],
   "source": [
    "tot_vol_ab = ts_filter_date(q_ab, date_start, date_end)['volumen'].sum() / 1e3\n",
    "print(f'Abfluss Vol: {tot_vol_ab:0.3f} m3')"
   ]
  },
  {
   "cell_type": "markdown",
   "metadata": {},
   "source": [
    "# RFB 1"
   ]
  },
  {
   "cell_type": "code",
   "execution_count": null,
   "metadata": {},
   "outputs": [],
   "source": [
    "# RFB 1\n",
    "id = 459\n",
    "rfb1 = uh.hbtdb_get_data(id, date_from=date_start, date_to=date_end)\n",
    "rfb1 = ts_filter_date(rfb1, date_start, date_end)\n",
    "rfb1 = (rfb1 - 1.73) * -1 * 100 # Correct values, m -> cm\n",
    "rfb1 = ts_del_values(rfb1, 73)"
   ]
  },
  {
   "cell_type": "code",
   "execution_count": null,
   "metadata": {},
   "outputs": [],
   "source": [
    "# Max Niveau RFB 1\n",
    "print(f\"Max RFB 1: {rfb1.iloc[:,0].max()} cm\")\n",
    "print(f\"Datum: {str(rfb1.idxmax().values[0])}\")"
   ]
  },
  {
   "cell_type": "code",
   "execution_count": null,
   "metadata": {},
   "outputs": [],
   "source": [
    "h_ül = 60 # cm - gemäss Fotos Begehung\n",
    "B = 1.5 # m\n",
    "\n",
    "ü_rfb1 = rfb1 - h_ül\n",
    "ü_rfb1[ü_rfb1<0] = 0\n",
    "\n",
    "q_rfb1 = poleni(ü_rfb1, B)\n",
    "q_rfb1[q_rfb1==0.0] = float('nan')"
   ]
  },
  {
   "cell_type": "code",
   "execution_count": null,
   "metadata": {},
   "outputs": [],
   "source": [
    "fig = hp.ply_1y(q_rfb1, names=['Entlastungsmenge RFB 1'], xlabel='Zeit',\n",
    "    ylabel='Abfluss [l/s]')\n",
    "fig"
   ]
  },
  {
   "cell_type": "code",
   "execution_count": null,
   "metadata": {},
   "outputs": [],
   "source": [
    "save_path = save_dir.parent / 'Plots/Entlastungsmengen_RFB1.html'\n",
    "fig.write_html(save_path)"
   ]
  },
  {
   "cell_type": "code",
   "execution_count": null,
   "metadata": {},
   "outputs": [],
   "source": [
    "# Mengen berechnen, 0-Werte löschen\n",
    "q_rfb1[q_rfb1.iloc[:,0].isna()] = 0.0\n",
    "q_rfb1 = ts_add_vol(q_rfb1)\n",
    "q_rfb1 = ts_del_values(q_rfb1, 0.0, idx_col=2)\n",
    "q_rfb1.drop(labels=q_rfb1.index[0], inplace=True)\n",
    "q_rfb1['volumen kumulativ [m3]'] = (q_rfb1['volumen'] / 1000).cumsum()\n",
    "\n",
    "save_path = save_dir / 'RFB1_Überlaufmengen.csv'\n",
    "q_rfb1.to_csv(save_path, sep=';')"
   ]
  },
  {
   "cell_type": "markdown",
   "metadata": {},
   "source": [
    "# RFB 2"
   ]
  },
  {
   "cell_type": "code",
   "execution_count": null,
   "metadata": {},
   "outputs": [],
   "source": [
    "# RFB 2\n",
    "id = 461\n",
    "rfb2 = uh.hbtdb_get_data(id, date_from=date_start, date_to=date_end)\n",
    "rfb2 = ts_filter_date(rfb2, date_start, date_end)\n",
    "rfb2 = (rfb2 - 0.92) * -1 * 100 # Correct values, m -> cm\n",
    "rfb2 = ts_del_values(rfb2, 92)"
   ]
  },
  {
   "cell_type": "code",
   "execution_count": null,
   "metadata": {},
   "outputs": [],
   "source": [
    "# Max Niveau RFB 2\n",
    "print(f\" Max RFB 2: {rfb2.iloc[:,0].max():0.1f} cm\")\n",
    "print(f\"Datum: {str(rfb2.idxmax().values[0])}\")"
   ]
  },
  {
   "cell_type": "code",
   "execution_count": null,
   "metadata": {},
   "outputs": [],
   "source": [
    "h_ül = 67 # cm - gemäss Fotos Begehung\n",
    "B = 2.1 # m\n",
    "\n",
    "ü_rfb2 = rfb2 - h_ül\n",
    "ü_rfb2[ü_rfb2<0] = 0\n",
    "\n",
    "q_rfb2 = poleni(ü_rfb2, B)\n",
    "q_rfb2[q_rfb2==0.0] = float('nan')"
   ]
  },
  {
   "cell_type": "code",
   "execution_count": null,
   "metadata": {},
   "outputs": [],
   "source": [
    "fig = hp.ply_1y(q_rfb2, names=['Entlastungsmenge RFB 2'], xlabel='Zeit',\n",
    "    ylabel='Abfluss [l/s]');"
   ]
  },
  {
   "cell_type": "code",
   "execution_count": null,
   "metadata": {},
   "outputs": [],
   "source": [
    "save_path = save_dir.parent / 'Plots/Entlastungsmengen_RFB2.html'\n",
    "fig.write_html(save_path)"
   ]
  },
  {
   "cell_type": "code",
   "execution_count": null,
   "metadata": {},
   "outputs": [],
   "source": [
    "# Mengen berechnen, 0-Werte löschen\n",
    "q_rfb2[q_rfb2.iloc[:,0].isna()] = 0.0\n",
    "q_rfb2 = ts_add_vol(q_rfb2)\n",
    "q_rfb2 = ts_del_values(q_rfb2, 0.0, idx_col=2)\n",
    "\n",
    "save_path = save_dir / 'RFB2_Überlaufmengen.csv'\n",
    "q_rfb2.to_csv(save_path, sep=';')"
   ]
  }
 ],
 "metadata": {
  "kernelspec": {
   "display_name": "Python 3.10.4 ('py3.10')",
   "language": "python",
   "name": "python3"
  },
  "language_info": {
   "codemirror_mode": {
    "name": "ipython",
    "version": 3
   },
   "file_extension": ".py",
   "mimetype": "text/x-python",
   "name": "python",
   "nbconvert_exporter": "python",
   "pygments_lexer": "ipython3",
   "version": "3.10.11"
  },
  "orig_nbformat": 4,
  "vscode": {
   "interpreter": {
    "hash": "590b78d8cb9270f73855948988b5d0ee0289dd910f80c46d744676df1f9b3d24"
   }
  }
 },
 "nbformat": 4,
 "nbformat_minor": 2
}
