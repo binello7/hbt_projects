{
 "cells": [
  {
   "cell_type": "markdown",
   "metadata": {},
   "source": [
    "## Imports"
   ]
  },
  {
   "cell_type": "code",
   "execution_count": 1,
   "metadata": {},
   "outputs": [],
   "source": [
    "import pandas as pd\n",
    "from datetime import datetime as dt\n",
    "from pathlib import Path\n",
    "from hbt import utils_hbt as uh"
   ]
  },
  {
   "cell_type": "markdown",
   "metadata": {},
   "source": [
    "## Settings"
   ]
  },
  {
   "cell_type": "code",
   "execution_count": 2,
   "metadata": {},
   "outputs": [],
   "source": [
    "path_raindata = Path(r\"Q:\\Projekte\\10000-\\10208.10 Tangente Zug\"\n",
    "    r\"\\05 Berechnungen Grundlagen\\Regendaten\\Cham Niederschlag\"\n",
    "    r\"\\CHZ_Niederschlagsumme.csv\")\n",
    "\n",
    "save_dir = Path(r\"Q:\\Projekte\\10000-\\10208.10 Tangente Zug\"\n",
    "    r\"\\05 Berechnungen Grundlagen\\Probenehmer\")\n",
    "\n",
    "dt_start = \"21.04.2022 00:00:00\"\n",
    "dt_end = \"21.09.2022 13:14:56\"\n",
    "\n",
    "periods_inflow = [\n",
    "    ('21.04.2022 11:15', '25.04.2022 03:16'),\n",
    "    ('25.04.2022 03:16', '26.04.2022 10:53'),\n",
    "    ('26.04.2022 11:53', '06.05.2022 02:31'),\n",
    "    ('06.05.2022 02:31', '25.05.2022 12:10'),\n",
    "    ('01.06.2022 14:47', '07.06.2022 08:11'),\n",
    "    ('07.06.2022 08:11', '22.06.2022 21:57'),\n",
    "    ('22.06.2022 21:57', '01.07.2022 00:03'),\n",
    "    ('01.07.2022 00:03', '04.07.2022 10:10'),\n",
    "    ('04.07.2022 17:01', '29.07.2022 17:57'),\n",
    "    ('29.07.2022 17:57', '19.08.2022 05:38'),\n",
    "    ('19.08.2022 05:38', '20.08.2022 19:55'),\n",
    "]\n",
    "\n",
    "periods_outflow = [\n",
    "    ('21.04.2022 12:26', '26.04.2022 21:44'),\n",
    "    ('26.04.2022 21:44', '05.05.2022 14:21'),\n",
    "    ('05.05.2022 14:21', '01.06.2022 14:19'),\n",
    "    ('01.06.2022 17:44', '09.06.2022 18:18'),\n",
    "    ('09.06.2022 18:18', '04.07.2022 10:23'),\n",
    "    ('04.07.2022 10:23', '26.08.2022 08:30'),\n",
    "]"
   ]
  },
  {
   "cell_type": "markdown",
   "metadata": {},
   "source": [
    "## Read data"
   ]
  },
  {
   "cell_type": "code",
   "execution_count": 3,
   "metadata": {},
   "outputs": [],
   "source": [
    "discharge_in = uh.hbtdb_get_data(917, dt_from=dt_start, dt_to=dt_end)\n",
    "discharge_in[discharge_in < 0] = 0 # 73 values were negative\n",
    "discharge_out = uh.hbtdb_get_data(918, dt_from=dt_start, dt_to=dt_end)\n",
    "ts_rain = uh.read_raindata_meteoschweiz(path_raindata)"
   ]
  },
  {
   "cell_type": "markdown",
   "metadata": {},
   "source": [
    "## Analysis"
   ]
  },
  {
   "cell_type": "markdown",
   "metadata": {},
   "source": [
    "### Flow analysis"
   ]
  },
  {
   "cell_type": "code",
   "execution_count": 13,
   "metadata": {},
   "outputs": [
    {
     "data": {
      "text/html": [
       "<div>\n",
       "<style scoped>\n",
       "    .dataframe tbody tr th:only-of-type {\n",
       "        vertical-align: middle;\n",
       "    }\n",
       "\n",
       "    .dataframe tbody tr th {\n",
       "        vertical-align: top;\n",
       "    }\n",
       "\n",
       "    .dataframe thead th {\n",
       "        text-align: right;\n",
       "    }\n",
       "</style>\n",
       "<table border=\"1\" class=\"dataframe\">\n",
       "  <thead>\n",
       "    <tr style=\"text-align: right;\">\n",
       "      <th></th>\n",
       "      <th>wert</th>\n",
       "    </tr>\n",
       "    <tr>\n",
       "      <th>datum</th>\n",
       "      <th></th>\n",
       "    </tr>\n",
       "  </thead>\n",
       "  <tbody>\n",
       "    <tr>\n",
       "      <th>2022-04-21 10:41:51</th>\n",
       "      <td>0.0</td>\n",
       "    </tr>\n",
       "    <tr>\n",
       "      <th>2022-04-21 10:42:21</th>\n",
       "      <td>0.0</td>\n",
       "    </tr>\n",
       "    <tr>\n",
       "      <th>2022-04-21 10:42:51</th>\n",
       "      <td>0.0</td>\n",
       "    </tr>\n",
       "    <tr>\n",
       "      <th>2022-04-21 10:43:21</th>\n",
       "      <td>0.0</td>\n",
       "    </tr>\n",
       "    <tr>\n",
       "      <th>2022-04-21 10:43:51</th>\n",
       "      <td>0.0</td>\n",
       "    </tr>\n",
       "    <tr>\n",
       "      <th>...</th>\n",
       "      <td>...</td>\n",
       "    </tr>\n",
       "    <tr>\n",
       "      <th>2022-08-31 23:55:50</th>\n",
       "      <td>0.0</td>\n",
       "    </tr>\n",
       "    <tr>\n",
       "      <th>2022-08-31 23:56:50</th>\n",
       "      <td>0.0</td>\n",
       "    </tr>\n",
       "    <tr>\n",
       "      <th>2022-08-31 23:57:50</th>\n",
       "      <td>0.0</td>\n",
       "    </tr>\n",
       "    <tr>\n",
       "      <th>2022-08-31 23:58:50</th>\n",
       "      <td>0.0</td>\n",
       "    </tr>\n",
       "    <tr>\n",
       "      <th>2022-08-31 23:59:50</th>\n",
       "      <td>0.0</td>\n",
       "    </tr>\n",
       "  </tbody>\n",
       "</table>\n",
       "<p>186541 rows × 1 columns</p>\n",
       "</div>"
      ],
      "text/plain": [
       "                     wert\n",
       "datum                    \n",
       "2022-04-21 10:41:51   0.0\n",
       "2022-04-21 10:42:21   0.0\n",
       "2022-04-21 10:42:51   0.0\n",
       "2022-04-21 10:43:21   0.0\n",
       "2022-04-21 10:43:51   0.0\n",
       "...                   ...\n",
       "2022-08-31 23:55:50   0.0\n",
       "2022-08-31 23:56:50   0.0\n",
       "2022-08-31 23:57:50   0.0\n",
       "2022-08-31 23:58:50   0.0\n",
       "2022-08-31 23:59:50   0.0\n",
       "\n",
       "[186541 rows x 1 columns]"
      ]
     },
     "execution_count": 13,
     "metadata": {},
     "output_type": "execute_result"
    }
   ],
   "source": [
    "# Inflow 01.01.2022 - 31.08.2022\n",
    "dt_format = '%d.%m.%Y %H:%M'\n",
    "dt1 = dt.strptime('01.01.2022 00:00', dt_format)\n",
    "dt2 = dt.strptime('01.09.2022 00:00', dt_format)\n",
    "\n",
    "mask = (discharge_in.index >= dt1) & (discharge_in.index < dt2)\n",
    "_discharge_in = discharge_in.loc[mask]\n",
    "_discharge_in\n",
    "\n"
   ]
  },
  {
   "cell_type": "code",
   "execution_count": null,
   "metadata": {},
   "outputs": [],
   "source": [
    "dt_format = '%d.%m.%Y %H:%M'\n",
    "inflows = []\n",
    "outflows = []\n",
    "rain = []\n",
    "for period in periods_inflow:\n",
    "    dt_1 = dt.strptime(period[0], dt_format)\n",
    "    dt_2 = dt.strptime(period[1], dt_format)\n",
    "\n",
    "    # Rain\n",
    "    tot_rain = uh.ts_sum_between(ts_rain, dt_1, dt_2)\n",
    "    rain.append(tot_rain)\n",
    "\n",
    "    # Inflow\n",
    "    tot_inflow = uh.ts_sum_between(discharge_in, dt_1, dt_2) * 60 / 1e3\n",
    "    inflows.append(tot_inflow)\n",
    "\n",
    "    # Outflow\n",
    "    tot_outflow = uh.ts_sum_between(discharge_out, dt_1, dt_2) * 60 / 1e3\n",
    "    outflows.append(tot_outflow)\n",
    "\n",
    "df_zu = pd.DataFrame(columns=['rain', 'inflow', 'outflow'])\n",
    "\n",
    "df_zu['inflow'] = inflows\n",
    "df_zu['outflow'] = outflows\n",
    "df_zu['rain'] = rain\n",
    "\n",
    "save_path = save_dir / 'zulauf.csv'\n",
    "df_zu.to_csv(save_path, sep=';')\n",
    "#-------------------------------------------------------------------------------\n",
    "\n",
    "inflows = []\n",
    "outflows = []\n",
    "rain = []\n",
    "for period in periods_outflow:\n",
    "    dt_1 = dt.strptime(period[0], dt_format)\n",
    "    dt_2 = dt.strptime(period[1], dt_format)\n",
    "\n",
    "    # Rain\n",
    "    tot_rain = uh.ts_sum_between(ts_rain, dt_1, dt_2)\n",
    "    rain.append(tot_rain)\n",
    "\n",
    "    # Inflow\n",
    "    tot_inflow = uh.ts_sum_between(discharge_in, dt_1, dt_2) * 60 / 1e3\n",
    "    inflows.append(tot_inflow)\n",
    "\n",
    "    # Outflow\n",
    "    tot_outflow = uh.ts_sum_between(discharge_out, dt_1, dt_2) * 60 / 1e3\n",
    "    outflows.append(tot_outflow)\n",
    "\n",
    "df_ab = pd.DataFrame(columns=['rain', 'inflow', 'outflow'])\n",
    "\n",
    "df_ab['inflow'] = inflows\n",
    "df_ab['outflow'] = outflows\n",
    "df_ab['rain'] = rain\n",
    "\n",
    "save_path = save_dir / 'ablauf.csv'\n",
    "df_ab.to_csv(save_path, sep=';')"
   ]
  },
  {
   "cell_type": "markdown",
   "metadata": {},
   "source": [
    "### Rain analysis"
   ]
  },
  {
   "cell_type": "code",
   "execution_count": null,
   "metadata": {},
   "outputs": [],
   "source": [
    "rain_month = ts_rain.groupby(pd.Grouper(freq='M')).sum()\n",
    "print(rain_month)\n",
    "rain_month.sum()"
   ]
  }
 ],
 "metadata": {
  "kernelspec": {
   "display_name": "Python 3.10.8 ('venv': venv)",
   "language": "python",
   "name": "python3"
  },
  "language_info": {
   "codemirror_mode": {
    "name": "ipython",
    "version": 3
   },
   "file_extension": ".py",
   "mimetype": "text/x-python",
   "name": "python",
   "nbconvert_exporter": "python",
   "pygments_lexer": "ipython3",
   "version": "3.10.8"
  },
  "orig_nbformat": 4,
  "vscode": {
   "interpreter": {
    "hash": "fcbcf634104c4732b8439a3fb9bd2e33824138a0380f5d18bd4ad379b42013a3"
   }
  }
 },
 "nbformat": 4,
 "nbformat_minor": 2
}
