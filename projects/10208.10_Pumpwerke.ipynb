{
 "cells": [
  {
   "cell_type": "markdown",
   "metadata": {},
   "source": [
    "## Imports"
   ]
  },
  {
   "cell_type": "code",
   "execution_count": 1,
   "metadata": {},
   "outputs": [],
   "source": [
    "import math\n",
    "import pandas as pd\n",
    "import plotly.graph_objects as go\n",
    "from datetime import datetime as dt\n",
    "from hbt import utils_hbt as uh\n",
    "from pathlib import Path"
   ]
  },
  {
   "cell_type": "markdown",
   "metadata": {},
   "source": [
    "## Functions"
   ]
  },
  {
   "cell_type": "code",
   "execution_count": 2,
   "metadata": {},
   "outputs": [],
   "source": [
    "# Poleni\n",
    "def Q_poleni(mu, L, h_w):\n",
    "    return 2/3 * mu * math.sqrt(2*9.81) * L * h_w**(3/2)"
   ]
  },
  {
   "cell_type": "markdown",
   "metadata": {},
   "source": [
    "## Settings"
   ]
  },
  {
   "cell_type": "code",
   "execution_count": 3,
   "metadata": {},
   "outputs": [],
   "source": [
    "path_datafolder=Path(r\"Q:\\Projekte\\10000-\\10208.10 Tangente Zug\"\n",
    "    r\"\\05 Berechnungen Grundlagen\\Pumpwerken\\Daten_Pumpwerken\")\n",
    "path_rain_agrometeo = Path(r\"Q:\\Projekte\\10000-\\10208.10 Tangente Zug\"\n",
    "    r\"\\05 Berechnungen Grundlagen\\Regendaten\\data_Baar.csv\")\n",
    "path_rain_meteoschweiz = Path(r\"Q:\\Projekte\\10000-\\10208.10 Tangente Zug\"\n",
    "    r\"\\05 Berechnungen Grundlagen\\Regendaten\\Cham Niederschlag\"\n",
    "    r\"\\CHZ_Niederschlagsumme.csv\")\n",
    "\n",
    "save_dir = Path(r\"Q:\\Projekte\\10000-\\10208.10 Tangente Zug\"\n",
    "    r\"\\05 Berechnungen Grundlagen\")\n",
    "\n",
    "pw_info = {\n",
    "    'Pumpwerk Sternen': {\n",
    "        'h_entl': 2.90, # m, 431.60 - 428.70\n",
    "        'B_entl': 2.0 # m\n",
    "    },\n",
    "    'Pumpwerk UF Zugerstrasse': {\n",
    "        'h_entl': None, # keine Entlastung\n",
    "    },\n",
    "    'Pumpwerk Neufeld': {\n",
    "        'h_entl': None, # keine Entlastung\n",
    "    },\n",
    "    'Pumpwerk Südstrasse': {\n",
    "        'h_entl': 3.15, # m, 428.75 - 425.60\n",
    "        'B_entl': 2.0 # m\n",
    "    },\n",
    "    'Pumpwerk SABA': {\n",
    "        'h_entl': 1.92, # m, 427.75 - 425.83\n",
    "        'B_entl': 2.0 # m\n",
    "    }\n",
    "}"
   ]
  },
  {
   "cell_type": "markdown",
   "metadata": {},
   "source": [
    "## Read data"
   ]
  },
  {
   "cell_type": "markdown",
   "metadata": {},
   "source": [
    "### Pumpwerkdaten"
   ]
  },
  {
   "cell_type": "code",
   "execution_count": 4,
   "metadata": {},
   "outputs": [],
   "source": [
    "dt_format = '%d.%m.%Y %H:%M'\n",
    "date_parser = lambda x: pd.to_datetime(x, format=dt_format)\n",
    "paths_data = list(path_datafolder.glob(\"*\"))\n",
    "df_pw = pd.DataFrame(columns=[\"Beschrieb\",\"Zeitstempel\",\"Wert\"])\n",
    "for i, path_data in enumerate(paths_data):\n",
    "    df_temp = pd.read_csv(path_data, delimiter=';',\n",
    "        names=[\"Beschrieb\",\"Zeitstempel\",\"Wert\"], parse_dates=[1],\n",
    "        date_parser=date_parser)\n",
    "    df_pw = pd.concat([df_pw, df_temp])\n",
    "del df_temp\n",
    "df_pw.set_index('Zeitstempel', inplace=True)\n",
    "\n",
    "sel = [\n",
    "    'Pumpwerk Südstrasse Niveaumessung 1 Messwert 4-20mA -180B1',\n",
    "    'Pumpwerk Südstrasse Niveaumessung 2 Messwert 4-20mA -181B1'\n",
    "]\n",
    "condition = (df_pw['Beschrieb']==sel[0]) | (df_pw['Beschrieb']==sel[1])\n",
    "df_pw['Wert'].loc[condition] += 1.0 # 1.0m = Pumpen aus"
   ]
  },
  {
   "cell_type": "markdown",
   "metadata": {},
   "source": [
    "### Regendaten"
   ]
  },
  {
   "cell_type": "code",
   "execution_count": 5,
   "metadata": {},
   "outputs": [],
   "source": [
    "ts_rain_am = uh.read_raindata_agrometeo(path_rain_agrometeo,\n",
    "    resolution='10min')\n",
    "ts_rain_ms = uh.read_raindata_meteoschweiz(path_rain_meteoschweiz)"
   ]
  },
  {
   "cell_type": "markdown",
   "metadata": {},
   "source": [
    "## TODO\n",
    "### Pumpwerke\n",
    "* Anzahl Überläufe pro Pumpwerk berechnen\n",
    "* Linie mit Höhe Überlauf im Plot hinzufügen\n",
    "* Regendaten hinterlegen? Kumulative Summe?"
   ]
  },
  {
   "cell_type": "markdown",
   "metadata": {},
   "source": [
    "## Analysis"
   ]
  },
  {
   "cell_type": "code",
   "execution_count": 6,
   "metadata": {},
   "outputs": [
    {
     "name": "stderr",
     "output_type": "stream",
     "text": [
      "C:\\Users\\sru\\AppData\\Local\\Temp\\ipykernel_7712\\2437774144.py:4: SettingWithCopyWarning: \n",
      "A value is trying to be set on a copy of a slice from a DataFrame.\n",
      "Try using .loc[row_indexer,col_indexer] = value instead\n",
      "\n",
      "See the caveats in the documentation: https://pandas.pydata.org/pandas-docs/stable/user_guide/indexing.html#returning-a-view-versus-a-copy\n",
      "  df_betrieb['Wert'] = df_betrieb['Wert'].astype(bool)\n",
      "C:\\Users\\sru\\AppData\\Local\\Temp\\ipykernel_7712\\2437774144.py:5: SettingWithCopyWarning: \n",
      "A value is trying to be set on a copy of a slice from a DataFrame\n",
      "\n",
      "See the caveats in the documentation: https://pandas.pydata.org/pandas-docs/stable/user_guide/indexing.html#returning-a-view-versus-a-copy\n",
      "  df_betrieb.sort_index(inplace=True)\n",
      "C:\\Users\\sru\\AppData\\Local\\Temp\\ipykernel_7712\\2437774144.py:8: SettingWithCopyWarning: \n",
      "A value is trying to be set on a copy of a slice from a DataFrame.\n",
      "Try using .loc[row_indexer,col_indexer] = value instead\n",
      "\n",
      "See the caveats in the documentation: https://pandas.pydata.org/pandas-docs/stable/user_guide/indexing.html#returning-a-view-versus-a-copy\n",
      "  df_betrieb2['Wert'] = ~df_betrieb2['Wert']\n"
     ]
    }
   ],
   "source": [
    "df_betrieb = df_pw[df_pw['Beschrieb'].str.contains('Betrieb')]\n",
    "df_niveau = df_pw[df_pw['Beschrieb'].str.contains('Niveau')]\n",
    "\n",
    "df_betrieb['Wert'] = df_betrieb['Wert'].astype(bool)\n",
    "df_betrieb.sort_index(inplace=True)\n",
    "\n",
    "df_betrieb2 = df_betrieb.iloc[1:,:]\n",
    "df_betrieb2['Wert'] = ~df_betrieb2['Wert']\n",
    "df_betrieb2.index = df_betrieb2.index - pd.Timedelta(seconds=1)\n",
    "df_betrieb = pd.concat((df_betrieb, df_betrieb2))\n",
    "df_betrieb.sort_index(inplace=True)\n",
    "df_betrieb['Wert'] = df_betrieb['Wert'].astype(int)"
   ]
  },
  {
   "cell_type": "markdown",
   "metadata": {},
   "source": [
    "### Überlaufmengen\n"
   ]
  },
  {
   "cell_type": "code",
   "execution_count": 7,
   "metadata": {},
   "outputs": [
    {
     "name": "stdout",
     "output_type": "stream",
     "text": [
      "DatetimeIndex(['2022-01-01 00:00:00', '2022-01-01 00:01:00',\n",
      "               '2022-01-01 00:02:00', '2022-01-01 00:03:00',\n",
      "               '2022-01-01 00:04:00', '2022-01-01 00:05:00',\n",
      "               '2022-01-01 00:06:00', '2022-01-01 00:07:00',\n",
      "               '2022-01-01 00:08:00', '2022-01-01 00:09:00',\n",
      "               ...\n",
      "               '2022-08-31 14:55:00', '2022-08-31 15:00:00',\n",
      "               '2022-08-31 10:18:00', '2022-08-31 10:35:00',\n",
      "               '2022-08-31 11:09:00', '2022-08-31 11:19:00',\n",
      "               '2022-08-31 11:56:00', '2022-08-31 12:18:00',\n",
      "               '2022-08-31 13:22:00', '2022-08-31 13:28:00'],\n",
      "              dtype='datetime64[ns]', name='Zeitstempel', length=3503440, freq=None)\n"
     ]
    }
   ],
   "source": [
    "dt_format = '%d.%m.%Y %H:%M:%S'\n",
    "dt_start = dt.strptime(\"22.04.2022 00:00:00\", dt_format)\n",
    "dt_end = dt.strptime(\"01.09.2022 00:00:00\", dt_format)\n",
    "mask = (df_pw.index >= dt_start) & (df_pw.index < dt_end)\n",
    "data = df_pw[mask]\n",
    "df_umenge = pd.DataFrame(columns=['Beschrieb', 'h [m]', 'Q [l/s]', 'V [m3]',\n",
    "    'V_cum [m3]'])  \n",
    "for pw, info in pw_info.items():\n",
    "    if info['h_entl']:\n",
    "        data1 = data.loc[data['Beschrieb'].str.contains(pw)]\n",
    "        data1 = data1.loc[data1['Beschrieb'].str.contains('Niveau')]\n",
    "        for i, el in enumerate(data1['Beschrieb'].unique()):\n",
    "            data2 = data1[data1['Beschrieb']==el]\n",
    "            data2 = data2[data2['Wert']>info['h_entl']]\n",
    "            data2['Wert'] -= info['h_entl']\n",
    "            data2.rename(columns={'Wert': 'h [m]'}, inplace=True)\n",
    "            data2['Q [l/s]'] = (Q_poleni(0.6, info['B_entl'], data2['h [m]'])\n",
    "                * 1e3)\n",
    "            data2['V [m3]'] = data2['Q [l/s]'] * 60 / 1e3\n",
    "            data2['V_cum [m3]'] = data2['V [m3]'].cumsum()\n",
    "            df_umenge = pd.concat((df_umenge, data2))\n",
    "\n",
    "save_path = save_dir / 'Pumpwerken/Überlaufmengen.csv'\n",
    "df_umenge.to_csv(save_path, sep=';')"
   ]
  },
  {
   "cell_type": "markdown",
   "metadata": {},
   "source": [
    "### Pumpenstunden"
   ]
  },
  {
   "cell_type": "code",
   "execution_count": 8,
   "metadata": {},
   "outputs": [],
   "source": [
    "h_pws = pd.DataFrame()\n",
    "\n",
    "for pump in df_betrieb['Beschrieb'].unique():\n",
    "    data = df_betrieb[df_betrieb['Beschrieb']==pump]\n",
    "    data = data[data['Wert']==1]\n",
    "    times = data.index.to_numpy()\n",
    "    t1 = times[0:-2:2]\n",
    "    t2 = times[1:-1:2]\n",
    "    delta_t = (t2 - t1)\n",
    "    delta_t = pd.DataFrame(delta_t)\n",
    "    tot_h = delta_t.sum().dt.total_seconds() / 60**2\n",
    "    h_pws.at[0, pump] = tot_h.values[0]\n",
    "\n",
    "save_path = save_dir / 'Pumpwerken/Pumpenstunden.csv'\n",
    "h_pws.sort_index(axis='columns', inplace=True)\n",
    "h_pws = h_pws.T\n",
    "h_pws.to_csv(save_path, sep=';')"
   ]
  },
  {
   "cell_type": "markdown",
   "metadata": {},
   "source": [
    "### Rain"
   ]
  },
  {
   "cell_type": "code",
   "execution_count": 9,
   "metadata": {},
   "outputs": [
    {
     "name": "stdout",
     "output_type": "stream",
     "text": [
      "BAAR - Niederschlag (mm oder Liter/m2)    667.3\n",
      "dtype: float64\n",
      "rain [mm/10min]    552.9\n",
      "dtype: float64\n"
     ]
    }
   ],
   "source": [
    "tot_rain_am = ts_rain_am.sum()\n",
    "print(tot_rain_am)\n",
    "\n",
    "tot_rain_ms = ts_rain_ms.sum()\n",
    "print(tot_rain_ms)"
   ]
  },
  {
   "cell_type": "markdown",
   "metadata": {},
   "source": [
    "## Plots"
   ]
  },
  {
   "cell_type": "code",
   "execution_count": 10,
   "metadata": {},
   "outputs": [],
   "source": [
    "fig = go.Figure()\n",
    "\n",
    "for name in sorted(df_betrieb['Beschrieb'].unique()):\n",
    "    x = df_betrieb[df_betrieb['Beschrieb']==name].index\n",
    "    y = df_betrieb[df_betrieb['Beschrieb']==name]['Wert']\n",
    "    fig.add_trace(go.Scatter(x=x, y=y, name=name))\n",
    "\n",
    "save_path = save_dir / 'Pumpwerken/Plots/Pumpenbetrieb.html'\n",
    "fig.write_html(save_path)"
   ]
  },
  {
   "cell_type": "code",
   "execution_count": 11,
   "metadata": {},
   "outputs": [
    {
     "name": "stdout",
     "output_type": "stream",
     "text": [
      "Pumpwerk Sternen Niveaumessung 1 Messwert 4-20mA -280B1\n",
      "Pumpwerk Sternen Niveaumessung 2 Messwert 4-20mA -281B1\n",
      "Pumpwerk Sternen Pumpe 1 Meldung Betrieb -230M1\n",
      "Pumpwerk Sternen Pumpe 2 Meldung Betrieb -240M1\n",
      "Pumpwerk UF Zugerstrasse Niveaumessung 1 Messwert 4-20mA -180B1\n",
      "Pumpwerk UF Zugerstrasse Niveaumessung 2 Messwert 4-20mA -181B1\n",
      "Pumpwerk UF Zugerstrasse Pumpe 1 Meldung Betrieb -130M1\n",
      "Pumpwerk UF Zugerstrasse Pumpe 2 Meldung Betrieb -140M1\n",
      "Pumpwerk Neufeld Niveaumessung 1 Messwert 4-20mA -560B1\n",
      "Pumpwerk Neufeld Niveaumessung 2 Messwert 4-20mA -561B1\n",
      "Pumpwerk Neufeld Pumpe 1 Meldung Betrieb -230M1\n",
      "Pumpwerk Neufeld Pumpe 2 Meldung Betrieb -140M1\n",
      "Pumpwerk Neufeld Pumpe 3 Meldung Betrieb -130M1\n",
      "Pumpwerk Südstrasse Niveaumessung 1 Messwert 4-20mA -180B1\n",
      "Pumpwerk Südstrasse Niveaumessung 2 Messwert 4-20mA -181B1\n",
      "Pumpwerk Südstrasse Pumpe 1 Meldung Betrieb -130M1\n",
      "Pumpwerk Südstrasse Pumpe 2 Meldung Betrieb -140M1\n",
      "Pumpwerk Südstrasse Pumpe 3 Meldung Betrieb -150M1\n",
      "Pumpwerk SABA Niveaumessung 1 Messwert 4-20mA -180B1\n",
      "Pumpwerk SABA Niveaumessung 2 Messwert 4-20mA -181B1\n",
      "Pumpwerk SABA Pumpe 1 Meldung Betrieb -130M1\n",
      "Pumpwerk SABA Pumpe 2 Meldung Betrieb -140M1\n"
     ]
    }
   ],
   "source": [
    "for pw, info in pw_info.items():\n",
    "    data = df_pw[df_pw['Beschrieb'].str.contains(pw)]\n",
    "    \n",
    "    fig = go.Figure()\n",
    "    for el in sorted(data['Beschrieb'].unique()):\n",
    "        print(el)\n",
    "        x = data[data['Beschrieb']==el].index\n",
    "        y = data[data['Beschrieb']==el]['Wert']\n",
    "        fig.add_trace(go.Scatter(x=x, y=y, name=el))\n",
    "\n",
    "    if info['h_entl']:\n",
    "        fig.add_hline(y=info['h_entl'], line_width=0.5)\n",
    "    fig.update_xaxes(title='Datum')\n",
    "    fig.update_yaxes(title='Niveau [m]')\n",
    "    fig.update_layout(title=f'{pw}')\n",
    "    save_path = save_dir / f'Pumpwerken/Plots/{pw}.html'\n",
    "    fig.write_html(save_path)"
   ]
  },
  {
   "cell_type": "markdown",
   "metadata": {},
   "source": [
    "#### Rain"
   ]
  },
  {
   "cell_type": "code",
   "execution_count": 12,
   "metadata": {},
   "outputs": [],
   "source": [
    "fig = go.Figure()\n",
    "x = ts_rain_ms.index\n",
    "y1 = ts_rain_ms.iloc[:,0]\n",
    "fig.add_trace(go.Scatter(x=x, y=y1, yaxis='y1'))\n",
    "\n",
    "y2 = ts_rain_ms.iloc[:,0].cumsum()\n",
    "fig.add_trace(go.Scatter(x=x, y=y2, yaxis='y2'))\n",
    "\n",
    "save_path = save_dir / f'Regendaten/Plots/Rain_ms.html'\n",
    "fig.write_html(save_path)"
   ]
  },
  {
   "cell_type": "code",
   "execution_count": 13,
   "metadata": {},
   "outputs": [
    {
     "data": {
      "text/plain": [
       "13.7"
      ]
     },
     "execution_count": 13,
     "metadata": {},
     "output_type": "execute_result"
    }
   ],
   "source": [
    "max(y1)"
   ]
  }
 ],
 "metadata": {
  "kernelspec": {
   "display_name": "Python 3.10.8 ('venv': venv)",
   "language": "python",
   "name": "python3"
  },
  "language_info": {
   "codemirror_mode": {
    "name": "ipython",
    "version": 3
   },
   "file_extension": ".py",
   "mimetype": "text/x-python",
   "name": "python",
   "nbconvert_exporter": "python",
   "pygments_lexer": "ipython3",
   "version": "3.10.8"
  },
  "orig_nbformat": 4,
  "vscode": {
   "interpreter": {
    "hash": "fcbcf634104c4732b8439a3fb9bd2e33824138a0380f5d18bd4ad379b42013a3"
   }
  }
 },
 "nbformat": 4,
 "nbformat_minor": 2
}
