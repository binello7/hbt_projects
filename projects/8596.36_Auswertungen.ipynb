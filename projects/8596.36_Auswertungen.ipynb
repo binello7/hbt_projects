{
 "cells": [
  {
   "cell_type": "markdown",
   "metadata": {},
   "source": [
    "# Imports"
   ]
  },
  {
   "cell_type": "code",
   "execution_count": null,
   "metadata": {},
   "outputs": [],
   "source": [
    "import pandas as pd\n",
    "from hbt_tools import utils_hbt as uh"
   ]
  },
  {
   "cell_type": "markdown",
   "metadata": {},
   "source": [
    "# Ablauf"
   ]
  },
  {
   "cell_type": "code",
   "execution_count": null,
   "metadata": {},
   "outputs": [],
   "source": [
    "id = 466\n",
    "date_format = '%d.%m.%Y %H:%M'\n",
    "\n",
    "periods = [\n",
    "    (\"28.09.2021 14:22\", \"01.12.2021 08:49\"),\n",
    "    (\"01.12.2021 08:49\", \"08.12.2021 11:04\"),\n",
    "    (\"08.12.2021 11:04\", \"29.12.2021 18:13\"),\n",
    "    (\"29.12.2021 18:13\", \"04.01.2022 19:56\"),\n",
    "    (\"07.02.2022 10:06\", \"01.04.2022 13:42\"),\n",
    "    (\"01.04.2022 13:42\", \"26.04.2022 16:58\"),\n",
    "    (\"26.04.2022 16:58\", \"23.05.2022 22:12\"),\n",
    "    (\"23.05.2022 22:12\", \"01.06.2022 13:34\"),\n",
    "    (\"02.06.2022 05:33\", \"07.06.2022 23:22\"),\n",
    "    (\"07.06.2022 23:22\", \"22.06.2022 23:09\"),\n",
    "    (\"22.06.2022 23:09\", \"24.06.2022 16:48\"),\n",
    "    (\"24.06.2022 16:48\", \"04.07.2022 09:01\"),\n",
    "    (\"04.07.2022 09:01\", \"04.07.2022 23:05\"),\n",
    "    (\"04.07.2022 23:05\", \"23.07.2022 02:53\"),\n",
    "    (\"23.07.2022 02:53\", \"15.08.2022 19:26\"),\n",
    "    (\"15.08.2022 19:26\", \"19.08.2022 07:28\"),\n",
    "    (\"22.09.2022 10:29\", \"28.09.2022 19:49\"),\n",
    "    (\"28.09.2022 19:49\", \"08.10.2022 20:49\"),\n",
    "    (\"08.10.2022 20:49\", \"04.11.2022 02:18\"),\n",
    "    (\"04.11.2022 12:33\", \"05.11.2022 12:13\"),\n",
    "    (\"05.11.2022 12:13\", \"10.12.2022 06:44\"),\n",
    "    (\"10.12.2022 06:44\", \"24.12.2022 03:13\"),\n",
    "    (\"24.12.2022 03:13\", \"26.12.2022 19:20\"),\n",
    "    (\"26.01.2023 13:39\", \"12.03.2023 03:31\"),\n",
    "    (\"12.03.2023 03:31\", \"25.03.2023 01:04\"),\n",
    "    (\"25.03.2023 01:04\", \"03.04.2023 14:47\"),\n",
    "    (\"03.04.2023 15:04\", \"24.04.2023 05:35\"),\n",
    "    (\"24.04.2023 05:35\", \"01.05.2023 21:06\"),\n",
    "    (\"01.05.2023 21:06\", \"10.05.2023 03:28\")\n",
    "\n",
    "]\n",
    "\n",
    "date_from = periods[0][0]\n",
    "date_to = periods[-1][-1]\n",
    "\n",
    "q_ab = uh.hbtdb_get_data(id, date_from, date_to, date_format)\n",
    "q_ab.index = pd.to_datetime(q_ab.index, utc=True)"
   ]
  },
  {
   "cell_type": "code",
   "execution_count": null,
   "metadata": {},
   "outputs": [],
   "source": [
    "q_ab['delta_t'] = q_ab.index\n",
    "delta_t = q_ab['delta_t'] - q_ab['delta_t'].shift()\n",
    "q_ab['delta_t'] = delta_t\n",
    "q_ab['volumen'] = q_ab['wert'] * q_ab['delta_t'].dt.total_seconds()"
   ]
  },
  {
   "cell_type": "code",
   "execution_count": null,
   "metadata": {},
   "outputs": [],
   "source": [
    "df_abfluss = pd.DataFrame(columns=['von', 'bis', 'volumen'])\n",
    "for i, p in enumerate(periods):\n",
    "    date_start = pd.to_datetime(p[0], format=date_format)\n",
    "    date_start = date_start.tz_localize('Europe/Zurich')\n",
    "    date_end = pd.to_datetime(p[1], format=date_format)\n",
    "    date_end = date_end.tz_localize('Europe/Zurich')\n",
    "\n",
    "    q_ab_period = q_ab[(q_ab.index>=date_start) & (q_ab.index<=date_end)]\n",
    "    df_temp = pd.DataFrame({'von': [p[0]], 'bis': [p[1]],\n",
    "        'volumen': [q_ab_period['volumen'].sum() / 1e3]})\n",
    "    \n",
    "    df_abfluss = pd.concat((df_abfluss, df_temp))"
   ]
  },
  {
   "cell_type": "code",
   "execution_count": null,
   "metadata": {},
   "outputs": [],
   "source": [
    "df_abfluss"
   ]
  }
 ],
 "metadata": {
  "kernelspec": {
   "display_name": "Python 3.10.4 ('py3.10')",
   "language": "python",
   "name": "python3"
  },
  "language_info": {
   "codemirror_mode": {
    "name": "ipython",
    "version": 3
   },
   "file_extension": ".py",
   "mimetype": "text/x-python",
   "name": "python",
   "nbconvert_exporter": "python",
   "pygments_lexer": "ipython3",
   "version": "3.11.0"
  },
  "orig_nbformat": 4,
  "vscode": {
   "interpreter": {
    "hash": "590b78d8cb9270f73855948988b5d0ee0289dd910f80c46d744676df1f9b3d24"
   }
  }
 },
 "nbformat": 4,
 "nbformat_minor": 2
}
