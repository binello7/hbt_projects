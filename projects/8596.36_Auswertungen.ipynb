{
 "cells": [
  {
   "cell_type": "markdown",
   "metadata": {},
   "source": [
    "# Imports"
   ]
  },
  {
   "cell_type": "code",
   "execution_count": null,
   "metadata": {},
   "outputs": [],
   "source": [
    "import pandas as pd\n",
    "from hbt_tools import utils_hbt as uh\n",
    "from pathlib import Path"
   ]
  },
  {
   "cell_type": "markdown",
   "metadata": {},
   "source": [
    "# Functions"
   ]
  },
  {
   "cell_type": "code",
   "execution_count": null,
   "metadata": {},
   "outputs": [],
   "source": [
    "def poleni(h, B, mu):\n",
    "    return 2/3 * mu * (2 * 9.81)**(1/2) * B * (h)**(3/2)\n",
    "#-------------------------------------------------------------------------------\n",
    "\n",
    "def sum_per_period(periods, ts, date_format, idx_col=0):\n",
    "    df_res = pd.DataFrame(columns=['von', 'bis', 'summe'])\n",
    "    for i, p in enumerate(periods):\n",
    "        date_start = pd.to_datetime(p[0], format=date_format)\n",
    "        date_start = date_start.tz_localize('Europe/Zurich')\n",
    "        date_end = pd.to_datetime(p[1], format=date_format)\n",
    "        date_end = date_end.tz_localize('Europe/Zurich')\n",
    "\n",
    "        ts_period = ts[(ts.index>=date_start) & (ts.index<=date_end)]\n",
    "        df_temp = pd.DataFrame({'von': [p[0]], 'bis': [p[1]],\n",
    "            'summe': [ts_period.iloc[:,idx_col].sum()]})\n",
    "        \n",
    "        df_res = pd.concat((df_res, df_temp))\n",
    "    \n",
    "    return df_res\n",
    "#-------------------------------------------------------------------------------\n",
    "\n",
    "def filter_ts(ts, date_from, date_to):\n",
    "    ts = ts[(ts.index>=date_from) & (ts.index<date_to)]\n",
    "\n",
    "    return ts\n",
    "#-------------------------------------------------------------------------------"
   ]
  },
  {
   "cell_type": "markdown",
   "metadata": {},
   "source": [
    "# Globals"
   ]
  },
  {
   "cell_type": "code",
   "execution_count": null,
   "metadata": {},
   "outputs": [],
   "source": [
    "date_format = '%d.%m.%Y %H:%M'\n",
    "date_start = (pd.to_datetime('28.09.2021 10:00', format=date_format)\n",
    "    .tz_localize('Europe/Zurich'))\n",
    "date_end = (pd.to_datetime('01.10.2022 00:00', format=date_format)\n",
    "    .tz_localize('Europe/Zurich'))\n",
    "\n",
    "ezg_tot = 2.97 # [ha]\n",
    "ab_bw = 0.8 # [-]\n",
    "\n",
    "periods = [\n",
    "    (\"28.09.2021 14:22\", \"01.12.2021 08:49\"),\n",
    "    (\"01.12.2021 08:49\", \"08.12.2021 11:04\"),\n",
    "    (\"08.12.2021 11:04\", \"29.12.2021 18:13\"),\n",
    "    (\"29.12.2021 18:13\", \"04.01.2022 19:56\"),\n",
    "    (\"07.02.2022 10:06\", \"01.04.2022 13:42\"),\n",
    "    (\"01.04.2022 13:42\", \"26.04.2022 16:58\"),\n",
    "    (\"26.04.2022 16:58\", \"23.05.2022 22:12\"),\n",
    "    (\"23.05.2022 22:12\", \"01.06.2022 13:34\"),\n",
    "    (\"02.06.2022 05:33\", \"07.06.2022 23:22\"),\n",
    "    (\"07.06.2022 23:22\", \"22.06.2022 23:09\"),\n",
    "    (\"22.06.2022 23:09\", \"24.06.2022 16:48\"),\n",
    "    (\"24.06.2022 16:48\", \"04.07.2022 09:01\"),\n",
    "    (\"04.07.2022 09:01\", \"04.07.2022 23:05\"),\n",
    "    (\"04.07.2022 23:05\", \"23.07.2022 02:53\"),\n",
    "    (\"23.07.2022 02:53\", \"15.08.2022 19:26\"),\n",
    "    (\"15.08.2022 19:26\", \"19.08.2022 07:28\"),\n",
    "    (\"22.09.2022 10:29\", \"28.09.2022 19:49\"),\n",
    "    (\"28.09.2022 19:49\", \"08.10.2022 20:49\"),\n",
    "    (\"08.10.2022 20:49\", \"04.11.2022 02:18\"),\n",
    "    (\"04.11.2022 12:33\", \"05.11.2022 12:13\"),\n",
    "    (\"05.11.2022 12:13\", \"10.12.2022 06:44\"),\n",
    "    (\"10.12.2022 06:44\", \"24.12.2022 03:13\"),\n",
    "    (\"24.12.2022 03:13\", \"26.12.2022 19:20\"),\n",
    "    (\"26.01.2023 13:39\", \"12.03.2023 03:31\"),\n",
    "    (\"12.03.2023 03:31\", \"25.03.2023 01:04\"),\n",
    "    (\"25.03.2023 01:04\", \"03.04.2023 14:47\"),\n",
    "    (\"03.04.2023 15:04\", \"24.04.2023 05:35\"),\n",
    "    (\"24.04.2023 05:35\", \"01.05.2023 21:06\"),\n",
    "    (\"01.05.2023 21:06\", \"10.05.2023 03:28\")\n",
    "]\n",
    "\n",
    "date_from = periods[0][0]\n",
    "date_to = periods[-1][-1]"
   ]
  },
  {
   "cell_type": "markdown",
   "metadata": {},
   "source": [
    "# Regen"
   ]
  },
  {
   "cell_type": "code",
   "execution_count": null,
   "metadata": {},
   "outputs": [],
   "source": [
    "path_rain = Path(r\"Q:\\Projekte\\8000-\\8500er\\8596\\8596.36-Mühlestrasse\"\n",
    "    r\"\\05 Berechnungen Grundlagen\\Regendaten\\LUZ_2020 bis 2023_data.csv\")\n",
    "ts_rain = uh.read_raindata_meteoschweiz(path_rain)\n",
    "\n",
    "# Filter rain\n",
    "ts_rain = filter_ts(ts_rain, date_start, date_end)"
   ]
  },
  {
   "cell_type": "code",
   "execution_count": null,
   "metadata": {},
   "outputs": [],
   "source": [
    "df_rain_periods = sum_per_period(periods, ts_rain, date_format)\n",
    "df_rain_periods"
   ]
  },
  {
   "cell_type": "code",
   "execution_count": null,
   "metadata": {},
   "outputs": [],
   "source": [
    "tot_rain = ts_rain['rain'].sum()\n",
    "print(f'Tot. Regen: {tot_rain:0.1f} mm')\n",
    "\n",
    "vol_zu_rain = tot_rain * ezg_tot * 10\n",
    "print(f'Tot. Zufluss (Regen): {vol_zu_rain:0.2f} m3')"
   ]
  },
  {
   "cell_type": "markdown",
   "metadata": {},
   "source": [
    "# Zulauf"
   ]
  },
  {
   "cell_type": "code",
   "execution_count": null,
   "metadata": {},
   "outputs": [],
   "source": [
    "id = 465\n",
    "h_zu = uh.hbtdb_get_data(id, date_from, date_to, date_format)\n",
    "h_zu.index = pd.to_datetime(h_zu.index, utc=True)\n",
    "h_zu = h_zu - 105 # cm, 1.05 Messwert bei ansprigngen des Wehres/Entlastung (Christian)\n",
    "\n",
    "# Convert Zulauf from h to Q (Poleni)\n",
    "B = 2.75 # der Wert ist aus dem Schalungsplan\n",
    "mu = 0.6\n",
    "q_zu = poleni(B=B, mu=mu, h=h_zu/100) * 1000 # l/s\n",
    "q_zu.fillna(0, inplace=True)\n",
    "\n",
    "# Compute volume per time-step\n",
    "q_zu['delta_t'] = q_zu.index\n",
    "delta_t = q_zu['delta_t'] - q_zu['delta_t'].shift()\n",
    "q_zu['delta_t'] = delta_t\n",
    "q_zu['volumen'] = q_zu['wert'] * q_zu['delta_t'].dt.total_seconds()"
   ]
  },
  {
   "cell_type": "code",
   "execution_count": null,
   "metadata": {},
   "outputs": [],
   "source": [
    "# Check dts\n",
    "dt_min = delta_t.unique() / (1e9*60)\n",
    "dt_min"
   ]
  },
  {
   "cell_type": "code",
   "execution_count": null,
   "metadata": {},
   "outputs": [],
   "source": [
    "df_zufluss = sum_per_period(periods, q_zu, date_format, 2)\n",
    "df_zufluss"
   ]
  },
  {
   "cell_type": "code",
   "execution_count": null,
   "metadata": {},
   "outputs": [],
   "source": [
    "tot_vol_zu = filter_ts(q_zu, date_start, date_end)['volumen'].sum() / 1e3\n",
    "print(f'Zufluss Vol: {tot_vol_zu:0.3f} m3')"
   ]
  },
  {
   "cell_type": "markdown",
   "metadata": {},
   "source": [
    "# Ablauf"
   ]
  },
  {
   "cell_type": "code",
   "execution_count": null,
   "metadata": {},
   "outputs": [],
   "source": [
    "id = 466\n",
    "q_ab = uh.hbtdb_get_data(id, date_from, date_to, date_format)\n",
    "q_ab.index = pd.to_datetime(q_ab.index, utc=True)\n",
    "\n",
    "# Compute volume per time-step\n",
    "q_ab['delta_t'] = q_ab.index\n",
    "delta_t = q_ab['delta_t'] - q_ab['delta_t'].shift()\n",
    "q_ab['delta_t'] = delta_t\n",
    "q_ab['volumen'] = q_ab['wert'] * q_ab['delta_t'].dt.total_seconds()"
   ]
  },
  {
   "cell_type": "code",
   "execution_count": null,
   "metadata": {},
   "outputs": [],
   "source": [
    "df_abfluss = sum_per_period(periods, q_ab, date_format, 2)\n",
    "df_abfluss"
   ]
  },
  {
   "cell_type": "code",
   "execution_count": null,
   "metadata": {},
   "outputs": [],
   "source": [
    "tot_vol_ab = filter_ts(q_ab, date_start, date_end)['volumen'].sum() / 1e3\n",
    "print(f'Abfluss Vol: {tot_vol_ab:0.3f} m3')"
   ]
  }
 ],
 "metadata": {
  "kernelspec": {
   "display_name": "Python 3.10.4 ('py3.10')",
   "language": "python",
   "name": "python3"
  },
  "language_info": {
   "codemirror_mode": {
    "name": "ipython",
    "version": 3
   },
   "file_extension": ".py",
   "mimetype": "text/x-python",
   "name": "python",
   "nbconvert_exporter": "python",
   "pygments_lexer": "ipython3",
   "version": "3.11.0"
  },
  "orig_nbformat": 4,
  "vscode": {
   "interpreter": {
    "hash": "590b78d8cb9270f73855948988b5d0ee0289dd910f80c46d744676df1f9b3d24"
   }
  }
 },
 "nbformat": 4,
 "nbformat_minor": 2
}
