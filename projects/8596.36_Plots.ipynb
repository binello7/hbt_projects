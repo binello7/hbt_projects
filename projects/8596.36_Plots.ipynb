{
 "cells": [
  {
   "cell_type": "markdown",
   "metadata": {},
   "source": [
    "# Imports"
   ]
  },
  {
   "cell_type": "code",
   "execution_count": null,
   "metadata": {},
   "outputs": [],
   "source": [
    "import pandas as pd\n",
    "import plotly.graph_objects as go\n",
    "import pytz\n",
    "from datetime import datetime as dt\n",
    "from hbt_tools import utils_hbt as uh\n",
    "from hbt_tools import plots as hp\n",
    "from pathlib import Path\n",
    "from plotly.subplots import make_subplots"
   ]
  },
  {
   "cell_type": "markdown",
   "metadata": {},
   "source": [
    "# Functions"
   ]
  },
  {
   "cell_type": "code",
   "execution_count": null,
   "metadata": {},
   "outputs": [],
   "source": [
    "def poleni(h, B, mu):\n",
    "    return 2/3 * mu * (2 * 9.81)**(1/2) * B * (h)**(3/2)\n",
    "#-------------------------------------------------------------------------------\n",
    "\n",
    "def plot_pw(ts_pw, ts_rain, names=['PW', 'rain']):\n",
    "    fig = go.Figure()\n",
    "    fig.add_trace(go.Scatter(\n",
    "        x=ts_pw.index,\n",
    "        y=ts_pw.iloc[:,0],\n",
    "        name=names[0],\n",
    "        line=dict(color='red', width=1),\n",
    "        yaxis=\"y1\"\n",
    "        ))\n",
    "    \n",
    "    fig.add_trace(go.Bar(\n",
    "        x=ts_rain.index,\n",
    "        y=ts_rain.iloc[:,0],\n",
    "        name=names[1],\n",
    "        marker_color='blue', \n",
    "        yaxis=\"y2\"\n",
    "        ))\n",
    "\n",
    "    fig.update_layout(\n",
    "        yaxis=dict(\n",
    "            title=\"Niveau\",\n",
    "            titlefont=dict(color=\"red\"),\n",
    "            tickfont=dict(color=\"red\"),\n",
    "            anchor=\"free\",\n",
    "            side=\"left\",\n",
    "        ),\n",
    "        yaxis2=dict(\n",
    "            title=\"Regenmenge [mm/10 min]\",\n",
    "            titlefont=dict(color=\"blue\"),\n",
    "            tickfont=dict(color=\"blue\"),\n",
    "            anchor=\"free\",\n",
    "            overlaying=\"y\",\n",
    "            side=\"right\",\n",
    "        )\n",
    "    )\n",
    "\n",
    "    return fig\n",
    "#-------------------------------------------------------------------------------\n",
    "\n",
    "def filter_ts(ts, date_from, date_to):\n",
    "    ts = ts[(ts.index>=date_from) & (ts.index<date_to)]\n",
    "\n",
    "    return ts\n",
    "#-------------------------------------------------------------------------------\n",
    "\n",
    "def del_values(ts, val):\n",
    "    mask = ts.iloc[:,0]==val\n",
    "    ts_out = ts.drop(ts[mask].index)\n",
    "    return ts_out\n",
    "#-------------------------------------------------------------------------------"
   ]
  },
  {
   "cell_type": "markdown",
   "metadata": {},
   "source": [
    "# Parameters"
   ]
  },
  {
   "cell_type": "markdown",
   "metadata": {},
   "source": [
    "## General"
   ]
  },
  {
   "cell_type": "code",
   "execution_count": null,
   "metadata": {},
   "outputs": [],
   "source": [
    "dt_format = '%d.%m.%Y %H:%M'\n",
    "save_dir = Path(r\"Q:\\Projekte\\8000-\\8500er\\8596\\8596.36-Mühlestrasse\"\n",
    "    r\"\\05 Berechnungen Grundlagen\\Datenauswertung\\Plots\")\n",
    "date_from = dt(2021, 9, 29, tzinfo=pytz.timezone('Europe/Zurich'))\n",
    "date_to = dt(2022, 10, 1, tzinfo=pytz.timezone('Europe/Zurich'))"
   ]
  },
  {
   "cell_type": "markdown",
   "metadata": {},
   "source": [
    "## Messeinheiten"
   ]
  },
  {
   "cell_type": "code",
   "execution_count": null,
   "metadata": {},
   "outputs": [],
   "source": [
    "measurements_units = {\n",
    "    '432': { # data until 07.06!\n",
    "        'name': 'Niveau Pumpensumpf PW Hirsen',\n",
    "        'units': 'cm',\n",
    "        'color': '',\n",
    "        'y_axis': 'y1',\n",
    "    },\n",
    "\n",
    "    '457': { # data until 06.04!\n",
    "        'name': 'Niveau Pumpensumpf PW Sonnenbergstrasse',\n",
    "        'units': 'm',\n",
    "        'color': '',\n",
    "        'y_axis': 'y1',\n",
    "    },\n",
    "\n",
    "    '458': { # OK\n",
    "        'name': 'Niveau Einlaufkammer Absetzbecken',\n",
    "        'units': 'm',\n",
    "        'color': '',\n",
    "        'y_axis': 'y1',\n",
    "    },\n",
    "\n",
    "    '459': { # OK\n",
    "        'name': 'RFB 1 - Niveau 1',\n",
    "        'units': 'm',\n",
    "        'color': '',\n",
    "        'y_axis': 'y1',\n",
    "    },\n",
    "\n",
    "    '460': { # OK\n",
    "        'name': 'RFB 1 - Niveau 2',\n",
    "        'units': 'bar',\n",
    "        'color': '',\n",
    "        'y_axis': 'y1',\n",
    "    },\n",
    "\n",
    "    '461': { # OK\n",
    "        'name': 'RFB 2 - Niveau 1',\n",
    "        'units': 'm',\n",
    "        'color': '',\n",
    "        'y_axis': 'y1',\n",
    "    },\n",
    "\n",
    "    '462': { # no data!\n",
    "        'name': 'RFB 2 - Niveau 2',\n",
    "        'units': 'm',\n",
    "        'color': '',\n",
    "        'y_axis': 'y1',\n",
    "    },\n",
    "\n",
    "    '463': { # no data!\n",
    "        'name': 'Trübung Auslaufbauwerk RB Mühlestrasse',\n",
    "        'units': 'FNU',\n",
    "        'color': '',\n",
    "        'y_axis': 'y3',\n",
    "    },\n",
    "\n",
    "    '464': { # OK\n",
    "        'name': 'Trübung Ablauf Absetzbecken',\n",
    "        'units': 'FNU',\n",
    "        'color': '',\n",
    "        'y_axis': 'y3',\n",
    "    },\n",
    "\n",
    "    '465': { # OK\n",
    "        'name': 'Niveau Auslaufbauwerk RB Mühlestrasse',\n",
    "        'units': 'cm',\n",
    "        'color': '',\n",
    "        'y_axis': 'y1',\n",
    "    },\n",
    "\n",
    "    '466': { # OK\n",
    "        'name': 'Durchflussmessung Auslauf SABA',\n",
    "        'units': 'L/s',\n",
    "        'color': 'blue',\n",
    "        'y_axis': 'y2',\n",
    "    }\n",
    "}"
   ]
  },
  {
   "cell_type": "markdown",
   "metadata": {},
   "source": [
    "# Rain Data"
   ]
  },
  {
   "cell_type": "code",
   "execution_count": null,
   "metadata": {},
   "outputs": [],
   "source": [
    "path_rain = Path(r\"Q:\\Projekte\\8000-\\8500er\\8596\\8596.36-Mühlestrasse\"\n",
    "    r\"\\05 Berechnungen Grundlagen\\Regendaten\\LUZ_2020 bis 2023_data.csv\")\n",
    "\n",
    "rain = uh.read_raindata_meteoschweiz(path_rain, abbr=True)\n",
    "rain = rain[(rain.index>=date_from) & (rain.index<date_to)]"
   ]
  },
  {
   "cell_type": "markdown",
   "metadata": {},
   "source": [
    "# Pumpwerke"
   ]
  },
  {
   "cell_type": "markdown",
   "metadata": {},
   "source": [
    "## PW Sonnenbergstrasse"
   ]
  },
  {
   "cell_type": "code",
   "execution_count": null,
   "metadata": {},
   "outputs": [],
   "source": [
    "# Read data\n",
    "id = 457\n",
    "lvl_sonnenberg = uh.hbtdb_get_data(id, date_from=date_from, date_to=date_to)\n",
    "lvl_sonnenberg = filter_ts(lvl_sonnenberg, date_from, date_to)"
   ]
  },
  {
   "cell_type": "code",
   "execution_count": null,
   "metadata": {},
   "outputs": [],
   "source": [
    "fig = hp.ply_2y(lvl_sonnenberg, rain, names=['Niveau PW', 'Regen LUZ'],\n",
    "    xlabel='Zeit', ylabels=['Niveau [m]', 'Regen [mm/10min]'],\n",
    "    colors=['red', 'blue'])"
   ]
  },
  {
   "cell_type": "code",
   "execution_count": null,
   "metadata": {},
   "outputs": [],
   "source": [
    "fig.update_layout(\n",
    "    title='PW Sonnenbergstrasse', font=dict(size=25)\n",
    ")\n",
    "\n",
    "fig.update_xaxes(title=dict(font=dict(size=25)))\n",
    "fig.update_yaxes(title=dict(font=dict(size=25)))\n",
    "\n",
    "h_ül = 4.5 # m, im Pumpensumpf\n",
    "fig.add_hline(y=h_ül, line_width=1, line_color='black')\n",
    "fig.add_annotation(x=lvl_sonnenberg.index[0], y=h_ül,text=f'{h_ül} m',\n",
    "    font=dict(size=20, color='black'))\n",
    "fig"
   ]
  },
  {
   "cell_type": "code",
   "execution_count": null,
   "metadata": {},
   "outputs": [],
   "source": [
    "save_path = save_dir / 'Niveau_PW-Sonnenbergstrasse.html'\n",
    "fig.write_html(save_path)"
   ]
  },
  {
   "cell_type": "markdown",
   "metadata": {},
   "source": [
    "## PW Hirsen"
   ]
  },
  {
   "cell_type": "code",
   "execution_count": null,
   "metadata": {},
   "outputs": [],
   "source": [
    "# Read data\n",
    "id = 432\n",
    "lvl_hirsen = uh.hbtdb_get_data(id, date_from=date_from, date_to=date_to)\n",
    "lvl_hirsen = filter_ts(lvl_hirsen, date_from, date_to)\n",
    "lvl_hirsen = lvl_hirsen / 100 # cm -> m"
   ]
  },
  {
   "cell_type": "code",
   "execution_count": null,
   "metadata": {},
   "outputs": [],
   "source": [
    "fig = hp.ply_2y(lvl_hirsen, rain, names=['Niveau PW', 'Regen LUZ'],\n",
    "    xlabel='Zeit', ylabels=['Niveau [m]', 'Regen [mm/10min]'],\n",
    "    colors=['red', 'blue'])"
   ]
  },
  {
   "cell_type": "code",
   "execution_count": null,
   "metadata": {},
   "outputs": [],
   "source": [
    "fig.update_layout(\n",
    "    title='PW Hirsen', font=dict(size=25)\n",
    ")\n",
    "\n",
    "fig.update_xaxes(title=dict(font=dict(size=25)))\n",
    "fig.update_yaxes(title=dict(font=dict(size=25)))\n",
    "\n",
    "h_ül = 3.95 # m, im Pumpensumpf\n",
    "fig.add_hline(y=h_ül, line_width=1, line_color='black')\n",
    "fig.add_annotation(x=lvl_hirsen.index[0], y=h_ül,text=f'{h_ül} m',\n",
    "    font=dict(size=20, color='black'))\n",
    "fig"
   ]
  },
  {
   "cell_type": "code",
   "execution_count": null,
   "metadata": {},
   "outputs": [],
   "source": [
    "save_path = save_dir / 'Niveau_PW-Hirsen.html'\n",
    "fig.write_html(save_path)"
   ]
  },
  {
   "cell_type": "markdown",
   "metadata": {},
   "source": [
    "# SABA"
   ]
  },
  {
   "cell_type": "markdown",
   "metadata": {},
   "source": [
    "## ASB"
   ]
  },
  {
   "cell_type": "markdown",
   "metadata": {},
   "source": [
    "### Niveau Einlaufkammer"
   ]
  },
  {
   "cell_type": "code",
   "execution_count": null,
   "metadata": {},
   "outputs": [],
   "source": [
    "id = 458\n",
    "asb1 = uh.hbtdb_get_data(id, date_from=date_from, date_to=date_to)"
   ]
  },
  {
   "cell_type": "code",
   "execution_count": null,
   "metadata": {},
   "outputs": [],
   "source": [
    "fig = hp.ply_2y(asb1, rain, names=['Niveau Einlauf ASB', 'Regen LUZ'],\n",
    "    xlabel='Zeit', ylabels=['Niveau [cm]', 'Regen [mm/10min]'],\n",
    "    colors=['red', 'blue'])"
   ]
  },
  {
   "cell_type": "code",
   "execution_count": null,
   "metadata": {},
   "outputs": [],
   "source": [
    "fig"
   ]
  },
  {
   "cell_type": "code",
   "execution_count": null,
   "metadata": {},
   "outputs": [],
   "source": [
    "save_path = save_dir / 'Niveau_Einlauf-ASB.html'\n",
    "fig.write_html(save_path)"
   ]
  },
  {
   "cell_type": "markdown",
   "metadata": {},
   "source": [
    "### Niveau Becken"
   ]
  },
  {
   "cell_type": "code",
   "execution_count": null,
   "metadata": {},
   "outputs": [],
   "source": [
    "id = 465\n",
    "\n",
    "# Niveau\n",
    "asb2 = uh.hbtdb_get_data(id, date_from=date_from, date_to=date_to)\n",
    "asb2 = asb2 - 105 # cm, 1.05 Messwert bei ansprigngen des Wehres/Entlastung (Christian)\n",
    "\n",
    "# Durchfluss\n",
    "B = 2.75 # der Wert ist aus dem Schalungsplan\n",
    "mu = 0.6\n",
    "q_asb = poleni(B=B, mu=mu, h=asb2/100) * 1000 # l/s\n",
    "q_asb.fillna(0, inplace=True)"
   ]
  },
  {
   "cell_type": "code",
   "execution_count": null,
   "metadata": {},
   "outputs": [],
   "source": [
    "fig = hp.ply_2y(asb2, rain, names=['Niveau ASB', 'Regen LUZ'], \n",
    "    xlabel='Zeit', ylabels=['Niveau [cm]', 'Regen [mm/10min]'],\n",
    "    colors=['red', 'blue'])"
   ]
  },
  {
   "cell_type": "code",
   "execution_count": null,
   "metadata": {},
   "outputs": [],
   "source": [
    "fig.update_layout(\n",
    "    title='Absetzbecken', font=dict(size=25)\n",
    ")\n",
    "\n",
    "fig.update_xaxes(title=dict(font=dict(size=25)))\n",
    "fig.update_yaxes(title=dict(font=dict(size=25)))\n",
    "\n",
    "fig"
   ]
  },
  {
   "cell_type": "code",
   "execution_count": null,
   "metadata": {},
   "outputs": [],
   "source": [
    "save_path = save_dir / 'Niveau_ASB.html'\n",
    "fig.write_html(save_path)"
   ]
  },
  {
   "cell_type": "markdown",
   "metadata": {},
   "source": [
    "### Zufluss Becken"
   ]
  },
  {
   "cell_type": "code",
   "execution_count": null,
   "metadata": {},
   "outputs": [],
   "source": [
    "fig = hp.ply_2y(asb2, q_asb, names=['Niveau ASB', 'Zufluss ASB'], \n",
    "    xlabel='Zeit', ylabels=['Niveau [cm]', 'Zufluss [l/s]'],\n",
    "    colors=['red', 'cyan'])"
   ]
  },
  {
   "cell_type": "code",
   "execution_count": null,
   "metadata": {},
   "outputs": [],
   "source": [
    "fig.update_layout(\n",
    "    title='Zufluss Absetzbecken', font=dict(size=25)\n",
    ")\n",
    "\n",
    "fig.update_xaxes(title=dict(font=dict(size=25)))\n",
    "fig.update_yaxes(title=dict(font=dict(size=25)))\n",
    "\n",
    "fig"
   ]
  },
  {
   "cell_type": "code",
   "execution_count": null,
   "metadata": {},
   "outputs": [],
   "source": [
    "save_path = save_dir / 'Zufluss_ASB.html'\n",
    "fig.write_html(save_path)"
   ]
  },
  {
   "cell_type": "markdown",
   "metadata": {},
   "source": [
    "## RFB"
   ]
  },
  {
   "cell_type": "markdown",
   "metadata": {},
   "source": [
    "### RFB 1"
   ]
  },
  {
   "cell_type": "code",
   "execution_count": null,
   "metadata": {},
   "outputs": [],
   "source": [
    "id = 459\n",
    "rfb1 = uh.hbtdb_get_data(id, date_from=date_from, date_to=date_to)"
   ]
  },
  {
   "cell_type": "code",
   "execution_count": null,
   "metadata": {},
   "outputs": [],
   "source": [
    "# Clean data\n",
    "rfb1 = (rfb1 - 1.73) * -1 * 100\n",
    "rfb1 = del_values(rfb1, 73)"
   ]
  },
  {
   "cell_type": "code",
   "execution_count": null,
   "metadata": {},
   "outputs": [],
   "source": [
    "fig = hp.ply_2y(rfb1, rain, names=['Niveau RFB 1', 'Regen LUZ'],\n",
    "    xlabel='Zeit', ylabels=['Niveau [cm]', 'Regen [mm/10min]'],\n",
    "    colors=['red', 'blue'])"
   ]
  },
  {
   "cell_type": "code",
   "execution_count": null,
   "metadata": {},
   "outputs": [],
   "source": [
    "fig.update_layout(\n",
    "    title='Niveau RFB 1', font=dict(size=25)\n",
    ")\n",
    "\n",
    "fig.update_xaxes(title=dict(font=dict(size=25)))\n",
    "fig.update_yaxes(title=dict(font=dict(size=25)))\n",
    "\n",
    "h_ül = 67 # cm - gemäss Fotos Begehung\n",
    "fig.add_hline(y=h_ül, line_width=1, line_color='black')\n",
    "fig.add_annotation(x=rfb1.index[0], y=h_ül,text=f'{h_ül} cm',\n",
    "    font=dict(size=20, color='black'))\n",
    "fig"
   ]
  },
  {
   "cell_type": "code",
   "execution_count": null,
   "metadata": {},
   "outputs": [],
   "source": [
    "save_path = save_dir / 'Niveau_RFB1.html'\n",
    "fig.write_html(save_path)"
   ]
  },
  {
   "cell_type": "markdown",
   "metadata": {},
   "source": [
    "### RFB 2"
   ]
  },
  {
   "cell_type": "code",
   "execution_count": null,
   "metadata": {},
   "outputs": [],
   "source": [
    "id = 461\n",
    "rfb2 = uh.hbtdb_get_data(id, date_from=date_from, date_to=date_to)"
   ]
  },
  {
   "cell_type": "code",
   "execution_count": null,
   "metadata": {},
   "outputs": [],
   "source": [
    "# Reframe data points\n",
    "rfb2_ = (rfb2 - 0.92) * -1 * 100\n",
    "rfb2_ = del_values(rfb2_, 92)"
   ]
  },
  {
   "cell_type": "code",
   "execution_count": null,
   "metadata": {},
   "outputs": [],
   "source": [
    "fig = hp.ply_2y(rfb2_, rain, names=['Niveau RFB 2', 'Regen LUZ'],\n",
    "    xlabel='Zeit', ylabels=['Niveau [cm]', 'Regen [mm/10min]'],\n",
    "    colors=['red', 'blue'])"
   ]
  },
  {
   "cell_type": "code",
   "execution_count": null,
   "metadata": {},
   "outputs": [],
   "source": [
    "fig.update_layout(\n",
    "    title='Niveau RFB 2', font=dict(size=25)\n",
    ")\n",
    "\n",
    "fig.update_xaxes(title=dict(font=dict(size=25)))\n",
    "fig.update_yaxes(title=dict(font=dict(size=25)))\n",
    "\n",
    "h_ül = 59 # cm - gemäss Fotos Begehung\n",
    "fig.add_hline(y=h_ül, line_width=1, line_color='black')\n",
    "fig.add_annotation(x=rfb1.index[0], y=h_ül,text=f'{h_ül} cm',\n",
    "    font=dict(size=20, color='black'))\n",
    "fig"
   ]
  },
  {
   "cell_type": "code",
   "execution_count": null,
   "metadata": {},
   "outputs": [],
   "source": [
    "save_path = save_dir / 'Niveau_RFB2.html'\n",
    "fig.write_html(save_path)"
   ]
  },
  {
   "cell_type": "code",
   "execution_count": null,
   "metadata": {},
   "outputs": [],
   "source": [
    "# Read data\n",
    "lvl1 = 459\n",
    "lvl2 = 460\n",
    "lvl_asb = 458\n",
    "\n",
    "\n",
    "dt_start = '12.10.2022 10:00:00'\n",
    "dt_end = '01.11.2022 00:00:00'\n",
    "\n",
    "ts_lvl1 = uh.hbtdb_get_data(lvl1, dt_start, dt_end)\n",
    "ts_lvl2 = uh.hbtdb_get_data(lvl2, dt_start, dt_end)\n",
    "ts_asb = uh.hbtdb_get_data(lvl_asb, dt_start, dt_end)\n",
    "\n",
    "# Shift and invert data\n",
    "ts_lvl1 = (ts_lvl1 - 1.73) * -1 * 100\n",
    "ts_asb = (ts_asb - 4.43) * -1"
   ]
  },
  {
   "cell_type": "code",
   "execution_count": null,
   "metadata": {},
   "outputs": [],
   "source": [
    "fig = go.Figure()\n",
    "fig.add_trace(go.Scatter(x=ts_lvl1.index, y=ts_lvl1['wert'],\n",
    "    name='Niveau RFB1'))\n",
    "fig.add_trace(go.Scatter(x=ts_asb.index, y=ts_asb['wert'],\n",
    "    name='Niveau ASB'))\n",
    "fig.update_xaxes(title='Zeit')\n",
    "fig.update_yaxes(title='Niveau [cm]')\n",
    "fig.update_layout(title='Niveau RFB1')\n",
    "\n",
    "save_path = save_dir / 'rfb1.html'\n",
    "fig.write_html(save_path)"
   ]
  },
  {
   "cell_type": "code",
   "execution_count": null,
   "metadata": {},
   "outputs": [],
   "source": [
    "dates = ['2022-06-14', '2022-06-27', '2022-07-04']\n",
    "colors = ['red', 'green']\n",
    "\n",
    "fig = make_subplots(specs=[[{\"secondary_y\": False}]])\n",
    "for i, id in enumerate(ids):\n",
    "    fig.add_trace(go.Scatter(x=data[id].index, y=data[id]['wert'],\n",
    "        name=measurements_units.loc[id]['name'], marker_color=colors[i]))\n",
    "\n",
    "fig.add_vrect(x0=dates[0], x1=dates[1], row=\"all\", col=1, \n",
    "    annotation_text=\"Beschickung RFB 1\", annotation_position=\"top left\",\n",
    "    fillcolor=colors[0], opacity=0.2, line_width=1, line_color='black')\n",
    "\n",
    "fig.add_vrect(x0=dates[1], x1=dates[2], row=\"all\", col=1, \n",
    "    annotation_text=\"Beschickung RFB 2\", annotation_position=\"top left\",\n",
    "    fillcolor=colors[1], opacity=0.2, line_width=1, line_color='black')\n",
    "\n",
    "ax = -30\n",
    "ay = -30\n",
    "for i, rev in enumerate(rain_ev1_start):\n",
    "    fig.add_annotation(x=rev, y=data['459'].loc[rev].values[0],\n",
    "        text=f'Ereignis {i+1}', showarrow=True, ax=ax, ay=ay)\n",
    "\n",
    "for i, rev in enumerate(rain_ev2_start):\n",
    "    if i == len(rain_ev2_end) - 1:\n",
    "        ax = 0\n",
    "        ay = -60\n",
    "    fig.add_annotation(x=rev, y=data['461'].loc[rev].values[0],\n",
    "        text=f'Ereignis {n1+1+i}', showarrow=True, ax=ax, ay=ay)\n",
    "\n",
    "fig.update_layout(\n",
    "    title='Niveaus SABA',\n",
    "    xaxis_title=\"Datum\",\n",
    "    yaxis_title=\"Niveau [m]\",\n",
    ")\n",
    "\n",
    "file_path = save_dir / ('Niveaus-SABA.html')\n",
    "fig.write_html(file_path)"
   ]
  }
 ],
 "metadata": {
  "kernelspec": {
   "display_name": "Python 3.10.8 ('venv': venv)",
   "language": "python",
   "name": "python3"
  },
  "language_info": {
   "codemirror_mode": {
    "name": "ipython",
    "version": 3
   },
   "file_extension": ".py",
   "mimetype": "text/x-python",
   "name": "python",
   "nbconvert_exporter": "python",
   "pygments_lexer": "ipython3",
   "version": "3.11.0"
  },
  "orig_nbformat": 4,
  "vscode": {
   "interpreter": {
    "hash": "fcbcf634104c4732b8439a3fb9bd2e33824138a0380f5d18bd4ad379b42013a3"
   }
  }
 },
 "nbformat": 4,
 "nbformat_minor": 2
}
