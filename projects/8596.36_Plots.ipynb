{
 "cells": [
  {
   "cell_type": "markdown",
   "metadata": {},
   "source": [
    "## Imports"
   ]
  },
  {
   "cell_type": "code",
   "execution_count": null,
   "metadata": {},
   "outputs": [],
   "source": [
    "import datetime as dt\n",
    "import pandas as pd\n",
    "import plotly.graph_objects as go\n",
    "from hbt import utils_hbt as uh\n",
    "from pathlib import Path\n",
    "from plotly.subplots import make_subplots"
   ]
  },
  {
   "cell_type": "markdown",
   "metadata": {},
   "source": [
    "## Globals"
   ]
  },
  {
   "cell_type": "code",
   "execution_count": null,
   "metadata": {},
   "outputs": [],
   "source": [
    "dt_format = '%d.%m.%Y %H:%M:%S'\n",
    "save_dir = Path(r\"Q:\\Projekte\\8000-\\8500er\\8596\\8596.36-Mühlestrasse\"\n",
    "    r\"\\05 Berechnungen Grundlagen\\Datenauswertung\\Plots\")"
   ]
  },
  {
   "cell_type": "markdown",
   "metadata": {},
   "source": [
    "## Measurement units"
   ]
  },
  {
   "cell_type": "code",
   "execution_count": null,
   "metadata": {},
   "outputs": [],
   "source": [
    "measurements_units = {\n",
    "    '432': { # data until 07.06!\n",
    "        'name': 'Niveau Pumpensumpf PW Hirsen',\n",
    "        'units': 'cm',\n",
    "        'color': '',\n",
    "        'y_axis': 'y1',\n",
    "    },\n",
    "\n",
    "    '457': { # data until 06.04!\n",
    "        'name': 'Niveau Pumpensumpf PW Sonnenbergstrasse',\n",
    "        'units': 'm',\n",
    "        'color': '',\n",
    "        'y_axis': 'y1',\n",
    "    },\n",
    "\n",
    "    '458': { # OK\n",
    "        'name': 'Niveau Einlaufkammer Absetzbecken',\n",
    "        'units': 'm',\n",
    "        'color': '',\n",
    "        'y_axis': 'y1',\n",
    "    },\n",
    "\n",
    "    '459': { # OK\n",
    "        'name': 'RFB 1 - Niveau 1',\n",
    "        'units': 'm',\n",
    "        'color': '',\n",
    "        'y_axis': 'y1',\n",
    "    },\n",
    "\n",
    "    '460': { # OK\n",
    "        'name': 'RFB 1 - Niveau 2',\n",
    "        'units': 'bar',\n",
    "        'color': '',\n",
    "        'y_axis': 'y1',\n",
    "    },\n",
    "\n",
    "    '461': { # OK\n",
    "        'name': 'RFB 2 - Niveau 1',\n",
    "        'units': 'm',\n",
    "        'color': '',\n",
    "        'y_axis': 'y1',\n",
    "    },\n",
    "\n",
    "    '462': { # no data!\n",
    "        'name': 'RFB 2 - Niveau 2',\n",
    "        'units': 'm',\n",
    "        'color': '',\n",
    "        'y_axis': 'y1',\n",
    "    },\n",
    "\n",
    "    '463': { # no data!\n",
    "        'name': 'Trübung Auslaufbauwerk RB Mühlestrasse',\n",
    "        'units': 'FNU',\n",
    "        'color': '',\n",
    "        'y_axis': 'y3',\n",
    "    },\n",
    "\n",
    "    '464': { # OK\n",
    "        'name': 'Trübung Ablauf Absetzbecken',\n",
    "        'units': 'FNU',\n",
    "        'color': '',\n",
    "        'y_axis': 'y3',\n",
    "    },\n",
    "\n",
    "    '465': { # OK\n",
    "        'name': 'Niveau Auslaufbauwerk RB Mühlestrasse',\n",
    "        'units': 'cm',\n",
    "        'color': '',\n",
    "        'y_axis': 'y1',\n",
    "    },\n",
    "\n",
    "    '466': { # OK\n",
    "        'name': 'Durchflussmessung Auslauf SABA',\n",
    "        'units': 'L/s',\n",
    "        'color': 'blue',\n",
    "        'y_axis': 'y2',\n",
    "    }\n",
    "}\n",
    "\n",
    "measurements_units = uh.(measurements_units)"
   ]
  },
  {
   "cell_type": "markdown",
   "metadata": {},
   "source": [
    "## Rain"
   ]
  },
  {
   "cell_type": "code",
   "execution_count": null,
   "metadata": {},
   "outputs": [],
   "source": [
    "path_rain = Path(r\"Q:\\Projekte\\8000-\\8500er\\8596\\8596.36-Mühlestrasse\"\n",
    "    r\"\\05 Berechnungen Grundlagen\\Regendaten\\Buchrain_10min.csv\")\n",
    "\n",
    "rain = uh.read_raindata_agrometeo(path_rain, resolution='10min')"
   ]
  },
  {
   "cell_type": "markdown",
   "metadata": {},
   "source": [
    "## Pumpwerke"
   ]
  },
  {
   "cell_type": "markdown",
   "metadata": {},
   "source": [
    "### Daten"
   ]
  },
  {
   "cell_type": "code",
   "execution_count": null,
   "metadata": {},
   "outputs": [],
   "source": [
    "ids = ['432', '457']\n",
    "# 432: PW Hirsen\n",
    "# 457: PW Sonnenbergstrasse\n",
    "\n",
    "dt_from = \"01.04.2022 00:00:00\"\n",
    "dt_to = \"20.09.2022 00:00:00\"\n",
    "data = {}\n",
    "for id in ids:\n",
    "    data.update({id: uh.hbtdb_get_data(hbt_id=id, dt_from=dt_from,\n",
    "        dt_to=dt_to)})\n",
    "data['432']['wert'] = data['432']['wert'] / 100 # cm -> m"
   ]
  },
  {
   "cell_type": "markdown",
   "metadata": {},
   "source": [
    "### Analysis"
   ]
  },
  {
   "cell_type": "code",
   "execution_count": null,
   "metadata": {},
   "outputs": [],
   "source": [
    "lvl_hir = 3.1\n",
    "pw_hir = data['432']\n",
    "ent_hir = pw_hir[pw_hir > lvl_hir]\n",
    "ent_hir = ent_hir[(ent_hir.shift(1) < ent_hir) & (ent_hir.shift(-1) < ent_hir)]\n",
    "ent_hir.dropna(inplace=True)\n",
    "print(f'In der Periode wurden {len(ent_hir)} Überläufe detektiert')\n",
    "fig, ax = plt.subplots()\n",
    "ax.plot(pw_hir)\n",
    "ax.scatter(ent_hir.index, ent_hir['wert'], c='r', marker='*')\n",
    "for i, (idx, row) in enumerate(ent_hir.iterrows()):\n",
    "    t = (-1)**(i+1)\n",
    "    t = dt.timedelta(days=t)\n",
    "    ax.annotate(str(i+1), (idx+t, row['wert']+0.1))\n",
    "ax.set_xlabel('Datum')\n",
    "ax.set_ylabel('Niveau [m]')\n",
    "ax.set_ylim(0,4)\n",
    "ax.axhline(y=lvl_hir, color='grey', linestyle=':')\n",
    "ax.annotate(f'Überlauf: {lvl_hir} m', (pw_hir.index[0], lvl_hir*1.02))\n",
    "fig.set_size_inches(12,5)"
   ]
  },
  {
   "cell_type": "code",
   "execution_count": null,
   "metadata": {},
   "outputs": [],
   "source": [
    "ids = ['432', '457']\n",
    "# 432: PW Hirsen\n",
    "# 457: PW Sonnenbergstrasse\n",
    "\n",
    "dt_from = \"01.04.2022 00:00:00\"\n",
    "dt_to = \"20.09.2022 00:00:00\"\n",
    "data = {}\n",
    "for id in ids:\n",
    "    data.update({id: uh.hbtdb_get_data(hbt_id=id, dt_from=dt_from,\n",
    "        dt_to=dt_to)})\n",
    "data['432']['wert'] = data['432']['wert'] / 100 # cm -> m"
   ]
  },
  {
   "cell_type": "markdown",
   "metadata": {},
   "source": [
    "### Plot"
   ]
  },
  {
   "cell_type": "code",
   "execution_count": null,
   "metadata": {},
   "outputs": [],
   "source": [
    "fig = go.Figure()\n",
    "id = '432'\n",
    "fig.add_trace(go.Scatter(x=data[id].index, y=data[id]['wert'],\n",
    "    name=measurements_units.loc[id]['name'], opacity=1))\n",
    "\n",
    "id = '457'\n",
    "fig.add_trace(go.Scatter(x=data[id].index, y=data[id]['wert'],\n",
    "    name=measurements_units.loc[id]['name']))\n",
    "\n",
    "fig.update_layout(\n",
    "    title='Pumpwerke',\n",
    "    xaxis_title=\"Datum\",\n",
    "    yaxis_title=\"Niveau [m]\",\n",
    ")\n",
    "\n",
    "fig.add_hline(y=3.3, line_color='red', line_dash='dash')\n",
    "\n",
    "file_path = save_dir / ('Pumpwerke.html')\n",
    "fig.write_html(file_path)"
   ]
  },
  {
   "cell_type": "code",
   "execution_count": null,
   "metadata": {},
   "outputs": [],
   "source": []
  },
  {
   "cell_type": "markdown",
   "metadata": {},
   "source": [
    "## SABA"
   ]
  },
  {
   "cell_type": "markdown",
   "metadata": {},
   "source": [
    "### Parameters"
   ]
  },
  {
   "cell_type": "code",
   "execution_count": null,
   "metadata": {},
   "outputs": [],
   "source": [
    "Dh_rfb1 = 1.74587 # m, average when no rain 17 - 20.06.22\n",
    "Dh_rfb2 = 0.92158 # m, average when no rain 17 - 20.06.22\n",
    "A_rfb1 = 150 # m2\n",
    "A_rfb2 = 150 # m2\n",
    "\n",
    "rain_ev1_start = [\n",
    "    '15.06.2022 18:19:36',\n",
    "    '22.06.2022 21:34:39',\n",
    "    '24.06.2022 17:39:53',\n",
    "    '25.06.2022 04:54:57',\n",
    "]\n",
    "rain_ev1_start = uh.list_to_dt(rain_ev1_start)\n",
    "\n",
    "rain_ev2_start = [\n",
    "    '27.06.2022 20:19:38',\n",
    "    '01.07.2022 04:07:38',\n",
    "    '01.07.2022 09:26:38'\n",
    "]\n",
    "rain_ev2_start = uh.list_to_dt(rain_ev2_start)\n",
    "\n",
    "rain_ev1_end = [\n",
    "    '15.06.2022 18:42:37',\n",
    "    '22.06.2022 21:55:37',\n",
    "    '24.06.2022 18:08:53',\n",
    "    '25.06.2022 05:46:57'\n",
    "]\n",
    "rain_ev1_end = uh.list_to_dt(rain_ev1_end)\n",
    "\n",
    "rain_ev2_end = [\n",
    "    '27.06.2022 21:21:38',\n",
    "    '01.7.2022 07:13:38',\n",
    "    '01.07.2022 15:46:38'\n",
    "]\n",
    "rain_ev2_end = uh.list_to_dt(rain_ev2_end)\n",
    "\n",
    "n1 = len(rain_ev1_start)"
   ]
  },
  {
   "cell_type": "markdown",
   "metadata": {},
   "source": [
    "### Data"
   ]
  },
  {
   "cell_type": "code",
   "execution_count": null,
   "metadata": {},
   "outputs": [],
   "source": [
    "ids = ['459', '461']\n",
    "\n",
    "dt_from = dt.strptime(\"01.10.2021 00:00:00\", dt_format)\n",
    "dt_to = dt.strptime(\"11.07.2022 00:00:00\", dt_format)\n",
    "data = {}\n",
    "for id in ids:\n",
    "        data.update({id: uh.hbtdb_get_data(hbt_id=id, dt_from=dt_from,\n",
    "            dt_to=dt_to)})\n",
    "data['459'] = (data['459'] - Dh_rfb1) * (-1)\n",
    "data['461'] = (data['461'] - Dh_rfb2) * (-1)"
   ]
  },
  {
   "cell_type": "markdown",
   "metadata": {},
   "source": [
    "### Plot"
   ]
  },
  {
   "cell_type": "markdown",
   "metadata": {},
   "source": [
    "#### RFB 1"
   ]
  },
  {
   "cell_type": "code",
   "execution_count": null,
   "metadata": {},
   "outputs": [],
   "source": [
    "# Read data\n",
    "lvl1 = 459\n",
    "lvl2 = 460\n",
    "lvl_asb = 458\n",
    "\n",
    "dt_start = '12.10.2022 10:00:00'\n",
    "dt_end = '01.11.2022 00:00:00'\n",
    "\n",
    "ts_lvl1 = uh.hbtdb_get_data(lvl1, dt_start, dt_end)\n",
    "ts_lvl2 = uh.hbtdb_get_data(lvl2, dt_start, dt_end)\n",
    "ts_asb = uh.hbtdb_get_data(lvl_asb, dt_start, dt_end)\n",
    "\n",
    "# Shift and invert data\n",
    "ts_lvl1 = (ts_lvl1 - 1.73) * -1 * 100\n",
    "ts_asb = (ts_asb - 4.43) * -1"
   ]
  },
  {
   "cell_type": "code",
   "execution_count": null,
   "metadata": {},
   "outputs": [],
   "source": [
    "fig = go.Figure()\n",
    "fig.add_trace(go.Scatter(x=ts_lvl1.index, y=ts_lvl1['wert'],\n",
    "    name='Niveau RFB1'))\n",
    "fig.add_trace(go.Scatter(x=ts_asb.index, y=ts_asb['wert'],\n",
    "    name='Niveau ASB'))\n",
    "fig.update_xaxes(title='Zeit')\n",
    "fig.update_yaxes(title='Niveau [cm]')\n",
    "fig.update_layout(title='Niveau RFB1')\n",
    "\n",
    "save_path = save_dir / 'rfb1.html'\n",
    "fig.write_html(save_path)"
   ]
  },
  {
   "cell_type": "code",
   "execution_count": null,
   "metadata": {},
   "outputs": [],
   "source": [
    "dates = ['2022-06-14', '2022-06-27', '2022-07-04']\n",
    "colors = ['red', 'green']\n",
    "\n",
    "fig = make_subplots(specs=[[{\"secondary_y\": False}]])\n",
    "for i, id in enumerate(ids):\n",
    "    fig.add_trace(go.Scatter(x=data[id].index, y=data[id]['wert'],\n",
    "        name=measurements_units.loc[id]['name'], marker_color=colors[i]))\n",
    "\n",
    "fig.add_vrect(x0=dates[0], x1=dates[1], row=\"all\", col=1, \n",
    "    annotation_text=\"Beschickung RFB 1\", annotation_position=\"top left\",\n",
    "    fillcolor=colors[0], opacity=0.2, line_width=1, line_color='black')\n",
    "\n",
    "fig.add_vrect(x0=dates[1], x1=dates[2], row=\"all\", col=1, \n",
    "    annotation_text=\"Beschickung RFB 2\", annotation_position=\"top left\",\n",
    "    fillcolor=colors[1], opacity=0.2, line_width=1, line_color='black')\n",
    "\n",
    "ax = -30\n",
    "ay = -30\n",
    "for i, rev in enumerate(rain_ev1_start):\n",
    "    fig.add_annotation(x=rev, y=data['459'].loc[rev].values[0],\n",
    "        text=f'Ereignis {i+1}', showarrow=True, ax=ax, ay=ay)\n",
    "\n",
    "for i, rev in enumerate(rain_ev2_start):\n",
    "    if i == len(rain_ev2_end) - 1:\n",
    "        ax = 0\n",
    "        ay = -60\n",
    "    fig.add_annotation(x=rev, y=data['461'].loc[rev].values[0],\n",
    "        text=f'Ereignis {n1+1+i}', showarrow=True, ax=ax, ay=ay)\n",
    "\n",
    "fig.update_layout(\n",
    "    title='Niveaus SABA',\n",
    "    xaxis_title=\"Datum\",\n",
    "    yaxis_title=\"Niveau [m]\",\n",
    ")\n",
    "\n",
    "file_path = save_dir / ('Niveaus-SABA.html')\n",
    "fig.write_html(file_path)"
   ]
  },
  {
   "cell_type": "markdown",
   "metadata": {},
   "source": [
    "### Calculations"
   ]
  },
  {
   "cell_type": "code",
   "execution_count": null,
   "metadata": {},
   "outputs": [],
   "source": [
    "def filter_leistung(dt_start, dt_end, ts_data):\n",
    "    h_start = ts_data.loc[dt_start].values[0]\n",
    "    h_end = ts_data.loc[dt_end].values[0]\n",
    "    delta_t = (dt_end - dt_start).total_seconds() / 60 # min\n",
    "    delta_h = (h_start - h_end) * 1e3\n",
    "\n",
    "    return delta_h / delta_t\n",
    "\n",
    "columns = ['Ereignis', 'Start', 'Ende', 'Filter Leistung']\n",
    "df_res1 = pd.DataFrame(columns=columns)\n",
    "for i, el in enumerate(rain_ev1_start):\n",
    "    dt_start = rain_ev1_start[i]\n",
    "    dt_end = rain_ev1_end[i]\n",
    "    fl = filter_leistung(dt_start, dt_end, data['459'])\n",
    "    df_res1.loc[i] = [f'Ereignis {i+1}', dt_start.strftime(dt_format),\n",
    "        dt_end.strftime(dt_format), f'{fl:0.1f}']\n",
    "df_res1.set_index('Ereignis', inplace=True)\n",
    "\n",
    "df_res2 = pd.DataFrame(columns=columns)\n",
    "for i, el in enumerate(rain_ev2_start):\n",
    "    dt_start = rain_ev2_start[i]\n",
    "    dt_end = rain_ev2_end[i]\n",
    "    fl = filter_leistung(dt_start, dt_end, data['461'])\n",
    "    df_res2.loc[i] = [f'Ereignis {n1+1+i}', dt_start.strftime(dt_format),\n",
    "        dt_end.strftime(dt_format), f'{fl:0.1f}']\n",
    "df_res2.set_index('Ereignis', inplace=True)"
   ]
  },
  {
   "cell_type": "code",
   "execution_count": null,
   "metadata": {},
   "outputs": [],
   "source": [
    "df_res1"
   ]
  }
 ],
 "metadata": {
  "kernelspec": {
   "display_name": "Python 3.10.8 ('venv': venv)",
   "language": "python",
   "name": "python3"
  },
  "language_info": {
   "codemirror_mode": {
    "name": "ipython",
    "version": 3
   },
   "file_extension": ".py",
   "mimetype": "text/x-python",
   "name": "python",
   "nbconvert_exporter": "python",
   "pygments_lexer": "ipython3",
   "version": "3.10.8"
  },
  "orig_nbformat": 4,
  "vscode": {
   "interpreter": {
    "hash": "fcbcf634104c4732b8439a3fb9bd2e33824138a0380f5d18bd4ad379b42013a3"
   }
  }
 },
 "nbformat": 4,
 "nbformat_minor": 2
}
