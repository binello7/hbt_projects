{
 "cells": [
  {
   "cell_type": "markdown",
   "metadata": {},
   "source": [
    "# Imports"
   ]
  },
  {
   "cell_type": "code",
   "execution_count": null,
   "metadata": {},
   "outputs": [],
   "source": [
    "import pandas as pd\n",
    "import plotly.graph_objects as go\n",
    "import plotly.express as px\n",
    "from plotly.subplots import make_subplots\n",
    "from pathlib import Path\n",
    "from hbt_tools import plots as hp"
   ]
  },
  {
   "cell_type": "markdown",
   "metadata": {},
   "source": [
    "# Functions"
   ]
  },
  {
   "cell_type": "code",
   "execution_count": null,
   "metadata": {},
   "outputs": [],
   "source": [
    "def print_stats(df, col):\n",
    "    data = df.iloc[:, col]\n",
    "    max_val = data.max()\n",
    "    min_val = data.min()\n",
    "    std_val = data.std()\n",
    "\n",
    "    name = df.columns[col]\n",
    "    ul = len(name) * '-'\n",
    "    print(f\"{name}\")\n",
    "    print(ul)\n",
    "    print(f\"max: {max_val}\")\n",
    "    print(f\"min: {min_val}\")\n",
    "    print(f\"std: {std_val}\\n\")\n",
    "#-------------------------------------------------------------------------------\n",
    "\n",
    "def hist_flow(\n",
    "    ts_flow: pd.DataFrame,\n",
    "    cols: list,\n",
    "    title,\n",
    "    names = ['Venturi', 'Nivus'],\n",
    "    ):\n",
    "    fig = make_subplots(rows=1, cols=len(cols), shared_yaxes=True)\n",
    "\n",
    "    for i, col in enumerate(cols):\n",
    "        fig.add_histogram(x=ts_flow.iloc[:,col], row=1, col=i+1, name=names[i])\n",
    "\n",
    "    fig.update_layout(title_text=title)\n",
    "    \n",
    "    return fig\n",
    "#-------------------------------------------------------------------------------\n",
    "\n",
    "def filter_ts(ts, date_from, date_to):\n",
    "    if not date_to:\n",
    "        ts = ts[(ts.index>=date_from)]\n",
    "    elif not date_from:\n",
    "        ts = ts[(ts.index<date_to)]\n",
    "    else:\n",
    "        ts = ts[(ts.index>=date_from) & (ts.index<date_to)]\n",
    "\n",
    "    return ts\n",
    "#-------------------------------------------------------------------------------\n",
    "\n",
    "def abs_diff(df1, df2):\n",
    "    f = 60 / 1000\n",
    "    d_sum1 = df1.groupby(pd.Grouper(freq='d')).sum() * f\n",
    "    d_sum2 = df2.groupby(pd.Grouper(freq='d')).sum() * f\n",
    "\n",
    "    abs_diff = d_sum1 - d_sum2\n",
    "\n",
    "    return abs_diff\n",
    "#-------------------------------------------------------------------------------\n",
    "\n",
    "def perc_diff(df1, df2):\n",
    "    f = 60 / 1000\n",
    "    d_sum1 = df1.groupby(pd.Grouper(freq='d')).sum() * f\n",
    "    d_sum2 = df2.groupby(pd.Grouper(freq='d')).sum() * f\n",
    "\n",
    "    perc_diff = (d_sum1 - d_sum2) / d_sum1 * 100\n",
    "\n",
    "    return perc_diff"
   ]
  },
  {
   "cell_type": "markdown",
   "metadata": {},
   "source": [
    "# Parameters"
   ]
  },
  {
   "cell_type": "code",
   "execution_count": null,
   "metadata": {},
   "outputs": [],
   "source": [
    "path_data = Path(r\"H:\\2 Projekte\\8000-\\8500er\\8532\\8532.14 Richterswil Beratung \"\n",
    "    r\"Aussenbauwerke\\05 Berechnungen Grundlagen\\Zulauf Nivus-Venturi\"\n",
    "    r\"\\Daten_Nivus-Venturi.xlsx\")\n",
    "save_dir = Path(r\"H:\\2 Projekte\\8000-\\8500er\\8532\\8532.14 Richterswil Beratung \"\n",
    "    r\"Aussenbauwerke\\05 Berechnungen Grundlagen\\Zulauf Nivus-Venturi\")"
   ]
  },
  {
   "cell_type": "markdown",
   "metadata": {},
   "source": [
    "# Read Data"
   ]
  },
  {
   "cell_type": "code",
   "execution_count": null,
   "metadata": {},
   "outputs": [],
   "source": [
    "data = pd.read_excel(path_data)\n",
    "data.set_index(data.columns[0], inplace=True)"
   ]
  },
  {
   "cell_type": "code",
   "execution_count": null,
   "metadata": {},
   "outputs": [],
   "source": [
    "# mask negative values\n",
    "mask = data < 0\n",
    "data[mask] = float('nan')\n",
    "\n",
    "# mask unplausible values\n",
    "mask = data > 150\n",
    "data[mask] = float('nan')"
   ]
  },
  {
   "cell_type": "markdown",
   "metadata": {},
   "source": [
    "# Plots"
   ]
  },
  {
   "cell_type": "markdown",
   "metadata": {},
   "source": [
    "## Comparison Nivus / Venturi"
   ]
  },
  {
   "cell_type": "code",
   "execution_count": null,
   "metadata": {},
   "outputs": [],
   "source": [
    "fig = go.Figure()\n",
    "fig.add_trace(go.Scatter(x=data.index, y=data.iloc[:,0], name='Venturi'))\n",
    "fig.add_trace(go.Scatter(x=data.index, y=data.iloc[:,1], name='Nivus'))\n",
    "\n",
    "fig.update_xaxes(title='Datum')\n",
    "fig.update_yaxes(title='Durchfluss [l/s]')\n",
    "\n",
    "fig.update_layout(\n",
    "    title='Zulauf Berg',\n",
    "    font=dict(size=25)\n",
    ")"
   ]
  },
  {
   "cell_type": "code",
   "execution_count": null,
   "metadata": {},
   "outputs": [],
   "source": [
    "save_path = save_dir / 'Zulauf-Berg.html'\n",
    "fig.write_html(save_path)"
   ]
  },
  {
   "cell_type": "code",
   "execution_count": null,
   "metadata": {},
   "outputs": [],
   "source": [
    "fig = go.Figure()\n",
    "fig.add_trace(go.Scatter(x=data.index, y=data.iloc[:,2], name='Venturi'))\n",
    "fig.add_trace(go.Scatter(x=data.index, y=data.iloc[:,3], name='Nivus'))\n",
    "\n",
    "fig.update_xaxes(title='Datum')\n",
    "fig.update_yaxes(title='Durchfluss [l/s]')\n",
    "\n",
    "fig.update_layout(\n",
    "    title='Zulauf See',\n",
    "    font=dict(size=25)\n",
    ")"
   ]
  },
  {
   "cell_type": "code",
   "execution_count": null,
   "metadata": {},
   "outputs": [],
   "source": [
    "save_path = save_dir / 'Zulauf-See.html'\n",
    "fig.write_html(save_path)"
   ]
  },
  {
   "cell_type": "markdown",
   "metadata": {},
   "source": [
    "## Comparison Berg / See"
   ]
  },
  {
   "cell_type": "code",
   "execution_count": null,
   "metadata": {},
   "outputs": [],
   "source": [
    "fig = make_subplots(rows=2, cols=1, shared_xaxes=True,\n",
    "    subplot_titles=['Zulauf Venturi', 'Zulauf Nivus'])\n",
    "\n",
    "fig.add_trace(go.Scatter(x=data.index, y=data.iloc[:,0], name='Venturi Berg'), \n",
    "    row=1, col=1)\n",
    "fig.add_trace(go.Scatter(x=data.index, y=data.iloc[:,2], name='Venturi See'),\n",
    "    row=1, col=1)\n",
    "\n",
    "fig.add_trace(go.Scatter(x=data.index, y=data.iloc[:,1], name='Nivus Berg'),\n",
    "    row=2, col=1)\n",
    "fig.add_trace(go.Scatter(x=data.index, y=data.iloc[:,3], name='Nivus See'),\n",
    "    row=2, col=1)\n",
    "\n",
    "fig.update_xaxes(title='Datum', row=2, col=1)\n",
    "fig.update_yaxes(title='Durchfluss [l/s]')\n",
    "\n",
    "fig.update_layout(\n",
    "    font=dict(size=25)\n",
    ")\n",
    "\n",
    "fig.update_annotations(\n",
    "    font_size=28\n",
    ")"
   ]
  },
  {
   "cell_type": "code",
   "execution_count": null,
   "metadata": {},
   "outputs": [],
   "source": [
    "save_path = save_dir / 'Zulauf_Venturi-Nivus.html'\n",
    "fig.write_html(save_path)"
   ]
  },
  {
   "cell_type": "markdown",
   "metadata": {},
   "source": [
    "## Comparison Flow / Deviation"
   ]
  },
  {
   "cell_type": "code",
   "execution_count": null,
   "metadata": {},
   "outputs": [],
   "source": [
    "# Berg\n",
    "diff_berg = pd.DataFrame(data.iloc[:,0] - data.iloc[:,1])\n",
    "mask = diff_berg.abs() > 30\n",
    "diff_berg[mask] = float('nan')\n",
    "\n",
    "df = pd.DataFrame(data.iloc[:,0])\n",
    "\n",
    "save_path = save_dir / 'Diff_Berg.html'\n",
    "fig = hp.ply_2y([df], [diff_berg], names=['Durchfluss Venturi', 'Abweichung Venturi-Nivus'],\n",
    "    xlabel='Zeit', ylabels=['Durchfluss [l/s]', 'Delta Durchfluss [l/s]'], title='Abweichung Berg',\n",
    "    save_path=save_path)\n",
    "fig"
   ]
  },
  {
   "cell_type": "code",
   "execution_count": null,
   "metadata": {},
   "outputs": [],
   "source": [
    "# See\n",
    "diff_see = pd.DataFrame(data.iloc[:,2] - data.iloc[:,3])\n",
    "mask = diff_see.abs() > 30\n",
    "diff_see[mask] = float('nan')\n",
    "\n",
    "df = pd.DataFrame(data.iloc[:,2])\n",
    "\n",
    "save_path = save_dir / 'Diff_See.html'\n",
    "fig = hp.ply_2y([df], [diff_see], names=['Durchfluss Venturi', 'Abweichung Venturi-Nivus'],\n",
    "    xlabel='Zeit', ylabels=['Durchfluss [l/s]', 'Delta Durchfluss [l/s]'], title='Abweichung See',\n",
    "    save_path=save_path)\n",
    "fig"
   ]
  },
  {
   "cell_type": "markdown",
   "metadata": {},
   "source": [
    "## Scatter Plot"
   ]
  },
  {
   "cell_type": "code",
   "execution_count": null,
   "metadata": {},
   "outputs": [],
   "source": [
    "# Berg\n",
    "size = 900\n",
    "fig = px.scatter(x=data.iloc[:,0], y=data.iloc[:,1])\n",
    "fig.add_shape(type='line', x0=0, y0=0, x1=140, y1=140, line=dict(dash='dash'))\n",
    "\n",
    "fig.update_xaxes(title='Venturi Berg [l/s]')\n",
    "fig.update_yaxes(title='Nivus Berg [l/s]')\n",
    "\n",
    "fig.update_layout(\n",
    "    font=dict(size=25),\n",
    "    autosize=False,\n",
    "    width=size,\n",
    "    height=size\n",
    ")\n",
    "\n",
    "fig.update_yaxes(\n",
    "    scaleanchor=\"x\",\n",
    "    scaleratio=1,\n",
    ")"
   ]
  },
  {
   "cell_type": "code",
   "execution_count": null,
   "metadata": {},
   "outputs": [],
   "source": [
    "save_path = save_dir / 'Scatter_Berg.html'\n",
    "fig.write_html(save_path)"
   ]
  },
  {
   "cell_type": "code",
   "execution_count": null,
   "metadata": {},
   "outputs": [],
   "source": [
    "# See\n",
    "size = 900\n",
    "fig = px.scatter(x=data.iloc[:,2], y=data.iloc[:,3])\n",
    "fig.add_shape(type='line', x0=0, y0=0, x1=140, y1=140, line=dict(dash='dash'))\n",
    "\n",
    "fig.update_xaxes(title='Venturi See [l/s]')\n",
    "fig.update_yaxes(title='Nivus See [l/s]')\n",
    "\n",
    "fig.update_layout(\n",
    "    font=dict(size=25),\n",
    "    autosize=False,\n",
    "    width=size,\n",
    "    height=size\n",
    ")\n",
    "\n",
    "fig.update_yaxes(\n",
    "    scaleanchor=\"x\",\n",
    "    scaleratio=1,\n",
    ")"
   ]
  },
  {
   "cell_type": "code",
   "execution_count": null,
   "metadata": {},
   "outputs": [],
   "source": [
    "save_path = save_dir / 'Scatter_See.html'\n",
    "fig.write_html(save_path)"
   ]
  },
  {
   "cell_type": "markdown",
   "metadata": {},
   "source": [
    "## Daily Totals Absolute"
   ]
  },
  {
   "cell_type": "code",
   "execution_count": null,
   "metadata": {},
   "outputs": [],
   "source": [
    "day_sum = data.groupby(pd.Grouper(freq='d')).sum() * (60 / 1000) # m3\n",
    "abs_diff_berg = abs_diff(data.iloc[:,0], data.iloc[:,1])\n",
    "abs_diff_see = abs_diff(data.iloc[:,2], data.iloc[:,3])"
   ]
  },
  {
   "cell_type": "code",
   "execution_count": null,
   "metadata": {},
   "outputs": [],
   "source": [
    "# Berg\n",
    "fig = make_subplots(rows=3, cols=1, shared_xaxes=True)\n",
    "fig.add_trace(go.Scatter(x=day_sum.index, y=day_sum.iloc[:,0], name='Venturi Berg'),\n",
    "    row=1, col=1)\n",
    "fig.add_trace(go.Scatter(x=day_sum.index, y=day_sum.iloc[:,1], name='Nivus Berg'),\n",
    "    row=2, col=1)\n",
    "fig.add_trace(go.Scatter(x=abs_diff_berg.index, y=abs_diff_berg.values, name='Abweichung (abs) Berg'),\n",
    "    row=3, col=1)\n",
    "\n",
    "fig.update_xaxes(title='Datum', row=3, col=1)\n",
    "fig.update_yaxes(title='Tagessumme [m3]')\n",
    "fig.update_yaxes(title='Abweichung [m3]', row=3, col=1)\n",
    "\n",
    "fig.update_layout(\n",
    "    font=dict(size=22)\n",
    ")\n",
    "\n",
    "save_path = save_dir / 'Tagessummen_Berg_abs.html'\n",
    "fig.write_html(save_path)"
   ]
  },
  {
   "cell_type": "code",
   "execution_count": null,
   "metadata": {},
   "outputs": [],
   "source": [
    "# See\n",
    "fig = make_subplots(rows=3, cols=1, shared_xaxes=True)\n",
    "fig.add_trace(go.Scatter(x=day_sum.index, y=day_sum.iloc[:,2], name='Venturi See'),\n",
    "    row=1, col=1)\n",
    "fig.add_trace(go.Scatter(x=day_sum.index, y=day_sum.iloc[:,3], name='Nivus See'),\n",
    "    row=2, col=1)\n",
    "fig.add_trace(go.Scatter(x=abs_diff_see.index, y=abs_diff_see.values, name='Abweichung (abs) See'),\n",
    "    row=3, col=1)\n",
    "\n",
    "fig.update_xaxes(title='Datum', row=3, col=1)\n",
    "fig.update_yaxes(title='Tagessumme [m3]')\n",
    "fig.update_yaxes(title='Abweichung [m3]', row=3, col=1)\n",
    "\n",
    "fig.update_layout(\n",
    "    font=dict(size=22)\n",
    ")\n",
    "\n",
    "save_path = save_dir / 'Tagessummen_See_abs.html'\n",
    "fig.write_html(save_path)"
   ]
  },
  {
   "cell_type": "markdown",
   "metadata": {},
   "source": [
    "## Daily Totals Relative"
   ]
  },
  {
   "cell_type": "code",
   "execution_count": null,
   "metadata": {},
   "outputs": [],
   "source": [
    "rel_diff_berg = perc_diff(data.iloc[:,0], data.iloc[:,1])\n",
    "rel_diff_see = perc_diff(data.iloc[:,2], data.iloc[:,3])"
   ]
  },
  {
   "cell_type": "code",
   "execution_count": null,
   "metadata": {},
   "outputs": [],
   "source": [
    "# Berg\n",
    "fig = make_subplots(rows=3, cols=1, shared_xaxes=True)\n",
    "fig.add_trace(go.Scatter(x=day_sum.index, y=day_sum.iloc[:,0], name='Venturi Berg'),\n",
    "    row=1, col=1)\n",
    "fig.add_trace(go.Scatter(x=day_sum.index, y=day_sum.iloc[:,1], name='Nivus Berg'),\n",
    "    row=2, col=1)\n",
    "fig.add_trace(go.Scatter(x=rel_diff_berg.index, y=rel_diff_berg.values, name='Abweichung (rel) Berg'),\n",
    "    row=3, col=1)\n",
    "\n",
    "fig.update_xaxes(title='Datum', row=3, col=1)\n",
    "fig.update_yaxes(title='Tagessumme [m3]')\n",
    "fig.update_yaxes(title='Abweichung [%]', row=3, col=1)\n",
    "\n",
    "fig.update_layout(\n",
    "    font=dict(size=22)\n",
    ")\n",
    "\n",
    "save_path = save_dir / 'Tagessummen_Berg_rel.html'\n",
    "fig.write_html(save_path)"
   ]
  },
  {
   "cell_type": "code",
   "execution_count": null,
   "metadata": {},
   "outputs": [],
   "source": [
    "# See\n",
    "fig = make_subplots(rows=3, cols=1, shared_xaxes=True)\n",
    "fig.add_trace(go.Scatter(x=day_sum.index, y=day_sum.iloc[:,2], name='Venturi See'),\n",
    "    row=1, col=1)\n",
    "fig.add_trace(go.Scatter(x=day_sum.index, y=day_sum.iloc[:,3], name='Nivus See'),\n",
    "    row=2, col=1)\n",
    "fig.add_trace(go.Scatter(x=rel_diff_see.index, y=rel_diff_see.values, name='Abweichung (rel) See'),\n",
    "    row=3, col=1)\n",
    "\n",
    "fig.update_xaxes(title='Datum', row=3, col=1)\n",
    "fig.update_yaxes(title='Tagessumme [m3]')\n",
    "fig.update_yaxes(title='Abweichung [%]', row=3, col=1)\n",
    "\n",
    "fig.update_layout(\n",
    "    font=dict(size=22)\n",
    ")\n",
    "\n",
    "save_path = save_dir / 'Tagessummen_See_rel.html'\n",
    "fig.write_html(save_path)"
   ]
  },
  {
   "cell_type": "markdown",
   "metadata": {},
   "source": [
    "## Histrograms"
   ]
  },
  {
   "cell_type": "code",
   "execution_count": null,
   "metadata": {},
   "outputs": [],
   "source": [
    "# Berg\n",
    "fig = hist_flow(data, cols=[0, 1], title='Histogramm Berg')\n",
    "fig.update_layout(\n",
    "    font=dict(size=25)\n",
    ")"
   ]
  },
  {
   "cell_type": "code",
   "execution_count": null,
   "metadata": {},
   "outputs": [],
   "source": [
    "save_path = save_dir / 'Histogramm-Berg.html'\n",
    "fig.write_html(save_path)"
   ]
  },
  {
   "cell_type": "code",
   "execution_count": null,
   "metadata": {},
   "outputs": [],
   "source": [
    "# See\n",
    "fig = hist_flow(data, cols=[2, 3], title='Histogramm See')\n",
    "fig.update_layout(\n",
    "    font=dict(size=25)\n",
    ")"
   ]
  },
  {
   "cell_type": "code",
   "execution_count": null,
   "metadata": {},
   "outputs": [],
   "source": [
    "save_path = save_dir / 'Histogramm-See.html'\n",
    "fig.write_html(save_path)"
   ]
  },
  {
   "cell_type": "markdown",
   "metadata": {},
   "source": [
    "# Stats"
   ]
  },
  {
   "cell_type": "code",
   "execution_count": null,
   "metadata": {},
   "outputs": [],
   "source": [
    "# Gesamtsumme Berg / See\n",
    "data.sum() * 60 / 1000"
   ]
  },
  {
   "cell_type": "code",
   "execution_count": null,
   "metadata": {},
   "outputs": [],
   "source": [
    "for i in range(len(data.columns)):\n",
    "    print_stats(data, i)"
   ]
  },
  {
   "cell_type": "markdown",
   "metadata": {},
   "source": [
    "# Compute TW"
   ]
  },
  {
   "cell_type": "code",
   "execution_count": null,
   "metadata": {},
   "outputs": [],
   "source": [
    "date_format = '%d.%m.%Y %H:%M'\n",
    "date_from = pd.to_datetime('20.08.2023 00:00')\n",
    "date_to = pd.to_datetime('24.08.2023 00:00')\n",
    "delta_t = date_to - date_from\n",
    "\n",
    "q_ara = pd.DataFrame(data.iloc[:,2] + data.iloc[:,3])\n",
    "q_ara = filter_ts(q_ara, date_from, date_to)\n",
    "q_tw = float(q_ara.sum() * 60 / delta_t.total_seconds())\n",
    "\n",
    "print(f\"QTW: {q_tw:0.2f} l/s\")"
   ]
  }
 ],
 "metadata": {
  "kernelspec": {
   "display_name": "hbt_projects",
   "language": "python",
   "name": "python3"
  },
  "language_info": {
   "codemirror_mode": {
    "name": "ipython",
    "version": 3
   },
   "file_extension": ".py",
   "mimetype": "text/x-python",
   "name": "python",
   "nbconvert_exporter": "python",
   "pygments_lexer": "ipython3",
   "version": "3.11.0"
  },
  "orig_nbformat": 4
 },
 "nbformat": 4,
 "nbformat_minor": 2
}
