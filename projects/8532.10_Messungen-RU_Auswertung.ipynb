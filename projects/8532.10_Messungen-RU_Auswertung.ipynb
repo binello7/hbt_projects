{
 "cells": [
  {
   "attachments": {},
   "cell_type": "markdown",
   "metadata": {},
   "source": [
    "## Imports"
   ]
  },
  {
   "cell_type": "code",
   "execution_count": 76,
   "metadata": {},
   "outputs": [],
   "source": [
    "import pandas as pd\n",
    "import plotly.graph_objects as go\n",
    "from datetime import datetime as dt\n",
    "from pathlib import Path"
   ]
  },
  {
   "attachments": {},
   "cell_type": "markdown",
   "metadata": {},
   "source": [
    "## Settings"
   ]
  },
  {
   "cell_type": "code",
   "execution_count": 77,
   "metadata": {},
   "outputs": [],
   "source": [
    "file_path = Path(r\"Q:\\Projekte\\8000-\\8500er\\8532\\8532.10 GEP Richterswil\"\n",
    "    r\"\\05 Berechnungen Grundlagen\\13 Nachrüstung RÜ\\Report_2023-05-26.xlsx\")\n",
    "\n",
    "save_dir = Path(r\"Q:\\Projekte\\8000-\\8500er\\8532\\8532.10 GEP Richterswil\"\n",
    "    r\"\\05 Berechnungen Grundlagen\\13 Nachrüstung RÜ\\Auswertung_Messungen\")\n",
    "\n",
    "prop_dict = {\n",
    "    'Niveau HE Schulstrasse [cm]': {\n",
    "        'datum_ok': dt(2023, 3, 1, 16),\n",
    "        'h_entlastung': 121\n",
    "    },\n",
    "\n",
    "    'Niveau HE Löchliweg [cm]': {\n",
    "        'datum_ok': dt(2000, 1, 1),\n",
    "        'h_entlastung': 37\n",
    "    },\n",
    "\n",
    "    'Niveau HE Bodenstrasse [cm]': {\n",
    "        'datum_ok': dt(2023, 3, 23, 9, 30),\n",
    "        'h_entlastung': 30\n",
    "    },\n",
    "\n",
    "    'Niveau HE Mülenen [cm]': {\n",
    "        'datum_ok': dt(2023, 3, 23, 16),\n",
    "        'h_entlastung': 0\n",
    "    }\n",
    "}"
   ]
  },
  {
   "attachments": {},
   "cell_type": "markdown",
   "metadata": {},
   "source": [
    "## Read data"
   ]
  },
  {
   "cell_type": "code",
   "execution_count": 78,
   "metadata": {},
   "outputs": [],
   "source": [
    "df = pd.read_excel(file_path)\n",
    "df.set_index(df.columns[0], inplace=True)"
   ]
  },
  {
   "attachments": {},
   "cell_type": "markdown",
   "metadata": {},
   "source": [
    "## Plots"
   ]
  },
  {
   "cell_type": "code",
   "execution_count": 79,
   "metadata": {},
   "outputs": [],
   "source": [
    "# Alle Messungen zusammen\n",
    "fig = go.Figure()\n",
    "for c in prop_dict.keys():\n",
    "    data = df[c]\n",
    "\n",
    "    # filter by date\n",
    "    filter = prop_dict[c]['datum_ok']\n",
    "    data = data[data.index >= filter]\n",
    "    \n",
    "    fig.add_trace(go.Scatter(x=data.index, y=data.iloc[:], name=c))\n",
    "\n",
    "fig.update_xaxes(title='Zeit')\n",
    "fig.update_yaxes(title='Niveau [cm]')\n",
    "\n",
    "save_path = save_dir / 'Messungen-RU_Auswertung.html'\n",
    "fig.write_html(save_path)"
   ]
  },
  {
   "cell_type": "code",
   "execution_count": 82,
   "metadata": {},
   "outputs": [],
   "source": [
    "# 1 Plot / Messung\n",
    "for c in prop_dict.keys():\n",
    "    fig = go.Figure()\n",
    "    data = df[c]\n",
    "\n",
    "    # filter by date\n",
    "    filter = prop_dict[c]['datum_ok']\n",
    "    data = data[data.index >= filter]\n",
    "    x = data.index\n",
    "    \n",
    "    h_entl = prop_dict[c]['h_entlastung']\n",
    "    \n",
    "    fig.add_trace(go.Scatter(x=x, y=data.iloc[:], name=c))\n",
    "    fig.add_hline(y=h_entl, line_width=0.5)\n",
    "    fig.add_annotation(x=x[-1], y=h_entl, text=f'Entlastung = {h_entl} cm')\n",
    "\n",
    "    fig.update_xaxes(title='Zeit')\n",
    "    fig.update_yaxes(title='Niveau [cm]')\n",
    "\n",
    "    save_path = save_dir / (c + '.html')\n",
    "    fig.write_html(save_path)"
   ]
  }
 ],
 "metadata": {
  "kernelspec": {
   "display_name": "hbt_projects",
   "language": "python",
   "name": "python3"
  },
  "language_info": {
   "codemirror_mode": {
    "name": "ipython",
    "version": 3
   },
   "file_extension": ".py",
   "mimetype": "text/x-python",
   "name": "python",
   "nbconvert_exporter": "python",
   "pygments_lexer": "ipython3",
   "version": "3.11.0"
  },
  "orig_nbformat": 4
 },
 "nbformat": 4,
 "nbformat_minor": 2
}
