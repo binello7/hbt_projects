{
 "cells": [
  {
   "cell_type": "markdown",
   "metadata": {},
   "source": [
    "# Imports"
   ]
  },
  {
   "cell_type": "code",
   "execution_count": null,
   "metadata": {},
   "outputs": [],
   "source": [
    "import pandas as pd\n",
    "from plotly import graph_objects as go\n",
    "from plotly.subplots import make_subplots\n",
    "from pathlib import Path\n",
    "from hbt_tools import saba "
   ]
  },
  {
   "cell_type": "markdown",
   "metadata": {},
   "source": [
    "# Functions"
   ]
  },
  {
   "cell_type": "code",
   "execution_count": null,
   "metadata": {},
   "outputs": [],
   "source": [
    "def read_messstelle(file_path, col_Q):\n",
    "    date_format = '%d.%m.%Y %H:%M:%S'\n",
    "    data = pd.read_csv(file_path, sep=';', encoding='UTF-8', usecols=['Datum', 'Uhrzeit', col_Q],\n",
    "        parse_dates=[[0,1]], date_format=date_format, decimal=',')\n",
    "    data.set_index('Datum_Uhrzeit', inplace=True)\n",
    "    data = data.astype(float, copy=True)\n",
    "\n",
    "    return data\n",
    "#-----------------------------------------------------------------------------------------------------------------------\n",
    "\n",
    "def read_regen(file_path):\n",
    "    date_format = '%d.%m.%Y %H:%M:%S'\n",
    "    data = pd.read_csv(file_path, sep=';', encoding='UTF-8', usecols=['Datum', 'Uhrzeit', 'Niederschlag [mm]'],\n",
    "            parse_dates=[[0,1]], date_format=date_format, decimal=',')\n",
    "    data.set_index('Datum_Uhrzeit', inplace=True)\n",
    "\n",
    "    return data"
   ]
  },
  {
   "cell_type": "markdown",
   "metadata": {},
   "source": [
    "# Parameters"
   ]
  },
  {
   "cell_type": "code",
   "execution_count": null,
   "metadata": {},
   "outputs": [],
   "source": [
    "path_dir = Path(r\"\\\\hunzikerwater.ch\\DFSHBT\\Daten\\2 Projekte\\1000-\\1300-\\1346\\1346.33 V-GEP\\05 Berechnungen Grundlagen\"\n",
    "    r\"\\Messkampagne\\Rohdaten Messkampagne\")\n",
    "\n",
    "info_messstellen = {\n",
    "    'Messstelle_MO_A15': {\n",
    "        'col_Q': 'Q Input [l/s]',\n",
    "    },\n",
    "\n",
    "    'Messstelle_MO_D1A': {\n",
    "        'col_Q': 'Q Input [l/s]',\n",
    "    },\n",
    "\n",
    "    'Messstelle_WE_83A': {\n",
    "        'col_Q': 'Q Input [l/s]',\n",
    "    },\n",
    "\n",
    "    'Messstelle_ZE_204': {\n",
    "        'col_Q': 'Q Input [l/s]',\n",
    "    },\n",
    "}"
   ]
  },
  {
   "cell_type": "markdown",
   "metadata": {},
   "source": [
    "# Code"
   ]
  },
  {
   "cell_type": "code",
   "execution_count": null,
   "metadata": {},
   "outputs": [],
   "source": [
    "# Read data Messstellen\n",
    "data_messstellen = {}\n",
    "for name, values in info_messstellen.items():\n",
    "    path = path_dir / name\n",
    "    for file in path.iterdir():\n",
    "        data = read_messstelle(file, values['col_Q'])\n",
    "        data_messstellen.update({name: data})  "
   ]
  },
  {
   "cell_type": "code",
   "execution_count": null,
   "metadata": {},
   "outputs": [],
   "source": [
    "# Read Regendaten Möhlin\n",
    "path_regen = Path(r\"\\\\hunzikerwater.ch\\DFSHBT\\Daten\\2 Projekte\\1000-\\1300-\\1346\\1346.33 V-GEP\"\n",
    "    r\"\\05 Berechnungen Grundlagen\\Messkampagne\\Rohdaten Messkampagne\\Regenmesser_Möhlin\"\n",
    "    r\"\\History_Data_of_Regenmesser Möhlin_from_2021-07-22 23-59-59 GMT+0200_to_2021-12-02 23-59-59 GMT+0100.csv\")\n",
    "\n",
    "rain_moh = read_regen(path_regen)"
   ]
  },
  {
   "cell_type": "code",
   "execution_count": null,
   "metadata": {},
   "outputs": [],
   "source": [
    "# Read Regendaten Wegenstetten\n",
    "path_regen = Path(r\"\\\\hunzikerwater.ch\\DFSHBT\\Daten\\2 Projekte\\1000-\\1300-\\1346\\1346.33 V-GEP\"\n",
    "    r\"\\05 Berechnungen Grundlagen\\Messkampagne\\Rohdaten Messkampagne\\Regenmesser_Möhlin\"\n",
    "    r\"\\History_Data_of_Regenmesser Möhlin_from_2021-07-22 23-59-59 GMT+0200_to_2021-12-02 23-59-59 GMT+0100.csv\")\n",
    "\n",
    "rain_weg = read_regen(path_regen)"
   ]
  },
  {
   "cell_type": "code",
   "execution_count": null,
   "metadata": {},
   "outputs": [],
   "source": [
    "# Read Regendaten Meteoschweiz\n",
    "id = 1903\n",
    "date_format = '%d.%m.%Y'\n",
    "date_from = '29.07.2021'\n",
    "date_to = '02.12.2021'\n",
    "rain_ms = saba.get_data(id=id, date_from=date_from, date_to=date_to, date_format=date_format)"
   ]
  },
  {
   "cell_type": "code",
   "execution_count": null,
   "metadata": {},
   "outputs": [],
   "source": [
    "save_dir = path_dir / 'Plots'\n",
    "if not save_dir.exists():\n",
    "    save_dir.mkdir()\n",
    "\n",
    "for name, data in data_messstellen.items():\n",
    "    fig = make_subplots(specs=[[{\"secondary_y\": True}]])\n",
    "\n",
    "    fig.add_trace(go.Scatter(x=data.index, y=data.iloc[:,0], name=name), secondary_y=False)\n",
    "    fig.add_trace(go.Scatter(x=rain_moh.index, y=rain_moh.iloc[:,0], name='Regen Möhlin (Messstelle)'), secondary_y=True)\n",
    "    fig.add_trace(go.Scatter(x=rain_weg.index, y=rain_weg.iloc[:,0], name='Regen Wegenstetten (Messstelle)'), secondary_y=True)\n",
    "    fig.add_trace(go.Scatter(x=rain_ms.index, y=rain_ms.iloc[:,0], name='Regen Möhlin (MeteoSchweiz)'), secondary_y=True)\n",
    "\n",
    "    fig.update_layout(title=name)\n",
    "    fig.update_xaxes(title='Datum')\n",
    "    fig.update_yaxes(title='Durchfluss [l/s]', secondary_y=False)\n",
    "    fig.update_yaxes(title='Regen [mm]', secondary_y=True)\n",
    "\n",
    "    save_path = save_dir / f\"{name}.html\"\n",
    "    fig.write_html(save_path)"
   ]
  }
 ],
 "metadata": {
  "kernelspec": {
   "display_name": "venv",
   "language": "python",
   "name": "python3"
  },
  "language_info": {
   "codemirror_mode": {
    "name": "ipython",
    "version": 3
   },
   "file_extension": ".py",
   "mimetype": "text/x-python",
   "name": "python",
   "nbconvert_exporter": "python",
   "pygments_lexer": "ipython3",
   "version": "3.11.8"
  }
 },
 "nbformat": 4,
 "nbformat_minor": 2
}
