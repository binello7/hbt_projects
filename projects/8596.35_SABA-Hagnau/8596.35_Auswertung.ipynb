{
 "cells": [
  {
   "cell_type": "markdown",
   "metadata": {},
   "source": [
    "# Imports"
   ]
  },
  {
   "cell_type": "code",
   "execution_count": null,
   "metadata": {},
   "outputs": [],
   "source": [
    "import pandas as pd\n",
    "from hbt_tools import utils_hbt as uh\n",
    "from hbt_tools import utils as ut\n",
    "from pathlib import Path"
   ]
  },
  {
   "cell_type": "markdown",
   "metadata": {},
   "source": [
    "# Functions"
   ]
  },
  {
   "cell_type": "code",
   "execution_count": null,
   "metadata": {},
   "outputs": [],
   "source": [
    "def sum_per_period(periods, ts, date_format, idx_col=0):\n",
    "    df_res = pd.DataFrame(columns=['von', 'bis', 'summe'])\n",
    "    for i, p in enumerate(periods):\n",
    "        date_start = pd.to_datetime(p[0], format=date_format)\n",
    "        date_start = date_start.tz_localize('Europe/Zurich')\n",
    "        date_end = pd.to_datetime(p[1], format=date_format)\n",
    "        date_end = date_end.tz_localize('Europe/Zurich')\n",
    "\n",
    "        ts_period = ts[(ts.index>=date_start) & (ts.index<=date_end)]\n",
    "        df_temp = pd.DataFrame({'von': [p[0]], 'bis': [p[1]],\n",
    "            'summe': [ts_period.iloc[:,idx_col].sum()]})\n",
    "        \n",
    "        df_res = pd.concat((df_res, df_temp))\n",
    "    \n",
    "    return df_res\n",
    "#-------------------------------------------------------------------------------"
   ]
  },
  {
   "cell_type": "markdown",
   "metadata": {},
   "source": [
    "# Parameters"
   ]
  },
  {
   "cell_type": "code",
   "execution_count": null,
   "metadata": {},
   "outputs": [],
   "source": [
    "date_format = '%d.%m.%Y %H:%M'\n",
    "\n",
    "periods = [\n",
    "    (\"24.09.2022 04:43\", \"28.09.2022 05:32\"),\n",
    "    (\"28.09.2022 05:32\", \"14.10.2022 16:24\"),\n",
    "    (\"14.10.2022 16:24\", \"21.10.2022 08:36\"),\n",
    "    (\"21.10.2022 08:36\", \"22.10.2022 03:12\"),\n",
    "    (\"22.10.2022 03:12\", \"01.11.2022 07:37\"),\n",
    "    (\"01.11.2022 07:37\", \"16.11.2022 03:18\"),\n",
    "    (\"16.11.2022 03:18\", \"05.02.2023 17:48\"),\n",
    "    (\"05.02.2023 17:48\", \"15.04.2023 12:53\"),\n",
    "    (\"15.04.2023 12:53\", \"01.05.2023 08:25\"),\n",
    "    (\"01.05.2023 08:25\", \"22.06.2023 19:53\"),\n",
    "    (\"21.07.2023 08:52\", \"04.08.2023 14:14\"),\n",
    "    (\"04.08.2023 14:14\", \"23.10.2023 12:53\"),\n",
    "    (\"23.10.2023 12:53\", \"27.10.2023 00:29\"),\n",
    "    (\"27.10.2023 00:29\", \"02.11.2023 13:02\"),\n",
    "]\n",
    "\n",
    "date_from = periods[0][0]\n",
    "date_to = periods[-1][-1]\n",
    "\n",
    "save_dir = Path(r\"H:\\2 Projekte\\8000-\\8500er\\8596\\8596.35-Hagnau\\05 Berechnungen Grundlagen\\Datenauswertung\")"
   ]
  },
  {
   "cell_type": "markdown",
   "metadata": {},
   "source": [
    "# Regen-Zufluss per Periode"
   ]
  },
  {
   "cell_type": "markdown",
   "metadata": {},
   "source": [
    "## Regen"
   ]
  },
  {
   "cell_type": "code",
   "execution_count": null,
   "metadata": {},
   "outputs": [],
   "source": [
    "path_dir = Path(r\"H:\\2 Projekte\\8000-\\8500er\\8596\\8596.35-Hagnau\\05 Berechnungen Grundlagen\\Regendaten\")\n",
    "rain = ut.ts_from_csvs(path_dir)\n",
    "rain = rain.tz_localize('Europe/Zurich', ambiguous=True)"
   ]
  },
  {
   "cell_type": "code",
   "execution_count": null,
   "metadata": {},
   "outputs": [],
   "source": [
    "df_rain_periods = sum_per_period(periods, rain, date_format)\n",
    "df_rain_periods"
   ]
  },
  {
   "cell_type": "markdown",
   "metadata": {},
   "source": [
    "## Zufluss"
   ]
  },
  {
   "cell_type": "code",
   "execution_count": null,
   "metadata": {},
   "outputs": [],
   "source": [
    "id = 1078\n",
    "q_zu = uh.mdb_getdata(id, date_from, date_to, date_format)\n",
    "\n",
    "# Compute volume per time-step\n",
    "q_zu['delta_t'] = q_zu.index\n",
    "delta_t = q_zu['delta_t'] - q_zu['delta_t'].shift()\n",
    "print(delta_t.max())\n",
    "print(delta_t.min())\n",
    "\n",
    "q_zu['delta_t'] = delta_t\n",
    "q_zu['volumen'] = q_zu['wert'] * q_zu['delta_t'].dt.total_seconds()"
   ]
  },
  {
   "cell_type": "code",
   "execution_count": null,
   "metadata": {},
   "outputs": [],
   "source": [
    "save_path = save_dir / 'Zulauf_Volumen.csv'\n",
    "q_zu.to_csv(save_path, sep=';')"
   ]
  },
  {
   "cell_type": "code",
   "execution_count": null,
   "metadata": {},
   "outputs": [],
   "source": [
    "df_zufluss_periods = sum_per_period(periods, q_zu, date_format, idx_col=2)\n",
    "df_zufluss_periods.iloc[:,2] /= 1000\n",
    "df_zufluss_periods"
   ]
  }
 ],
 "metadata": {
  "kernelspec": {
   "display_name": "Python 3.10.4 ('py3.10')",
   "language": "python",
   "name": "python3"
  },
  "language_info": {
   "codemirror_mode": {
    "name": "ipython",
    "version": 3
   },
   "file_extension": ".py",
   "mimetype": "text/x-python",
   "name": "python",
   "nbconvert_exporter": "python",
   "pygments_lexer": "ipython3",
   "version": "3.11.8"
  },
  "orig_nbformat": 4,
  "vscode": {
   "interpreter": {
    "hash": "590b78d8cb9270f73855948988b5d0ee0289dd910f80c46d744676df1f9b3d24"
   }
  }
 },
 "nbformat": 4,
 "nbformat_minor": 2
}
