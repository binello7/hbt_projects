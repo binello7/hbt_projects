{
 "cells": [
  {
   "cell_type": "markdown",
   "metadata": {},
   "source": [
    "# Imports"
   ]
  },
  {
   "cell_type": "code",
   "execution_count": null,
   "metadata": {},
   "outputs": [],
   "source": [
    "import pandas as pd\n",
    "import plotly.graph_objects as go\n",
    "from datetime import datetime as dt\n",
    "from datetime import timedelta as td\n",
    "from pathlib import Path\n",
    "from pytz import timezone\n",
    "from hbt_tools import utils_hbt as uh\n",
    "from hbt_tools import utils as ut\n",
    "from hbt_tools import plots as hp"
   ]
  },
  {
   "cell_type": "markdown",
   "metadata": {},
   "source": [
    "# Parameters"
   ]
  },
  {
   "cell_type": "code",
   "execution_count": null,
   "metadata": {},
   "outputs": [],
   "source": [
    "save_dir = Path(r\"H:\\2 Projekte\\8000-\\8500er\\8596\\8596.35-Hagnau\\05 Berechnungen Grundlagen\\Datenauswertung\\Plots\")\n",
    "\n",
    "mes_dict = {\n",
    "    'Trübung Zulauf': {\n",
    "        'id': \t1077,\n",
    "        'units': 'NTU',\n",
    "        'yaxis': 'y2',\n",
    "    },\n",
    "\n",
    "    'Trübung Ablauf': {\n",
    "        'id': \t1081,\n",
    "        'units': 'NTU',\n",
    "        'yaxis': 'y2',\n",
    "    },\n",
    "\n",
    "    'Niveau Retentionssickerbecken': {\n",
    "        'id': \t1082,\n",
    "        'units': 'cm',\n",
    "        'yaxis': 'y3',\n",
    "    }\n",
    "}"
   ]
  },
  {
   "cell_type": "markdown",
   "metadata": {},
   "source": [
    "# Read Rain"
   ]
  },
  {
   "cell_type": "code",
   "execution_count": null,
   "metadata": {},
   "outputs": [],
   "source": [
    "path_dir = Path(r\"H:\\2 Projekte\\8000-\\8500er\\8596\\8596.35-Hagnau\\05 Berechnungen Grundlagen\\Regendaten\")\n",
    "rain = ut.ts_from_csvs(path_dir)\n",
    "\n",
    "date_from = dt(2022, 7, 30)\n",
    "date_to = dt.today() - td(days=1)\n",
    "\n",
    "rain = ut.ts_filter(rain, date_from=date_from, date_to=None)\n",
    "rain['kumulativ'] = rain.cumsum()"
   ]
  },
  {
   "cell_type": "markdown",
   "metadata": {},
   "source": [
    "# Read Niveau Splittfilter"
   ]
  },
  {
   "cell_type": "code",
   "execution_count": null,
   "metadata": {},
   "outputs": [],
   "source": [
    "path_niveau_filter = Path(r\"H:\\2 Projekte\\8000-\\8500er\\8596\\8596.35-Hagnau\\05 Berechnungen Grundlagen\\Datenauswertung\"\n",
    "    r\"\\Daten\\Daten-SABA_1min_220701-230731.csv\")\n",
    "\n",
    "date_parser = lambda x: pd.to_datetime(x, format=date_format)\n",
    "niveau_filter = pd.read_csv(path_niveau_filter, sep=';')\n",
    "niveau_filter.insert(0, 'Datum', 0)\n",
    "niveau_filter.iloc[:,3] = niveau_filter.iloc[:,3].str.replace(':', '')\n",
    "niveau_filter['Datum'] = (niveau_filter.iloc[:,1] + niveau_filter.iloc[:,2]\n",
    "    + niveau_filter.iloc[:,3])\n",
    "niveau_filter.drop(columns=niveau_filter.columns[1:4], inplace=True)\n",
    "niveau_filter.set_index(niveau_filter.columns[0], inplace=True)\n",
    "date_format = '%d.%m.%Y%H:%M:%S%z'\n",
    "niveau_filter.index = pd.to_datetime(niveau_filter.index,\n",
    "    format=date_format)\n",
    "niveau_filter = niveau_filter * 100 # m -> cm"
   ]
  },
  {
   "cell_type": "markdown",
   "metadata": {},
   "source": [
    "# Read Data Messdatenbank"
   ]
  },
  {
   "cell_type": "code",
   "execution_count": null,
   "metadata": {},
   "outputs": [],
   "source": [
    "for k, v in mes_dict.items():\n",
    "    data = uh.mdb_getdata(v['id'])\n",
    "    data = data.tz_localize(None)\n",
    "    mes_dict[k].update({'data': data})"
   ]
  },
  {
   "cell_type": "markdown",
   "metadata": {},
   "source": [
    "# Plots"
   ]
  },
  {
   "cell_type": "markdown",
   "metadata": {},
   "source": [
    "## Trübung"
   ]
  },
  {
   "cell_type": "code",
   "execution_count": null,
   "metadata": {},
   "outputs": [],
   "source": [
    "# Trübung Zulauf / Ablauf\n",
    "save_path = save_dir / 'Trübung_Zulauf.html'\n",
    "\n",
    "data = mes_dict['Trübung Zulauf']['data']\n",
    "date_end = data.index[-1]\n",
    "hp.ply_2y(\n",
    "    dfs1=data,\n",
    "    dfs2=ut.ts_filter(rain, date_to=date_end),\n",
    "    names=['Trübung Zulauf', 'Regen Therwil'],\n",
    "    xlabel='Zeit',\n",
    "    ylabels=['Trübung [NTU]', 'Regenintensität [mm/10min]'],\n",
    "    title='Trübung Zulauf',\n",
    "    save_path=save_path\n",
    ")"
   ]
  },
  {
   "cell_type": "code",
   "execution_count": null,
   "metadata": {},
   "outputs": [],
   "source": [
    "# Trübung Ablauf\n",
    "save_path = save_dir / 'Trübung_Ablauf.html'\n",
    "\n",
    "data = mes_dict['Trübung Ablauf']['data']\n",
    "date_end = data.index[-1]\n",
    "hp.ply_2y(\n",
    "    dfs1=data,\n",
    "    dfs2=ut.ts_filter(rain, date_to=date_end),\n",
    "    names=['Trübung Ablauf', 'Regen Therwil'],\n",
    "    xlabel='Zeit',\n",
    "    ylabels=['Trübung [NTU]', 'Regenintensität [mm/10min]'],\n",
    "    title='Trübung Ablauf',\n",
    "    save_path=save_path\n",
    ")"
   ]
  },
  {
   "cell_type": "code",
   "execution_count": null,
   "metadata": {},
   "outputs": [],
   "source": [
    "# Trübung Zulauf / Ablauf\n",
    "save_path = save_dir / 'Trübung_Zulauf-Ablauf.html'\n",
    "\n",
    "data1 = mes_dict['Trübung Zulauf']['data']\n",
    "data2 = mes_dict['Trübung Ablauf']['data']\n",
    "hp.ply_2y(\n",
    "    dfs1=[data1, data2],\n",
    "    dfs2=rain,\n",
    "    names=['Trübung Zulauf', 'Trübung Ablauf', 'Regen Therwil'],\n",
    "    xlabel='Zeit',\n",
    "    ylabels=['Trübung [NTU]', 'Regenintensität [mm/10min]'],\n",
    "    title='Trübung Zulauf / Ablauf',\n",
    "    save_path=save_path\n",
    ")"
   ]
  },
  {
   "cell_type": "markdown",
   "metadata": {},
   "source": [
    "## Zulauf"
   ]
  },
  {
   "cell_type": "code",
   "execution_count": null,
   "metadata": {},
   "outputs": [],
   "source": [
    "id = 1078\n",
    "q_zu = uh.mdb_getdata(id)"
   ]
  },
  {
   "cell_type": "code",
   "execution_count": null,
   "metadata": {},
   "outputs": [],
   "source": [
    "# Durchfluss Zulauf\n",
    "save_path = save_dir / 'Durchfluss_Zulauf.html'\n",
    "\n",
    "hp.ply_2y(\n",
    "    q_zu,\n",
    "    rain,\n",
    "    names=['Durchfluss Zulauf', 'Regen Therwil'],\n",
    "    xlabel='Zeit',\n",
    "    ylabels=['Durchfluss [l/s]', 'Regenintensität [mm/10min]'],\n",
    "    title='Durchfluss Zulauf',\n",
    "    save_path=save_path\n",
    ")"
   ]
  },
  {
   "cell_type": "markdown",
   "metadata": {},
   "source": [
    "## Messausfälle"
   ]
  },
  {
   "cell_type": "code",
   "execution_count": null,
   "metadata": {},
   "outputs": [],
   "source": [
    "fig = go.Figure()\n",
    "\n",
    "fig.add_trace(go.Scatter(\n",
    "    x=q_zu.index,\n",
    "    y=q_zu.iloc[:,0],\n",
    "    mode='lines+markers',\n",
    "    line=dict(color='black'),\n",
    "    marker=dict(symbol='circle', color='cyan', size=2)\n",
    "))\n",
    "\n",
    "fig.update_xaxes(title='Zeit');\n",
    "fig.update_yaxes(title='Durchfluss [l/s]');\n",
    "fig.update_layout(title='Übersicht Messausfälle');\n",
    "\n",
    "save_path = save_dir / 'Messausfälle.html'\n",
    "fig.write_html(save_path)"
   ]
  },
  {
   "cell_type": "markdown",
   "metadata": {},
   "source": [
    "## Niveau RSB"
   ]
  },
  {
   "cell_type": "code",
   "execution_count": null,
   "metadata": {},
   "outputs": [],
   "source": [
    "# Niveau Retentionssickerbecken\n",
    "data = mes_dict['Niveau Retentionssickerbecken']['data']\n",
    "date_end = data.index[-1]\n",
    "fig = hp.ply_2y(\n",
    "    dfs1=data,\n",
    "    dfs2=ut.ts_filter(rain, date_to=date_end),\n",
    "    names=['Niveau RSB', 'Regen Therwil'],\n",
    "    xlabel='Zeit',\n",
    "    ylabels=['Niveau [cm]', 'Regenintensität [mm/10min]'],\n",
    "    title='Niveau Retentionssickerbecken',\n",
    ")\n",
    "\n",
    "\n",
    "save_path = save_dir / 'Niveau_RSB.html'\n",
    "fig.write_html(save_path)"
   ]
  }
 ],
 "metadata": {
  "kernelspec": {
   "display_name": "Python 3.10.6 ('cenv')",
   "language": "python",
   "name": "python3"
  },
  "language_info": {
   "codemirror_mode": {
    "name": "ipython",
    "version": 3
   },
   "file_extension": ".py",
   "mimetype": "text/x-python",
   "name": "python",
   "nbconvert_exporter": "python",
   "pygments_lexer": "ipython3",
   "version": "3.11.8"
  },
  "orig_nbformat": 4,
  "vscode": {
   "interpreter": {
    "hash": "ab1415878b8670590be7cfb0d397ba278fb7336eefaa66780c43ead28065321d"
   }
  }
 },
 "nbformat": 4,
 "nbformat_minor": 2
}
