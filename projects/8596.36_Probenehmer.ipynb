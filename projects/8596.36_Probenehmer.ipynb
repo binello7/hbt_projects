{
 "cells": [
  {
   "cell_type": "markdown",
   "metadata": {},
   "source": [
    "## Imports"
   ]
  },
  {
   "cell_type": "code",
   "execution_count": null,
   "metadata": {},
   "outputs": [],
   "source": [
    "import pandas as pd\n",
    "import matplotlib.pyplot as plt\n",
    "import numpy as np\n",
    "from pathlib import Path"
   ]
  },
  {
   "cell_type": "markdown",
   "metadata": {},
   "source": [
    "## Global parameters"
   ]
  },
  {
   "cell_type": "code",
   "execution_count": null,
   "metadata": {},
   "outputs": [],
   "source": [
    "file_path = Path(r\"Q:\\Projekte\\8000-\\8500er\\8596\\8596.36-Mühlestrasse\"\n",
    "    r\"\\05 Berechnungen Grundlagen\\Probenehmer\\Envilab\"\n",
    "    r\"\\SABA Mühlestrasse_Daten-Plots.xlsx\")\n",
    "save_dir = Path(r\"Q:\\Projekte\\8000-\\8500er\\8596\\8596.36-Mühlestrasse\"\n",
    "    r\"\\05 Berechnungen Grundlagen\\Probenehmer\")"
   ]
  },
  {
   "cell_type": "markdown",
   "metadata": {},
   "source": [
    "## Plot"
   ]
  },
  {
   "cell_type": "code",
   "execution_count": null,
   "metadata": {},
   "outputs": [],
   "source": [
    "df_pn = pd.read_excel(file_path, header=[0,1], index_col=0)\n",
    "compounds = ['GUS [mg/l]', 'Cu [mg/l]', 'Zn [mg/l]']\n",
    "suffix = ['_GUS', '_Cu', '_Zn']\n",
    "titles = ['Konzentrationen GUS', 'Konzentrationen Cu', 'Konzentrationen Zn']\n",
    "\n",
    "width = 0.3\n",
    "x = np.arange(len(df_pn.index))\n",
    "\n",
    "for i, c in enumerate(compounds):\n",
    "    fig, axs = plt.subplots()\n",
    "    data = df_pn[compounds[i]]\n",
    "    labels = data.columns\n",
    "\n",
    "    b1 = axs.bar(x - width, data.iloc[:,0], width=width,\n",
    "        label=labels[0])\n",
    "    b2 = axs.bar(x, data.iloc[:,1], width=width, label=labels[1])\n",
    "    b3 = axs.bar(x + width, data.iloc[:,2], width=width,\n",
    "        label=labels[2])\n",
    "\n",
    "    xticks = [z.strftime('%d.%m.%y') for z in data.index]\n",
    "    axs.set_xticks(x)\n",
    "    axs.set_xticklabels(xticks)\n",
    "\n",
    "    axs.set_ylabel('Konzentration [mg/l]')\n",
    "    axs.set_xlabel('Datum')\n",
    "\n",
    "    axs.legend()\n",
    "    axs.set_title(titles[i])\n",
    "\n",
    "    axs.grid(visible=True, axis='y')\n",
    "    axs.set_axisbelow(True)\n",
    "\n",
    "    fig.set_facecolor('white')\n",
    "    fig.set_size_inches(20, 10)\n",
    "    fig.set_dpi(300)\n",
    "    fig.tight_layout()\n",
    "    save_path = save_dir / ('Konzentration' + suffix[i] + '.png')\n",
    "    fig.savefig(save_path)"
   ]
  }
 ],
 "metadata": {
  "kernelspec": {
   "display_name": "Python 3.10.4 ('py3.10')",
   "language": "python",
   "name": "python3"
  },
  "language_info": {
   "codemirror_mode": {
    "name": "ipython",
    "version": 3
   },
   "file_extension": ".py",
   "mimetype": "text/x-python",
   "name": "python",
   "nbconvert_exporter": "python",
   "pygments_lexer": "ipython3",
   "version": "3.10.4"
  },
  "orig_nbformat": 4,
  "vscode": {
   "interpreter": {
    "hash": "590b78d8cb9270f73855948988b5d0ee0289dd910f80c46d744676df1f9b3d24"
   }
  }
 },
 "nbformat": 4,
 "nbformat_minor": 2
}
