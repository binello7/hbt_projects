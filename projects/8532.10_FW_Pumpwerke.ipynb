{
 "cells": [
  {
   "cell_type": "markdown",
   "metadata": {},
   "source": [
    "## Imports"
   ]
  },
  {
   "cell_type": "code",
   "execution_count": null,
   "metadata": {},
   "outputs": [],
   "source": [
    "import pandas as pd\n",
    "from datetime import datetime as dt\n",
    "from hbt import geometry as gm\n",
    "from hbt import utils_hbt as uh\n",
    "from pathlib import Path\n",
    "from plotly import graph_objects as go\n",
    "from plotly.subplots import make_subplots"
   ]
  },
  {
   "cell_type": "markdown",
   "metadata": {},
   "source": [
    "## Functions"
   ]
  },
  {
   "cell_type": "code",
   "execution_count": null,
   "metadata": {},
   "outputs": [],
   "source": [
    "def compute_stats_pw(data_pw, info_pw, night_start='00:00',\n",
    "    night_end='06:00'):\n",
    "    cols = ['Type', 'Mean DH+ day [cm]', 'Mean DH+ night [cm]',\n",
    "        'Mean DH- day [cm]', 'Mean DH- night [cm]', 'Mean inflow day [l/s]',\n",
    "        'Mean inflow night [l/s]', 'Mean outflow day [l/s]',\n",
    "        'Mean outflow night [l/s]']\n",
    "\n",
    "    pw_stats = pd.DataFrame(index=data_pw.columns, columns=cols)\n",
    "\n",
    "    pw_night = data_pw.between_time(night_start, night_end, inclusive='left')\n",
    "    pw_day = data_pw.between_time(night_end, night_start, inclusive='left')\n",
    "    pw_night = pw_night.diff()\n",
    "    pw_day = pw_day.diff()\n",
    "\n",
    "    pw_stats.iloc[:,1] = pw_day[pw_day>0].mean()\n",
    "    pw_stats.iloc[:,2] = pw_night[pw_night>0].mean()\n",
    "    pw_stats.iloc[:,3] = pw_day[pw_day<0].mean()\n",
    "    pw_stats.iloc[:,4] = pw_night[pw_night<0].mean()\n",
    "\n",
    "    names = data_pw.columns\n",
    "    for pw, info in info_pw.items():\n",
    "        pw_stats.loc[pw, 'Type'] = info['typ']\n",
    "        if info['area']:\n",
    "            idx = pw_stats.index.get_loc(pw)\n",
    "            pw_stats.iloc[idx, 5:] = (pw_stats.iloc[idx, 1:5] / 10\n",
    "                * info['area'] * 100) / 60\n",
    "\n",
    "    return pw_stats"
   ]
  },
  {
   "cell_type": "markdown",
   "metadata": {},
   "source": [
    "## Settings"
   ]
  },
  {
   "cell_type": "code",
   "execution_count": null,
   "metadata": {},
   "outputs": [],
   "source": [
    "path_pwdata = Path(r\"Q:\\Projekte\\8000-\\8500er\\8532\\8532.10 GEP Richterswil\"\n",
    "    r\"\\05 Berechnungen Grundlagen\\5 Fremdwasser\\Pumpwerke\"\n",
    "    r\"\\220722_10.56Uhr_Niveau_PW_1-jahr.csv\")\n",
    "\n",
    "path_raindata = Path(r\"Q:\\Projekte\\8000-\\8500er\\8532\\8532.10 GEP Richterswil\"\n",
    "    r\"\\05 Berechnungen Grundlagen\\5 Fremdwasser\\Pumpwerke\\data_waedenswil.csv\")\n",
    "\n",
    "save_dir = Path(r\"Q:\\Projekte\\8000-\\8500er\\8532\\8532.10 GEP Richterswil\"\n",
    "    r\"\\05 Berechnungen Grundlagen\\5 Fremdwasser\\Pumpwerke\")\n",
    "\n",
    "info_pw = { # nur SW Pumpwerke\n",
    "    'PW Hüttner See': {\n",
    "        'area': gm.circ_area_d(2.5),\n",
    "        'typ': 'SW',\n",
    "    },\n",
    "    'PW Seegarten': {\n",
    "        'area': 2.1 * 1.4,\n",
    "        'typ': 'RW',\n",
    "    },\n",
    "    'PW Mülibach': {\n",
    "        'area': 3.35 * 2,\n",
    "        'typ': 'SW',\n",
    "    },\n",
    "    'PW Mülibach Wand': {\n",
    "      'area': 1.9 * 1.0,\n",
    "      'typ': 'RW', \n",
    "    },\n",
    "    'PW Klosterweg': {\n",
    "        'area': 2.0 * 3.0,\n",
    "        'typ': 'SW',\n",
    "    },\n",
    "    'PW Stationsstrasse': {\n",
    "        'area': gm.circ_area_d(1.25),\n",
    "        'typ': 'SW',\n",
    "    },\n",
    "    'PW Schmittenbrunnen': {\n",
    "        'area': 0.8 * 1.5,\n",
    "        'typ': 'SW',\n",
    "    },\n",
    "    'PW SBB Wand': {\n",
    "        'area': 1.5 * 2.5,\n",
    "        'typ': 'RW',\n",
    "    },\n",
    "    'PW Streuli': {\n",
    "        'area': 1.0 * 1.8,\n",
    "        'typ': 'SW',\n",
    "    },\n",
    "    'PW Mülenen': {\n",
    "        'area': 1.65 * 2.2, # variabel, ca. 1.65 * 2.20\n",
    "        'typ': 'SW',\n",
    "    },\n",
    "    'PW SBB Mülenen': {\n",
    "        'area': 2.6 * 1.8,\n",
    "        'typ': 'RW',\n",
    "    },\n",
    "    'PW Hirzen': {\n",
    "        'area': gm.circ_area_d(1.25),\n",
    "        'typ': 'SW',\n",
    "    },\n",
    "    'PW Seeli': {\n",
    "        'area': gm.circ_area_d(1.25),\n",
    "        'typ': 'SW',\n",
    "    },\n",
    "    'PW Trüliplatz': {\n",
    "        'area': gm.circ_area_d(1.0),\n",
    "        'typ': 'SW',\n",
    "    },\n",
    "    'PW Horn': {\n",
    "        'area': gm.circ_area_d(1.25),\n",
    "        'typ': 'SW',\n",
    "    },\n",
    "    'PW Forsthaus': {\n",
    "        'area': None,\n",
    "        'typ': 'SW',\n",
    "    },\n",
    "}"
   ]
  },
  {
   "cell_type": "markdown",
   "metadata": {},
   "source": [
    "## Read data"
   ]
  },
  {
   "cell_type": "code",
   "execution_count": null,
   "metadata": {},
   "outputs": [],
   "source": [
    "date_format = '%d.%m.%Y %H:%M'\n",
    "date_parser = lambda x: pd.to_datetime(x, dayfirst=True, format=date_format)\n",
    "data_pw = pd.read_csv(path_pwdata, sep=';', header=0, index_col=0,\n",
    "    parse_dates=True, date_parser=date_parser, dayfirst=True)\n",
    "\n",
    "# Rename columns\n",
    "f_rename = lambda x: x.split(';')[0]\n",
    "data_pw.rename(columns=f_rename, inplace=True)\n",
    "\n",
    "# Convert m -> cm\n",
    "data_pw = data_pw * 100"
   ]
  },
  {
   "cell_type": "code",
   "execution_count": null,
   "metadata": {},
   "outputs": [],
   "source": [
    "ts_rain = uh.read_raindata_agrometeo(path_raindata, resolution='10min')\n",
    "ts_rain['cumsum'] = ts_rain.cumsum()"
   ]
  },
  {
   "cell_type": "markdown",
   "metadata": {},
   "source": [
    "## Filter data"
   ]
  },
  {
   "cell_type": "code",
   "execution_count": null,
   "metadata": {},
   "outputs": [],
   "source": [
    "bool_filter = True\n",
    "if bool_filter:\n",
    "    date_from = dt(2021, 7, 1)\n",
    "    date_to = dt(2021, 7, 31)\n",
    "    dt_filter = lambda df: df[(df.index >= date_from) & (df.index <= date_to)]\n",
    "\n",
    "    data_pw = dt_filter(data_pw)\n",
    "    ts_rain = dt_filter(ts_rain)"
   ]
  },
  {
   "cell_type": "markdown",
   "metadata": {},
   "source": [
    "## Analysis"
   ]
  },
  {
   "cell_type": "code",
   "execution_count": null,
   "metadata": {},
   "outputs": [],
   "source": [
    "pw_stats = compute_stats_pw(data_pw, info_pw)\n",
    "\n",
    "save_path = save_dir / 'Mean_PW_inflows-outflows_RW.csv'\n",
    "pw_stats.iloc[:,1:] = pw_stats.iloc[:,1:].astype(float).round(1)\n",
    "pw_stats.to_csv(save_path, sep=';', encoding='latin1')"
   ]
  },
  {
   "cell_type": "markdown",
   "metadata": {},
   "source": [
    "## Plots"
   ]
  },
  {
   "cell_type": "markdown",
   "metadata": {},
   "source": [
    "### Plot data"
   ]
  },
  {
   "cell_type": "code",
   "execution_count": null,
   "metadata": {},
   "outputs": [],
   "source": [
    "plot = True\n",
    "if plot:\n",
    "    names = data_pw.columns\n",
    "    for name in names:\n",
    "        fig = make_subplots(specs=[[{\"secondary_y\": True}]])\n",
    "        fig.add_trace(go.Scatter(x=data_pw.index, y=data_pw[name], name=name),\n",
    "            secondary_y=False)\n",
    "        fig.add_trace(go.Scatter(x=ts_rain.index, y=ts_rain['cumsum'],\n",
    "            name='Regen kumulativ'), secondary_y=True)\n",
    "        fig.update_xaxes(title='Zeit')\n",
    "        fig.update_yaxes(title='Niveau [cm]', secondary_y=False)\n",
    "        fig.update_yaxes(title='Regenmenge [mm]', secondary_y=True)\n",
    "        fig.update_layout(title=f'{name}')\n",
    "\n",
    "        prefix = info_pw[name]['typ']\n",
    "        name = f'{prefix}-{name}'\n",
    "        save_path = save_dir / f'Plots_RW/{name}.html'\n",
    "        fig.write_html(save_path)"
   ]
  }
 ],
 "metadata": {
  "kernelspec": {
   "display_name": "Python 3.10.6 ('cenv')",
   "language": "python",
   "name": "python3"
  },
  "language_info": {
   "codemirror_mode": {
    "name": "ipython",
    "version": 3
   },
   "file_extension": ".py",
   "mimetype": "text/x-python",
   "name": "python",
   "nbconvert_exporter": "python",
   "pygments_lexer": "ipython3",
   "version": "3.10.6"
  },
  "orig_nbformat": 4,
  "vscode": {
   "interpreter": {
    "hash": "ab1415878b8670590be7cfb0d397ba278fb7336eefaa66780c43ead28065321d"
   }
  }
 },
 "nbformat": 4,
 "nbformat_minor": 2
}
