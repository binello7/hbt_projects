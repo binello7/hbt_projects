{
 "cells": [
  {
   "attachments": {},
   "cell_type": "markdown",
   "metadata": {},
   "source": [
    "## Imports"
   ]
  },
  {
   "cell_type": "code",
   "execution_count": 39,
   "metadata": {},
   "outputs": [],
   "source": [
    "import pandas as pd\n",
    "from datetime import datetime as dt\n",
    "from pathlib import Path\n",
    "from plotly import graph_objects as go"
   ]
  },
  {
   "attachments": {},
   "cell_type": "markdown",
   "metadata": {},
   "source": [
    "## Settings"
   ]
  },
  {
   "cell_type": "code",
   "execution_count": 40,
   "metadata": {},
   "outputs": [],
   "source": [
    "inputs_dir = Path(r\"H:\\2 Projekte\\8000-\\8500er\\8532\\8532.10 GEP Richterswil\"\n",
    "    r\"\\05 Berechnungen Grundlagen\\13 Nachrüstung RÜ\\Datenauswertung\\Monatsdaten\")\n",
    "\n",
    "save_dir = Path(r\"H:\\2 Projekte\\8000-\\8500er\\8532\\8532.10 GEP Richterswil\"\n",
    "    r\"\\05 Berechnungen Grundlagen\\13 Nachrüstung RÜ\\Datenauswertung\\Plots\")\n",
    "\n",
    "prop_dict = {\n",
    "    'Niveau HE Schulstrasse [cm]': {\n",
    "        'datum_ok': dt(2023, 3, 1, 16),\n",
    "        'h_entlastung': 121\n",
    "    },\n",
    "\n",
    "    'Niveau HE Löchliweg [cm]': {\n",
    "        'datum_ok': dt(2000, 1, 1),\n",
    "        'h_entlastung': 37\n",
    "    },\n",
    "\n",
    "    'Niveau HE Bodenstrasse [cm]': {\n",
    "        'datum_ok': dt(2023, 3, 23, 9, 30),\n",
    "        'h_entlastung': 30\n",
    "    },\n",
    "\n",
    "    'Niveau HE Mülenen [cm]': {\n",
    "        'datum_ok': dt(2023, 3, 23, 16),\n",
    "        'h_entlastung': 0\n",
    "    }\n",
    "}"
   ]
  },
  {
   "attachments": {},
   "cell_type": "markdown",
   "metadata": {},
   "source": [
    "## Read data"
   ]
  },
  {
   "cell_type": "code",
   "execution_count": 41,
   "metadata": {},
   "outputs": [],
   "source": [
    "files_list = list(inputs_dir.glob('*.csv'))"
   ]
  },
  {
   "cell_type": "code",
   "execution_count": 42,
   "metadata": {},
   "outputs": [],
   "source": [
    "date_format = '%d.%m.%Y %H:%M:%S'\n",
    "data = []\n",
    "for file in files_list:\n",
    "    df = pd.read_csv(file, sep=';', header='infer', index_col=0, parse_dates=[0],\n",
    "        date_format=date_format)\n",
    "    cols_dict = {}\n",
    "    for col_name_old in df.columns:\n",
    "        col_name1 = col_name_old.split('\\t')[0]\n",
    "        col_name2 = col_name_old.split('\\t')[1].split(';')[1]\n",
    "        col_name_new = f'{col_name1} - {col_name2}'\n",
    "        cols_dict.update({col_name_old: col_name_new})\n",
    "    df.rename(columns=cols_dict, inplace=True)\n",
    "\n",
    "    data.append(df)\n",
    "data = pd.concat(data)"
   ]
  },
  {
   "cell_type": "code",
   "execution_count": 43,
   "metadata": {},
   "outputs": [],
   "source": [
    "niveaus = data.iloc[:,[0,3,6,9]]"
   ]
  },
  {
   "attachments": {},
   "cell_type": "markdown",
   "metadata": {},
   "source": [
    "## Plots"
   ]
  },
  {
   "cell_type": "code",
   "execution_count": 44,
   "metadata": {},
   "outputs": [],
   "source": [
    "# Alle Messungen zusammen\n",
    "fig = go.Figure()\n",
    "for name in niveaus:\n",
    "    fig.add_trace(go.Scatter(x=niveaus.index, y=niveaus[name], name=name))\n",
    "\n",
    "fig.update_xaxes(title='Zeit')\n",
    "fig.update_yaxes(title='Niveau [cm]')\n",
    "\n",
    "save_path = save_dir / 'Niveaus_alle_2304-2311.html'\n",
    "fig.write_html(save_path)"
   ]
  }
 ],
 "metadata": {
  "kernelspec": {
   "display_name": "hbt_projects",
   "language": "python",
   "name": "python3"
  },
  "language_info": {
   "codemirror_mode": {
    "name": "ipython",
    "version": 3
   },
   "file_extension": ".py",
   "mimetype": "text/x-python",
   "name": "python",
   "nbconvert_exporter": "python",
   "pygments_lexer": "ipython3",
   "version": "3.10.11"
  },
  "orig_nbformat": 4
 },
 "nbformat": 4,
 "nbformat_minor": 2
}
