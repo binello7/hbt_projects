{
 "cells": [
  {
   "cell_type": "markdown",
   "metadata": {},
   "source": [
    "# Imports"
   ]
  },
  {
   "cell_type": "code",
   "execution_count": null,
   "metadata": {},
   "outputs": [],
   "source": [
    "import pandas as pd\n",
    "from pathlib import Path"
   ]
  },
  {
   "cell_type": "markdown",
   "metadata": {},
   "source": [
    "# Functions"
   ]
  },
  {
   "cell_type": "code",
   "execution_count": null,
   "metadata": {},
   "outputs": [],
   "source": [
    "def print_area(df, mask=None, text_mask=None):\n",
    "    df = df.copy()\n",
    "    if mask is None:\n",
    "        pass\n",
    "    else:\n",
    "        df = df.loc[mask,:]\n",
    "    print(f\"Fläche {text_mask}: {df['flaeche'].sum():0.1f} ha\")"
   ]
  },
  {
   "cell_type": "markdown",
   "metadata": {},
   "source": [
    "# Parameters"
   ]
  },
  {
   "cell_type": "code",
   "execution_count": null,
   "metadata": {},
   "outputs": [],
   "source": [
    "path_entw_system = Path(r\"H:\\2 Projekte\\8000-\\8500er\\8532\\8532.10 GEP Richterswil\\05 Berechnungen Grundlagen\\8 Entwässerungskonzept\\Grundlagen\\Stats_AB-BG-EWD\\System_Ist-geplant.csv\")"
   ]
  },
  {
   "cell_type": "code",
   "execution_count": null,
   "metadata": {},
   "outputs": [],
   "source": [
    "ewd_bz_2005 = {\n",
    "    'Kernzone A': 56,\n",
    "    'Kernzone B': 56,\n",
    "    'Zweigeschossige Wohnzone': 42,\n",
    "    'Dreigeschossige Wohnzone': 107,\n",
    "    'Zweigeschossige Wohnzone mit Gewerbeerleichterung': 40,\n",
    "    'Dreigeschossige Wohnzone mit Gewerbeerleichterung': 68,\n",
    "    'Industriezone': 56,\n",
    "    'Gewerbezone A': 20,\n",
    "    'Gewerbezone B': 95,\n",
    "    'Zone für öffentliche Bauten B': 90,\n",
    "    'Strasse (Ausserorts)': 0,\n",
    "    'Strasse (Innerorts)': 0,\n",
    "    'Strassen (HLS)': 0,\n",
    "    'Bahnareal': 0,\n",
    "    'Freihaltezone kommunal': 0,\n",
    "    'Kantonale Freihaltezone': 0,\n",
    "    'Landwirtschaftszone kommunal': 0,\n",
    "    'Kantonale Landwirtschaftszone': 0,\n",
    "    'Erholungszone': 0,\n",
    "    'Wald': 0\n",
    "}\n",
    "\n",
    "ewd_bz_ist = {\n",
    "    'Kernzone A': 120,\n",
    "    'Kernzone B': 110,\n",
    "    'Industriezone': 56,\n",
    "}\n",
    "\n",
    "ew_ist = 17100\n",
    "ew_plan = 25600"
   ]
  },
  {
   "cell_type": "markdown",
   "metadata": {},
   "source": [
    "# Computations"
   ]
  },
  {
   "cell_type": "code",
   "execution_count": null,
   "metadata": {},
   "outputs": [],
   "source": [
    "entw_system = pd.read_csv(path_entw_system, sep=';', encoding='ANSI')\n",
    "entw_system['flaeche'] /= 1e4"
   ]
  },
  {
   "cell_type": "markdown",
   "metadata": {},
   "source": [
    "## Check Areas"
   ]
  },
  {
   "cell_type": "code",
   "execution_count": null,
   "metadata": {},
   "outputs": [],
   "source": [
    "# Fläche gesamt\n",
    "print_area(entw_system, text_mask='gesamt')\n",
    "\n",
    "# Fläche angeschlossen Ist\n",
    "mask_ist = ~entw_system['knoten_sw_istref'].isna()\n",
    "print_area(entw_system, mask=mask_ist, text_mask='Ist-angeschlossen')\n",
    "\n",
    "# Fläche angeschlossen Planung\n",
    "mask_plan = ~entw_system['knoten_sw_geplantref'].isna()\n",
    "print_area(entw_system, mask=mask_plan, text_mask='Planung-angeschlossen')\n",
    "\n",
    "# Damals überbaut: 499.0 ha"
   ]
  },
  {
   "cell_type": "code",
   "execution_count": null,
   "metadata": {},
   "outputs": [],
   "source": [
    "# Ist - Nur angeschlossene\n",
    "mask = ~entw_system['knoten_sw_istref'].isna()\n",
    "system_ist = entw_system.loc[mask,:].copy(deep=True)\n",
    "\n",
    "# Set EWD-2005\n",
    "system_ist['einwohnerdichte_2005'] = 0.0\n",
    "for bz, ewd in ewd_bz_2005.items():\n",
    "    mask = system_ist['bezeichnung']==bz\n",
    "    system_ist.loc[mask, 'einwohnerdichte_2005'] = ewd\n",
    "\n",
    "# Set EWD-Ist\n",
    "system_ist['einwohnerdichte_ist'] = system_ist['einwohnerdichte_2005']\n",
    "for bz, ewd in ewd_bz_ist.items():\n",
    "    mask = system_ist['bezeichnung']==bz\n",
    "    system_ist.loc[mask, 'einwohnerdichte_ist'] = ewd\n",
    "\n",
    "# Compute EW 2005 / Ist\n",
    "system_ist['ew_2005'] = system_ist['flaeche'] * system_ist['einwohnerdichte_2005']\n",
    "system_ist['ew_ist'] = system_ist['flaeche'] * system_ist['einwohnerdichte_ist']\n",
    "\n",
    "# Compute new EWD-Ist\n",
    "bz_ewd_fix = list(ewd_bz_ist.keys())\n",
    "mask = system_ist['bezeichnung'].isin(bz_ewd_fix)\n",
    "f_ist = (ew_ist - system_ist.loc[mask, 'ew_ist'].sum()) / (system_ist.loc[~mask, 'ew_ist'].sum())\n",
    "system_ist.loc[~mask, 'einwohnerdichte_ist'] *= f_ist # NaN * f_ist = NaN\n",
    "\n",
    "# Compute new EW-Ist\n",
    "system_ist['ew_ist'] = system_ist['flaeche'] * system_ist['einwohnerdichte_ist']"
   ]
  },
  {
   "cell_type": "code",
   "execution_count": null,
   "metadata": {},
   "outputs": [],
   "source": [
    "# Create new dictionary with EWD-Planung (s. ewd_bz_2005)\n",
    "ewd_bz_plan = system_ist.loc[:,['bezeichnung', 'einwohnerdichte_ist']].groupby('bezeichnung').mean() # NaN not included in mean\n",
    "ewd_bz_plan.fillna(0, inplace=True) # Landwirtschaftszone kommunal had mean = NaN\n",
    "ewd_bz_plan = ewd_bz_plan.to_dict()['einwohnerdichte_ist']"
   ]
  },
  {
   "cell_type": "code",
   "execution_count": null,
   "metadata": {},
   "outputs": [],
   "source": [
    "# Planung - Nur angeschlossene\n",
    "mask = ~entw_system['knoten_sw_geplantref'].isna()\n",
    "system_plan = entw_system.loc[mask,:].copy(deep=True)\n",
    "\n",
    "# Set EWD-Planung\n",
    "for bz, ewd in ewd_bz_plan.items():\n",
    "    mask = system_plan['bezeichnung']==bz\n",
    "    system_plan.loc[mask, 'einwohnerdichte_planung'] = ewd\n",
    "\n",
    "# Compute new EWD-Planung\n",
    "f_plan = ew_plan / (system_plan['einwohnerdichte_planung'] * system_plan['flaeche']).sum()\n",
    "system_plan['einwohnerdichte_planung'] *= f_plan\n",
    "\n",
    "# Compute EW-Planung\n",
    "system_plan['ew_planung'] = system_plan['flaeche'] * system_plan['einwohnerdichte_planung']"
   ]
  },
  {
   "cell_type": "code",
   "execution_count": null,
   "metadata": {},
   "outputs": [],
   "source": [
    "# Summary per Bauzone\n",
    "res_ewd = pd.DataFrame(index=sorted(entw_system['bezeichnung'].unique()))\n",
    "res_ewd['flaeche'] = entw_system[['bezeichnung', 'flaeche']].groupby('bezeichnung').sum()\n",
    "res_ewd['flaeche_sw_ist'] = system_ist[['bezeichnung', 'flaeche']].groupby('bezeichnung').sum()\n",
    "res_ewd['flaeche_sw_planung'] = system_plan[['bezeichnung', 'flaeche']].groupby('bezeichnung').sum()\n",
    "res_ewd['einwohnerdichte_2005'] = system_ist[['bezeichnung', 'einwohnerdichte_2005']].groupby('bezeichnung').mean()\n",
    "res_ewd['ew_2005'] = system_ist[['bezeichnung', 'ew_2005']].groupby('bezeichnung').sum()\n",
    "res_ewd['einwohnerdichte_ist'] = system_ist[['bezeichnung', 'einwohnerdichte_ist']].groupby('bezeichnung').mean()\n",
    "res_ewd['ew_ist'] = system_ist[['bezeichnung', 'ew_ist']].groupby('bezeichnung').sum()\n",
    "res_ewd['einwohnerdichte_planung'] = system_plan[['bezeichnung', 'einwohnerdichte_planung']].groupby('bezeichnung').mean()\n",
    "res_ewd['ew_planung'] = system_plan[['bezeichnung', 'ew_planung']].groupby('bezeichnung').sum()\n",
    "\n",
    "# Reorder results\n",
    "order_ewd = [14, 4, 6, 19, 15, 8, 9, 7, 16, 18, 1, 2, 17, 11, 12, 13, 20, 10, 3, 5]\n",
    "res_ewd['order'] = order_ewd\n",
    "res_ewd.sort_values(by='order', inplace=True)\n",
    "\n",
    "# Compute sum / mean\n",
    "sum_idx = 'SUM / MEAN'\n",
    "res_ewd.loc[sum_idx, 'flaeche'] = res_ewd['flaeche'].sum()\n",
    "res_ewd.loc[sum_idx, 'flaeche_sw_ist'] = res_ewd['flaeche_sw_ist'].sum()\n",
    "res_ewd.loc[sum_idx, 'flaeche_sw_planung'] = res_ewd['flaeche_sw_planung'].sum()\n",
    "res_ewd.loc[sum_idx, 'ew_2005'] = res_ewd['ew_2005'].sum()\n",
    "res_ewd.loc[sum_idx, 'ew_ist'] = res_ewd['ew_ist'].sum()\n",
    "res_ewd.loc[sum_idx, 'ew_planung'] = res_ewd['ew_planung'].sum()\n",
    "\n",
    "# Save results\n",
    "save_path = path_entw_system.parent / 'EWD_2005-Ist-Planung.xlsx'\n",
    "res_ewd.to_excel(save_path)"
   ]
  }
 ],
 "metadata": {
  "kernelspec": {
   "display_name": "venv",
   "language": "python",
   "name": "python3"
  },
  "language_info": {
   "codemirror_mode": {
    "name": "ipython",
    "version": 3
   },
   "file_extension": ".py",
   "mimetype": "text/x-python",
   "name": "python",
   "nbconvert_exporter": "python",
   "pygments_lexer": "ipython3",
   "version": "3.11.8"
  }
 },
 "nbformat": 4,
 "nbformat_minor": 2
}
