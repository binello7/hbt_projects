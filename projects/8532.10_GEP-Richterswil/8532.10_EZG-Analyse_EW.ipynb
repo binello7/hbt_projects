{
 "cells": [
  {
   "cell_type": "markdown",
   "metadata": {},
   "source": [
    "# Imports"
   ]
  },
  {
   "cell_type": "code",
   "execution_count": null,
   "metadata": {},
   "outputs": [],
   "source": [
    "import geopandas as gpd\n",
    "import pandas as pd\n",
    "from pathlib import Path"
   ]
  },
  {
   "cell_type": "markdown",
   "metadata": {},
   "source": [
    "# Parameters"
   ]
  },
  {
   "cell_type": "code",
   "execution_count": null,
   "metadata": {},
   "outputs": [],
   "source": [
    "sbw_path = Path(r\"H:\\2 Projekte\\8000-\\8500er\\8532\\8532.10 GEP Richterswil\"\n",
    "    r\"\\05 Berechnungen Grundlagen\\8 Entwässerungskonzept\\SBW im EZG\\230928 Richterswil SK\\Alle_exp_SBW\\Exports\\Teileinzugsgebiete_SBW.shp\")\n",
    "quartiere_path = Path(r\"H:\\2 Projekte\\8000-\\8500er\\8532\\8532.10 GEP Richterswil\"\n",
    "    r\"\\05 Berechnungen Grundlagen\\8 Entwässerungskonzept\\Bevölkerungsanalyse\\Quartieranalyse\\Daten\\Quartieranalyse\\QUARTIERE_F.shp\")\n",
    "sbw_tabelle = Path(r\"H:\\2 Projekte\\8000-\\8500er\\8532\\8532.10 GEP Richterswil\"\n",
    "    r\"\\05 Berechnungen Grundlagen\\8 Entwässerungskonzept\\SBW im EZG\\Richterswil_SBW-Tabelle.csv\")"
   ]
  },
  {
   "cell_type": "markdown",
   "metadata": {},
   "source": [
    "# Analysis"
   ]
  },
  {
   "cell_type": "markdown",
   "metadata": {},
   "source": [
    "## EW pro Sonderbauwerk"
   ]
  },
  {
   "cell_type": "code",
   "execution_count": null,
   "metadata": {},
   "outputs": [],
   "source": [
    "sbw = gpd.read_file(sbw_path)\n",
    "quartiere = gpd.read_file(quartiere_path)\n",
    "df_sbw = pd.read_csv(sbw_tabelle, sep=';')"
   ]
  },
  {
   "cell_type": "code",
   "execution_count": null,
   "metadata": {},
   "outputs": [],
   "source": [
    "# EW dichte GEP\n",
    "sbw['ew_dichte_gep'] = sbw['einwohner'] / sbw.area\n",
    "print(sbw['einwohner'].sum())\n",
    "\n",
    "# EW dichte Quartieranalyse\n",
    "quartiere['ew_dichte_quartiere'] = (quartiere['U_EINW'] + quartiere['U_BESCH']) / quartiere.area\n",
    "print(quartiere['U_EINW'].sum() + quartiere['U_BESCH'].sum())"
   ]
  },
  {
   "cell_type": "code",
   "execution_count": null,
   "metadata": {},
   "outputs": [],
   "source": [
    "print(sbw.geometry.type.unique())\n",
    "print(quartiere.geometry.type.unique())\n",
    "\n",
    "sbw_quartiere = sbw.overlay(quartiere, how='intersection', keep_geom_type=None)\n",
    "sbw_quartiere.rename(columns={'sbw_ref': 'SK ID'}, inplace=True)\n",
    "print(sbw_quartiere.geometry.type.unique())"
   ]
  },
  {
   "cell_type": "code",
   "execution_count": null,
   "metadata": {},
   "outputs": [],
   "source": [
    "sbw_quartiere['einwohner_gep'] = sbw_quartiere['ew_dichte_gep'] * sbw_quartiere.area\n",
    "print(sbw_quartiere['einwohner_gep'].sum())\n",
    "\n",
    "sbw_quartiere['einwohner_quartier'] = sbw_quartiere['ew_dichte_quartiere'] * sbw_quartiere.area\n",
    "print(sbw_quartiere['einwohner_quartier'].sum())"
   ]
  },
  {
   "cell_type": "code",
   "execution_count": null,
   "metadata": {},
   "outputs": [],
   "source": [
    "ew_gep = sbw_quartiere.groupby('SK ID')['einwohner_gep'].sum()\n",
    "ew_gep = pd.merge(ew_gep, df_sbw, on='SK ID')\n",
    "ew_gep = ew_gep[['Name', 'einwohner_gep']]\n",
    "ew_gep.set_index(inplace=True, keys='Name')\n",
    "ew_gep.sort_index(inplace=True)\n",
    "ew_gep"
   ]
  },
  {
   "cell_type": "code",
   "execution_count": null,
   "metadata": {},
   "outputs": [],
   "source": [
    "ew_quartiere = sbw_quartiere.groupby('SK ID')['einwohner_quartier'].sum()\n",
    "ew_quartiere = pd.merge(ew_quartiere, df_sbw, on='SK ID')\n",
    "ew_quartiere = ew_quartiere[['Name', 'einwohner_quartier']]\n",
    "ew_quartiere.set_index(inplace=True, keys='Name')\n",
    "ew_quartiere.sort_index(inplace=True)\n",
    "print(ew_quartiere.sum())\n",
    "ew_quartiere"
   ]
  },
  {
   "cell_type": "code",
   "execution_count": null,
   "metadata": {},
   "outputs": [],
   "source": [
    "ew_sbw = pd.merge(ew_gep, ew_quartiere, on='Name')\n",
    "ew_sbw.loc['Summe','einwohner_gep'] = ew_sbw.iloc[:,0].sum()\n",
    "ew_sbw.loc['Summe','einwohner_quartier'] = ew_sbw.iloc[:,1].sum()"
   ]
  },
  {
   "cell_type": "code",
   "execution_count": null,
   "metadata": {},
   "outputs": [],
   "source": [
    "ew_sbw"
   ]
  },
  {
   "cell_type": "markdown",
   "metadata": {},
   "source": [
    "## EW pro Bauzone"
   ]
  },
  {
   "cell_type": "code",
   "execution_count": null,
   "metadata": {},
   "outputs": [],
   "source": []
  }
 ],
 "metadata": {
  "kernelspec": {
   "display_name": "venv",
   "language": "python",
   "name": "python3"
  },
  "language_info": {
   "codemirror_mode": {
    "name": "ipython",
    "version": 3
   },
   "file_extension": ".py",
   "mimetype": "text/x-python",
   "name": "python",
   "nbconvert_exporter": "python",
   "pygments_lexer": "ipython3",
   "version": "3.10.11"
  }
 },
 "nbformat": 4,
 "nbformat_minor": 2
}
