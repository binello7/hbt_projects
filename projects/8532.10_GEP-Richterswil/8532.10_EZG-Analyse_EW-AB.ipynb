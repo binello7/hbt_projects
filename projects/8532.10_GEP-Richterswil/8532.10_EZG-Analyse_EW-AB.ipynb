{
 "cells": [
  {
   "cell_type": "markdown",
   "metadata": {},
   "source": [
    "# Imports"
   ]
  },
  {
   "cell_type": "code",
   "execution_count": null,
   "metadata": {},
   "outputs": [],
   "source": [
    "import numpy as np\n",
    "import pandas as pd\n",
    "from pathlib import Path"
   ]
  },
  {
   "cell_type": "markdown",
   "metadata": {},
   "source": [
    "# Functions"
   ]
  },
  {
   "cell_type": "code",
   "execution_count": null,
   "metadata": {},
   "outputs": [],
   "source": [
    "def add_sum_col(df):\n",
    "    cols = df.columns\n",
    "    for idx, col in enumerate(cols):\n",
    "        df.loc['Summe',col] = df.iloc[:,idx].sum()\n",
    "#-------------------------------------------------------------------------------\n",
    "\n",
    "def insert_ab_bg_gesamt(df):\n",
    "    # Compute AB / BG gesamt\n",
    "    df['abflussbeiwert_gesamt_ist'] = df['abflussbeiwert_sw_ist'] + df['abflussbeiwert_rw_ist']\n",
    "    df['befestigungsgrad_gesamt_ist'] = df['befestigungsgrad_sw_ist'] + df['befestigungsgrad_rw_ist']\n",
    "#-------------------------------------------------------------------------------\n",
    "\n",
    "def compute_stats(df, on_cols, order=None):\n",
    "    df = df.copy(deep=True)\n",
    "\n",
    "    # Take only 'ueberbaut' = ja\n",
    "    df = df[df['ueberbaut']==1]\n",
    "\n",
    "    res = df[on_cols].groupby('bezeichnung').mean()\n",
    "    res['anzahl'] = df['bezeichnung'].value_counts()\n",
    "    res['flaeche'] = df[['bezeichnung', 'flaeche']].groupby('bezeichnung').sum()\n",
    "\n",
    "    # Reorder data\n",
    "    if order is None:\n",
    "        order = np.array(range(res.shape[0])) + 1\n",
    "    res['order'] = order\n",
    "    res.sort_values(by='order', inplace=True)\n",
    "\n",
    "    return res\n",
    "#-------------------------------------------------------------------------------\n",
    "\n",
    "def check_ab(df, bezeichnung):\n",
    "    df = df.copy(deep=True)\n",
    "    df = df[df['bezeichnung']==bezeichnung]\n",
    "    res = df['abflussbeiwert_gesamt_ist'].value_counts()\n",
    "\n",
    "    return res"
   ]
  },
  {
   "cell_type": "markdown",
   "metadata": {},
   "source": [
    "# Parameters"
   ]
  },
  {
   "cell_type": "code",
   "execution_count": null,
   "metadata": {},
   "outputs": [],
   "source": [
    "ezg_path = Path(r\"H:\\2 Projekte\\8000-\\8500er\\8532\\8532.10 GEP Richterswil\\05 Berechnungen Grundlagen\\8 Entwässerungskonzept\\Grundlagen\\System_Ist_neu\\System_Ist_neu.csv\")\n",
    "save_dir = Path(r\"H:\\2 Projekte\\8000-\\8500er\\8532\\8532.10 GEP Richterswil\\05 Berechnungen Grundlagen\\8 Entwässerungskonzept\\Grundlagen\\Stats_AB-BG-EWD\")\n",
    "\n",
    "order_old = [13, 3, 5, 17, 14, 7, 8, 6, 15, 16, 1, 11, 10, 12, 18, 9, 2, 4]\n",
    "order_new = [14, 4, 6, 18, 15, 8, 9, 7, 16, 17, 1, 2, 11, 12, 13, 19, 10, 3, 5]"
   ]
  },
  {
   "cell_type": "markdown",
   "metadata": {},
   "source": [
    "# EZG neu / alt"
   ]
  },
  {
   "cell_type": "code",
   "execution_count": null,
   "metadata": {},
   "outputs": [],
   "source": [
    "ezg_new = pd.read_csv(ezg_path, sep=';')\n",
    "\n",
    "ab_bg_cols = [\n",
    "    'abflussbeiwert_sw_ist', 'abflussbeiwert_rw_ist',\n",
    "    'befestigungsgrad_sw_ist', 'befestigungsgrad_rw_ist',\n",
    "    'abflussbeiwert_sw_geplant', 'abflussbeiwert_rw_geplant',\n",
    "    'befestigungsgrad_sw_geplant', 'befestigungsgrad_rw_geplant',\n",
    "]\n",
    "\n",
    "ezg_new.loc[:, ab_bg_cols] = ezg_new.loc[:, ab_bg_cols].fillna(value=0.0)\n",
    "insert_ab_bg_gesamt(ezg_new)\n",
    "\n",
    "ezg_old = ezg_new.copy(deep=True)\n",
    "\n",
    "# Set old column 'bezeichnung' -> do not update 'Strasse'\n",
    "exclude_vals=['Strasse (Innerorts)', 'Strasse (Ausserorts)', 'Strassen (HLS)']\n",
    "for idx, val in ezg_old['bezeichnung'].items():\n",
    "    if val not in exclude_vals:\n",
    "        ezg_old.loc[idx, 'bezeichnung'] = ezg_old.loc[idx, 'bauzone_old']\n",
    "ezg_old.loc[ezg_old['bezeichnung'].isna(),'bezeichnung'] = 'Nicht zonierte Fläche'"
   ]
  },
  {
   "cell_type": "code",
   "execution_count": null,
   "metadata": {},
   "outputs": [],
   "source": [
    "on_cols = ['bezeichnung', 'einwohnerdichte_ist', 'abflussbeiwert_gesamt_ist', 'befestigungsgrad_gesamt_ist']\n",
    "res_old = compute_stats(ezg_old, on_cols=on_cols, order=order_old)\n",
    "\n",
    "save_path = save_dir / 'EZG-Stats_alt.xlsx'\n",
    "res_old.to_excel(save_path)"
   ]
  },
  {
   "cell_type": "code",
   "execution_count": null,
   "metadata": {},
   "outputs": [],
   "source": [
    "on_cols = ['bezeichnung', 'einwohnerdichte_ist', 'abflussbeiwert_gesamt_ist', 'befestigungsgrad_gesamt_ist']\n",
    "res_new = compute_stats(ezg_new, on_cols=on_cols, order=order_new)\n",
    "\n",
    "save_path = save_dir / 'EZG-Stats_neu.xlsx'\n",
    "res_new.to_excel(save_path)"
   ]
  },
  {
   "cell_type": "markdown",
   "metadata": {},
   "source": [
    "# Prüfung komische Werte"
   ]
  },
  {
   "cell_type": "code",
   "execution_count": null,
   "metadata": {},
   "outputs": [],
   "source": [
    "bez = 'Zweigeschossige Wohnzone'\n",
    "check_ab(ezg_old, bez)"
   ]
  },
  {
   "cell_type": "code",
   "execution_count": null,
   "metadata": {},
   "outputs": [],
   "source": [
    "bez = 'Dreigeschossige Wohnzone'\n",
    "check_ab(ezg_old, bez)"
   ]
  },
  {
   "cell_type": "code",
   "execution_count": null,
   "metadata": {},
   "outputs": [],
   "source": [
    "bez = 'Zweigeschossige Wohnzone mit Gewerbeerleichterung'\n",
    "check_ab(ezg_old, bez)"
   ]
  },
  {
   "cell_type": "code",
   "execution_count": null,
   "metadata": {},
   "outputs": [],
   "source": [
    "bez = 'Dreigeschossige Wohnzone mit Gewerbeerleichterung'\n",
    "check_ab(ezg_old, bez)"
   ]
  },
  {
   "cell_type": "markdown",
   "metadata": {},
   "source": [
    "# Vorschlag neue EWD"
   ]
  },
  {
   "cell_type": "code",
   "execution_count": null,
   "metadata": {},
   "outputs": [],
   "source": [
    "# All EZG\n",
    "ewd_bz_2005 = {\n",
    "    'Kernzone A': 56,\n",
    "    'Kernzone B': 56,\n",
    "    'Zweigeschossige Wohnzone': 42,\n",
    "    'Dreigeschossige Wohnzone': 107,\n",
    "    'Zweigeschossige Wohnzone mit Gewerbeerleichterung': 40,\n",
    "    'Dreigeschossige Wohnzone mit Gewerbeerleichterung': 68,\n",
    "    'Industriezone': 56,\n",
    "    'Gewerbezone A': 20,\n",
    "    'Gewerbezone B': 95,\n",
    "    'Zone für öffentliche Bauten B': 90,\n",
    "    'Strasse (Ausserorts)': 0,\n",
    "    'Strasse (Innerorts)': 0,\n",
    "    'Strassen (HLS)': 0,\n",
    "    'Bahnareal': 0,\n",
    "    'Freihaltezone kommunal': 0,\n",
    "    'Kantonale Freihaltezone': 0,\n",
    "    'Landwirtschaftszone kommunal': 0,\n",
    "    'Kantonale Landwirtschaftszone': 0,\n",
    "    'Erholungszone': 0,\n",
    "    'Wald': 0\n",
    "}\n",
    "\n",
    "ewd_bz_ist = {\n",
    "    'Kernzone A': 120,\n",
    "    'Kernzone B': 110,\n",
    "    'Industriezone': 56,\n",
    "}\n",
    "\n",
    "ew_ist = 17100\n",
    "ew_plan = 27100\n",
    "\n",
    "\n",
    "ezg_ewd = ezg_new.copy(deep=True)\n",
    "\n",
    "# Keep only needed cols \n",
    "keep_cols = ['bezeichnung', 'einwohnerdichte_ist', 'flaeche', 'ueberbaut']\n",
    "ezg_ewd = ezg_ewd[keep_cols]\n",
    "\n",
    "# Update 'ueberbaut' to be only 0 / 1\n",
    "ezg_ewd['ueberbaut'] = ezg_ewd['ueberbaut'].fillna(0)\n",
    "\n",
    "# Compute 'flaeche_ueberbaut'\n",
    "ezg_ewd['flaeche_ueberbaut'] = ezg_ewd['flaeche']\n",
    "mask = ezg_ewd['ueberbaut'] != 1\n",
    "ezg_ewd.loc[mask, 'flaeche_ueberbaut'] = 0\n",
    "\n",
    "# Set EWD-2005\n",
    "ezg_ewd['einwohnerdichte_2005'] = 0.0\n",
    "for bz, ewd in ewd_bz_2005.items():\n",
    "    mask = ezg_ewd['bezeichnung']==bz\n",
    "    ezg_ewd.loc[mask, 'einwohnerdichte_2005'] = ewd\n",
    "mask = ezg_ewd['ueberbaut'] != 1\n",
    "ezg_ewd.loc[mask, 'einwohnerdichte_2005'] = float('nan')\n",
    "\n",
    "# Set EWD-Ist\n",
    "ezg_ewd['einwohnerdichte_ist'] = ezg_ewd['einwohnerdichte_2005']\n",
    "for bz, ewd in ewd_bz_ist.items():\n",
    "    mask = ezg_ewd['bezeichnung']==bz\n",
    "    ezg_ewd.loc[mask, 'einwohnerdichte_ist'] = ewd\n",
    "mask = ezg_ewd['ueberbaut'] != 1\n",
    "ezg_ewd.loc[mask, 'einwohnerdichte_ist'] = float('nan')\n",
    "\n",
    "# Compute EW 2005 / Ist\n",
    "ezg_ewd['ew_2005'] = ezg_ewd['flaeche'] * ezg_ewd['einwohnerdichte_2005']\n",
    "ezg_ewd['ew_ist'] = ezg_ewd['flaeche'] * ezg_ewd['einwohnerdichte_ist']\n",
    "\n",
    "# Compute new EWD-Ist\n",
    "bz_ewd_fix = list(ewd_bz_ist.keys())\n",
    "mask = ezg_ewd['bezeichnung'].isin(bz_ewd_fix)\n",
    "f_ist = (ew_ist - ezg_ewd.loc[mask, 'ew_ist'].sum()) / (ezg_ewd.loc[~mask, 'ew_ist'].sum())\n",
    "ezg_ewd.loc[~mask, 'einwohnerdichte_ist'] *= f_ist # NaN * f_ist = NaN\n",
    "\n",
    "# Compute new EW-Ist\n",
    "ezg_ewd['ew_ist'] = ezg_ewd['flaeche'] * ezg_ewd['einwohnerdichte_ist']\n",
    "\n",
    "# Set EWD-Planung\n",
    "ewd_bz_plan = ezg_ewd.loc[:,['bezeichnung', 'einwohnerdichte_ist']].groupby('bezeichnung').mean() # NaN not included in mean\n",
    "ewd_bz_plan.fillna(0, inplace=True) # Landwirtschaftszone kommunal had mean = NaN\n",
    "ewd_bz_plan = ewd_bz_plan.to_dict()['einwohnerdichte_ist']\n",
    "\n",
    "ezg_ewd['einwohnerdichte_planung'] = 0.0\n",
    "for bz, ewd in ewd_bz_plan.items():\n",
    "    mask = ezg_ewd['bezeichnung']==bz\n",
    "    ezg_ewd.loc[mask, 'einwohnerdichte_planung'] = ewd\n",
    "\n",
    "# Compute new EWD-Planung\n",
    "f_plan = ew_plan / (ezg_ewd['einwohnerdichte_planung'] * ezg_ewd['flaeche']).sum()\n",
    "ezg_ewd['einwohnerdichte_planung'] *= f_plan\n",
    "\n",
    "# Compute EW-Planung\n",
    "ezg_ewd['ew_planung'] = ezg_ewd['flaeche'] * ezg_ewd['einwohnerdichte_planung']\n",
    "\n",
    "# Reorder columns\n",
    "col_order = [\n",
    "    'bezeichnung', 'flaeche', 'ueberbaut', 'flaeche_ueberbaut',\n",
    "    'einwohnerdichte_2005', 'ew_2005',\n",
    "    'einwohnerdichte_ist', 'ew_ist',\n",
    "    'einwohnerdichte_planung', 'ew_planung']\n",
    "ezg_ewd = ezg_ewd[col_order]\n",
    "\n",
    "# Save to CSV\n",
    "save_path = save_dir / 'EWD_Alle-EZG.csv'\n",
    "ezg_ewd.to_csv(save_path, sep=';')"
   ]
  },
  {
   "cell_type": "code",
   "execution_count": null,
   "metadata": {},
   "outputs": [],
   "source": [
    "# Summary per Bauzone\n",
    "res_ewd = pd.DataFrame(index=sorted(ezg_ewd['bezeichnung'].unique()))\n",
    "res_ewd['flaeche'] = ezg_ewd[['bezeichnung', 'flaeche']].groupby('bezeichnung').sum()\n",
    "res_ewd['ueberbaut'] = ezg_ewd[['bezeichnung', 'ueberbaut']].groupby('bezeichnung').mean()\n",
    "res_ewd['flaeche_ueberbaut'] = ezg_ewd[['bezeichnung', 'flaeche_ueberbaut']].groupby('bezeichnung').sum()\n",
    "res_ewd['einwohnerdichte_2005'] = ezg_ewd[['bezeichnung', 'einwohnerdichte_2005']].groupby('bezeichnung').mean()\n",
    "res_ewd['ew_2005'] = ezg_ewd[['bezeichnung', 'ew_2005']].groupby('bezeichnung').sum()\n",
    "res_ewd['einwohnerdichte_ist'] = ezg_ewd[['bezeichnung', 'einwohnerdichte_ist']].groupby('bezeichnung').mean()\n",
    "res_ewd['ew_ist'] = ezg_ewd[['bezeichnung', 'ew_ist']].groupby('bezeichnung').sum()\n",
    "res_ewd['einwohnerdichte_planung'] = ezg_ewd[['bezeichnung', 'einwohnerdichte_planung']].groupby('bezeichnung').mean()\n",
    "res_ewd['ew_planung'] = ezg_ewd[['bezeichnung', 'ew_planung']].groupby('bezeichnung').sum()\n",
    "\n",
    "# Reorder results\n",
    "order_ewd = [14, 4, 6, 19, 15, 8, 9, 7, 16, 18, 1, 2, 17, 11, 12, 13, 20, 10, 3, 5]\n",
    "res_ewd['order'] = order_ewd\n",
    "res_ewd.sort_values(by='order', inplace=True)\n",
    "\n",
    "# Compute sum / mean\n",
    "sum_idx = 'SUM / MEAN'\n",
    "res_ewd.loc[sum_idx, 'flaeche'] = res_ewd['flaeche'].sum()\n",
    "res_ewd.loc[sum_idx, 'ueberbaut'] = res_ewd['ueberbaut'].mean()\n",
    "res_ewd.loc[sum_idx, 'flaeche_ueberbaut'] = res_ewd['flaeche_ueberbaut'].sum()\n",
    "res_ewd.loc[sum_idx, 'ew_2005'] = res_ewd['ew_2005'].sum()\n",
    "res_ewd.loc[sum_idx, 'ew_ist'] = res_ewd['ew_ist'].sum()\n",
    "res_ewd.loc[sum_idx, 'ew_planung'] = res_ewd['ew_planung'].sum()\n",
    "\n",
    "# Save results\n",
    "save_path = save_dir / 'EWD_Vorschlag-2024.xlsx'\n",
    "res_ewd.to_excel(save_path)"
   ]
  }
 ],
 "metadata": {
  "kernelspec": {
   "display_name": "venv",
   "language": "python",
   "name": "python3"
  },
  "language_info": {
   "codemirror_mode": {
    "name": "ipython",
    "version": 3
   },
   "file_extension": ".py",
   "mimetype": "text/x-python",
   "name": "python",
   "nbconvert_exporter": "python",
   "pygments_lexer": "ipython3",
   "version": "3.11.8"
  }
 },
 "nbformat": 4,
 "nbformat_minor": 2
}
