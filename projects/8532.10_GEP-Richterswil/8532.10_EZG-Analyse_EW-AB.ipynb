{
 "cells": [
  {
   "cell_type": "markdown",
   "metadata": {},
   "source": [
    "# Imports"
   ]
  },
  {
   "cell_type": "code",
   "execution_count": null,
   "metadata": {},
   "outputs": [],
   "source": [
    "import geopandas as gpd\n",
    "import pandas as pd\n",
    "from pathlib import Path"
   ]
  },
  {
   "cell_type": "markdown",
   "metadata": {},
   "source": [
    "# Functions"
   ]
  },
  {
   "cell_type": "code",
   "execution_count": null,
   "metadata": {},
   "outputs": [],
   "source": [
    "def add_sum_col(df):\n",
    "    cols = df.columns\n",
    "    for idx, col in enumerate(cols):\n",
    "        df.loc['Summe',col] = df.iloc[:,idx].sum()"
   ]
  },
  {
   "cell_type": "markdown",
   "metadata": {},
   "source": [
    "# Parameters"
   ]
  },
  {
   "cell_type": "code",
   "execution_count": null,
   "metadata": {},
   "outputs": [],
   "source": [
    "sbw_path = Path(r\"H:\\2 Projekte\\8000-\\8500er\\8532\\8532.10 GEP Richterswil\"\n",
    "    r\"\\05 Berechnungen Grundlagen\\8 Entwässerungskonzept\\SBW im EZG\\240124 Richterswil SK\\Alle_exp_SBW\\Exports\\Teileinzugsgebiet-SBW_Ist.shp\")\n",
    "quartiere_path = Path(r\"H:\\2 Projekte\\8000-\\8500er\\8532\\8532.10 GEP Richterswil\"\n",
    "    r\"\\05 Berechnungen Grundlagen\\8 Entwässerungskonzept\\Bevölkerungsanalyse\\Quartieranalyse\\Daten\\Quartieranalyse\\QUARTIERE_F.shp\")\n",
    "sbw_tabelle = Path(r\"H:\\2 Projekte\\8000-\\8500er\\8532\\8532.10 GEP Richterswil\"\n",
    "    r\"\\05 Berechnungen Grundlagen\\8 Entwässerungskonzept\\SBW im EZG\\Richterswil_SBW-Tabelle.csv\")\n",
    "\n",
    "save_dir = Path(r\"H:\\2 Projekte\\8000-\\8500er\\8532\\8532.10 GEP Richterswil\\05 Berechnungen Grundlagen\\8 Entwässerungskonzept\\SBW im EZG\")"
   ]
  },
  {
   "cell_type": "markdown",
   "metadata": {},
   "source": [
    "# Abflussbeiwert Analysis"
   ]
  },
  {
   "cell_type": "code",
   "execution_count": null,
   "metadata": {},
   "outputs": [],
   "source": [
    "ezg_path = Path(r\"H:\\2 Projekte\\8000-\\8500er\\8532\\8532.10 GEP Richterswil\\05 Berechnungen Grundlagen\"\n",
    "    r\"\\8 Entwässerungskonzept\\SBW im EZG\\240124 Richterswil SK\\Alle_exp_SBW\\Exports\\EZG_ist.csv\")\n",
    "ezg = pd.read_csv(ezg_path, sep=';')\n",
    "\n",
    "# Compute AB / BG gesamt\n",
    "ezg['abflussbeiwert_gesamt_ist'] = ezg['abflussbeiwert_sw_ist'] + ezg['abflussbeiwert_rw_ist']\n",
    "ezg['befestigungsgrad_gesamt_ist'] = ezg['befestigungsgrad_sw_ist'] + ezg['befestigungsgrad_rw_ist']\n",
    "\n",
    "# Rename WG2\n",
    "mask = (ezg['abflussbeiwert_gesamt_ist'] == 35) & (ezg['bezeichnung'] == 'Zweigeschossige Wohn')\n",
    "ezg.loc[mask, 'bezeichnung'] = 'Zweigeschossige Wohnzone mit Gewerbeanteil'\n",
    "\n",
    "# Rename W2\n",
    "mask = ezg['bezeichnung'] == 'Zweigeschossige Wohn'\n",
    "ezg.loc[mask, 'bezeichnung'] = 'Zweigeschossige Wohnzone'\n",
    "\n",
    "# Rename WG3\n",
    "mask = (ezg['abflussbeiwert_gesamt_ist'] == 65) & (ezg['bezeichnung'] == 'Dreigeschossige Wohn')\n",
    "ezg.loc[mask, 'bezeichnung'] = 'Dreigeschossige Wohnzone mit Gewerbeanteil'\n",
    "\n",
    "# Rename W3\n",
    "mask = ezg['bezeichnung'] == 'Dreigeschossige Wohn'\n",
    "ezg.loc[mask, 'bezeichnung'] = 'Dreigeschossige Wohnzone'"
   ]
  },
  {
   "cell_type": "code",
   "execution_count": null,
   "metadata": {},
   "outputs": [],
   "source": [
    "ab_bg_ezg = ezg[['bezeichnung', 'abflussbeiwert_gesamt_ist', 'befestigungsgrad_gesamt_ist']].copy(deep=True)\n",
    "\n",
    "ab_bg_ezg = ab_bg_ezg.groupby('bezeichnung').mean()\n",
    "ab_bg_ezg"
   ]
  },
  {
   "cell_type": "code",
   "execution_count": null,
   "metadata": {},
   "outputs": [],
   "source": [
    "save_path = save_dir / 'EZG-Ist_Vergleich-AB-BG.xlsx'\n",
    "ab_bg_ezg.to_excel(save_path)"
   ]
  },
  {
   "cell_type": "markdown",
   "metadata": {},
   "source": [
    "# Einwohnerdichte Analysis"
   ]
  },
  {
   "cell_type": "code",
   "execution_count": null,
   "metadata": {},
   "outputs": [],
   "source": [
    "name = 'bezeichnung'\n",
    "ew_ist = 18000\n",
    "ew_planung = 28000\n",
    "\n",
    "ewd_ezg = ezg.groupby(name)[['einwohnerdichte_ist']].mean()\n",
    "ewd_ezg.rename(columns={'einwohnerdichte_ist': 'einwohnerdichte_gep-2005'}, inplace=True)\n",
    "ewd_ezg['flaeche'] = ezg.groupby(name)[['flaeche']].sum()\n",
    "ewd_ezg['einwohner_gep-2005'] = ewd_ezg['einwohnerdichte_gep-2005'] * ewd_ezg['flaeche']\n",
    "ewd_ezg['einwohner_ist-2024'] = ewd_ezg['einwohner_gep-2005'] * ew_ist / ewd_ezg['einwohner_gep-2005'].sum()\n",
    "ewd_ezg['einwohnerdichte_ist-2024'] = ewd_ezg['einwohner_ist-2024'] / ewd_ezg['flaeche']\n",
    "ewd_ezg['einwohner_planung-2024'] = ewd_ezg['einwohner_gep-2005'] * ew_planung / ewd_ezg['einwohner_gep-2005'].sum()\n",
    "ewd_ezg['einwohnerdichte_planung-2024'] = ewd_ezg['einwohner_planung-2024'] / ewd_ezg['flaeche']\n",
    "ewd_ezg.loc['SUMME', 'einwohner_gep-2005'] = ewd_ezg['einwohner_gep-2005'].sum()\n",
    "ewd_ezg.loc['SUMME', 'einwohner_ist-2024'] = ewd_ezg['einwohner_ist-2024'].sum()\n",
    "ewd_ezg.loc['SUMME', 'einwohner_planung-2024'] = ewd_ezg['einwohner_planung-2024'].sum()\n",
    "ewd_ezg"
   ]
  },
  {
   "cell_type": "code",
   "execution_count": null,
   "metadata": {},
   "outputs": [],
   "source": [
    "save_path = save_dir / 'EW_Vergleich-GEP-Ist-Planung.xlsx'\n",
    "ewd_ezg.to_excel(save_path)"
   ]
  },
  {
   "cell_type": "markdown",
   "metadata": {},
   "source": [
    "# Einwohner Analysis"
   ]
  },
  {
   "cell_type": "markdown",
   "metadata": {},
   "source": [
    "## Read Files"
   ]
  },
  {
   "cell_type": "code",
   "execution_count": null,
   "metadata": {},
   "outputs": [],
   "source": [
    "sbw = gpd.read_file(sbw_path)\n",
    "quartiere = gpd.read_file(quartiere_path)\n",
    "df_sbw = pd.read_csv(sbw_tabelle, sep=';')"
   ]
  },
  {
   "cell_type": "code",
   "execution_count": null,
   "metadata": {},
   "outputs": [],
   "source": [
    "# sbw.rename(columns={'sbw_ref': 'SK ID'}, inplace=True)\n",
    "# sbw = pd.merge(sbw, df_sbw, on='SK ID')"
   ]
  },
  {
   "cell_type": "code",
   "execution_count": null,
   "metadata": {},
   "outputs": [],
   "source": [
    "name = 'U_ZONE_KT'\n",
    "ew_bz = sbw_quartiere.groupby(name)[['einwohner_gep', 'einwohner_quartiere']].sum()\n",
    "add_sum_col(ew_bz)\n",
    "ew_bz"
   ]
  },
  {
   "cell_type": "code",
   "execution_count": null,
   "metadata": {},
   "outputs": [],
   "source": [
    "# EW dichte GEP\n",
    "sbw['ew_dichte_gep'] = sbw['einwohner'] / sbw.area\n",
    "print(sbw['einwohner'].sum())\n",
    "\n",
    "# EW dichte Quartieranalyse\n",
    "quartiere['ew_dichte_quartiere'] = (quartiere['U_EINW'] + quartiere['U_BESCH']) / quartiere.area\n",
    "print(quartiere['U_EINW'].sum() + quartiere['U_BESCH'].sum())"
   ]
  },
  {
   "cell_type": "code",
   "execution_count": null,
   "metadata": {},
   "outputs": [],
   "source": [
    "print(sbw.geometry.type.unique())\n",
    "print(quartiere.geometry.type.unique())\n",
    "\n",
    "sbw_quartiere = sbw.overlay(quartiere, how='intersection', keep_geom_type=None)\n",
    "print(sbw_quartiere.geometry.type.unique())"
   ]
  },
  {
   "cell_type": "code",
   "execution_count": null,
   "metadata": {},
   "outputs": [],
   "source": [
    "sbw_quartiere['einwohner_gep'] = sbw_quartiere['ew_dichte_gep'] * sbw_quartiere.area\n",
    "print(sbw_quartiere['einwohner_gep'].sum())\n",
    "\n",
    "sbw_quartiere['einwohner_quartiere'] = sbw_quartiere['ew_dichte_quartiere'] * sbw_quartiere.area\n",
    "print(sbw_quartiere['einwohner_quartiere'].sum())"
   ]
  },
  {
   "cell_type": "markdown",
   "metadata": {},
   "source": [
    "## EW pro Sonderbauwerk"
   ]
  },
  {
   "cell_type": "code",
   "execution_count": null,
   "metadata": {},
   "outputs": [],
   "source": [
    "sbw_quartiere.set_index('Name', inplace=True)\n",
    "ew_sbw = sbw_quartiere.groupby('Name')[['einwohner_gep', 'einwohner_quartiere']].sum()\n",
    "add_sum_col(ew_sbw)\n",
    "ew_sbw"
   ]
  },
  {
   "cell_type": "markdown",
   "metadata": {},
   "source": [
    "## EW pro Bauzone"
   ]
  }
 ],
 "metadata": {
  "kernelspec": {
   "display_name": "venv",
   "language": "python",
   "name": "python3"
  },
  "language_info": {
   "codemirror_mode": {
    "name": "ipython",
    "version": 3
   },
   "file_extension": ".py",
   "mimetype": "text/x-python",
   "name": "python",
   "nbconvert_exporter": "python",
   "pygments_lexer": "ipython3",
   "version": "3.11.8"
  }
 },
 "nbformat": 4,
 "nbformat_minor": 2
}
