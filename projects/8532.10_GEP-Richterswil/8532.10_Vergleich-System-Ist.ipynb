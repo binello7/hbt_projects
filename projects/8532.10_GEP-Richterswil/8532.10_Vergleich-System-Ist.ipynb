{
 "cells": [
  {
   "cell_type": "markdown",
   "metadata": {},
   "source": [
    "# Imports"
   ]
  },
  {
   "cell_type": "code",
   "execution_count": null,
   "metadata": {},
   "outputs": [],
   "source": [
    "import geopandas as gpd\n",
    "from pathlib import Path"
   ]
  },
  {
   "cell_type": "markdown",
   "metadata": {},
   "source": [
    "# Parameters"
   ]
  },
  {
   "cell_type": "code",
   "execution_count": null,
   "metadata": {},
   "outputs": [],
   "source": [
    "shp_path = Path(r\"H:\\2 Projekte\\8000-\\8500er\\8532\\8532.10 GEP Richterswil\\05 Berechnungen Grundlagen\"\n",
    "    r\"\\8 Entwässerungskonzept\\Grundlagen\\System_Ist_neu\\System_Ist_neu.shp\")"
   ]
  },
  {
   "cell_type": "markdown",
   "metadata": {},
   "source": [
    "# Code"
   ]
  },
  {
   "cell_type": "code",
   "execution_count": null,
   "metadata": {},
   "outputs": [],
   "source": [
    "system_ist = gpd.read_file(shp_path)\n",
    "system_ist.rename(columns={'R1_BEZEICH': 'bauzone_neu'}, inplace=True)\n",
    "\n",
    "old_cols = system_ist.columns.tolist()\n",
    "new_cols = old_cols[:17] + old_cols[18:] + [old_cols[17]]\n",
    "system_ist = system_ist[new_cols]\n",
    "\n",
    "system_ist['flaeche'] = system_ist.area\n",
    "system_ist.drop(columns=['geometry'], inplace=True)"
   ]
  },
  {
   "cell_type": "code",
   "execution_count": null,
   "metadata": {},
   "outputs": [],
   "source": [
    "for id in system_ist['id']:\n",
    "    mask = system_ist['id'] == id\n",
    "    tmp = system_ist[mask]\n",
    "    if tmp.shape[0] > 1:\n",
    "        idx_max = tmp['flaeche'].idxmax()\n",
    "        indexes = list(tmp.index)\n",
    "        indexes.remove(idx_max)\n",
    "        system_ist.drop(index=indexes, inplace=True)"
   ]
  },
  {
   "cell_type": "code",
   "execution_count": null,
   "metadata": {},
   "outputs": [],
   "source": [
    "def a_b_compare(a, b):\n",
    "    if a == b:\n",
    "        return True\n",
    "    else:\n",
    "        return False\n",
    "system_ist['bz_aendert'] = system_ist.apply(lambda x: a_b_compare(x.bauzone, x.bauzone_neu), axis=1)"
   ]
  },
  {
   "cell_type": "code",
   "execution_count": null,
   "metadata": {},
   "outputs": [],
   "source": [
    "save_path = shp_path.parent / 'System_Ist_neu.xlsx'\n",
    "system_ist.to_excel(save_path)"
   ]
  }
 ],
 "metadata": {
  "kernelspec": {
   "display_name": "venv",
   "language": "python",
   "name": "python3"
  },
  "language_info": {
   "codemirror_mode": {
    "name": "ipython",
    "version": 3
   },
   "file_extension": ".py",
   "mimetype": "text/x-python",
   "name": "python",
   "nbconvert_exporter": "python",
   "pygments_lexer": "ipython3",
   "version": "3.11.8"
  }
 },
 "nbformat": 4,
 "nbformat_minor": 2
}
