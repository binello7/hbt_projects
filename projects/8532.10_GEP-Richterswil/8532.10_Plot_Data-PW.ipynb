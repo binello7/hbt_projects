{
 "cells": [
  {
   "cell_type": "markdown",
   "metadata": {},
   "source": [
    "# Imports"
   ]
  },
  {
   "cell_type": "code",
   "execution_count": null,
   "metadata": {},
   "outputs": [],
   "source": [
    "import pandas as pd\n",
    "from pathlib import Path\n",
    "from plotly import graph_objects as go\n",
    "from plotly.subplots import make_subplots\n",
    "from hbt_tools import messdatenbank as mdb"
   ]
  },
  {
   "cell_type": "markdown",
   "metadata": {},
   "source": [
    "# Parameters"
   ]
  },
  {
   "cell_type": "code",
   "execution_count": null,
   "metadata": {},
   "outputs": [],
   "source": [
    "path_dir = Path(r\"H:\\2 Projekte\\8000-\\8500er\\8532\\8532.10 GEP Richterswil\\05 Berechnungen Grundlagen\\8 Entwässerungskonzept\\TS Pumpwerke\")\n",
    "path_data = Path(r\"H:\\2 Projekte\\8000-\\8500er\\8532\\8532.10 GEP Richterswil\\05 Berechnungen Grundlagen\\8 Entwässerungskonzept\\TS Pumpwerke\"\n",
    "    r\"\\231206_15.45Uhr_Daten_PW_2307-08.csv\")"
   ]
  },
  {
   "cell_type": "markdown",
   "metadata": {},
   "source": [
    "# Read Data"
   ]
  },
  {
   "cell_type": "code",
   "execution_count": null,
   "metadata": {},
   "outputs": [],
   "source": [
    "# PW Data\n",
    "data = pd.read_csv(path_data, sep=';')\n",
    "data.set_index('Datum_Zeit', inplace=True)\n",
    "date_format = '%d.%m.%Y %H:%M:%S'\n",
    "data.index = pd.to_datetime(data.index, format=date_format)"
   ]
  },
  {
   "cell_type": "code",
   "execution_count": null,
   "metadata": {},
   "outputs": [],
   "source": [
    "# Rain Data\n",
    "date_from = data.index[0]\n",
    "date_to = data.index[-1]\n",
    "id = 1780\n",
    "rain = mdb.get_data(id, date_from, date_to)"
   ]
  },
  {
   "cell_type": "markdown",
   "metadata": {},
   "source": [
    "# Plots"
   ]
  },
  {
   "cell_type": "code",
   "execution_count": null,
   "metadata": {},
   "outputs": [],
   "source": [
    "save_dir = path_dir / 'Plots'\n",
    "if not save_dir.exists():\n",
    "    save_dir.mkdir()\n",
    "\n",
    "fig = make_subplots(specs=[[{\"secondary_y\": True}]])\n",
    "fig.add_trace(go.Scatter(x=rain.index, y=rain.iloc[:,0], name='Regen WAE'), secondary_y=True)\n",
    "for col in data.columns:\n",
    "    name = col.split(';')[0]\n",
    "    pw_data = data[col]\n",
    "\n",
    "    fig.add_trace(go.Scatter(x=pw_data.index, y=pw_data.iloc[:], name=name), secondary_y=False)\n",
    "\n",
    "save_path = save_dir / f\"Plot_PWs.html\"\n",
    "fig.write_html(save_path)"
   ]
  }
 ],
 "metadata": {
  "kernelspec": {
   "display_name": "venv",
   "language": "python",
   "name": "python3"
  },
  "language_info": {
   "codemirror_mode": {
    "name": "ipython",
    "version": 3
   },
   "file_extension": ".py",
   "mimetype": "text/x-python",
   "name": "python",
   "nbconvert_exporter": "python",
   "pygments_lexer": "ipython3",
   "version": "3.10.11"
  }
 },
 "nbformat": 4,
 "nbformat_minor": 2
}
