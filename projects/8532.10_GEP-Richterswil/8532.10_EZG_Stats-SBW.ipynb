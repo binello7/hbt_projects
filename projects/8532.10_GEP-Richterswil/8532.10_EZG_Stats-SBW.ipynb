{
 "cells": [
  {
   "cell_type": "markdown",
   "metadata": {},
   "source": [
    "# Imports"
   ]
  },
  {
   "cell_type": "code",
   "execution_count": 77,
   "metadata": {},
   "outputs": [],
   "source": [
    "import numpy as np\n",
    "import pandas as pd\n",
    "from pathlib import Path"
   ]
  },
  {
   "cell_type": "markdown",
   "metadata": {},
   "source": [
    "# Parameters"
   ]
  },
  {
   "cell_type": "code",
   "execution_count": 78,
   "metadata": {},
   "outputs": [],
   "source": [
    "path_ezg = Path(r\"H:\\2 Projekte\\8000-\\8500er\\8532\\8532.10 GEP Richterswil\\05 Berechnungen Grundlagen\\8 Entwässerungskonzept\\SIMBA Modell\\01_Grundlagen\\EZG_Ist_240319.xlsx\")"
   ]
  },
  {
   "cell_type": "markdown",
   "metadata": {},
   "source": [
    "# Code"
   ]
  },
  {
   "cell_type": "code",
   "execution_count": 79,
   "metadata": {},
   "outputs": [],
   "source": [
    "# Read data\n",
    "ezg = pd.read_excel(path_ezg)\n",
    "ezg['flaeche'] = ezg['flaeche'] / 1e4 # m2 -> ha"
   ]
  },
  {
   "cell_type": "code",
   "execution_count": 80,
   "metadata": {},
   "outputs": [],
   "source": [
    "# Ist-Zustand\n",
    "ezg.columns\n",
    "sbw_ids = ezg['sbw_sw_istref'].unique()\n",
    "\n",
    "stats = pd.DataFrame(index=sbw_ids)\n",
    "stats.index = stats.index.dropna()\n",
    "columns = ['flaeche', 'flaeche_sw_red', 'flaeche_sw_bef', 'ewz']\n",
    "stats\n",
    "for id in stats.index:\n",
    "    mask = ezg['sbw_sw_istref'] == id\n",
    "    df = ezg.loc[mask,:]\n",
    "\n",
    "    f_tot = df['flaeche'].sum()\n",
    "    stats.loc[id, 'flaeche'] = f_tot\n",
    "\n",
    "    f_sw_red = (df['flaeche'] * df['abflussbeiwert_sw_ist']).sum()\n",
    "    stats.loc[id, 'flaeche_sw_red'] = f_sw_red\n",
    "\n",
    "    f_sw_bef = (df['flaeche'] * df['befestigungsgrad_sw_ist']).sum()\n",
    "    stats.loc[id, 'flaeche_sw_bef'] = f_sw_bef\n",
    "\n",
    "    ewz = (df['flaeche'] * df['einwohnerdichte_ist']).sum()\n",
    "    stats.loc[id, 'ewz'] = ewz"
   ]
  },
  {
   "cell_type": "code",
   "execution_count": 81,
   "metadata": {},
   "outputs": [],
   "source": [
    "save_dir = path_ezg.parent\n",
    "save_path = save_dir / 'SBW_Ist_240319.xlsx'\n",
    "stats.to_excel(save_path)"
   ]
  }
 ],
 "metadata": {
  "kernelspec": {
   "display_name": "venv",
   "language": "python",
   "name": "python3"
  },
  "language_info": {
   "codemirror_mode": {
    "name": "ipython",
    "version": 3
   },
   "file_extension": ".py",
   "mimetype": "text/x-python",
   "name": "python",
   "nbconvert_exporter": "python",
   "pygments_lexer": "ipython3",
   "version": "3.11.8"
  }
 },
 "nbformat": 4,
 "nbformat_minor": 2
}
