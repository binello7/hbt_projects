{
 "cells": [
  {
   "cell_type": "markdown",
   "metadata": {},
   "source": [
    "# Imports"
   ]
  },
  {
   "cell_type": "code",
   "execution_count": null,
   "metadata": {},
   "outputs": [],
   "source": [
    "import pandas as pd\n",
    "from datetime import datetime as dt\n",
    "from hbt_tools import messdatenbank as mdb\n",
    "from pathlib import Path\n",
    "from plotly import graph_objects as go\n",
    "from plotly.subplots import make_subplots"
   ]
  },
  {
   "cell_type": "markdown",
   "metadata": {},
   "source": [
    "# Parameters"
   ]
  },
  {
   "cell_type": "code",
   "execution_count": null,
   "metadata": {},
   "outputs": [],
   "source": [
    "dir_path = Path(r\"H:\\2 Projekte\\8000-\\8500er\\8532\\8532.10 GEP Richterswil\"\n",
    "    r\"\\05 Berechnungen Grundlagen\\8 Entwässerungskonzept\\SIMBA Modell\\06_Auswertungsskript_Visualisierung\")"
   ]
  },
  {
   "cell_type": "markdown",
   "metadata": {},
   "source": [
    "# Read Data"
   ]
  },
  {
   "cell_type": "code",
   "execution_count": null,
   "metadata": {},
   "outputs": [],
   "source": [
    "file_path = dir_path / 'Entlastungskennzahlen-SBW_2023-10-26.xlsx'\n",
    "date_format = '%Y-%m-%d %H:%M:%S'\n",
    "data = pd.read_excel(file_path, index_col=0, parse_dates=[0], date_format=date_format, skiprows=[1])"
   ]
  },
  {
   "cell_type": "code",
   "execution_count": null,
   "metadata": {},
   "outputs": [],
   "source": [
    "id = 1780\n",
    "date_from = dt(2019, 9, 21)\n",
    "date_to = dt(2023, 10, 14)\n",
    "rain = mdb.get_data(id, date_from, date_to)"
   ]
  },
  {
   "cell_type": "code",
   "execution_count": null,
   "metadata": {},
   "outputs": [],
   "source": [
    "rain['kumulativ [mm]'] = rain.cumsum()"
   ]
  },
  {
   "cell_type": "markdown",
   "metadata": {},
   "source": [
    "# Plots"
   ]
  },
  {
   "cell_type": "code",
   "execution_count": null,
   "metadata": {},
   "outputs": [],
   "source": [
    "fig = make_subplots(specs=[[{\"secondary_y\": True}]])\n",
    "for name in data.columns:\n",
    "    fig.add_trace(go.Scatter(x=data.index, y=data[name], name=name))\n",
    "\n",
    "fig.add_trace(go.Scatter(x=rain.index, y=rain.iloc[:,1], name='Regen WAE [mm]',\n",
    "    line=dict(color='blue', dash='dash')), secondary_y=True, )\n",
    "\n",
    "fig.update_layout(title='Entlastungsdauer SBW')\n",
    "fig.update_xaxes(title='Zeit')\n",
    "fig.update_yaxes(title='Dauer Entlastung [min]')\n",
    "\n",
    "save_path = dir_path / 'Entlastungsdauer-SBW.html'\n",
    "fig.write_html(save_path)"
   ]
  },
  {
   "cell_type": "markdown",
   "metadata": {},
   "source": [
    "# Analysis"
   ]
  },
  {
   "cell_type": "code",
   "execution_count": null,
   "metadata": {},
   "outputs": [],
   "source": [
    "sum_entlastungen = data.groupby(pd.Grouper(freq='Y')).sum() / 60\n",
    "sum_entlastungen"
   ]
  }
 ],
 "metadata": {
  "kernelspec": {
   "display_name": "venv",
   "language": "python",
   "name": "python3"
  },
  "language_info": {
   "codemirror_mode": {
    "name": "ipython",
    "version": 3
   },
   "file_extension": ".py",
   "mimetype": "text/x-python",
   "name": "python",
   "nbconvert_exporter": "python",
   "pygments_lexer": "ipython3",
   "version": "3.10.11"
  }
 },
 "nbformat": 4,
 "nbformat_minor": 2
}
