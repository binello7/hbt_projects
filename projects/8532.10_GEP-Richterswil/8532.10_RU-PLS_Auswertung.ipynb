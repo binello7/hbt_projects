{
 "cells": [
  {
   "attachments": {},
   "cell_type": "markdown",
   "metadata": {},
   "source": [
    "# Imports"
   ]
  },
  {
   "cell_type": "code",
   "execution_count": 28,
   "metadata": {},
   "outputs": [],
   "source": [
    "import pandas as pd\n",
    "from datetime import datetime as dt\n",
    "from pathlib import Path\n",
    "from plotly import graph_objects as go"
   ]
  },
  {
   "attachments": {},
   "cell_type": "markdown",
   "metadata": {},
   "source": [
    "# Settings"
   ]
  },
  {
   "cell_type": "code",
   "execution_count": 29,
   "metadata": {},
   "outputs": [],
   "source": [
    "inputs_dir = Path(r\"H:\\2 Projekte\\8000-\\8500er\\8532\\8532.10 GEP Richterswil\"\n",
    "    r\"\\05 Berechnungen Grundlagen\\13 Nachrüstung RÜ\\Datenauswertung\\Monatsdaten\")\n",
    "\n",
    "save_dir = Path(r\"H:\\2 Projekte\\8000-\\8500er\\8532\\8532.10 GEP Richterswil\"\n",
    "    r\"\\05 Berechnungen Grundlagen\\13 Nachrüstung RÜ\\Datenauswertung\\Plots\")\n",
    "\n",
    "idx_niveaus = [0,3,6,9]\n",
    "\n",
    "prop_dict = {\n",
    "    'Niveau HE Schulstrasse [cm]': {\n",
    "        'datum_ok': dt(2023, 3, 1, 16),\n",
    "        'h_entlastung': 121\n",
    "    },\n",
    "\n",
    "    'Niveau HE Löchliweg [cm]': {\n",
    "        'datum_ok': dt(2000, 1, 1),\n",
    "        'h_entlastung': 37\n",
    "    },\n",
    "\n",
    "    'Niveau HE Bodenstrasse [cm]': {\n",
    "        'datum_ok': dt(2023, 3, 23, 9, 30),\n",
    "        'h_entlastung': 30\n",
    "    },\n",
    "\n",
    "    'Niveau HE Mülenen [cm]': {\n",
    "        'datum_ok': dt(2023, 3, 23, 16),\n",
    "        'h_entlastung': 0\n",
    "    }\n",
    "}"
   ]
  },
  {
   "attachments": {},
   "cell_type": "markdown",
   "metadata": {},
   "source": [
    "# Read data"
   ]
  },
  {
   "cell_type": "code",
   "execution_count": 30,
   "metadata": {},
   "outputs": [],
   "source": [
    "files_list = list(inputs_dir.glob('*.csv'))"
   ]
  },
  {
   "cell_type": "code",
   "execution_count": 31,
   "metadata": {},
   "outputs": [],
   "source": [
    "datumstr_list = sorted([x.stem.split('_')[-1] for x in files_list])\n",
    "datum1 = datumstr_list[0]\n",
    "datum2 = datumstr_list[-1]"
   ]
  },
  {
   "cell_type": "code",
   "execution_count": 32,
   "metadata": {},
   "outputs": [],
   "source": [
    "date_format = '%d.%m.%Y %H:%M'\n",
    "data = []\n",
    "for file in files_list:\n",
    "    df = pd.read_csv(file, sep=';', header='infer', index_col=0, parse_dates=[0],\n",
    "        date_format=date_format)\n",
    "    cols_dict = {}\n",
    "    for col_name_old in df.columns:\n",
    "        col_name_new = col_name_old.replace('\\t', '; ')\n",
    "        cols_dict.update({col_name_old: col_name_new})\n",
    "    df.rename(columns=cols_dict, inplace=True)\n",
    "\n",
    "    data.append(df)\n",
    "data = pd.concat(data)\n",
    "data.sort_index(inplace=True)"
   ]
  },
  {
   "attachments": {},
   "cell_type": "markdown",
   "metadata": {},
   "source": [
    "# Plots"
   ]
  },
  {
   "cell_type": "markdown",
   "metadata": {},
   "source": [
    "## Niveaus"
   ]
  },
  {
   "cell_type": "code",
   "execution_count": 34,
   "metadata": {},
   "outputs": [],
   "source": [
    "niveaus = data.iloc[:,idx_niveaus]\n",
    "fig = go.Figure()\n",
    "for name in niveaus:\n",
    "    fig.add_trace(go.Scatter(x=niveaus.index, y=niveaus[name], name=name))\n",
    "\n",
    "fig.update_xaxes(title='Zeit')\n",
    "fig.update_yaxes(title='Niveau [cm]')\n",
    "\n",
    "save_path = save_dir / f'Niveaus_alle_{datum1}-{datum2}.html'\n",
    "fig.write_html(save_path)"
   ]
  },
  {
   "cell_type": "markdown",
   "metadata": {},
   "source": [
    "## Anzahl Entlastungen"
   ]
  },
  {
   "cell_type": "code",
   "execution_count": 35,
   "metadata": {},
   "outputs": [],
   "source": [
    "n_entlastungen = data.iloc[:,[1,4,7,10,12]]\n",
    "fig = go.Figure()\n",
    "for name in n_entlastungen:\n",
    "    fig.add_trace(go.Scatter(x=n_entlastungen.index, y=n_entlastungen[name], name=name))\n",
    "\n",
    "fig.update_xaxes(title='Zeit')\n",
    "fig.update_yaxes(title='Anzahl Entlastungen')\n",
    "\n",
    "save_path = save_dir / f'Anzahl-Entlastungen_alle_{datum1}-{datum2}.html'\n",
    "fig.write_html(save_path)"
   ]
  }
 ],
 "metadata": {
  "kernelspec": {
   "display_name": "hbt_projects",
   "language": "python",
   "name": "python3"
  },
  "language_info": {
   "codemirror_mode": {
    "name": "ipython",
    "version": 3
   },
   "file_extension": ".py",
   "mimetype": "text/x-python",
   "name": "python",
   "nbconvert_exporter": "python",
   "pygments_lexer": "ipython3",
   "version": "3.11.7"
  },
  "orig_nbformat": 4
 },
 "nbformat": 4,
 "nbformat_minor": 2
}
