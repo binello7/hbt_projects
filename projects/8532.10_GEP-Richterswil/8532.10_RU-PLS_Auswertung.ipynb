{
 "cells": [
  {
   "attachments": {},
   "cell_type": "markdown",
   "metadata": {},
   "source": [
    "# Imports"
   ]
  },
  {
   "cell_type": "code",
   "execution_count": null,
   "metadata": {},
   "outputs": [],
   "source": [
    "import pandas as pd\n",
    "from datetime import datetime as dt\n",
    "from datetime import timedelta as td\n",
    "from pathlib import Path\n",
    "from plotly import graph_objects as go\n",
    "from hbt_tools import plots as hp\n",
    "from hbt_tools.utils_hbt import mdb_getdata"
   ]
  },
  {
   "attachments": {},
   "cell_type": "markdown",
   "metadata": {},
   "source": [
    "# Settings"
   ]
  },
  {
   "cell_type": "code",
   "execution_count": null,
   "metadata": {},
   "outputs": [],
   "source": [
    "inputs_dir = Path(r\"H:\\2 Projekte\\8000-\\8500er\\8532\\8532.10 GEP Richterswil\"\n",
    "    r\"\\05 Berechnungen Grundlagen\\13 Nachrüstung RÜ\\Datenauswertung\\Monatsdaten\")\n",
    "\n",
    "save_dir = Path(r\"H:\\2 Projekte\\8000-\\8500er\\8532\\8532.10 GEP Richterswil\"\n",
    "    r\"\\05 Berechnungen Grundlagen\\13 Nachrüstung RÜ\\Datenauswertung\\Plots\")\n",
    "\n",
    "idx_niveaus = [0,3,6,9]\n",
    "\n",
    "prop_dict = {\n",
    "    'RÜ Schulstrasse; Niveau Istwert; A04.MA.11; Einheit: cm': {\n",
    "        'h_entlastung': 121\n",
    "    },\n",
    "\n",
    "    'RÜ Löchliweg; Niveau Istwert; A16.MA.01; Einheit: cm': {\n",
    "        'h_entlastung': 37\n",
    "    },\n",
    "\n",
    "    'RÜ Bodenstrasse; Niveau Istwert; A15.MA.01; Einheit: cm': {\n",
    "        'h_entlastung': 30\n",
    "    },\n",
    "\n",
    "    'RÜ Mülenen; Niveau Istwert; A11.MA.01; Einheit: cm': {\n",
    "        'h_entlastung': 0\n",
    "    }\n",
    "}\n"
   ]
  },
  {
   "attachments": {},
   "cell_type": "markdown",
   "metadata": {},
   "source": [
    "# Read data"
   ]
  },
  {
   "cell_type": "markdown",
   "metadata": {},
   "source": [
    "## Rain data"
   ]
  },
  {
   "cell_type": "code",
   "execution_count": null,
   "metadata": {},
   "outputs": [],
   "source": [
    "id = 1780\n",
    "start_date = dt(2023, 3, 1)\n",
    "end_date = dt(2023, 12, 1)\n",
    "rain = mdb_getdata(id, start_date, end_date)"
   ]
  },
  {
   "cell_type": "markdown",
   "metadata": {},
   "source": [
    "## PLS Exports"
   ]
  },
  {
   "cell_type": "code",
   "execution_count": null,
   "metadata": {},
   "outputs": [],
   "source": [
    "files_list = list(inputs_dir.glob('*.csv'))"
   ]
  },
  {
   "cell_type": "code",
   "execution_count": null,
   "metadata": {},
   "outputs": [],
   "source": [
    "datumstr_list = sorted([x.stem.split('_')[-1] for x in files_list])\n",
    "datum1 = datumstr_list[0]\n",
    "datum2 = datumstr_list[-1]"
   ]
  },
  {
   "cell_type": "code",
   "execution_count": null,
   "metadata": {},
   "outputs": [],
   "source": [
    "date_format = '%d.%m.%Y %H:%M'\n",
    "data = []\n",
    "for file in files_list:\n",
    "    df = pd.read_csv(file, sep=';', header='infer', index_col=0, parse_dates=[0],\n",
    "        date_format=date_format)\n",
    "    cols_dict = {}\n",
    "    for col_name_old in df.columns:\n",
    "        col_name_new = col_name_old.replace('\\t', '; ')\n",
    "        cols_dict.update({col_name_old: col_name_new})\n",
    "    df.rename(columns=cols_dict, inplace=True)\n",
    "\n",
    "    data.append(df)\n",
    "data = pd.concat(data)\n",
    "data.sort_index(inplace=True)"
   ]
  },
  {
   "cell_type": "markdown",
   "metadata": {},
   "source": [
    "## Wiesengrundstrasse"
   ]
  },
  {
   "cell_type": "code",
   "execution_count": null,
   "metadata": {},
   "outputs": [],
   "source": [
    "# Wiesengrundstrasse\n",
    "file_path = Path(r\"H:\\2 Projekte\\8000-\\8500er\\8532\\8532.10 GEP Richterswil\"\n",
    "    r\"\\05 Berechnungen Grundlagen\\13 Nachrüstung RÜ\\Datenauswertung\\Exports_XLS\\Wiesengrundstrasse Surverse.xls\")\n",
    "\n",
    "wiesengrund_data = pd.read_excel(file_path, sheet_name='data')\n",
    "wiesengrund_data.set_index('Date', inplace=True)\n",
    "\n",
    "\n",
    "wiesengrund_surverse = pd.read_excel(file_path, sheet_name='surverse')\n",
    "wiesengrund_surverse.set_index('Date', inplace=True)\n",
    "\n",
    "def str_to_td(td_str):\n",
    "    delta_t = dt.strptime(td_str, '%H:%M:%S')\n",
    "    delta_t = td(hours=delta_t.hour, minutes=delta_t.minute, seconds=delta_t.second)\n",
    "    delta_t = delta_t.total_seconds() / 60 # sec -> min\n",
    "    return delta_t\n",
    "\n",
    "wiesengrund_surverse.iloc[:,2] = wiesengrund_surverse.iloc[:,2].apply(lambda x: str_to_td(x))"
   ]
  },
  {
   "attachments": {},
   "cell_type": "markdown",
   "metadata": {},
   "source": [
    "# Plots"
   ]
  },
  {
   "cell_type": "markdown",
   "metadata": {},
   "source": [
    "## Niveaus zusammen"
   ]
  },
  {
   "cell_type": "code",
   "execution_count": null,
   "metadata": {},
   "outputs": [],
   "source": [
    "niveaus = data.iloc[:,idx_niveaus]\n",
    "fig = go.Figure()\n",
    "for name in niveaus:\n",
    "    fig.add_trace(go.Scatter(x=niveaus.index, y=niveaus[name], name=name))\n",
    "\n",
    "fig.update_xaxes(title='Zeit')\n",
    "fig.update_yaxes(title='Niveau [cm]')\n",
    "\n",
    "save_path = save_dir / f'Niveaus_alle_{datum1}-{datum2}.html'\n",
    "fig.write_html(save_path)"
   ]
  },
  {
   "cell_type": "markdown",
   "metadata": {},
   "source": [
    "## Niveaus separat"
   ]
  },
  {
   "cell_type": "code",
   "execution_count": null,
   "metadata": {},
   "outputs": [],
   "source": [
    "# 1 Plot / Messung\n",
    "for col in prop_dict.keys():\n",
    "    fig = go.Figure()\n",
    "    df = data[col]\n",
    "\n",
    "    h_entl = prop_dict[col]['h_entlastung']\n",
    "\n",
    "    fig.add_trace(go.Scatter(x=df.index, y=df.iloc[:], name=col))\n",
    "    fig.add_hline(y=h_entl, line_width=0.5)\n",
    "    fig.add_annotation(x=df.index[-1], y=h_entl, text=f'Entlastung = {h_entl} cm')\n",
    "\n",
    "    fig.update_xaxes(title='Zeit')\n",
    "    fig.update_yaxes(title='Niveau [cm]')\n",
    "\n",
    "    save_path = save_dir / (col.split(';')[0] + '.html')\n",
    "    fig.write_html(save_path)"
   ]
  },
  {
   "cell_type": "markdown",
   "metadata": {},
   "source": [
    "## Anzahl Entlastungen"
   ]
  },
  {
   "cell_type": "code",
   "execution_count": null,
   "metadata": {},
   "outputs": [],
   "source": [
    "n_entlastungen = data.iloc[:,[1,4,7,10,12]]\n",
    "fig = go.Figure()\n",
    "for name in n_entlastungen:\n",
    "    fig.add_trace(go.Scatter(x=n_entlastungen.index, y=n_entlastungen[name], name=name))\n",
    "\n",
    "fig.update_xaxes(title='Zeit')\n",
    "fig.update_yaxes(title='Anzahl Entlastungen')\n",
    "\n",
    "save_path = save_dir / f'Anzahl-Entlastungen_alle_{datum1}-{datum2}.html'\n",
    "fig.write_html(save_path)"
   ]
  },
  {
   "cell_type": "markdown",
   "metadata": {},
   "source": [
    "## Wiesengrundstrasse"
   ]
  },
  {
   "cell_type": "code",
   "execution_count": null,
   "metadata": {},
   "outputs": [],
   "source": [
    "# Aktivierung\n",
    "wg_active = wiesengrund_data.loc[:, 'Surverse[0]']\n",
    "\n",
    "save_path = save_dir / 'Wiesengrund_On-Off.html'\n",
    "hp.ply_2y(dfs1=wg_active, dfs2=rain, names=['Wiesengrund on/off', 'Regen WAE'], xlabel='Zeit',\n",
    "    ylabels=['On / Off', 'Niederschlag [mm]'], save_path=save_path);"
   ]
  },
  {
   "cell_type": "code",
   "execution_count": null,
   "metadata": {},
   "outputs": [],
   "source": [
    "# Überlaufzeit\n",
    "save_path = save_dir / 'Wiesengrund_Überlaufzeit.html'\n",
    "names = ['Überlaufzeit', 'Überlaufzeit kumulativ', 'Regen WAE']\n",
    "hp.ply_2y([wiesengrund_surverse.iloc[:,2], wiesengrund_surverse.iloc[:,2].cumsum()], rain, xlabel='Zeit',\n",
    "    ylabels=['Überlaufzeit [min]', 'Niederschlag [mm]'], names=names, save_path=save_path);"
   ]
  }
 ],
 "metadata": {
  "kernelspec": {
   "display_name": "hbt_projects",
   "language": "python",
   "name": "python3"
  },
  "language_info": {
   "codemirror_mode": {
    "name": "ipython",
    "version": 3
   },
   "file_extension": ".py",
   "mimetype": "text/x-python",
   "name": "python",
   "nbconvert_exporter": "python",
   "pygments_lexer": "ipython3",
   "version": "3.11.7"
  },
  "orig_nbformat": 4
 },
 "nbformat": 4,
 "nbformat_minor": 2
}
