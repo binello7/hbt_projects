{
 "cells": [
  {
   "attachments": {},
   "cell_type": "markdown",
   "metadata": {},
   "source": [
    "# Imports"
   ]
  },
  {
   "cell_type": "code",
   "execution_count": 40,
   "metadata": {},
   "outputs": [],
   "source": [
    "import pandas as pd\n",
    "from hbt_tools import plots as hp\n",
    "from datetime import datetime as dt\n",
    "from pathlib import Path\n",
    "from plotly import graph_objects as go\n",
    "from plotly.subplots import make_subplots"
   ]
  },
  {
   "attachments": {},
   "cell_type": "markdown",
   "metadata": {},
   "source": [
    "# Settings"
   ]
  },
  {
   "cell_type": "code",
   "execution_count": 41,
   "metadata": {},
   "outputs": [],
   "source": [
    "save_dir = Path(r\"H:\\2 Projekte\\8000-\\8500er\\8532\\8532.10 GEP Richterswil\"\n",
    "    r\"\\05 Berechnungen Grundlagen\\13 Nachrüstung RÜ\\Datenauswertung\\Plots\")"
   ]
  },
  {
   "attachments": {},
   "cell_type": "markdown",
   "metadata": {},
   "source": [
    "# Read data"
   ]
  },
  {
   "cell_type": "markdown",
   "metadata": {},
   "source": [
    "## PLS Exports"
   ]
  },
  {
   "cell_type": "code",
   "execution_count": null,
   "metadata": {},
   "outputs": [],
   "source": []
  },
  {
   "cell_type": "code",
   "execution_count": 42,
   "metadata": {},
   "outputs": [],
   "source": [
    "inputs_dir = Path(r\"H:\\2 Projekte\\8000-\\8500er\\8532\\8532.10 GEP Richterswil\"\n",
    "    r\"\\05 Berechnungen Grundlagen\\13 Nachrüstung RÜ\\Datenauswertung\\Monatsdaten\")\n",
    "files_list = list(inputs_dir.glob('*.csv'))\n",
    "\n",
    "date_format = '%d.%m.%Y %H:%M:%S'\n",
    "data = []\n",
    "for file in files_list:\n",
    "    df = pd.read_csv(file, sep=';', header='infer', index_col=0, parse_dates=[0],\n",
    "        date_format=date_format)\n",
    "    cols_dict = {}\n",
    "    for col_name_old in df.columns:\n",
    "        col_name1 = col_name_old.split('\\t')[0]\n",
    "        col_name2 = col_name_old.split('\\t')[1].split(';')[1]\n",
    "        col_name_new = f'{col_name1} - {col_name2}'\n",
    "        cols_dict.update({col_name_old: col_name_new})\n",
    "    df.rename(columns=cols_dict, inplace=True)\n",
    "\n",
    "    data.append(df)\n",
    "data = pd.concat(data)"
   ]
  },
  {
   "cell_type": "code",
   "execution_count": 43,
   "metadata": {},
   "outputs": [],
   "source": [
    "niveaus = data.iloc[:,[0,3,6,9]]"
   ]
  },
  {
   "cell_type": "markdown",
   "metadata": {},
   "source": [
    "## XLS Exports"
   ]
  },
  {
   "cell_type": "code",
   "execution_count": 44,
   "metadata": {},
   "outputs": [],
   "source": [
    "inputs_dir = Path(r\"H:\\2 Projekte\\8000-\\8500er\\8532\\8532.10 GEP Richterswil\"\n",
    "    r\"\\05 Berechnungen Grundlagen\\13 Nachrüstung RÜ\\Datenauswertung\\Exports_XLS\")\n",
    "files_list = list(inputs_dir.glob('*.xls'))\n",
    "\n",
    "data = []\n",
    "for file in files_list:\n",
    "    df = pd.read_excel(file, index_col=0, sheet_name='data')\n",
    "    data.append(df)"
   ]
  },
  {
   "attachments": {},
   "cell_type": "markdown",
   "metadata": {},
   "source": [
    "# Plots"
   ]
  },
  {
   "cell_type": "markdown",
   "metadata": {},
   "source": [
    "## PLS"
   ]
  },
  {
   "cell_type": "code",
   "execution_count": 45,
   "metadata": {},
   "outputs": [],
   "source": [
    "# Niveau aus PLS\n",
    "fig = go.Figure()\n",
    "for name in niveaus:\n",
    "    fig.add_trace(go.Scatter(x=niveaus.index, y=niveaus[name], name=name))\n",
    "\n",
    "fig.update_xaxes(title='Zeit')\n",
    "fig.update_yaxes(title='Niveau [cm]')\n",
    "fig.update_layout(title='Daten PLS')\n",
    "\n",
    "save_path = save_dir / 'Niveaus_PLS_2304-2311.html'\n",
    "fig.write_html(save_path)"
   ]
  },
  {
   "cell_type": "markdown",
   "metadata": {},
   "source": [
    "## XLS"
   ]
  },
  {
   "cell_type": "code",
   "execution_count": 46,
   "metadata": {},
   "outputs": [],
   "source": [
    "# Löchliweg aus XLS\n",
    "fig = make_subplots(specs=[[{\"secondary_y\": True}]])\n",
    "fig.add_trace(go.Scatter(x=data[0].index, y=data[0].iloc[:,4]/10, name='Niveau Löchliweg'), secondary_y=False)\n",
    "fig.add_trace(go.Scatter(x=data[1].index, y=data[1].iloc[:,3], name='Überlauf Löchliweg'), secondary_y=True)\n",
    "\n",
    "fig.update_xaxes(title='Zeit')\n",
    "fig.update_yaxes(title='Niveau [cm]', secondary_y=False)\n",
    "fig.update_yaxes(title='Überlauf [0/1]', secondary_y=True)\n",
    "fig.update_layout(title='Löchliweg')\n",
    "\n",
    "save_path = save_dir / 'Löchliweg_XLS_2303-2309.html'\n",
    "fig.write_html(save_path)"
   ]
  },
  {
   "cell_type": "code",
   "execution_count": 47,
   "metadata": {},
   "outputs": [],
   "source": [
    "# Wiesengrundstrasse aus XLS\n",
    "fig = go.Figure()\n",
    "fig.add_trace(go.Scatter(x=data[2].index, y=data[2].iloc[:,3], name='Überlauf Wiesengrundstrasse'))\n",
    "\n",
    "fig.update_xaxes(title='Zeit')\n",
    "fig.update_yaxes(title='Überlauf [0/1]')\n",
    "fig.update_layout(title='Wiesengrundstrasse')\n",
    "\n",
    "save_path = save_dir / 'Wiesengrundstrasse_XLS_2303-2310.html'\n",
    "fig.write_html(save_path)"
   ]
  }
 ],
 "metadata": {
  "kernelspec": {
   "display_name": "hbt_projects",
   "language": "python",
   "name": "python3"
  },
  "language_info": {
   "codemirror_mode": {
    "name": "ipython",
    "version": 3
   },
   "file_extension": ".py",
   "mimetype": "text/x-python",
   "name": "python",
   "nbconvert_exporter": "python",
   "pygments_lexer": "ipython3",
   "version": "3.10.11"
  },
  "orig_nbformat": 4
 },
 "nbformat": 4,
 "nbformat_minor": 2
}
