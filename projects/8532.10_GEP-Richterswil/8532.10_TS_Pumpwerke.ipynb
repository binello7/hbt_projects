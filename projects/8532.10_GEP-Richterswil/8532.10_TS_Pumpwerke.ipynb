{
 "cells": [
  {
   "cell_type": "markdown",
   "metadata": {},
   "source": [
    "# Imports"
   ]
  },
  {
   "cell_type": "code",
   "execution_count": null,
   "metadata": {},
   "outputs": [],
   "source": [
    "import pandas as pd\n",
    "from datetime import datetime as dt\n",
    "from pathlib import Path\n",
    "from hbt_tools import messdatenbank as mdb\n",
    "from plotly import graph_objects as go\n",
    "from mikeio1d import Res1D\n",
    "from mikeio1d.query import QueryDataReach"
   ]
  },
  {
   "cell_type": "markdown",
   "metadata": {},
   "source": [
    "# Functions"
   ]
  },
  {
   "cell_type": "code",
   "execution_count": null,
   "metadata": {},
   "outputs": [],
   "source": [
    "def periods_to_dt(periods, date_format):\n",
    "    periods_out = []\n",
    "    for i in range(len(periods)):\n",
    "        dt1 = dt.strptime(periods[i][0], date_format)\n",
    "        dt2 = dt.strptime(periods[i][1], date_format)\n",
    "        periods_out.append((dt1, dt2))\n",
    "\n",
    "    return periods_out\n",
    "#-------------------------------------------------------------------------------\n",
    "\n",
    "def ts_filter_date(ts, date_from, date_to):\n",
    "    ts = ts.copy()\n",
    "    ts = ts[(ts.index>=date_from) & (ts.index<date_to)]\n",
    "\n",
    "    return ts\n",
    "#-------------------------------------------------------------------------------\n",
    "\n",
    "def get_data_from_muids(df_res1d, quantity, muids):\n",
    "    data = []\n",
    "    for muid in muids:\n",
    "        query = f\"{quantity}{muid}\"\n",
    "        mask = df_res1d.columns.str.startswith(query)\n",
    "        df = df_res1d.loc[:,mask].copy()\n",
    "        data.append(df)\n",
    "    data = pd.concat(data, axis=1)\n",
    "\n",
    "    return data\n",
    "#-------------------------------------------------------------------------------\n",
    "\n",
    "def compute_tot_sum(ts):\n",
    "    ts['TOT'] = 0\n",
    "    for col in ts.columns[0:-1]:\n",
    "        ts['TOT'] += ts[col]\n",
    "#-------------------------------------------------------------------------------"
   ]
  },
  {
   "cell_type": "markdown",
   "metadata": {},
   "source": [
    "# Parameters"
   ]
  },
  {
   "cell_type": "code",
   "execution_count": null,
   "metadata": {},
   "outputs": [],
   "source": [
    "pumpwerke = ['PW Klosterweg', 'PW Mülibach', 'PW Mülenen']\n",
    "\n",
    "info_pw = Path(r\"H:\\2 Projekte\\8000-\\8500er\\8532\\8532.10 GEP Richterswil\\05 Berechnungen Grundlagen\\5 Fremdwasser\\Pumpwerke\\Pumpwerke_Angaben.xlsx\")\n",
    "info_pw = pd.read_excel(info_pw)\n",
    "info_pw = info_pw[info_pw['Bezeichnung'].isin(pumpwerke)]\n",
    "\n",
    "data_pw = Path(r\"H:\\2 Projekte\\8000-\\8500er\\8532\\8532.10 GEP Richterswil\\05 Berechnungen Grundlagen\\5 Fremdwasser\\Pumpwerke\\Daten\\220722_10.56Uhr_Niveau_PW_1-jahr.csv\")\n",
    "\n",
    "path_res1d = Path(r\"H:\\2 Projekte\\8000-\\8500er\\8532\\8532.10 GEP Richterswil\\05 Berechnungen Grundlagen\\8 Entwässerungskonzept\\Mike+ Modell\\04_Modell\"\n",
    "    r\"\\IST-Zustand\\Richterswil_IST_m1d - Result Files\\Richterswil_IST_wae_230725Default_Network_HD.res1d\")\n",
    "\n",
    "date_format = '%d.%m.%Y %H:%M'\n",
    "rain_periods = [\n",
    "    ('25.04.2022 01:10', '25.04.2022 03:20'),\n",
    "    ('16.08.2021 13:00', '16.08.2021 15:00'),\n",
    "    ('24.04.2022 22:00', '25.04.2022 02:00'),\n",
    "    ('24.07.2021 16:10', '24.07.2021 18:00')\n",
    "]\n",
    "periods_to_dt(rain_periods, date_format)\n",
    "\n",
    "date_from = dt(2021, 7, 1, 0, 0)\n",
    "date_to = dt(2022, 7, 1, 23, 59)"
   ]
  },
  {
   "cell_type": "markdown",
   "metadata": {},
   "source": [
    "# Read Data"
   ]
  },
  {
   "cell_type": "code",
   "execution_count": null,
   "metadata": {},
   "outputs": [],
   "source": [
    "# Regen WAE\n",
    "id = 1780\n",
    "rain = mdb.get_data(id, date_from, date_to)\n",
    "rain.index = rain.index.tz_localize(None)\n",
    "\n",
    "# PW Daten\n",
    "data_pw = pd.read_csv(data_pw, sep=';', date_format='%d.%m.%Y %H:%M',parse_dates=[0])\n",
    "data_pw.set_index(data_pw.columns[0], inplace=True)\n",
    "for col in data_pw.columns:\n",
    "    data_pw.rename(columns={col: col.split(';')[0]}, inplace=True)"
   ]
  },
  {
   "cell_type": "code",
   "execution_count": null,
   "metadata": {},
   "outputs": [],
   "source": [
    "fig = go.Figure()\n",
    "fig.add_trace(go.Scatter(x=rain.index, y=rain.iloc[:,0]))"
   ]
  },
  {
   "cell_type": "markdown",
   "metadata": {},
   "source": [
    "# Analysis PW Data"
   ]
  },
  {
   "cell_type": "code",
   "execution_count": null,
   "metadata": {},
   "outputs": [],
   "source": [
    "df_res = pd.DataFrame()\n",
    "\n",
    "data_pw = data_pw.loc[:,info_pw['Bezeichnung']]\n",
    "\n",
    "for name in data_pw.columns:\n",
    "    pw = data_pw[name]\n",
    "    pw = pd.DataFrame(pw)\n",
    "\n",
    "    for event in rain_periods:\n",
    "        date1 = event[0]\n",
    "        date2 = event[1]\n",
    "        rain_period = ts_filter_date(rain, date1, date2)\n",
    "        pw_period = ts_filter_date(pw, date1, date2)\n",
    "        pw_period['delta_h'] = pw_period - pw_period.shift()\n",
    "        pw_period['delta_t'] = pw_period.index\n",
    "        pw_period['delta_t'] = pw_period['delta_t'] - pw_period['delta_t'].shift()\n",
    "\n",
    "        mask = pw_period['delta_h'] > 0\n",
    "        pw_period = pw_period.loc[mask]\n",
    "        delta_h = pw_period['delta_h'].sum()\n",
    "        delta_t = pw_period['delta_t'].sum().total_seconds()\n",
    "\n",
    "        idx = f'{date1} - {date2}'\n",
    "        df_res.loc[idx, 'Regen [mm]'] = rain_period.sum().values[0]\n",
    "\n",
    "        A = info_pw[info_pw['Bezeichnung']==pw_period.columns[0]]['Fläche [m2]'].values[0]\n",
    "        ezg = info_pw[info_pw['Bezeichnung']==pw_period.columns[0]]['Einzugsgebiet [ha]'].values[0]\n",
    "        V = A * delta_h\n",
    "        Q_in = V / delta_t * 1000 # l/s\n",
    "\n",
    "        col = f\"{name} [l/s/ha]\"\n",
    "        df_res.loc[idx, col] = Q_in / ezg"
   ]
  },
  {
   "cell_type": "code",
   "execution_count": null,
   "metadata": {},
   "outputs": [],
   "source": [
    "df_res"
   ]
  },
  {
   "cell_type": "markdown",
   "metadata": {},
   "source": [
    "# Analysis Mike+ Data"
   ]
  },
  {
   "cell_type": "code",
   "execution_count": null,
   "metadata": {},
   "outputs": [],
   "source": [
    "# Read res1d\n",
    "res1d = Res1D(str(path_res1d))\n",
    "df_res1d = res1d.read()"
   ]
  },
  {
   "cell_type": "code",
   "execution_count": null,
   "metadata": {},
   "outputs": [],
   "source": [
    "# MUIDS\n",
    "pws_dict = {\n",
    "    'PW Klosterweg': {'muids': ['123616', '123620'], 'data': None},\n",
    "    'PW Mülibach': {'muids': ['123530', '122776'], 'data': None},\n",
    "    'PW Mülenen': {'muids': ['133878'], 'data': None},\n",
    "    'PW Schmittenbrunnen': {'muids': ['135106'], 'data': None},\n",
    "}"
   ]
  },
  {
   "cell_type": "code",
   "execution_count": null,
   "metadata": {},
   "outputs": [],
   "source": [
    "# Read PWs inflows\n",
    "quantity = 'Discharge:'\n",
    "for k, v in pws_dict.items():\n",
    "    muids = v['muids']\n",
    "    data = get_data_from_muids(df_res1d, quantity, muids)\n",
    "\n",
    "    # Compute total inflow\n",
    "    compute_tot_sum(data)\n",
    "    v['data'] = data"
   ]
  },
  {
   "cell_type": "code",
   "execution_count": null,
   "metadata": {},
   "outputs": [],
   "source": [
    "# Plot the Data\n",
    "save_dir = Path(r\"H:\\2 Projekte\\8000-\\8500er\\8532\\8532.10 GEP Richterswil\\05 Berechnungen Grundlagen\\8 Entwässerungskonzept\\TS Pumpwerke\\Plots\\Mike+\")\n",
    "if not save_dir.exists():\n",
    "    save_dir.mkdir(parents=True)\n",
    "\n",
    "for k, v in pws_dict.items():\n",
    "    data = v['data']\n",
    "    fig = go.Figure()\n",
    "\n",
    "    for i, col in enumerate(data.columns):\n",
    "        fig.add_trace(go.Scatter(x=data.index, y=data.iloc[:,i], name=col))\n",
    "    \n",
    "    fig.update_layout(title=k)\n",
    "\n",
    "    save_path = save_dir / f'{k}.html'\n",
    "    fig.write_html(save_path)"
   ]
  }
 ],
 "metadata": {
  "kernelspec": {
   "display_name": "venv",
   "language": "python",
   "name": "python3"
  },
  "language_info": {
   "codemirror_mode": {
    "name": "ipython",
    "version": 3
   },
   "file_extension": ".py",
   "mimetype": "text/x-python",
   "name": "python",
   "nbconvert_exporter": "python",
   "pygments_lexer": "ipython3",
   "version": "3.10.11"
  }
 },
 "nbformat": 4,
 "nbformat_minor": 2
}
