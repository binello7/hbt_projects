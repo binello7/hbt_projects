{
 "cells": [
  {
   "cell_type": "markdown",
   "metadata": {},
   "source": [
    "# Imports"
   ]
  },
  {
   "cell_type": "code",
   "execution_count": 20,
   "metadata": {},
   "outputs": [],
   "source": [
    "import pandas as pd\n",
    "from pathlib import Path\n",
    "from mikeio1d import Res1D\n",
    "from mikeio1d.query import QueryDataReach\n",
    "from plotly import graph_objects as go"
   ]
  },
  {
   "cell_type": "markdown",
   "metadata": {},
   "source": [
    "# Parameters"
   ]
  },
  {
   "cell_type": "code",
   "execution_count": 21,
   "metadata": {},
   "outputs": [],
   "source": [
    "dict_messstellen = {\n",
    "    'Messstelle 1B': '134111',\n",
    "    'Messstelle 1C': '123066',\n",
    "    'Messstelle 2': '141733',\n",
    "    'Messstelle 3': '122160',\n",
    "    'Messstelle 4': '130119',\n",
    "    'Messstelle 5': '131807',\n",
    "    'Messstelle 6': '128336'\n",
    "}"
   ]
  },
  {
   "cell_type": "markdown",
   "metadata": {},
   "source": [
    "# Read res1d"
   ]
  },
  {
   "cell_type": "code",
   "execution_count": 22,
   "metadata": {},
   "outputs": [],
   "source": [
    "path_res1d = Path(r\"H:\\2 Projekte\\8000-\\8500er\\8532\\8532.10 GEP Richterswil\\05 Berechnungen Grundlagen\\8 Entwässerungskonzept\\Mike+ Modell\\04_Modell\"\n",
    "    r\"\\IST-Zustand\\Richterswil_IST_m1d - Result Files\\Richterswil_IST_2wae_230828Default_Network_HD.res1d\")\n",
    "rain_event = '20230828'\n",
    "\n",
    "res1d = Res1D(str(path_res1d))"
   ]
  },
  {
   "cell_type": "markdown",
   "metadata": {},
   "source": [
    "# Plot Validation"
   ]
  },
  {
   "cell_type": "code",
   "execution_count": 23,
   "metadata": {},
   "outputs": [],
   "source": [
    "date_format = '%d.%m.%Y %H:%M:%S'\n",
    "dir_messdaten = Path(r\"H:\\2 Projekte\\8000-\\8500er\\8532\\8532.10 GEP Richterswil\\05 Berechnungen Grundlagen\\8 Entwässerungskonzept\\Durchflussmessungen Nivus\")\n",
    "save_dir = dir_messdaten / 'Plots' / 'Validation' / rain_event\n",
    "if not save_dir.exists():\n",
    "    save_dir.mkdir(parents=True)\n",
    "\n",
    "for k, v in dict_messstellen.items():\n",
    "    file_path = dir_messdaten / f\"History_Data_of_{k}.csv\"\n",
    "    data_nivus = pd.read_csv(file_path, sep=';', usecols=[0, 1, 2], parse_dates=[[0,1]], date_format=date_format)\n",
    "    data_nivus.set_index('Date_Time', inplace=True)\n",
    "\n",
    "    query = QueryDataReach('Discharge', v, chainage=0)\n",
    "    data_mike = res1d.read(query)\n",
    "    data_mike = data_mike * 1e3 # m3/s -> l/s\n",
    "    date_from = pd.to_datetime(data_mike.index[0])\n",
    "    date_to = pd.to_datetime(data_mike.index[-1])\n",
    "\n",
    "    mask = (data_nivus.index >= date_from) & (data_nivus.index <= date_to)\n",
    "    data_nivus = data_nivus.loc[mask]\n",
    "    if not data_nivus.empty:\n",
    "        fig = go.Figure()\n",
    "        fig.add_trace(go.Scatter(x=data_nivus.index, y=data_nivus.iloc[:,0], name=k))\n",
    "        fig.add_trace(go.Scatter(x=data_mike.index, y=data_mike.iloc[:,0], name=v))\n",
    "\n",
    "        save_path = save_dir / f\"{k}.html\"\n",
    "        fig.write_html(save_path)"
   ]
  }
 ],
 "metadata": {
  "kernelspec": {
   "display_name": "venv",
   "language": "python",
   "name": "python3"
  },
  "language_info": {
   "codemirror_mode": {
    "name": "ipython",
    "version": 3
   },
   "file_extension": ".py",
   "mimetype": "text/x-python",
   "name": "python",
   "nbconvert_exporter": "python",
   "pygments_lexer": "ipython3",
   "version": "3.10.11"
  }
 },
 "nbformat": 4,
 "nbformat_minor": 2
}
