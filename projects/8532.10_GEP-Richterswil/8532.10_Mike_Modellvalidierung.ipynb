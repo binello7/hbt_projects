{
 "cells": [
  {
   "cell_type": "markdown",
   "metadata": {},
   "source": [
    "# Imports"
   ]
  },
  {
   "cell_type": "code",
   "execution_count": 16,
   "metadata": {},
   "outputs": [],
   "source": [
    "import pandas as pd\n",
    "from pathlib import Path\n",
    "from mikeio1d import Res1D\n",
    "from mikeio1d.query import QueryDataReach\n",
    "from plotly import graph_objects as go"
   ]
  },
  {
   "cell_type": "markdown",
   "metadata": {},
   "source": [
    "# Messstellen"
   ]
  },
  {
   "cell_type": "code",
   "execution_count": 17,
   "metadata": {},
   "outputs": [],
   "source": [
    "dict_messstellen = {\n",
    "    'Messstelle 1B': '134111',\n",
    "    'Messstelle 1C': '123066',\n",
    "    'Messstelle 2': '141733',\n",
    "    'Messstelle 3': '122160',\n",
    "    'Messstelle 4': '130119',\n",
    "    'Messstelle 5': '131807',\n",
    "    'Messstelle 6': '128336'\n",
    "}"
   ]
  },
  {
   "cell_type": "markdown",
   "metadata": {},
   "source": [
    "# Mike+ Dateien"
   ]
  },
  {
   "cell_type": "code",
   "execution_count": 18,
   "metadata": {},
   "outputs": [],
   "source": [
    "dict_res1d = {\n",
    "    '20230725': Path(r\"H:\\2 Projekte\\8000-\\8500er\\8532\\8532.10 GEP Richterswil\\05 Berechnungen Grundlagen\"\n",
    "        r\"\\8 Entwässerungskonzept\\Mike+ Modell\\04_Modell\\IST-Zustand\\Richterswil_IST_m1d - Result Files\"\n",
    "        r\"\\Richterswil_IST_3wae_230725Default_Network_HD.res1d\"),\n",
    "    '20230828': Path(r\"H:\\2 Projekte\\8000-\\8500er\\8532\\8532.10 GEP Richterswil\\05 Berechnungen Grundlagen\"\n",
    "        r\"\\8 Entwässerungskonzept\\Mike+ Modell\\04_Modell\\IST-Zustand\\Richterswil_IST_m1d - Result Files\"\n",
    "        r\"\\Richterswil_IST_4wae_230828Default_Network_HD.res1d\")\n",
    "}"
   ]
  },
  {
   "cell_type": "markdown",
   "metadata": {},
   "source": [
    "# Plot Validation"
   ]
  },
  {
   "cell_type": "code",
   "execution_count": 19,
   "metadata": {},
   "outputs": [],
   "source": [
    "date_format = '%d.%m.%Y %H:%M:%S'\n",
    "dir_messdaten = Path(r\"H:\\2 Projekte\\8000-\\8500er\\8532\\8532.10 GEP Richterswil\\05 Berechnungen Grundlagen\\8 Entwässerungskonzept\\Durchflussmessungen Nivus\")\n",
    "\n",
    "for rain_event, path_res1d in dict_res1d.items():\n",
    "    save_dir = dir_messdaten / 'Plots' / 'Validation' / rain_event\n",
    "    res1d = Res1D(str(path_res1d))\n",
    " \n",
    "    if not save_dir.exists():\n",
    "        save_dir.mkdir(parents=True)\n",
    "\n",
    "    for k, v in dict_messstellen.items():\n",
    "        file_path = dir_messdaten / f\"History_Data_of_{k}.csv\"\n",
    "        data_nivus = pd.read_csv(file_path, sep=';', usecols=[0, 1, 2], parse_dates=[[0,1]], date_format=date_format)\n",
    "        data_nivus.set_index('Date_Time', inplace=True)\n",
    "\n",
    "        query = QueryDataReach('Discharge', v, chainage=0)\n",
    "        data_mike = res1d.read(query)\n",
    "        data_mike = data_mike * 1e3 # m3/s -> l/s\n",
    "        date_from = pd.to_datetime(data_mike.index[0])\n",
    "        date_to = pd.to_datetime(data_mike.index[-1])\n",
    "\n",
    "        mask = (data_nivus.index >= date_from) & (data_nivus.index <= date_to)\n",
    "        data_nivus = data_nivus.loc[mask]\n",
    "        if not data_nivus.empty:\n",
    "            fig = go.Figure()\n",
    "            fig.add_trace(go.Scatter(x=data_nivus.index, y=data_nivus.iloc[:,0], name=k))\n",
    "            fig.add_trace(go.Scatter(x=data_mike.index, y=data_mike.iloc[:,0], name=v))\n",
    "\n",
    "            fig.update_layout(title=f'Validierung {k} / Mike Link {v}')\n",
    "            fig.update_xaxes(title='Zeit')\n",
    "            fig.update_yaxes(title='Durchfluss [l/s]')\n",
    "\n",
    "            fig.update_layout(font=dict(size=25))\n",
    "\n",
    "            save_path = save_dir / f\"{k}.html\"\n",
    "            fig.write_html(save_path)"
   ]
  }
 ],
 "metadata": {
  "kernelspec": {
   "display_name": "venv",
   "language": "python",
   "name": "python3"
  },
  "language_info": {
   "codemirror_mode": {
    "name": "ipython",
    "version": 3
   },
   "file_extension": ".py",
   "mimetype": "text/x-python",
   "name": "python",
   "nbconvert_exporter": "python",
   "pygments_lexer": "ipython3",
   "version": "3.11.7"
  }
 },
 "nbformat": 4,
 "nbformat_minor": 2
}
