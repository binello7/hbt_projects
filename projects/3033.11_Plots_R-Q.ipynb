{
 "cells": [
  {
   "cell_type": "markdown",
   "metadata": {},
   "source": [
    "## Imports"
   ]
  },
  {
   "cell_type": "code",
   "execution_count": null,
   "metadata": {},
   "outputs": [],
   "source": [
    "import pandas as pd\n",
    "import matplotlib.dates as mdates\n",
    "import matplotlib.pyplot as plt\n",
    "from pathlib import Path"
   ]
  },
  {
   "cell_type": "markdown",
   "metadata": {},
   "source": [
    "## Settings"
   ]
  },
  {
   "cell_type": "code",
   "execution_count": null,
   "metadata": {},
   "outputs": [],
   "source": [
    "path_Q_mes = Path(r\"\\\\hunzikerwater.ch\\DFSHBT\\Daten-Winterthur\\Projekte\\3000-\"\n",
    "    r\"\\3033\\3033.11 GEP\\05 Berechnungen Grundlagen\\Messkampagne\\Messungen\"\n",
    "    r\"\\Messdaten Messkampagne komplett\\03 Auswertung\\Messstellen_mbo.xlsx\")\n",
    "\n",
    "path_Q_sim = Path(r\"\\\\hunzikerwater.ch\\DFSHBT\\Daten-Winterthur\\Projekte\\3000-\"\n",
    "    r\"\\3033\\3033.11 GEP\\05 Berechnungen Grundlagen\\Messkampagne\\Messungen\"\n",
    "    r\"\\Messdaten Messkampagne komplett\\03 Auswertung\"\n",
    "    r\"\\ResultateMike4R_230117.xlsx\")\n",
    "\n",
    "path_rain = Path(r\"\\\\hunzikerwater.ch\\DFSHBT\\Daten-Winterthur\\Projekte\\3000-\"\n",
    "    r\"\\3033\\3033.11 GEP\\05 Berechnungen Grundlagen\\Messkampagne\\Messungen\"\n",
    "    r\"\\Messdaten Messkampagne komplett\\02 Daten Aufbereitet\"\n",
    "    r\"\\4Regenereignisse_MikeImport_5min_sru.xlsx\")\n",
    "\n",
    "save_dir = Path(r\"\\\\hunzikerwater.ch\\DFSHBT\\Daten-Winterthur\\Projekte\\3000-\"\n",
    "    r\"\\3033\\3033.11 GEP\\05 Berechnungen Grundlagen\\Messkampagne\\Messungen\"\n",
    "    r\"\\Messdaten Messkampagne komplett\\03 Auswertung\")"
   ]
  },
  {
   "cell_type": "markdown",
   "metadata": {},
   "source": [
    "## Read data"
   ]
  },
  {
   "cell_type": "markdown",
   "metadata": {},
   "source": [
    "### Rain"
   ]
  },
  {
   "cell_type": "code",
   "execution_count": null,
   "metadata": {},
   "outputs": [],
   "source": [
    "rain = pd.read_excel(path_rain)\n",
    "rain.set_index(keys=rain.columns[2], inplace=True)"
   ]
  },
  {
   "cell_type": "markdown",
   "metadata": {},
   "source": [
    "### Discharge"
   ]
  },
  {
   "cell_type": "code",
   "execution_count": null,
   "metadata": {},
   "outputs": [],
   "source": [
    "Q_mes = pd.read_excel(path_Q_mes, sheet_name='Messstellen', header=1,\n",
    "    usecols=[2, 4, 9, 14, 19, 24, 29])\n",
    "Q_mes.set_index(keys=Q_mes.columns[0], inplace=True)"
   ]
  },
  {
   "cell_type": "code",
   "execution_count": null,
   "metadata": {},
   "outputs": [],
   "source": [
    "Q_sim = pd.read_excel(path_Q_sim, sheet_name='Discharge', header=0,\n",
    "    skiprows=[1], usecols=list(range(0,8)))\n",
    "Q_sim.drop(columns=[Q_sim.columns[0]], inplace=True)\n",
    "Q_sim.set_index(keys=Q_sim.columns[0], inplace=True)\n",
    "Q_sim = Q_sim * 1e3 # convert m3/s -> l/s"
   ]
  },
  {
   "cell_type": "markdown",
   "metadata": {},
   "source": [
    "## Plots"
   ]
  },
  {
   "cell_type": "code",
   "execution_count": null,
   "metadata": {},
   "outputs": [],
   "source": [
    "events = rain['Nr. Ereignis'].unique()\n",
    "m_points = Q_mes.columns\n",
    "pl_col = len(events)\n",
    "date_formatter = mdates.DateFormatter('%d.%m %H:%M')\n",
    "\n",
    "fig, axs = plt.subplots(len(m_points)+1, pl_col)\n",
    "for i, ev in enumerate(events):\n",
    "    rain_sub = rain[rain['Nr. Ereignis']==ev]\n",
    "    rain_start = rain_sub.index[0].to_datetime64()\n",
    "    rain_end = rain_sub.index[-1].to_datetime64()\n",
    "    mask_df = lambda df: df.iloc[(df.index>=rain_start) &\n",
    "        (df.index<=rain_end),:]\n",
    "    Q_mes1 = mask_df(Q_mes)\n",
    "    Q_sim1 = mask_df(Q_sim)\n",
    "\n",
    "    # width = 1 / rain_sub.shape[0]\n",
    "    axs[0,i].plot(rain_sub.index, rain_sub['Niederschlag mm/5min'],\n",
    "        label='Niederschlag', color='b')\n",
    "    axs[0,i].legend()\n",
    "    axs[0,i].set_title(f'Regenereignis {ev}')\n",
    "    axs[0,i].set_xlabel('Zeit')\n",
    "    axs[0,i].set_ylabel('Regenmenge [mm/5min]')\n",
    "    axs[0,i].xaxis.set_major_formatter(date_formatter)\n",
    "    for label in axs[0,i].get_xticklabels(which='major'):\n",
    "        label.set(rotation=30, horizontalalignment='right')\n",
    "\n",
    "    for j, mp in enumerate(m_points):\n",
    "        Q_mes2 = Q_mes1[mp]\n",
    "        Q_mes2 = Q_mes2.dropna()\n",
    "        Q_sim2 = Q_sim1[mp]\n",
    "        Q_sim2 = Q_sim2.dropna()\n",
    "        axs[j+1,i].plot(Q_mes2.index, Q_mes2, label=f'Messung {mp}')\n",
    "        axs[j+1,i].plot(Q_sim2.index, Q_sim2,\n",
    "            label=f'Simulation {mp}')\n",
    "        axs[j+1,i].legend()\n",
    "        axs[j+1,i].set_xlabel('Zeit')\n",
    "        axs[j+1,i].set_ylabel('Durchfluss [l/s]')\n",
    "        axs[j+1,i].xaxis.set_major_formatter(date_formatter)\n",
    "        for label in axs[j+1,i].get_xticklabels(which='major'):\n",
    "            label.set(rotation=30, horizontalalignment='right')\n",
    "\n",
    "fig.set_size_inches(40, 50)\n",
    "save_path = save_dir / 'Plot_Gegenüberstellung_Messung-Mike2_230117.pdf'\n",
    "fig.savefig(save_path, bbox_inches='tight')"
   ]
  }
 ],
 "metadata": {
  "kernelspec": {
   "display_name": "Python 3.10.6 ('cenv')",
   "language": "python",
   "name": "python3"
  },
  "language_info": {
   "codemirror_mode": {
    "name": "ipython",
    "version": 3
   },
   "file_extension": ".py",
   "mimetype": "text/x-python",
   "name": "python",
   "nbconvert_exporter": "python",
   "pygments_lexer": "ipython3",
   "version": "3.10.6 | packaged by conda-forge | (main, Aug 22 2022, 20:29:51) [MSC v.1929 64 bit (AMD64)]"
  },
  "orig_nbformat": 4,
  "vscode": {
   "interpreter": {
    "hash": "ab1415878b8670590be7cfb0d397ba278fb7336eefaa66780c43ead28065321d"
   }
  }
 },
 "nbformat": 4,
 "nbformat_minor": 2
}
