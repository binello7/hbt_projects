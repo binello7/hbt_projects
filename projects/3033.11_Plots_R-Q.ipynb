{
 "cells": [
  {
   "cell_type": "markdown",
   "metadata": {},
   "source": [
    "## Imports"
   ]
  },
  {
   "cell_type": "code",
   "execution_count": null,
   "metadata": {},
   "outputs": [],
   "source": [
    "import pandas as pd\n",
    "import matplotlib.dates as mdates\n",
    "import matplotlib.pyplot as plt\n",
    "from pathlib import Path"
   ]
  },
  {
   "cell_type": "markdown",
   "metadata": {},
   "source": [
    "## Settings"
   ]
  },
  {
   "cell_type": "code",
   "execution_count": null,
   "metadata": {},
   "outputs": [],
   "source": [
    "path_Q_mes = Path(r\"\\\\hunzikerwater.ch\\DFSHBT\\Daten-Winterthur\\Projekte\\3000-\"\n",
    "    r\"\\3033\\3033.11 GEP\\05 Berechnungen Grundlagen\\Messkampagne\\Messungen\"\n",
    "    r\"\\Messdaten Messkampagne komplett\\03 Auswertung\\Messstellen.csv\")\n",
    "\n",
    "path_Q_m9 = Path(r\"\\\\hunzikerwater.ch\\DFSHBT\\Daten-Winterthur\\Projekte\\3000-\"\n",
    "    r\"\\3033\\3033.11 GEP\\05 Berechnungen Grundlagen\\Messkampagne\\Messungen\"\n",
    "    r\"\\Messdaten Messkampagne komplett\\03 Auswertung\\MS9.csv\")\n",
    "\n",
    "path_Q_sim = Path(r\"\\\\hunzikerwater.ch\\DFSHBT\\Daten-Winterthur\\Projekte\\3000-\"\n",
    "    r\"\\3033\\3033.11 GEP\\05 Berechnungen Grundlagen\\Messkampagne\\Messungen\"\n",
    "    r\"\\Messdaten Messkampagne komplett\\03 Auswertung\"\n",
    "    r\"\\ResultateMike4R_230117.xlsx\")\n",
    "\n",
    "path_rain = Path(r\"\\\\hunzikerwater.ch\\DFSHBT\\Daten-Winterthur\\Projekte\\3000-\"\n",
    "    r\"\\3033\\3033.11 GEP\\05 Berechnungen Grundlagen\\Messkampagne\\Messungen\"\n",
    "    r\"\\Messdaten Messkampagne komplett\\02 Daten Aufbereitet\"\n",
    "    r\"\\4Regenereignisse_MikeImport_5min_mbo.xlsx\")\n",
    "\n",
    "save_dir = Path(r\"\\\\hunzikerwater.ch\\DFSHBT\\Daten-Winterthur\\Projekte\\3000-\"\n",
    "    r\"\\3033\\3033.11 GEP\\05 Berechnungen Grundlagen\\Messkampagne\\Messungen\"\n",
    "    r\"\\Messdaten Messkampagne komplett\\03 Auswertung\")"
   ]
  },
  {
   "cell_type": "markdown",
   "metadata": {},
   "source": [
    "## Read data"
   ]
  },
  {
   "cell_type": "markdown",
   "metadata": {},
   "source": [
    "### Rain"
   ]
  },
  {
   "cell_type": "code",
   "execution_count": null,
   "metadata": {},
   "outputs": [],
   "source": [
    "rain = pd.read_excel(path_rain)\n",
    "rain.set_index(keys=rain.columns[2], inplace=True)"
   ]
  },
  {
   "cell_type": "markdown",
   "metadata": {},
   "source": [
    "### Discharge"
   ]
  },
  {
   "cell_type": "code",
   "execution_count": null,
   "metadata": {},
   "outputs": [],
   "source": [
    "date_format = '%d.%m.%Y %H:%M'\n",
    "date_parser = lambda x: pd.to_datetime(x, format=date_format)\n",
    "\n",
    "Q_mes = pd.read_csv(path_Q_mes, header=0, sep=';', parse_dates=[0],\n",
    "    date_parser=date_parser, index_col=0)"
   ]
  },
  {
   "cell_type": "code",
   "execution_count": null,
   "metadata": {},
   "outputs": [],
   "source": [
    "Q_m5 = Q_mes['M5']\n",
    "Q_m6 = Q_mes['M6']\n",
    "Q_m101 = Q_mes['M10.1']\n",
    "Q_m102 = Q_mes['M10.2']\n",
    "Q_m9 = Q_mes['M9']\n",
    "Q_m2 = Q_mes['M2']"
   ]
  },
  {
   "cell_type": "code",
   "execution_count": null,
   "metadata": {},
   "outputs": [],
   "source": [
    "date_format = '%d.%m.%Y %H:%M'\n",
    "date_parser = lambda x: pd.to_datetime(x, format=date_format)\n",
    "\n",
    "Q_t = pd.read_csv(path_Q_m9, header=0, sep=';', parse_dates=[0],\n",
    "    date_parser=date_parser, index_col=0)"
   ]
  },
  {
   "cell_type": "code",
   "execution_count": null,
   "metadata": {},
   "outputs": [],
   "source": [
    "Q_m9 = pd.concat((Q_m9, Q_t['M9']), axis='index')\n",
    "Q_m9.sort_index(inplace=True)"
   ]
  },
  {
   "cell_type": "code",
   "execution_count": null,
   "metadata": {},
   "outputs": [],
   "source": [
    "Q_sim = pd.read_excel(path_Q_sim, sheet_name='Discharge', header=0,\n",
    "    skiprows=[1], usecols=list(range(0,8)))\n",
    "Q_sim.drop(columns=[Q_sim.columns[0]], inplace=True)\n",
    "Q_sim.set_index(keys=Q_sim.columns[0], inplace=True)\n",
    "Q_sim = Q_sim * 1e3 # convert m3/s -> l/s"
   ]
  },
  {
   "cell_type": "markdown",
   "metadata": {},
   "source": [
    "## Plots"
   ]
  },
  {
   "cell_type": "code",
   "execution_count": null,
   "metadata": {},
   "outputs": [],
   "source": [
    "events = rain['Nr. Ereignis'].unique()\n",
    "m_points = Q_mes.columns\n",
    "mes = [Q_m5, Q_m6, Q_m101, Q_m102, Q_m9, Q_m2]\n",
    "plt_col = len(events)\n",
    "date_formatter = mdates.DateFormatter('%d.%m %H:%M')\n",
    "\n",
    "fig, axs = plt.subplots(len(m_points)+1, plt_col)\n",
    "for i, ev in enumerate(events):\n",
    "    print(f\"Rain event {ev}\")\n",
    "    rain_sub = rain[rain['Nr. Ereignis']==ev]\n",
    "    rain_start = rain_sub.index[0].to_datetime64()\n",
    "    print(f\"Rain start: {pd.to_datetime(rain_start)}\")\n",
    "    rain_end = rain_sub.index[-1].to_datetime64()\n",
    "    print(f\"Rain end: {pd.to_datetime(rain_end)}\")\n",
    "\n",
    "    mask_df = lambda df: df.iloc[(df.index>=rain_start) &\n",
    "        (df.index<=rain_end),:]\n",
    "    Q_sim1 = mask_df(Q_sim)\n",
    "\n",
    "    # width = 1 / rain_sub.shape[0]\n",
    "    axs[0,i].plot(rain_sub.index, rain_sub['Niederschlag mm/5min'],\n",
    "        label='Niederschlag', color='b')\n",
    "    axs[0,i].legend()\n",
    "    axs[0,i].set_title(f'Regenereignis {ev}')\n",
    "    axs[0,i].set_xlabel('Zeit')\n",
    "    axs[0,i].set_ylabel('Regenmenge [mm/5min]')\n",
    "    axs[0,i].xaxis.set_major_formatter(date_formatter)\n",
    "    for label in axs[0,i].get_xticklabels(which='major'):\n",
    "        label.set(rotation=30, horizontalalignment='right')\n",
    "\n",
    "    for j, (m, mp) in enumerate(zip(mes, m_points)):\n",
    "        m2 = m.dropna()\n",
    "        m3 = m2[(m2.index>=rain_start) & (m2.index<=rain_end)]\n",
    "\n",
    "        Q_sim2 = Q_sim1[mp]\n",
    "        Q_sim2 = Q_sim2.dropna()\n",
    "\n",
    "        axs[j+1,i].plot(m3.index, m3, label=f'Messung {mp}')\n",
    "        axs[j+1,i].plot(Q_sim2.index, Q_sim2.iloc[:], label=f'Simulation {mp}')\n",
    "        axs[j+1,i].legend()\n",
    "        axs[j+1,i].set_xlabel('Zeit')\n",
    "        axs[j+1,i].set_ylabel('Durchfluss [l/s]')\n",
    "        axs[j+1,i].xaxis.set_major_formatter(date_formatter)\n",
    "        for label in axs[j+1,i].get_xticklabels(which='major'):\n",
    "            label.set(rotation=30, horizontalalignment='right')\n",
    "    \n",
    "    print(20*\"-\")\n",
    "\n",
    "fig.set_size_inches(40, 50)\n",
    "save_path = save_dir / 'Plot_Gegenüberstellung_Messung-Mike2_230117.pdf'\n",
    "fig.savefig(save_path, bbox_inches='tight')\n",
    "plt.close()"
   ]
  }
 ],
 "metadata": {
  "kernelspec": {
   "display_name": "hbt_projects",
   "language": "python",
   "name": "python3"
  },
  "language_info": {
   "codemirror_mode": {
    "name": "ipython",
    "version": 3
   },
   "file_extension": ".py",
   "mimetype": "text/x-python",
   "name": "python",
   "nbconvert_exporter": "python",
   "pygments_lexer": "ipython3",
   "version": "3.10.9"
  },
  "orig_nbformat": 4,
  "vscode": {
   "interpreter": {
    "hash": "244a07749df4fd0f8462e55ce5e72e53ef5f8dbe8c6274f6aee2032d0a902180"
   }
  }
 },
 "nbformat": 4,
 "nbformat_minor": 2
}
