{
 "cells": [
  {
   "cell_type": "markdown",
   "metadata": {},
   "source": [
    "## Imports"
   ]
  },
  {
   "cell_type": "code",
   "execution_count": 99,
   "metadata": {},
   "outputs": [],
   "source": [
    "import pandas as pd\n",
    "from datetime import datetime as dt\n",
    "from hbt import utils_hbt as uh\n",
    "from pathlib import Path"
   ]
  },
  {
   "cell_type": "markdown",
   "metadata": {},
   "source": [
    "## Settings"
   ]
  },
  {
   "cell_type": "code",
   "execution_count": 100,
   "metadata": {},
   "outputs": [],
   "source": [
    "dt_format = '%d.%m.%Y %H:%M:%S'\n",
    "dt_start = dt.strptime(\"22.04.2022 00:00:00\", dt_format)\n",
    "dt_end = dt.strptime(\"01.09.2022 00:00:00\", dt_format)\n",
    "\n",
    "path_pwdata = Path(r\"Q:\\Projekte\\10000-\\10208.10 Tangente Zug\"\n",
    "    r\"\\05 Berechnungen Grundlagen\\Pumpwerken\\Daten_Pumpwerken\")\n",
    "save_dir = Path(r\"Q:\\Projekte\\10000-\\10208.10 Tangente Zug\"\n",
    "    r\"\\05 Berechnungen Grundlagen\\Pumpwerken\")\n",
    "path_rain_ms = Path(r\"Q:\\Projekte\\10000-\\10208.10 Tangente Zug\"\n",
    "    r\"\\05 Berechnungen Grundlagen\\Regendaten\\Cham Niederschlag\"\n",
    "    r\"\\CHZ_Niederschlagsumme.csv\")\n",
    "path_rain_am = Path(r\"Q:\\Projekte\\10000-\\10208.10 Tangente Zug\"\n",
    "    r\"\\05 Berechnungen Grundlagen\\Regendaten\\data_Baar.csv\")\n",
    "\n",
    "pw_info = {\n",
    "    'Pumpwerk Sternen': {\n",
    "        'pumpen': [10, 10] # l/s\n",
    "    },\n",
    "    'Pumpwerk UF Zugerstrasse': {\n",
    "        'pumpen': [50, 50] # l/s\n",
    "    },\n",
    "    'Pumpwerk Neufeld': {\n",
    "        'pumpen': [60, 60, 60] # l/s\n",
    "    },\n",
    "    'Pumpwerk Südstrasse': {\n",
    "        'pumpen': [55, 55, 55] # l/s\n",
    "    },\n",
    "    'Pumpwerk SABA': {\n",
    "        'pumpen': [7.5, 7.5] # l/s\n",
    "    }\n",
    "}"
   ]
  },
  {
   "cell_type": "markdown",
   "metadata": {},
   "source": [
    "## Read data"
   ]
  },
  {
   "cell_type": "code",
   "execution_count": 101,
   "metadata": {},
   "outputs": [],
   "source": [
    "discharge_in = uh.hbtdb_get_data(917, dt_from=dt_start, dt_to=dt_end)\n",
    "\n",
    "list_pwpaths = list(path_pwdata.glob('*'))\n",
    "list_pwpaths = list_pwpaths[3:]\n",
    "dt_format = '%d.%m.%Y %H:%M'\n",
    "date_parser = lambda x: pd.to_datetime(x, format=dt_format)\n",
    "df_pw = pd.DataFrame(columns=[\"Beschrieb\",\"Zeitstempel\",\"Wert\"])\n",
    "\n",
    "for pw_path in list_pwpaths:\n",
    "    df_temp = pd.read_csv(pw_path, delimiter=';',\n",
    "        names=[\"Beschrieb\",\"Zeitstempel\",\"Wert\"], parse_dates=[1],\n",
    "        date_parser=date_parser)\n",
    "    df_pw = pd.concat([df_pw, df_temp])\n",
    "del df_temp\n",
    "df_pw.set_index('Zeitstempel', inplace=True)\n",
    "\n",
    "mask = (df_pw.index >= dt_start) & (df_pw.index < dt_end)\n",
    "df_pw = df_pw[mask]"
   ]
  },
  {
   "cell_type": "code",
   "execution_count": 102,
   "metadata": {},
   "outputs": [],
   "source": [
    "discharge_out = uh.hbtdb_get_data(918, dt_from=dt_start, dt_to=dt_end)"
   ]
  },
  {
   "cell_type": "code",
   "execution_count": 103,
   "metadata": {},
   "outputs": [
    {
     "name": "stdout",
     "output_type": "stream",
     "text": [
      "rain [mm/10min]    422.7\n",
      "dtype: float64\n",
      "BAAR - Niederschlag (mm oder Liter/m2)    475.4\n",
      "dtype: float64\n"
     ]
    }
   ],
   "source": [
    "ts_rain_ms = uh.read_raindata_meteoschweiz(path_rain_ms)\n",
    "mask = (ts_rain_ms.index >= dt_start) & (ts_rain_ms.index < dt_end)\n",
    "ts_rain_ms = ts_rain_ms[mask]\n",
    "print(ts_rain_ms.sum())\n",
    "\n",
    "ts_rain_am = uh.read_raindata_agrometeo(path_rain_am, resolution='10min')\n",
    "mask = (ts_rain_am.index >= dt_start) & (ts_rain_am.index < dt_end)\n",
    "ts_rain_am = ts_rain_am[mask]\n",
    "print(ts_rain_am.sum())"
   ]
  },
  {
   "cell_type": "markdown",
   "metadata": {},
   "source": [
    "## Analysis"
   ]
  },
  {
   "cell_type": "code",
   "execution_count": 104,
   "metadata": {},
   "outputs": [],
   "source": [
    "df_betrieb = df_pw[df_pw['Beschrieb'].str.contains('Betrieb')]\n",
    "index = df_betrieb['Beschrieb'].unique()\n",
    "pw_tot_v = pd.DataFrame(index=index, columns=['tot vol [m3]'])\n",
    "pw_tot_s = pd.DataFrame(index=index, columns=['tot time [s]'])\n",
    "\n",
    "for pw, info in pw_info.items():\n",
    "    df_temp1 = df_betrieb[df_betrieb['Beschrieb'].str.contains(pw)]\n",
    "    for i, el in enumerate(df_temp1['Beschrieb'].unique()):\n",
    "        df_temp2 = df_temp1[df_temp1['Beschrieb']==el]\n",
    "        df_temp2.sort_index(inplace=True)\n",
    "        idx_0 = df_temp2[df_temp2['Wert']==0].index\n",
    "        idx_1 = df_temp2[df_temp2['Wert']==1].index\n",
    "        tot_s = (idx_0 - idx_1).sum().total_seconds()\n",
    "        tot_v = tot_s * info['pumpen'][i] / 1e3\n",
    "        pw_tot_v.loc[el] = tot_v\n",
    "        pw_tot_s.loc[el] = tot_s\n",
    "\n",
    "pw_tot_v.sort_index(inplace=True)\n",
    "pw_tot_s.sort_index(inplace=True)\n",
    "\n",
    "save_path = save_dir / 'PW_Volumen_220422-220901.csv'\n",
    "pw_tot_v.to_csv(save_path, sep=';')\n",
    "\n",
    "save_path = save_dir / 'PW_Zeiten_220422-220901.csv'\n",
    "pw_tot_s.to_csv(save_path, sep=';')"
   ]
  },
  {
   "cell_type": "code",
   "execution_count": 105,
   "metadata": {},
   "outputs": [
    {
     "name": "stdout",
     "output_type": "stream",
     "text": [
      "21451.444241999994\n",
      "21456.2066407\n",
      "17453.40615\n"
     ]
    }
   ],
   "source": [
    "discharge_in, uniques = uh.ts_time_intervals(discharge_in)\n",
    "tot_in1 = discharge_in['wert'].sum() * 60 / 1e3\n",
    "print(tot_in1)\n",
    "\n",
    "tot_in2 = (discharge_in['wert'] * \n",
    "    discharge_in['delta_dt'].dt.total_seconds()).sum() / 1e3\n",
    "print(tot_in2)\n",
    "\n",
    "tot_out = discharge_out['wert'].sum() * 60 / 1e3\n",
    "print(tot_out)"
   ]
  }
 ],
 "metadata": {
  "kernelspec": {
   "display_name": "Python 3.10.8 ('venv': venv)",
   "language": "python",
   "name": "python3"
  },
  "language_info": {
   "codemirror_mode": {
    "name": "ipython",
    "version": 3
   },
   "file_extension": ".py",
   "mimetype": "text/x-python",
   "name": "python",
   "nbconvert_exporter": "python",
   "pygments_lexer": "ipython3",
   "version": "3.10.8"
  },
  "orig_nbformat": 4,
  "vscode": {
   "interpreter": {
    "hash": "fcbcf634104c4732b8439a3fb9bd2e33824138a0380f5d18bd4ad379b42013a3"
   }
  }
 },
 "nbformat": 4,
 "nbformat_minor": 2
}
