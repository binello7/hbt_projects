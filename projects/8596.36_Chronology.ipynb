{
 "cells": [
  {
   "attachments": {},
   "cell_type": "markdown",
   "metadata": {},
   "source": [
    "## Imports"
   ]
  },
  {
   "cell_type": "code",
   "execution_count": 1,
   "metadata": {},
   "outputs": [],
   "source": [
    "from datetime import datetime as dt\n",
    "from pathlib import Path\n",
    "from hbt_tools import utils_hbt as uh\n",
    "from matplotlib import rcParams\n",
    "from matplotlib import dates as mdates\n",
    "import matplotlib.pyplot as plt"
   ]
  },
  {
   "attachments": {},
   "cell_type": "markdown",
   "metadata": {},
   "source": [
    "## Settings"
   ]
  },
  {
   "cell_type": "code",
   "execution_count": 2,
   "metadata": {},
   "outputs": [],
   "source": [
    "# Paths\n",
    "path_raindata = Path(r\"Q:\\Projekte\\8000-\\8500er\\8596\\8596.36-Mühlestrasse\"\n",
    "    r\"\\05 Berechnungen Grundlagen\\Regendaten\\Buchrain_210928-230702.csv\")\n",
    "save_path = Path(r\"Q:\\Projekte\\8000-\\8500er\\8596\\8596.36-Mühlestrasse\"\n",
    "    r\"\\05 Berechnungen Grundlagen\\Datenauswertung\")"
   ]
  },
  {
   "cell_type": "code",
   "execution_count": 3,
   "metadata": {},
   "outputs": [],
   "source": [
    "# Installation: 28.09.2021\n",
    "date_format = '%d.%m.%Y %H:%M'\n",
    "\n",
    "rcParams.update({'figure.autolayout': True})\n",
    "dt_start = dt.strptime('07.06.2022 00:00', date_format)\n",
    "dt_end = dt.strptime('08.06.2022 00:00', date_format)"
   ]
  },
  {
   "cell_type": "code",
   "execution_count": 4,
   "metadata": {},
   "outputs": [],
   "source": [
    "# Events\n",
    "date_format = '%d.%m.%Y'\n",
    "events = {\n",
    "    'Installation Messtechnik': dt.strptime('28.09.2021', date_format),\n",
    "    'Probenahme 1': dt.strptime('07.02.2022', date_format),\n",
    "    'Probenahme 2': dt.strptime('04.07.2022', date_format),\n",
    "    'Probenahme 3': dt.strptime('23.09.2022', date_format),\n",
    "    'Probenahme 4': dt.strptime('04.11.2022', date_format),\n",
    "    'Probenahme 5': dt.strptime('26.01.2023', date_format),\n",
    "    'Probenahme 6': dt.strptime('03.04.2023', date_format),\n",
    "    'Probenahme 7': dt.strptime('31.05.2023', date_format)\n",
    "}"
   ]
  },
  {
   "attachments": {},
   "cell_type": "markdown",
   "metadata": {},
   "source": [
    "## Read Data"
   ]
  },
  {
   "cell_type": "code",
   "execution_count": null,
   "metadata": {},
   "outputs": [],
   "source": [
    "df_rain = uh.read_raindata_agrometeo()"
   ]
  },
  {
   "attachments": {},
   "cell_type": "markdown",
   "metadata": {},
   "source": [
    "## Modify Data"
   ]
  },
  {
   "cell_type": "code",
   "execution_count": null,
   "metadata": {},
   "outputs": [],
   "source": [
    "mask = ((df_rain.index>=events['Installation Messtechnik']) &\n",
    "    (df_rain.index<=events['Probenahme 3']))\n",
    "df_rain = df_rain[mask]\n",
    "df_rain['kumulativ [mm]'] = df_rain.cumsum()"
   ]
  },
  {
   "attachments": {},
   "cell_type": "markdown",
   "metadata": {},
   "source": [
    "## Plot Data"
   ]
  },
  {
   "cell_type": "code",
   "execution_count": null,
   "metadata": {},
   "outputs": [],
   "source": [
    "fig, ax1 = plt.subplots()\n",
    "ax1.plot(df_rain.index, df_rain.iloc[:,1], 'b--')\n",
    "ax1.axvspan(events['Installation Messtechnik'], events['Probenahme 1'],\n",
    "    color='red', alpha=0.5)\n",
    "ax1.axvspan(events['Probenahme 1'], events['Probenahme 2'],\n",
    "    color='grey', alpha=0.5)\n",
    "ax1.axvspan(events['Probenahme 2'], events['Probenahme 3'],\n",
    "    color='red', alpha=0.5)\n",
    "\n",
    "for k, v in events.items():\n",
    "    ax1.text(x=v, y=440, s=k, rotation=15)\n",
    "    ax1.annotate(text=\"\", xy=(v, 350), xytext=(v, 440),\n",
    "        arrowprops=dict(facecolor='black', shrink=0.005, width=1, \n",
    "        headwidth=5))\n",
    "\n",
    "ax2 = ax1.twinx()\n",
    "ax2.plot(df_rain.index, df_rain.iloc[:,0], 'b')\n",
    "\n",
    "ax1.set_xticklabels(ax1.get_xticks(), rotation=30)\n",
    "ax1.xaxis.set_major_formatter(mdates.DateFormatter('%d.%m.%Y'))\n",
    "\n",
    "ax1.set_xlabel('Datum')\n",
    "ax1.set_ylabel('Regensumme [mm]')\n",
    "ax2.set_ylabel('Regen [mm/10min]')\n",
    "\n",
    "cm_in = 0.394\n",
    "fig.set_size_inches(16*cm_in,8*cm_in)"
   ]
  }
 ],
 "metadata": {
  "kernelspec": {
   "display_name": "hbt_projects",
   "language": "python",
   "name": "python3"
  },
  "language_info": {
   "codemirror_mode": {
    "name": "ipython",
    "version": 3
   },
   "file_extension": ".py",
   "mimetype": "text/x-python",
   "name": "python",
   "nbconvert_exporter": "python",
   "pygments_lexer": "ipython3",
   "version": "3.11.0"
  },
  "orig_nbformat": 4
 },
 "nbformat": 4,
 "nbformat_minor": 2
}
