{
 "cells": [
  {
   "cell_type": "markdown",
   "metadata": {},
   "source": [
    "## Imports"
   ]
  },
  {
   "cell_type": "code",
   "execution_count": 15,
   "metadata": {},
   "outputs": [],
   "source": [
    "import matplotlib.pyplot as plt\n",
    "import numpy as np\n",
    "import pandas as pd\n",
    "from hbt.utils_hbt import jsm, gm\n",
    "from pathlib import Path"
   ]
  },
  {
   "cell_type": "markdown",
   "metadata": {},
   "source": [
    "## Settings"
   ]
  },
  {
   "cell_type": "code",
   "execution_count": 14,
   "metadata": {},
   "outputs": [],
   "source": [
    "%config InlineBackend.print_figure_kwargs = {'bbox_inches': None}"
   ]
  },
  {
   "cell_type": "markdown",
   "metadata": {},
   "source": [
    "## Functions"
   ]
  },
  {
   "cell_type": "code",
   "execution_count": 2,
   "metadata": {},
   "outputs": [],
   "source": [
    "def split_df_year(df):\n",
    "    dfs = {}\n",
    "    years = df.index.year.unique()\n",
    "    for year in years:\n",
    "        df_tmp = df[df.index.year == year]\n",
    "        df_tmp.index = df_tmp.index.month.unique()\n",
    "        dfs.update({year: df_tmp})\n",
    "    return dfs "
   ]
  },
  {
   "cell_type": "markdown",
   "metadata": {},
   "source": [
    "## Setup"
   ]
  },
  {
   "cell_type": "code",
   "execution_count": 3,
   "metadata": {},
   "outputs": [],
   "source": [
    "# Paths\n",
    "path_ara = Path(r\"Q:\\Projekte\\8000-\\8500er\\8532\\8532.10 GEP Richterswil\"\n",
    "    r\"\\05 Berechnungen Grundlagen\\5 Fremdwasser\\ARA\\Auswertung\"\n",
    "    r\"\\01_Rohdaten\\Zulaufmenge_ARA_Skript_1min.csv\")\n",
    "path_rain = Path(r\"Q:\\Projekte\\8000-\\8500er\\8532\\8532.10 GEP Richterswil\"\n",
    "    r\"\\05 Berechnungen Grundlagen\\5 Fremdwasser\\ARA\\Auswertung\"\n",
    "    r\"\\01_Rohdaten\\data_1d.csv\")\n",
    "path_twv_m = Path(r\"Q:\\Projekte\\8000-\\8500er\\8532\\8532.10 GEP Richterswil\"\n",
    "    r\"\\05 Berechnungen Grundlagen\\5 Fremdwasser\\ARA\\Auswertung\\01_Rohdaten\"\n",
    "    r\"\\Trinkwasserverbrauch_Monat.csv\")\n",
    "path_twv_y = Path(r\"Q:\\Projekte\\8000-\\8500er\\8532\\8532.10 GEP Richterswil\"\n",
    "    r\"\\05 Berechnungen Grundlagen\\5 Fremdwasser\\ARA\\Auswertung\"\n",
    "    r\"\\02_Bereinigte_Daten\\Trinkwasserverbrauch\\Trinkwasserverbrauch.csv\")\n",
    "path_ew_y = Path(r\"Q:\\Projekte\\8000-\\8500er\\8532\\8532.10 GEP Richterswil\"\n",
    "    r\"\\05 Berechnungen Grundlagen\\5 Fremdwasser\\ARA\\Auswertung\"\n",
    "    r\"\\02_Bereinigte_Daten\\Einwohner\\Einwohner.csv\")\n",
    "path_jsm_m_tw = Path(r\"Q:\\Projekte\\8000-\\8500er\\8532\\8532.10 GEP Richterswil\"\n",
    "    r\"\\05 Berechnungen Grundlagen\\5 Fremdwasser\\ARA\\Auswertung\\03_Auswertung\"\n",
    "    r\"\\Jahresschmutzwasser\\Monatswerte_Zusammensetzung_tw.csv\")\n",
    "path_jsm_m_ewg = Path(r\"Q:\\Projekte\\8000-\\8500er\\8532\\8532.10 GEP Richterswil\"\n",
    "    r\"\\05 Berechnungen Grundlagen\\5 Fremdwasser\\ARA\\Auswertung\\03_Auswertung\"\n",
    "    r\"\\Jahresschmutzwasser\\Monatswerte_Zusammensetzung_ewg.csv\")\n",
    "path_nm_m_03 = Path(r\"Q:\\Projekte\\8000-\\8500er\\8532\\8532.10 GEP Richterswil\"\n",
    "    r\"\\05 Berechnungen Grundlagen\\5 Fremdwasser\\ARA\\Auswertung\\03_Auswertung\"\n",
    "    r\"\\Nachtminimum\\Monatswerte_Zusammensetzung_03.csv\")\n",
    "path_nm_m_05 = Path(r\"Q:\\Projekte\\8000-\\8500er\\8532\\8532.10 GEP Richterswil\"\n",
    "    r\"\\05 Berechnungen Grundlagen\\5 Fremdwasser\\ARA\\Auswertung\\03_Auswertung\"\n",
    "    r\"\\Nachtminimum\\Monatswerte_Zusammensetzung_05.csv\")\n",
    "path_gm_m_tw = Path(r\"Q:\\Projekte\\8000-\\8500er\\8532\\8532.10 GEP Richterswil\"\n",
    "    r\"\\05 Berechnungen Grundlagen\\5 Fremdwasser\\ARA\\Auswertung\\03_Auswertung\"\n",
    "    r\"\\GleitendesMinimum\\Monatswerte_Zusammensetzung_tw.csv\")\n",
    "path_gm_m_ewg = Path(r\"Q:\\Projekte\\8000-\\8500er\\8532\\8532.10 GEP Richterswil\"\n",
    "    r\"\\05 Berechnungen Grundlagen\\5 Fremdwasser\\ARA\\Auswertung\\03_Auswertung\"\n",
    "    r\"\\GleitendesMinimum\\Monatswerte_Zusammensetzung_ewg.csv\")\n",
    "\n",
    "save_dir = Path(r\"Q:\\Projekte\\8000-\\8500er\\8532\\8532.10 GEP Richterswil\"\n",
    "    r\"\\05 Berechnungen Grundlagen\\5 Fremdwasser\\ARA\\Plots\")"
   ]
  },
  {
   "cell_type": "markdown",
   "metadata": {},
   "source": [
    "## Read data"
   ]
  },
  {
   "cell_type": "code",
   "execution_count": 4,
   "metadata": {},
   "outputs": [],
   "source": [
    "# Read ARA data\n",
    "date_format = '%d.%m.%Y %H:%M:%S'\n",
    "date_parser = lambda x: pd.to_datetime(x, dayfirst=True,\n",
    "    format=date_format)\n",
    "ts_ara_1min = pd.read_csv(path_ara, header=None, skiprows=1, parse_dates=True,\n",
    "    date_parser=date_parser, dayfirst=True, index_col=0, sep=';')\n",
    "\n",
    "# Volume per day (m3)\n",
    "ts_ara_d = ts_ara_1min.groupby(pd.Grouper(freq='D')).sum() * (60/1e3)"
   ]
  },
  {
   "cell_type": "code",
   "execution_count": 5,
   "metadata": {},
   "outputs": [],
   "source": [
    "# Read rain data\n",
    "date_format = '%d.%m.%Y'\n",
    "date_parser = lambda x: pd.to_datetime(x, dayfirst=True,\n",
    "    format=date_format)\n",
    "df_rain_d = pd.read_csv(path_rain, header=None, skiprows=1, parse_dates=True,\n",
    "    date_parser=date_parser, dayfirst=True, index_col=0, sep=';')"
   ]
  },
  {
   "cell_type": "code",
   "execution_count": 6,
   "metadata": {},
   "outputs": [],
   "source": [
    "# Read Trinwasserverbrauch data\n",
    "date_format = '%m.%Y'\n",
    "date_parser = lambda x: pd.to_datetime(x, dayfirst=True,\n",
    "    format=date_format)\n",
    "df_twv_m = pd.read_csv(path_twv_m, header=0, parse_dates=True,\n",
    "    date_parser=date_parser, dayfirst=True, index_col=0, sep=';')\n",
    "\n",
    "date_format = '%Y'\n",
    "date_parser = lambda x: pd.to_datetime(x, dayfirst=True,\n",
    "    format=date_format)\n",
    "ts_twv_y = pd.read_csv(path_twv_y, header=None, skiprows=1, parse_dates=True,\n",
    "    date_parser=date_parser, index_col=0, sep=';')\n",
    "ts_ew_y = pd.read_csv(path_ew_y, header=None, skiprows=1, parse_dates=True,\n",
    "    date_parser=date_parser, index_col=0, sep=';')"
   ]
  },
  {
   "cell_type": "markdown",
   "metadata": {},
   "source": [
    "## Plots"
   ]
  },
  {
   "cell_type": "markdown",
   "metadata": {},
   "source": [
    "### ARA Zufluss"
   ]
  },
  {
   "cell_type": "code",
   "execution_count": 7,
   "metadata": {},
   "outputs": [],
   "source": [
    "# Compute hourly-mean\n",
    "df_ara_1h_mean = ts_ara_1min.groupby(pd.Grouper(freq='H')).mean()\n",
    "\n",
    "# Extract daily-mins\n",
    "df_ara_d_min = df_ara_1h_mean.groupby(pd.Grouper(freq='D')).min()\n",
    "\n",
    "# Plot the data\n",
    "fig, axs = plt.subplots()\n",
    "axs.plot(df_ara_d_min)\n",
    "axs.set_xlabel('Datum')\n",
    "axs.set_ylabel('Zufluss [l/s]')\n",
    "axs.set_title('Tagesminimum')\n",
    "\n",
    "fig.set_size_inches(15,10)\n",
    "fig.set_facecolor('white')\n",
    "fig.set_dpi(300)\n",
    "\n",
    "save_path = save_dir / 'Tagesminimum.png'\n",
    "fig.savefig(save_path)\n",
    "plt.close()"
   ]
  },
  {
   "cell_type": "markdown",
   "metadata": {},
   "source": [
    "### Histogramm"
   ]
  },
  {
   "cell_type": "code",
   "execution_count": 28,
   "metadata": {},
   "outputs": [],
   "source": [
    "data = ts_ara_1min\n",
    "data = data[data<=150]\n",
    "n_bins = int(data.max() - data.min())\n",
    "\n",
    "cm_in = 0.3937\n",
    "w=14.5*cm_in\n",
    "h=10*cm_in\n",
    "fig, ax = plt.subplots(figsize=(w, h), facecolor='white')\n",
    "plt.autoscale(enable=True, axis='x', tight=True)\n",
    "\n",
    "txt_props = {\n",
    "    'font': 'Arial',\n",
    "    'fontsize': 9\n",
    "}\n",
    "n, bins, patches = ax.hist(data, bins=n_bins, edgecolor='k', linewidth=0.5)\n",
    "ax.set_xlabel('Durchfluss [l/s]', txt_props)\n",
    "ax.set_ylabel('Anzahl', txt_props)\n",
    "\n",
    "ax.tick_params(labelsize=8)\n",
    "\n",
    "y_lims = ax.get_ybound()\n",
    "ax.axvline(x=7, color='r', linewidth=0.5)\n",
    "ax.axvline(x=21, c='r', linewidth=0.5)\n",
    "\n",
    "fig.set_dpi(300)\n",
    "\n",
    "save_path = save_dir / 'Histogramm.png'\n",
    "fig.savefig(save_path, bbox_inches='tight')\n",
    "plt.close()"
   ]
  },
  {
   "cell_type": "markdown",
   "metadata": {},
   "source": [
    "### Jahresschmutzwasser / Nachtsminimum / Gleitendes Minimum"
   ]
  },
  {
   "cell_type": "code",
   "execution_count": 31,
   "metadata": {},
   "outputs": [],
   "source": [
    "# Jahresschmutzwasser\n",
    "## Read data\n",
    "date_format = '%m.%Y'\n",
    "date_parser = lambda x: pd.to_datetime(x, dayfirst=True,\n",
    "    format=date_format)\n",
    "\n",
    "### TW\n",
    "jsm_m_tw = pd.read_csv(path_jsm_m_tw, header=None, skiprows=0,\n",
    "    parse_dates=True, date_parser=date_parser, dayfirst=True, index_col=0,\n",
    "    sep=';')\n",
    "\n",
    "### Convert to l/s\n",
    "c_fact = 1e3 / (24*60**2)\n",
    "jsm_m_tw = jsm_m_tw * c_fact\n",
    "\n",
    "### Split in years\n",
    "jsm_m_tw = split_df_year(jsm_m_tw)\n",
    "\n",
    "### Plot data\n",
    "fig, axs = plt.subplots(3)\n",
    "fig.set_size_inches(10,16)\n",
    "fig.set_facecolor('white')\n",
    "fig.set_dpi(300)\n",
    "\n",
    "leg = []\n",
    "col = ['r', 'b', 'g']\n",
    "\n",
    "#### TW\n",
    "for i, (y, d) in enumerate(jsm_m_tw.items()):\n",
    "    axs[0].plot(d, col[i])\n",
    "    leg.append(('TW ' + str(y)))\n",
    "\n",
    "axs[0].legend(leg)\n",
    "axs[0].set_xlabel('Monat')\n",
    "axs[0].set_ylabel('FW [l/s]')\n",
    "axs[0].set_title('Jahresschmutzwasser')\n",
    "#-------------------------------------------------------------------------------\n",
    "\n",
    "# Nachtsminimum\n",
    "## Read data\n",
    "### 0.3\n",
    "nm_m_03 = pd.read_csv(path_nm_m_03, header=None, skiprows=0,\n",
    "    parse_dates=True, date_parser=date_parser, dayfirst=True, index_col=0,\n",
    "    sep=';')\n",
    "\n",
    "### 0.5\n",
    "nm_m_05 = pd.read_csv(path_nm_m_05, header=None, skiprows=0,\n",
    "    parse_dates=True, date_parser=date_parser, dayfirst=True, index_col=0,\n",
    "    sep=';')\n",
    "\n",
    "## Split in years\n",
    "nm_m_03 = split_df_year(nm_m_03)\n",
    "nm_m_05 = split_df_year(nm_m_05)\n",
    "\n",
    "## Plot data\n",
    "leg = []\n",
    "\n",
    "### 0.3\n",
    "for i, (y, d) in enumerate(nm_m_03.items()):\n",
    "    axs[1].plot(d, col[i])\n",
    "    leg.append((str(y) + ' (GW = 0.3mm)'))\n",
    "\n",
    "### 0.5\n",
    "for i, (y, d) in enumerate(nm_m_05.items()):\n",
    "    axs[1].plot(d, col[i], linestyle='--')\n",
    "    leg.append((str(y) + ' (GW = 0.5mm)'))\n",
    "\n",
    "axs[1].legend(leg)\n",
    "axs[1].set_xlabel('Monat')\n",
    "axs[1].set_ylabel('FW [l/s]')\n",
    "axs[1].set_title('Nachtsminimum')\n",
    "#-------------------------------------------------------------------------------\n",
    "\n",
    "# Gleitendes Minimum\n",
    "## Read data\n",
    "### TW\n",
    "gm_m_tw = pd.read_csv(path_gm_m_tw, header=None, skiprows=0,\n",
    "    parse_dates=True, date_parser=date_parser, dayfirst=True, index_col=0,\n",
    "    sep=';')\n",
    "\n",
    "### Convert to l/s\n",
    "gm_m_tw = gm_m_tw * c_fact\n",
    "\n",
    "## Split in years\n",
    "gm_m_tw = split_df_year(gm_m_tw)\n",
    "\n",
    "## Plot data\n",
    "### TW\n",
    "leg = []\n",
    "for i, (y, d) in enumerate(gm_m_tw.items()):\n",
    "    axs[2].plot(d, col[i])\n",
    "    leg.append(('TW ' + str(y)))\n",
    "\n",
    "axs[2].legend(leg)\n",
    "axs[2].set_xlabel('Monat')\n",
    "axs[2].set_ylabel('FW [l/s]')\n",
    "axs[2].set_title('Gleitendes Minimum')\n",
    "save_path = save_dir / 'Monatswerte_Vergleich.png'\n",
    "fig.savefig(save_path)\n",
    "plt.close()\n"
   ]
  },
  {
   "cell_type": "markdown",
   "metadata": {},
   "source": [
    "## Results"
   ]
  },
  {
   "cell_type": "markdown",
   "metadata": {},
   "source": [
    "### JSM"
   ]
  },
  {
   "cell_type": "code",
   "execution_count": null,
   "metadata": {},
   "outputs": [],
   "source": [
    "jsm_y_ewg_p = jsm(ts_ara_d=ts_ara_d, ts_rain_d=df_rain_d, ts_twv=ts_twv_y,\n",
    "    freq_twv='year')\n",
    "jsm_y_ewg_p = jsm_y_ewg_p * (1e3/(24*60**2))\n",
    "print(jsm_y_ewg_p)"
   ]
  },
  {
   "cell_type": "markdown",
   "metadata": {},
   "source": [
    "### GM"
   ]
  },
  {
   "cell_type": "code",
   "execution_count": null,
   "metadata": {},
   "outputs": [],
   "source": [
    "# EW\n",
    "fw_gm_ew_y, fw_gm_ew_m = gm(ts_ara_d=ts_ara_d, ts_ew=ts_ew_y)\n",
    "print(fw_gm_ew_y)\n",
    "\n",
    "# # TWV\n",
    "# fw_gm_twv_y, fw_gm_twv_m = gm(ts_ara_d=ts_ara_d, ts_twv=ts_twv_y)\n",
    "# print(fw_gm_twv_y)"
   ]
  },
  {
   "cell_type": "markdown",
   "metadata": {},
   "source": [
    "### Yearly averages from months results"
   ]
  },
  {
   "cell_type": "code",
   "execution_count": null,
   "metadata": {},
   "outputs": [],
   "source": [
    "# Compute yearly average\n",
    "## JSM\n",
    "def y_avg(m_dict):\n",
    "    y_avg = dict()\n",
    "    for y, df in m_dict.items():\n",
    "        y_avg.update({y: df.mean().values[0]})\n",
    "    return y_avg\n",
    "\n",
    "def print_y_avg(y_avg, name):\n",
    "    print(name)\n",
    "    for y, val in y_avg.items():\n",
    "        print(f\"{y}:\\t{val:0.1f}\")\n",
    "    print(\"\")\n",
    "\n",
    "jsm_y_ewg = y_avg(jsm_m_ewg)\n",
    "print_y_avg(jsm_y_ewg, 'JSM EWG')\n"
   ]
  }
 ],
 "metadata": {
  "kernelspec": {
   "display_name": "Python 3.10.6 ('cenv')",
   "language": "python",
   "name": "python3"
  },
  "language_info": {
   "codemirror_mode": {
    "name": "ipython",
    "version": 3
   },
   "file_extension": ".py",
   "mimetype": "text/x-python",
   "name": "python",
   "nbconvert_exporter": "python",
   "pygments_lexer": "ipython3",
   "version": "3.10.6"
  },
  "orig_nbformat": 4,
  "vscode": {
   "interpreter": {
    "hash": "ab1415878b8670590be7cfb0d397ba278fb7336eefaa66780c43ead28065321d"
   }
  }
 },
 "nbformat": 4,
 "nbformat_minor": 2
}
