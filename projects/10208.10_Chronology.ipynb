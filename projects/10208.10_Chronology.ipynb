{
 "cells": [
  {
   "attachments": {},
   "cell_type": "markdown",
   "metadata": {},
   "source": [
    "## Imports"
   ]
  },
  {
   "cell_type": "code",
   "execution_count": null,
   "metadata": {},
   "outputs": [],
   "source": [
    "from datetime import datetime as dt\n",
    "from pathlib import Path\n",
    "from hbt_tools import utils_hbt as uh\n",
    "from matplotlib import rcParams\n",
    "from matplotlib import dates as mdates\n",
    "import matplotlib.pyplot as plt"
   ]
  },
  {
   "attachments": {},
   "cell_type": "markdown",
   "metadata": {},
   "source": [
    "## Settings"
   ]
  },
  {
   "cell_type": "code",
   "execution_count": null,
   "metadata": {},
   "outputs": [],
   "source": [
    "# Paths\n",
    "path_raindata = Path(r\"Q:\\Projekte\\10000-\\10208.10 Tangente Zug\"\n",
    "    r\"\\05 Berechnungen Grundlagen\\Regendaten\\Cham Niederschlag\"\n",
    "    r\"\\CHZ_Niederschlagsumme.csv\")\n",
    "save_path = Path(r\"Q:\\Projekte\\10000-\\10208.10 Tangente Zug\"\n",
    "    r\"\\05 Berechnungen Grundlagen\\Datenauswertung\\Plots\")"
   ]
  },
  {
   "cell_type": "code",
   "execution_count": null,
   "metadata": {},
   "outputs": [],
   "source": [
    "# Installation: 21.04.2022 10:00\n",
    "# Demontierung: 29.08.2022\n",
    "dt_format = '%d.%m.%Y %H:%M'\n",
    "EZG_tot = 5.18 # ha\n",
    "rcParams.update({'figure.autolayout': True})\n",
    "dt_start = dt.strptime('07.06.2022 00:00', dt_format)\n",
    "dt_end = dt.strptime('08.06.2022 00:00', dt_format)\n",
    "if 'dt_end' not in vars():\n",
    "    dt_end = dt.now()"
   ]
  },
  {
   "cell_type": "code",
   "execution_count": null,
   "metadata": {},
   "outputs": [],
   "source": [
    "# Events\n",
    "events = {\n",
    "    'Installation Messtechnik': dt(2022, 4, 21),\n",
    "    'Probenahme 1': dt(2022, 6, 1),\n",
    "    'Probenahme 2': dt(2022, 7, 4),\n",
    "    'Probenahme 3': dt(2022, 8, 29),\n",
    "}"
   ]
  },
  {
   "attachments": {},
   "cell_type": "markdown",
   "metadata": {},
   "source": [
    "## Read Data"
   ]
  },
  {
   "cell_type": "code",
   "execution_count": null,
   "metadata": {},
   "outputs": [],
   "source": [
    "df_rain = uh.read_raindata_meteoschweiz(path_raindata)"
   ]
  },
  {
   "attachments": {},
   "cell_type": "markdown",
   "metadata": {},
   "source": [
    "## Modify Data"
   ]
  },
  {
   "cell_type": "code",
   "execution_count": null,
   "metadata": {},
   "outputs": [],
   "source": [
    "mask = ((df_rain.index>=events['Installation Messtechnik']) &\n",
    "    (df_rain.index<=events['Probenahme 3']))\n",
    "df_rain = df_rain[mask]\n",
    "df_rain['kumulativ [mm]'] = df_rain.cumsum()"
   ]
  },
  {
   "attachments": {},
   "cell_type": "markdown",
   "metadata": {},
   "source": [
    "## Plot Data"
   ]
  },
  {
   "cell_type": "code",
   "execution_count": null,
   "metadata": {},
   "outputs": [],
   "source": [
    "fig, ax1 = plt.subplots()\n",
    "ax1.plot(df_rain.index, df_rain.iloc[:,1], 'b--')\n",
    "ax1.axvspan(events['Installation Messtechnik'], events['Probenahme 1'],\n",
    "    color='red', alpha=0.5)\n",
    "ax1.axvspan(events['Probenahme 1'], events['Probenahme 2'],\n",
    "    color='grey', alpha=0.5)\n",
    "ax1.axvspan(events['Probenahme 2'], events['Probenahme 3'],\n",
    "    color='red', alpha=0.5)\n",
    "\n",
    "for k, v in events.items():\n",
    "    ax1.text(x=v, y=440, s=k, rotation=15)\n",
    "    ax1.annotate(text=\"\", xy=(v, 350), xytext=(v, 440),\n",
    "        arrowprops=dict(facecolor='black', shrink=0.005, width=1, \n",
    "        headwidth=5))\n",
    "\n",
    "ax2 = ax1.twinx()\n",
    "ax2.plot(df_rain.index, df_rain.iloc[:,0], 'b')\n",
    "\n",
    "ax1.set_xticklabels(ax1.get_xticks(), rotation=30)\n",
    "ax1.xaxis.set_major_formatter(mdates.DateFormatter('%d.%m.%Y'))\n",
    "\n",
    "ax1.set_xlabel('Datum')\n",
    "ax1.set_ylabel('Regensumme [mm]')\n",
    "ax2.set_ylabel('Regen [mm/10min]')\n",
    "\n",
    "cm_in = 0.394\n",
    "fig.set_size_inches(16*cm_in,8*cm_in)"
   ]
  }
 ],
 "metadata": {
  "kernelspec": {
   "display_name": "hbt_projects",
   "language": "python",
   "name": "python3"
  },
  "language_info": {
   "codemirror_mode": {
    "name": "ipython",
    "version": 3
   },
   "file_extension": ".py",
   "mimetype": "text/x-python",
   "name": "python",
   "nbconvert_exporter": "python",
   "pygments_lexer": "ipython3",
   "version": "3.11.0"
  },
  "orig_nbformat": 4
 },
 "nbformat": 4,
 "nbformat_minor": 2
}
