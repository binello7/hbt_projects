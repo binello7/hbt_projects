{
 "cells": [
  {
   "cell_type": "markdown",
   "metadata": {},
   "source": [
    "## Imports"
   ]
  },
  {
   "cell_type": "code",
   "execution_count": 13,
   "metadata": {},
   "outputs": [],
   "source": [
    "import pandas as pd\n",
    "import plotly.graph_objects as go\n",
    "from pathlib import Path"
   ]
  },
  {
   "cell_type": "markdown",
   "metadata": {},
   "source": [
    "## Global parameters"
   ]
  },
  {
   "cell_type": "code",
   "execution_count": 14,
   "metadata": {},
   "outputs": [],
   "source": [
    "pd.options.plotting.backend = \"plotly\"\n",
    "\n",
    "path_10min = Path(r\"Q:\\Projekte\\8000-\\8500er\\8596\\8596.35-Hagnau\"\n",
    "    r\"\\05 Berechnungen Grundlagen\\Datenauswertung\"\n",
    "    r\"\\ARA Birs_SABA Filter_Aug-Okt 2022.csv\")\n",
    "path_1h = Path(r\"Q:\\Projekte\\8000-\\8500er\\8596\\8596.35-Hagnau\\05 Berechnungen\"\n",
    "    r\" Grundlagen\\Datenauswertung\\SABA Daten.csv\")\n",
    "\n",
    "save_dir = Path(r\"Q:\\Projekte\\8000-\\8500er\\8596\\8596.35-Hagnau\"\n",
    "    r\"\\05 Berechnungen Grundlagen\\Datenauswertung\\Plots\")"
   ]
  },
  {
   "cell_type": "markdown",
   "metadata": {},
   "source": [
    "## Read data"
   ]
  },
  {
   "cell_type": "code",
   "execution_count": 15,
   "metadata": {},
   "outputs": [],
   "source": [
    "dt_format = '%d.%m.%Y %H:%M'\n",
    "date_parser = lambda x: pd.to_datetime(x, dayfirst=True, format=dt_format)\n",
    "data_10min = pd.read_csv(path_10min, index_col=0, parse_dates=True, sep=';',\n",
    "    date_parser=date_parser)\n",
    "\n",
    "dt_format = '%d.%m.%Y %H:%M'\n",
    "date_parser = lambda x: pd.to_datetime(x, dayfirst=True, format=dt_format)\n",
    "data_1h = pd.read_csv(path_1h, parse_dates=True, date_parser=date_parser,\n",
    "    skiprows=5, header=None, index_col=0, sep=';')"
   ]
  },
  {
   "cell_type": "markdown",
   "metadata": {},
   "source": [
    "## Plot data"
   ]
  },
  {
   "cell_type": "code",
   "execution_count": 18,
   "metadata": {},
   "outputs": [],
   "source": [
    "fig = go.Figure()\n",
    "fig.add_trace(go.Scatter(x=data_1h.index, y=data_1h.iloc[:,0], name='1 Stunde'))\n",
    "fig.add_trace(go.Scatter(x=data_10min.index, y=data_10min.iloc[:,0],\n",
    "    name='10 Minuten'))\n",
    "\n",
    "fig.update_xaxes(title='Datum')\n",
    "fig.update_yaxes(title='Niveau [m]')\n",
    "\n",
    "save_path = save_dir / 'Niveau_Auflösung_1h_10min.html'\n",
    "fig.write_html(save_path)"
   ]
  },
  {
   "cell_type": "code",
   "execution_count": 17,
   "metadata": {},
   "outputs": [],
   "source": [
    "fig = go.Figure()\n",
    "fig.add_trace(go.Scatter(x=data_1h.index, y=data_1h.iloc[:,0],\n",
    "    name='B2.XA2.QA.23'))\n",
    "fig.add_trace(go.Scatter(x=data_1h.index, y=data_1h.iloc[:,1],\n",
    "    name='B2.XA2.QA.20'))\n",
    "\n",
    "fig.update_xaxes(title='Datum')\n",
    "fig.update_yaxes(title='Niveau [m]')\n",
    "\n",
    "save_path = save_dir / 'Niveau_Filter_Splittfilter.html'\n",
    "fig.write_html(save_path)"
   ]
  }
 ],
 "metadata": {
  "kernelspec": {
   "display_name": "Python 3.10.6 ('cenv')",
   "language": "python",
   "name": "python3"
  },
  "language_info": {
   "codemirror_mode": {
    "name": "ipython",
    "version": 3
   },
   "file_extension": ".py",
   "mimetype": "text/x-python",
   "name": "python",
   "nbconvert_exporter": "python",
   "pygments_lexer": "ipython3",
   "version": "3.10.6"
  },
  "orig_nbformat": 4,
  "vscode": {
   "interpreter": {
    "hash": "ab1415878b8670590be7cfb0d397ba278fb7336eefaa66780c43ead28065321d"
   }
  }
 },
 "nbformat": 4,
 "nbformat_minor": 2
}
