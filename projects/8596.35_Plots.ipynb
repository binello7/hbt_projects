{
 "cells": [
  {
   "cell_type": "markdown",
   "metadata": {},
   "source": [
    "# Imports"
   ]
  },
  {
   "cell_type": "code",
   "execution_count": null,
   "metadata": {},
   "outputs": [],
   "source": [
    "import pandas as pd\n",
    "import plotly.express as px\n",
    "import plotly.graph_objects as go\n",
    "from datetime import datetime as dt\n",
    "from pathlib import Path\n",
    "from pytz import timezone\n",
    "from hbt_tools import utils_hbt as hu\n",
    "from hbt_tools import plots as hp"
   ]
  },
  {
   "cell_type": "markdown",
   "metadata": {},
   "source": [
    "# Functions"
   ]
  },
  {
   "cell_type": "code",
   "execution_count": null,
   "metadata": {},
   "outputs": [],
   "source": [
    "def filter_ts(ts, date_from, date_to):\n",
    "    if not date_to:\n",
    "        ts = ts[(ts.index>=date_from)]\n",
    "    elif not date_from:\n",
    "        ts = ts[(ts.index<date_to)]\n",
    "    else:\n",
    "        ts = ts[(ts.index>=date_from) & (ts.index<date_to)]\n",
    "\n",
    "    return ts"
   ]
  },
  {
   "cell_type": "markdown",
   "metadata": {},
   "source": [
    "# Parameters"
   ]
  },
  {
   "cell_type": "code",
   "execution_count": null,
   "metadata": {},
   "outputs": [],
   "source": [
    "save_dir = Path(r\"Q:\\Projekte\\8000-\\8500er\\8596\\8596.35-Hagnau\"\n",
    "    r\"\\05 Berechnungen Grundlagen\\Datenauswertung\\Plots\")\n",
    "\n",
    "mes_dict = {\n",
    "    'Zulauf Splittfilterbecken': {\n",
    "        'id': \t1078,\n",
    "        'units': 'cm',\n",
    "        'yaxis': 'y1',\n",
    "    },\n",
    "\n",
    "    'Trübung Zulauf': {\n",
    "        'id': \t1077,\n",
    "        'units': 'NTU',\n",
    "        'yaxis': 'y2',\n",
    "    },\n",
    "\n",
    "    'Trübung Ablauf': {\n",
    "        'id': \t1081,\n",
    "        'units': 'NTU',\n",
    "        'yaxis': 'y2',\n",
    "    },\n",
    "\n",
    "    'Niveau Retentionssickerbecken': {\n",
    "        'id': \t1082,\n",
    "        'units': 'cm',\n",
    "        'yaxis': 'y3',\n",
    "    }\n",
    "}"
   ]
  },
  {
   "cell_type": "markdown",
   "metadata": {},
   "source": [
    "# Read Rain"
   ]
  },
  {
   "cell_type": "code",
   "execution_count": null,
   "metadata": {},
   "outputs": [],
   "source": [
    "\n",
    "path_rain = Path(r\"Q:\\Projekte\\8000-\\8500er\\8596\\8596.35-Hagnau\"\n",
    "    r\"\\05 Berechnungen Grundlagen\\Regendaten\\therwil_2207-2307.csv\")\n",
    "date_from = dt(2022, 7, 29, 8, tzinfo=timezone('Europe/Zurich'))\n",
    "\n",
    "rain = hu.read_raindata_agrometeo(path_rain, resolution='10min')\n",
    "rain = filter_ts(rain, date_from=date_from, date_to=None)\n",
    "rain['kumulativ'] = rain.cumsum()"
   ]
  },
  {
   "cell_type": "markdown",
   "metadata": {},
   "source": [
    "# Read Data"
   ]
  },
  {
   "cell_type": "code",
   "execution_count": null,
   "metadata": {},
   "outputs": [],
   "source": [
    "for k, v in mes_dict.items():\n",
    "    data = hu.hbtdb_get_data(v['id'])\n",
    "    mes_dict[k].update({'data': data})"
   ]
  },
  {
   "cell_type": "markdown",
   "metadata": {},
   "source": [
    "# Overview Plot"
   ]
  },
  {
   "cell_type": "code",
   "execution_count": null,
   "metadata": {},
   "outputs": [],
   "source": [
    "fig = go.Figure()\n",
    "\n",
    "for k, v in mes_dict.items():\n",
    "    if v['yaxis']:\n",
    "        yaxis = v['yaxis']\n",
    "    \n",
    "    else:\n",
    "        yaxis = None\n",
    "\n",
    "    fig.add_trace(go.Scatter(\n",
    "        x=v['data'].index,\n",
    "        y=v['data'].iloc[:,0],\n",
    "        name=k,\n",
    "        yaxis=yaxis\n",
    "    ))\n",
    "\n",
    "fig.add_trace(go.Scatter(\n",
    "    x=rain.index,\n",
    "    y=rain.iloc[:,0],\n",
    "    name='Regen',\n",
    "    yaxis='y4',\n",
    "    line=dict(color='blue')\n",
    "))"
   ]
  },
  {
   "cell_type": "code",
   "execution_count": null,
   "metadata": {},
   "outputs": [],
   "source": [
    "ylabels = ['Durchfluss [l/s]', 'Trübung [NTU]', 'Niveau [cm]', 'Regen [mm]']\n",
    "\n",
    "# Create axis objects\n",
    "props_dict = {}\n",
    "props_dict.update({\n",
    "    'xaxis': {\n",
    "        'domain': [0.1 + 0.01, 1.0]\n",
    "    }\n",
    "})\n",
    "\n",
    "for i, ylabel in enumerate(ylabels):\n",
    "    yaxis = f'yaxis{i+1}'\n",
    "    if i==0:\n",
    "        props_dict.update({yaxis: {}})\n",
    "        props_dict[yaxis].update({\n",
    "            'title': ylabel,\n",
    "            'side': 'left',\n",
    "            'anchor':'x'\n",
    "        })\n",
    "\n",
    "    else:\n",
    "        props_dict.update({yaxis: {}})\n",
    "        props_dict[yaxis].update({\n",
    "            'title': ylabel,\n",
    "            'side': 'left',\n",
    "            'overlaying': 'y',\n",
    "            'autoshift': True,\n",
    "            'anchor':'free'\n",
    "        })\n",
    "\n",
    "props_dict['yaxis1'].update({'anchor': 'x'})"
   ]
  },
  {
   "cell_type": "code",
   "execution_count": null,
   "metadata": {},
   "outputs": [],
   "source": [
    "fig.update_layout(props_dict)"
   ]
  },
  {
   "cell_type": "code",
   "execution_count": null,
   "metadata": {},
   "outputs": [],
   "source": [
    "save_path = save_dir / '230804_Übersicht-Messungen.html'\n",
    "fig.write_html(save_path)"
   ]
  },
  {
   "cell_type": "markdown",
   "metadata": {},
   "source": [
    "# Zulauf"
   ]
  },
  {
   "cell_type": "code",
   "execution_count": null,
   "metadata": {},
   "outputs": [],
   "source": [
    "id = 1078\n",
    "q_zu = hu.hbtdb_get_data(id)"
   ]
  },
  {
   "cell_type": "code",
   "execution_count": null,
   "metadata": {},
   "outputs": [],
   "source": [
    "fig = go.Figure()\n",
    "fig.add_trace(go.Scatter(\n",
    "    x=q_zu.index,\n",
    "    y=q_zu.iloc[:,0],\n",
    "    name='Zulauf Splittfilterbecken',\n",
    "    mode='lines+markers',\n",
    "    line=dict(color='grey', width=1),\n",
    "    marker=dict(color='cyan', size=4)\n",
    "));\n",
    "\n",
    "fig.add_trace(go.Scatter(\n",
    "    x=rain.index,\n",
    "    y=rain.iloc[:,1],\n",
    "    name='Regen kumulativ',\n",
    "    yaxis='y2',\n",
    "    line=dict(dash='dash', color='blue')\n",
    "));"
   ]
  },
  {
   "cell_type": "code",
   "execution_count": null,
   "metadata": {},
   "outputs": [],
   "source": [
    "fig.update_layout(\n",
    "    xaxis={\n",
    "        'domain': [0.1, 1]\n",
    "    },\n",
    "    yaxis1={\n",
    "        'title': 'Durchfluss [l/s]',\n",
    "        'anchor':'x'\n",
    "    },\n",
    "    yaxis2={\n",
    "        'title': 'Regen [mm]',\n",
    "        'overlaying': 'y',\n",
    "        'anchor':'free',\n",
    "        'autoshift': True,\n",
    "    }\n",
    ");"
   ]
  },
  {
   "cell_type": "code",
   "execution_count": null,
   "metadata": {},
   "outputs": [],
   "source": [
    "fig.update_layout(\n",
    "    title='Zulauf Splittfilterbecken', font=dict(size=25)\n",
    ")\n",
    "\n",
    "fig"
   ]
  },
  {
   "cell_type": "code",
   "execution_count": null,
   "metadata": {},
   "outputs": [],
   "source": [
    "save_path = save_dir / 'Zulauf-Splittfilterbecken.html'\n",
    "fig.write_html(save_path)"
   ]
  },
  {
   "cell_type": "markdown",
   "metadata": {},
   "source": [
    "# Niveau Becken"
   ]
  },
  {
   "cell_type": "code",
   "execution_count": null,
   "metadata": {},
   "outputs": [],
   "source": [
    "# Paths\n",
    "path_10min = Path(r\"Q:\\Projekte\\8000-\\8500er\\8596\\8596.35-Hagnau\"\n",
    "    r\"\\05 Berechnungen Grundlagen\\Datenauswertung\"\n",
    "    r\"\\ARA Birs_SABA Filter_Aug-Okt 2022.csv\")\n",
    "path_1h = Path(r\"Q:\\Projekte\\8000-\\8500er\\8596\\8596.35-Hagnau\\05 Berechnungen\"\n",
    "    r\" Grundlagen\\Datenauswertung\\SABA Daten.csv\")\n",
    "\n",
    "# Read data\n",
    "dt_format = '%d.%m.%Y %H:%M'\n",
    "date_parser = lambda x: pd.to_datetime(x, format=dt_format)\n",
    "\n",
    "data_10min = pd.read_csv(path_10min, index_col=0, parse_dates=True, sep=';',\n",
    "    date_parser=date_parser)\n",
    "data_1h = pd.read_csv(path_1h, parse_dates=True, date_parser=date_parser,\n",
    "    skiprows=5, header=None, index_col=0, sep=';')"
   ]
  },
  {
   "cell_type": "code",
   "execution_count": null,
   "metadata": {},
   "outputs": [],
   "source": [
    "fig = go.Figure()\n",
    "fig.add_trace(go.Scatter(x=data_1h.index, y=data_1h.iloc[:,0], name='1 Stunde'))\n",
    "fig.add_trace(go.Scatter(x=data_10min.index, y=data_10min.iloc[:,0],\n",
    "    name='10 Minuten'))\n",
    "\n",
    "fig.update_xaxes(title='Datum')\n",
    "fig.update_yaxes(title='Niveau [m]')\n",
    "\n",
    "save_path = save_dir / 'Niveau_Auflösung_1h_10min.html'\n",
    "fig.write_html(save_path)"
   ]
  },
  {
   "cell_type": "code",
   "execution_count": null,
   "metadata": {},
   "outputs": [],
   "source": [
    "fig = go.Figure()\n",
    "fig.add_trace(go.Scatter(x=data_1h.index, y=data_1h.iloc[:,0],\n",
    "    name='B2.XA2.QA.23'))\n",
    "fig.add_trace(go.Scatter(x=data_1h.index, y=data_1h.iloc[:,1],\n",
    "    name='B2.XA2.QA.20'))\n",
    "\n",
    "fig.update_xaxes(title='Datum')\n",
    "fig.update_yaxes(title='Niveau [m]')\n",
    "\n",
    "save_path = save_dir / 'Niveau_Filter_Splittfilter.html'\n",
    "fig.write_html(save_path)"
   ]
  }
 ],
 "metadata": {
  "kernelspec": {
   "display_name": "Python 3.10.6 ('cenv')",
   "language": "python",
   "name": "python3"
  },
  "language_info": {
   "codemirror_mode": {
    "name": "ipython",
    "version": 3
   },
   "file_extension": ".py",
   "mimetype": "text/x-python",
   "name": "python",
   "nbconvert_exporter": "python",
   "pygments_lexer": "ipython3",
   "version": "3.11.0"
  },
  "orig_nbformat": 4,
  "vscode": {
   "interpreter": {
    "hash": "ab1415878b8670590be7cfb0d397ba278fb7336eefaa66780c43ead28065321d"
   }
  }
 },
 "nbformat": 4,
 "nbformat_minor": 2
}
