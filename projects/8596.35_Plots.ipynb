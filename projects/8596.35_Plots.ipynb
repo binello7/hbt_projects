{
 "cells": [
  {
   "cell_type": "markdown",
   "metadata": {},
   "source": [
    "# Imports"
   ]
  },
  {
   "cell_type": "code",
   "execution_count": null,
   "metadata": {},
   "outputs": [],
   "source": [
    "import pandas as pd\n",
    "import plotly.express as px\n",
    "import plotly.graph_objects as go\n",
    "from datetime import datetime as dt\n",
    "from pathlib import Path\n",
    "from pytz import timezone\n",
    "from hbt_tools import utils_hbt as hu\n",
    "from hbt_tools import plots as hp"
   ]
  },
  {
   "cell_type": "markdown",
   "metadata": {},
   "source": [
    "# Functions"
   ]
  },
  {
   "cell_type": "code",
   "execution_count": null,
   "metadata": {},
   "outputs": [],
   "source": [
    "def filter_ts(ts, date_from, date_to):\n",
    "    if not date_to:\n",
    "        ts = ts[(ts.index>=date_from)]\n",
    "    elif not date_from:\n",
    "        ts = ts[(ts.index<date_to)]\n",
    "    else:\n",
    "        ts = ts[(ts.index>=date_from) & (ts.index<date_to)]\n",
    "\n",
    "    return ts"
   ]
  },
  {
   "cell_type": "markdown",
   "metadata": {},
   "source": [
    "# Parameters"
   ]
  },
  {
   "cell_type": "code",
   "execution_count": null,
   "metadata": {},
   "outputs": [],
   "source": [
    "save_dir = Path(r\"Q:\\Projekte\\8000-\\8500er\\8596\\8596.35-Hagnau\"\n",
    "    r\"\\05 Berechnungen Grundlagen\\Datenauswertung\\Plots\")\n",
    "\n",
    "mes_dict = {\n",
    "    'Zulauf Splittfilterbecken': {\n",
    "        'id': \t1078,\n",
    "        'units': 'cm',\n",
    "        'yaxis': 'y1',\n",
    "    },\n",
    "\n",
    "    'Trübung Zulauf': {\n",
    "        'id': \t1077,\n",
    "        'units': 'NTU',\n",
    "        'yaxis': 'y2',\n",
    "    },\n",
    "\n",
    "    'Trübung Ablauf': {\n",
    "        'id': \t1081,\n",
    "        'units': 'NTU',\n",
    "        'yaxis': 'y2',\n",
    "    },\n",
    "\n",
    "    'Niveau Retentionssickerbecken': {\n",
    "        'id': \t1082,\n",
    "        'units': 'cm',\n",
    "        'yaxis': 'y3',\n",
    "    }\n",
    "}"
   ]
  },
  {
   "cell_type": "markdown",
   "metadata": {},
   "source": [
    "# Read Rain"
   ]
  },
  {
   "cell_type": "code",
   "execution_count": null,
   "metadata": {},
   "outputs": [],
   "source": [
    "\n",
    "path_rain = Path(r\"Q:\\Projekte\\8000-\\8500er\\8596\\8596.35-Hagnau\"\n",
    "    r\"\\05 Berechnungen Grundlagen\\Regendaten\\therwil_2207-2307.csv\")\n",
    "date_from = dt(2022, 7, 29, 8, tzinfo=timezone('Europe/Zurich'))\n",
    "\n",
    "rain = hu.read_raindata_agrometeo(path_rain, resolution='10min')\n",
    "rain = filter_ts(rain, date_from=date_from, date_to=None)\n",
    "rain['kumulativ'] = rain.cumsum()"
   ]
  },
  {
   "cell_type": "markdown",
   "metadata": {},
   "source": [
    "# Read Niveau Splittfilter"
   ]
  },
  {
   "cell_type": "code",
   "execution_count": null,
   "metadata": {},
   "outputs": [],
   "source": [
    "path_niveau_filter = Path(r\"Q:\\Projekte\\8000-\\8500er\\8596\\8596.35-Hagnau\"\n",
    "    r\"\\05 Berechnungen Grundlagen\\Datenauswertung\"\n",
    "    r\"\\Daten-SABA_1min_220701-230731.csv\")\n",
    "\n",
    "date_parser = lambda x: pd.to_datetime(x, format=date_format)\n",
    "niveau_filter = pd.read_csv(path_niveau_filter, sep=';')\n",
    "niveau_filter.insert(0, 'Datum', 0)\n",
    "niveau_filter.iloc[:,3] = niveau_filter.iloc[:,3].str.replace(':', '')\n",
    "niveau_filter['Datum'] = (niveau_filter.iloc[:,1] + niveau_filter.iloc[:,2]\n",
    "    + niveau_filter.iloc[:,3])\n",
    "niveau_filter.drop(columns=niveau_filter.columns[1:4], inplace=True)\n",
    "niveau_filter.set_index(niveau_filter.columns[0], inplace=True)\n",
    "date_format = '%d.%m.%Y%H:%M:%S%z'\n",
    "niveau_filter.index = pd.to_datetime(niveau_filter.index,\n",
    "    format=date_format)\n",
    "niveau_filter = niveau_filter * 100 # m -> cm"
   ]
  },
  {
   "cell_type": "markdown",
   "metadata": {},
   "source": [
    "# Read Data Messdatenbank"
   ]
  },
  {
   "cell_type": "code",
   "execution_count": null,
   "metadata": {},
   "outputs": [],
   "source": [
    "for k, v in mes_dict.items():\n",
    "    data = hu.hbtdb_get_data(v['id'])\n",
    "    mes_dict[k].update({'data': data})"
   ]
  },
  {
   "cell_type": "markdown",
   "metadata": {},
   "source": [
    "# Overview Plot"
   ]
  },
  {
   "cell_type": "code",
   "execution_count": null,
   "metadata": {},
   "outputs": [],
   "source": [
    "fig = go.Figure()\n",
    "\n",
    "for k, v in mes_dict.items():\n",
    "    if v['yaxis']:\n",
    "        yaxis = v['yaxis']\n",
    "    \n",
    "    else:\n",
    "        yaxis = None\n",
    "\n",
    "    fig.add_trace(go.Scatter(\n",
    "        x=v['data'].index,\n",
    "        y=v['data'].iloc[:,0],\n",
    "        name=k,\n",
    "        yaxis=yaxis\n",
    "    ));\n",
    "\n",
    "# Add rain to plot\n",
    "fig.add_trace(go.Scatter(\n",
    "    x=rain.index,\n",
    "    y=rain.iloc[:,0],\n",
    "    name='Regen',\n",
    "    yaxis='y4',\n",
    "    line=dict(color='blue')\n",
    "));\n",
    "\n",
    "# Add level RFB to plot\n",
    "fig.add_trace(go.Scatter(\n",
    "    x=niveau_filter.index,\n",
    "    y=niveau_filter.iloc[:,0],\n",
    "    name='Niveau über RFB',\n",
    "    yaxis='y3',\n",
    "));\n",
    "\n",
    "fig.add_trace(go.Scatter(\n",
    "    x=niveau_filter.index,\n",
    "    y=niveau_filter.iloc[:,1],\n",
    "    name='Niveau im RFB',\n",
    "    yaxis='y3',\n",
    "));"
   ]
  },
  {
   "cell_type": "code",
   "execution_count": null,
   "metadata": {},
   "outputs": [],
   "source": [
    "ylabels = ['Durchfluss [l/s]', 'Trübung [NTU]', 'Niveau [cm]', 'Regen [mm]']\n",
    "\n",
    "# Create axis objects\n",
    "props_dict = {}\n",
    "props_dict.update({\n",
    "    'xaxis': {\n",
    "        'domain': [0.1 + 0.01, 1.0]\n",
    "    }\n",
    "})\n",
    "\n",
    "for i, ylabel in enumerate(ylabels):\n",
    "    yaxis = f'yaxis{i+1}'\n",
    "    if i==0:\n",
    "        props_dict.update({yaxis: {}})\n",
    "        props_dict[yaxis].update({\n",
    "            'title': ylabel,\n",
    "            'side': 'left',\n",
    "            'anchor':'x'\n",
    "        })\n",
    "\n",
    "    else:\n",
    "        props_dict.update({yaxis: {}})\n",
    "        props_dict[yaxis].update({\n",
    "            'title': ylabel,\n",
    "            'side': 'left',\n",
    "            'overlaying': 'y',\n",
    "            'autoshift': True,\n",
    "            'anchor':'free'\n",
    "        })\n",
    "\n",
    "props_dict['yaxis1'].update({'anchor': 'x'})"
   ]
  },
  {
   "cell_type": "code",
   "execution_count": null,
   "metadata": {},
   "outputs": [],
   "source": [
    "fig.update_layout(props_dict);"
   ]
  },
  {
   "cell_type": "code",
   "execution_count": null,
   "metadata": {},
   "outputs": [],
   "source": [
    "save_path = save_dir / 'Übersicht-Messungen.html'\n",
    "fig.write_html(save_path)"
   ]
  },
  {
   "cell_type": "markdown",
   "metadata": {},
   "source": [
    "# Zulauf"
   ]
  },
  {
   "cell_type": "code",
   "execution_count": null,
   "metadata": {},
   "outputs": [],
   "source": [
    "id = 1078\n",
    "q_zu = hu.hbtdb_get_data(id)"
   ]
  },
  {
   "cell_type": "code",
   "execution_count": null,
   "metadata": {},
   "outputs": [],
   "source": [
    "fig = go.Figure()\n",
    "fig.add_trace(go.Scatter(\n",
    "    x=q_zu.index,\n",
    "    y=q_zu.iloc[:,0],\n",
    "    name='Zulauf Splittfilterbecken',\n",
    "    mode='lines+markers',\n",
    "    line=dict(color='grey', width=1),\n",
    "    marker=dict(color='cyan', size=4)\n",
    "));\n",
    "\n",
    "fig.add_trace(go.Scatter(\n",
    "    x=rain.index,\n",
    "    y=rain.iloc[:,1],\n",
    "    name='Regen kumulativ',\n",
    "    yaxis='y2',\n",
    "    line=dict(dash='dash', color='blue')\n",
    "));"
   ]
  },
  {
   "cell_type": "code",
   "execution_count": null,
   "metadata": {},
   "outputs": [],
   "source": [
    "fig.update_layout(\n",
    "    xaxis={\n",
    "        'domain': [0.1, 1]\n",
    "    },\n",
    "    yaxis1={\n",
    "        'title': 'Durchfluss [l/s]',\n",
    "        'anchor':'x'\n",
    "    },\n",
    "    yaxis2={\n",
    "        'title': 'Regen [mm]',\n",
    "        'overlaying': 'y',\n",
    "        'anchor':'free',\n",
    "        'autoshift': True,\n",
    "    }\n",
    ");"
   ]
  },
  {
   "cell_type": "code",
   "execution_count": null,
   "metadata": {},
   "outputs": [],
   "source": [
    "fig.update_layout(\n",
    "    title='Zulauf Splittfilterbecken', font=dict(size=25)\n",
    ")\n",
    "\n",
    "fig"
   ]
  },
  {
   "cell_type": "code",
   "execution_count": null,
   "metadata": {},
   "outputs": [],
   "source": [
    "save_path = save_dir / 'Zulauf-Splittfilterbecken.html'\n",
    "fig.write_html(save_path)"
   ]
  },
  {
   "cell_type": "markdown",
   "metadata": {},
   "source": [
    "# Niveau RFB"
   ]
  },
  {
   "cell_type": "code",
   "execution_count": null,
   "metadata": {},
   "outputs": [],
   "source": [
    "fig = go.Figure()\n",
    "fig.add_trace(go.Scatter(\n",
    "    x=niveau_filter.index,\n",
    "    y=niveau_filter.iloc[:,0],\n",
    "    name='Niveau Filter',\n",
    "));\n",
    "\n",
    "fig.add_trace(go.Scatter(\n",
    "    x=niveau_filter.index,\n",
    "    y=niveau_filter.iloc[:,1],\n",
    "    name='Niveau Splittfilter',\n",
    "));"
   ]
  },
  {
   "cell_type": "code",
   "execution_count": null,
   "metadata": {},
   "outputs": [],
   "source": [
    "save_path = save_dir / 'Niveau_RFB.html'\n",
    "fig.write_html(save_path)"
   ]
  },
  {
   "cell_type": "markdown",
   "metadata": {},
   "source": [
    "# Niveau RSB"
   ]
  }
 ],
 "metadata": {
  "kernelspec": {
   "display_name": "Python 3.10.6 ('cenv')",
   "language": "python",
   "name": "python3"
  },
  "language_info": {
   "codemirror_mode": {
    "name": "ipython",
    "version": 3
   },
   "file_extension": ".py",
   "mimetype": "text/x-python",
   "name": "python",
   "nbconvert_exporter": "python",
   "pygments_lexer": "ipython3",
   "version": "3.11.0"
  },
  "orig_nbformat": 4,
  "vscode": {
   "interpreter": {
    "hash": "ab1415878b8670590be7cfb0d397ba278fb7336eefaa66780c43ead28065321d"
   }
  }
 },
 "nbformat": 4,
 "nbformat_minor": 2
}
