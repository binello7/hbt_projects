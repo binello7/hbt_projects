{
 "cells": [
  {
   "cell_type": "markdown",
   "metadata": {},
   "source": [
    "# Imports"
   ]
  },
  {
   "cell_type": "code",
   "execution_count": null,
   "metadata": {},
   "outputs": [],
   "source": [
    "import pandas as pd\n",
    "from hbt_tools import messdatenbank as mdb\n",
    "from pathlib import Path\n",
    "from pytz import timezone"
   ]
  },
  {
   "cell_type": "markdown",
   "metadata": {},
   "source": [
    "# Functions"
   ]
  },
  {
   "cell_type": "code",
   "execution_count": null,
   "metadata": {},
   "outputs": [],
   "source": [
    "def ts_filter_date(ts, date_from=None, date_to=None):\n",
    "    ts = ts.copy()\n",
    "    if (date_from is None and date_to is None):\n",
    "        pass\n",
    "\n",
    "    elif (date_to is None and date_from is not None):\n",
    "        ts = ts[ts.index>=date_from]\n",
    "    \n",
    "    elif (date_to is not None and date_from is None):\n",
    "        ts = ts[ts.index<=date_to]\n",
    "    else:\n",
    "        ts = ts[(ts.index>=date_from) & (ts.index<=date_to)]\n",
    "\n",
    "    return ts\n",
    "#-------------------------------------------------------------------------------\n",
    "\n",
    "def sum_per_period(ts, periods, date_format, idx_col=0):\n",
    "    res = pd.DataFrame(columns=['von', 'bis', 'summe'])\n",
    "    tz = timezone('Europe/Zurich')\n",
    "\n",
    "    res_list = []\n",
    "    for period in periods:\n",
    "        date_start = pd.to_datetime(period[0], format=date_format)\n",
    "        date_start = tz.localize(date_start)\n",
    "\n",
    "        date_end = pd.to_datetime(period[1], format=date_format)\n",
    "        date_end = tz.localize(date_end)\n",
    "\n",
    "        ts_period = ts[(ts.index>=date_start) & (ts.index<date_end)]\n",
    "        df_temp = pd.DataFrame({'von': [period[0]], 'bis': [period[1]],\n",
    "            'summe': [ts_period.iloc[:,idx_col].sum()]})\n",
    "        \n",
    "        res_list.append(df_temp)\n",
    "        \n",
    "    res = pd.concat(res_list)\n",
    "    \n",
    "    return res"
   ]
  },
  {
   "cell_type": "markdown",
   "metadata": {},
   "source": [
    "# Parameters"
   ]
  },
  {
   "cell_type": "code",
   "execution_count": null,
   "metadata": {},
   "outputs": [],
   "source": [
    "date_format = '%d.%m.%Y %H:%M'\n",
    "tz = timezone('Europe/Zurich')\n",
    "\n",
    "date_start = pd.to_datetime('17.06.2023 00:00', format=date_format)\n",
    "date_start = tz.localize(date_start)\n",
    "\n",
    "date_end = pd.to_datetime('31.10.2023 00:00', format=date_format)\n",
    "date_end = tz.localize(date_end)\n",
    "\n",
    "ezg_enge = 1.7 # [ha]\n",
    "ezg_birchi = 3.3 # [ha]\n",
    "\n",
    "save_dir = Path(r\"H:\\2 Projekte\\8000-\\8500er\\8596\\8596.40 SABA Enge Biberist\"\n",
    "    r\"\\05 Berechnungen Grundlagen\\Datenauswertung\")"
   ]
  },
  {
   "cell_type": "markdown",
   "metadata": {},
   "source": [
    "# Regen"
   ]
  },
  {
   "cell_type": "code",
   "execution_count": null,
   "metadata": {},
   "outputs": [],
   "source": [
    "id = 2064\n",
    "rain = mdb.get_data(id, date_start, date_end, date_format)\n",
    "\n",
    "rain_tot = rain['wert'].sum()\n",
    "print(f\"Regen tot: {rain_tot:,.1f} mm\")\n",
    "\n",
    "zulauf_rain_enge = rain_tot * ezg_enge * 10\n",
    "print(f\"Zulauf vom Regen Enge: {zulauf_rain_enge:,.0f} m3\")\n",
    "\n",
    "zulauf_rain_birchi = rain_tot * ezg_birchi * 10\n",
    "print(f\"Zulauf vom Regen Birchi: {zulauf_rain_birchi:,.0f} m3\")"
   ]
  },
  {
   "cell_type": "markdown",
   "metadata": {},
   "source": [
    "# SABA Enge"
   ]
  },
  {
   "cell_type": "code",
   "execution_count": null,
   "metadata": {},
   "outputs": [],
   "source": [
    "periods = [\n",
    "    ('09.06.2023 12:56', '10.07.2023 09:19'),\n",
    "    ('10.07.2023 09:19', '28.07.2023 16:59'),\n",
    "    ('28.07.2023 16:59', '19.09.2023 15:29'),\n",
    "    ('19.09.2023 15:29', '14.10.2023 07:05')\n",
    "]"
   ]
  },
  {
   "cell_type": "code",
   "execution_count": null,
   "metadata": {},
   "outputs": [],
   "source": [
    "rain_periods = sum_per_period(rain, periods, date_format=date_format)\n",
    "rain_periods"
   ]
  },
  {
   "cell_type": "markdown",
   "metadata": {},
   "source": [
    "## Zulauf"
   ]
  },
  {
   "cell_type": "code",
   "execution_count": null,
   "metadata": {},
   "outputs": [],
   "source": [
    "id = 1931\n",
    "q_enge = mdb.get_data(id, date_start, date_end, date_format)\n",
    "\n",
    "# Compute volume per time-step\n",
    "q_enge['delta_t'] = q_enge.index\n",
    "delta_t = q_enge['delta_t'] - q_enge['delta_t'].shift()\n",
    "q_enge['delta_t'] = delta_t\n",
    "q_enge['volumen [l]'] = q_enge['wert'] * q_enge['delta_t'].dt.total_seconds()"
   ]
  },
  {
   "cell_type": "code",
   "execution_count": null,
   "metadata": {},
   "outputs": [],
   "source": [
    "q_enge['delta_t'].value_counts()"
   ]
  },
  {
   "cell_type": "code",
   "execution_count": null,
   "metadata": {},
   "outputs": [],
   "source": [
    "vol_tot = q_enge['volumen [l]'].sum() / 1e3 # l -> m3\n",
    "print(f\"Zufluss Enge: {vol_tot:,.0f} m3\")"
   ]
  },
  {
   "cell_type": "code",
   "execution_count": null,
   "metadata": {},
   "outputs": [],
   "source": [
    "q_enge_periods = sum_per_period(q_enge, periods, date_format=date_format, idx_col=2)\n",
    "q_enge_periods.iloc[:,2] /= 1e3\n",
    "q_enge_periods"
   ]
  },
  {
   "cell_type": "markdown",
   "metadata": {},
   "source": [
    "# SABA Birchi"
   ]
  },
  {
   "cell_type": "code",
   "execution_count": null,
   "metadata": {},
   "outputs": [],
   "source": [
    "periods = [\n",
    "    ('15.06.2023 12:12', '29.06.2023 05:34'),\n",
    "    ('29.06.2023 05:34', '10.07.2023 08:53'),\n",
    "    ('10.07.2023 08:53', '23.07.2023 13:25'),\n",
    "    ('23.07.2023 13:25', '04.08.2023 11:53'),\n",
    "    ('04.08.2023 12:52', '20.08.2023 02:54'),\n",
    "    ('20.08.2023 02:54', '27.08.2023 16:04'),\n",
    "    ('27.08.2023 16:04', '15.09.2023 20:30'),\n",
    "    ('15.09.2023 20:30', '26.10.2023 11:48')\n",
    "]"
   ]
  },
  {
   "cell_type": "code",
   "execution_count": null,
   "metadata": {},
   "outputs": [],
   "source": [
    "rain_periods = sum_per_period(rain, periods, date_format=date_format)\n",
    "rain_periods"
   ]
  },
  {
   "cell_type": "markdown",
   "metadata": {},
   "source": [
    "## Zulauf"
   ]
  },
  {
   "cell_type": "code",
   "execution_count": null,
   "metadata": {},
   "outputs": [],
   "source": [
    "id = 1922\n",
    "q_birchi = mdb.get_data(id, date_start, date_end, date_format)\n",
    "\n",
    "# Compute volume per time-step\n",
    "q_birchi['delta_t'] = q_birchi.index\n",
    "delta_t = q_birchi['delta_t'] - q_birchi['delta_t'].shift()\n",
    "q_birchi['delta_t'] = delta_t\n",
    "q_birchi['volumen [l]'] = q_birchi['wert'] * q_birchi['delta_t'].dt.total_seconds()"
   ]
  },
  {
   "cell_type": "code",
   "execution_count": null,
   "metadata": {},
   "outputs": [],
   "source": [
    "q_birchi.to_csv((save_dir / 'Zulaufvolumen_Birchi.csv'), sep=';')\n",
    "q_birchi['delta_t'].value_counts()"
   ]
  },
  {
   "cell_type": "code",
   "execution_count": null,
   "metadata": {},
   "outputs": [],
   "source": [
    "vol_tot = q_birchi['volumen [l]'].sum() / 1e3 # l -> m3\n",
    "print(f\"Zufluss Birchi: {vol_tot:,.0f} m3\")"
   ]
  },
  {
   "cell_type": "code",
   "execution_count": null,
   "metadata": {},
   "outputs": [],
   "source": [
    "q_birchi_periods = sum_per_period(q_birchi, periods, date_format=date_format, idx_col=2)\n",
    "q_birchi_periods.iloc[:,2] /= 1e3\n",
    "q_birchi_periods"
   ]
  }
 ],
 "metadata": {
  "kernelspec": {
   "display_name": "Python 3.10.4 ('py3.10')",
   "language": "python",
   "name": "python3"
  },
  "language_info": {
   "codemirror_mode": {
    "name": "ipython",
    "version": 3
   },
   "file_extension": ".py",
   "mimetype": "text/x-python",
   "name": "python",
   "nbconvert_exporter": "python",
   "pygments_lexer": "ipython3",
   "version": "3.10.11"
  },
  "orig_nbformat": 4,
  "vscode": {
   "interpreter": {
    "hash": "590b78d8cb9270f73855948988b5d0ee0289dd910f80c46d744676df1f9b3d24"
   }
  }
 },
 "nbformat": 4,
 "nbformat_minor": 2
}
