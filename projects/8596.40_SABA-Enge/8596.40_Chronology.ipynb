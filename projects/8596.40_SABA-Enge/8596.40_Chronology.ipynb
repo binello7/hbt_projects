{
 "cells": [
  {
   "attachments": {},
   "cell_type": "markdown",
   "metadata": {},
   "source": [
    "## Imports"
   ]
  },
  {
   "cell_type": "code",
   "execution_count": null,
   "metadata": {},
   "outputs": [],
   "source": [
    "import matplotlib.pyplot as plt\n",
    "from datetime import datetime as dt\n",
    "from pathlib import Path\n",
    "from hbt_tools import utils_hbt as uh\n",
    "from matplotlib import dates as mdates"
   ]
  },
  {
   "attachments": {},
   "cell_type": "markdown",
   "metadata": {},
   "source": [
    "## Settings"
   ]
  },
  {
   "cell_type": "code",
   "execution_count": null,
   "metadata": {},
   "outputs": [],
   "source": [
    "# Paths\n",
    "save_path = Path(r\"H:\\2 Projekte\\8000-\\8500er\\8596\\8596.40 SABA Enge Biberist\"\n",
    "    r\"\\05 Berechnungen Grundlagen\\Datenauswertung\\Chronologie.png\")"
   ]
  },
  {
   "cell_type": "code",
   "execution_count": null,
   "metadata": {},
   "outputs": [],
   "source": [
    "# Events\n",
    "date_format = '%d.%m.%Y'\n",
    "events = {\n",
    "    'Installation Messtechnik': dt.strptime('16.06.2023', date_format),\n",
    "    'Birchi, Probenahme 1': dt.strptime('04.08.2023', date_format),\n",
    "    'Birchi, Probenahme 2\\nEnge, Probenahme 1': dt.strptime('26.10.2023', date_format)\n",
    "}"
   ]
  },
  {
   "attachments": {},
   "cell_type": "markdown",
   "metadata": {},
   "source": [
    "## Read Data"
   ]
  },
  {
   "cell_type": "code",
   "execution_count": null,
   "metadata": {},
   "outputs": [],
   "source": [
    "id = 2064\n",
    "date_from = dt(2023, 6, 1)\n",
    "date_to = dt(2023, 10, 31)\n",
    "df_rain = uh.hbtdb_get_data(id, date_from, date_to)"
   ]
  },
  {
   "cell_type": "code",
   "execution_count": null,
   "metadata": {},
   "outputs": [],
   "source": [
    "df_rain['rain kumulativ'] = df_rain.cumsum()"
   ]
  },
  {
   "attachments": {},
   "cell_type": "markdown",
   "metadata": {},
   "source": [
    "## Plot Data"
   ]
  },
  {
   "cell_type": "code",
   "execution_count": null,
   "metadata": {},
   "outputs": [],
   "source": [
    "fig, ax1 = plt.subplots(layout=\"constrained\")\n",
    "ax1.plot(df_rain.index, df_rain.iloc[:,1], 'b--')\n",
    "\n",
    "values = list(events.values())\n",
    "values.append(df_rain.index[-1])\n",
    "n = len(values)\n",
    "colors = n * ['red', 'grey']\n",
    "for k in range(n-1):\n",
    "    ax1.axvspan(values[k], values[k+1],\n",
    "        color=colors[k], alpha=0.5)\n",
    "\n",
    "for k, v in events.items():\n",
    "    y=450\n",
    "    ax1.text(x=v, y=y+5, s=k, rotation=45)\n",
    "    ax1.annotate(text=\"\", xy=(v, 350), xytext=(v, y),\n",
    "        arrowprops=dict(facecolor='black', shrink=0.005, width=1, \n",
    "        headwidth=5))\n",
    "\n",
    "ax2 = ax1.twinx()\n",
    "ax2.plot(df_rain.index, df_rain.iloc[:,0], 'b')\n",
    "\n",
    "ax1.set_xticklabels(ax1.get_xticks(), rotation=30)\n",
    "ax1.xaxis.set_major_formatter(mdates.DateFormatter('%d.%m.%Y'))\n",
    "\n",
    "ax1.set_xlabel('Datum')\n",
    "ax1.set_ylabel('Regensumme [mm]')\n",
    "ax2.set_ylabel('Regen [mm/10min]')\n",
    "\n",
    "cm_in = 0.394\n",
    "fig.set_size_inches(16*cm_in,10*cm_in)\n",
    "\n",
    "fig.savefig(save_path)"
   ]
  }
 ],
 "metadata": {
  "kernelspec": {
   "display_name": "hbt_projects",
   "language": "python",
   "name": "python3"
  },
  "language_info": {
   "codemirror_mode": {
    "name": "ipython",
    "version": 3
   },
   "file_extension": ".py",
   "mimetype": "text/x-python",
   "name": "python",
   "nbconvert_exporter": "python",
   "pygments_lexer": "ipython3",
   "version": "3.10.11"
  },
  "orig_nbformat": 4
 },
 "nbformat": 4,
 "nbformat_minor": 2
}
