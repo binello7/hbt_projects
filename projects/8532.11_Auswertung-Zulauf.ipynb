{
 "cells": [
  {
   "cell_type": "markdown",
   "metadata": {},
   "source": [
    "# Imports"
   ]
  },
  {
   "cell_type": "code",
   "execution_count": null,
   "metadata": {},
   "outputs": [],
   "source": [
    "import pandas as pd\n",
    "import plotly.graph_objects as go\n",
    "from pathlib import Path"
   ]
  },
  {
   "cell_type": "markdown",
   "metadata": {},
   "source": [
    "# Functions"
   ]
  },
  {
   "cell_type": "code",
   "execution_count": null,
   "metadata": {},
   "outputs": [],
   "source": [
    "def print_stats(df, col):\n",
    "    data = df.iloc[:, col]\n",
    "    max_val = data.max()\n",
    "    min_val = data.min()\n",
    "    std_val = data.std()\n",
    "\n",
    "    name = df.columns[col]\n",
    "    ul = len(name) * '-'\n",
    "    print(f\"{name}\")\n",
    "    print(ul)\n",
    "    print(f\"max: {max_val}\")\n",
    "    print(f\"min: {min_val}\")\n",
    "    print(f\"std: {std_val}\\n\")"
   ]
  },
  {
   "cell_type": "markdown",
   "metadata": {},
   "source": [
    "# Parameters"
   ]
  },
  {
   "cell_type": "code",
   "execution_count": null,
   "metadata": {},
   "outputs": [],
   "source": [
    "path_data = Path(r\"Q:\\Projekte\\8000-\\8500er\\8532\\8532.11 Durchflussmessung \"\n",
    "    r\"Zulauf ARA\\05 Berechnungen Grundlagen\\Nivus\\Daten_Nivus-Venturi.xlsx\")\n",
    "save_dir = Path(r\"Q:\\Projekte\\8000-\\8500er\\8532\\8532.11 Durchflussmessung \"\n",
    "    r\"Zulauf ARA\\05 Berechnungen Grundlagen\\Nivus\")"
   ]
  },
  {
   "cell_type": "markdown",
   "metadata": {},
   "source": [
    "# Read Data"
   ]
  },
  {
   "cell_type": "code",
   "execution_count": null,
   "metadata": {},
   "outputs": [],
   "source": [
    "data = pd.read_excel(path_data)\n",
    "data.set_index(data.columns[0], inplace=True)"
   ]
  },
  {
   "cell_type": "markdown",
   "metadata": {},
   "source": [
    "# Plots"
   ]
  },
  {
   "cell_type": "code",
   "execution_count": null,
   "metadata": {},
   "outputs": [],
   "source": [
    "fig = go.Figure()\n",
    "fig.add_trace(go.Scatter(x=data.index, y=data.iloc[:,0], name='Venturi'))\n",
    "fig.add_trace(go.Scatter(x=data.index, y=data.iloc[:,1], name='Nivus'))\n",
    "\n",
    "fig.update_xaxes(title='Datum')\n",
    "fig.update_yaxes(title='Durchfluss [l/s]')\n",
    "\n",
    "fig.update_layout(\n",
    "    title='Zulauf Berg'\n",
    ")"
   ]
  },
  {
   "cell_type": "code",
   "execution_count": null,
   "metadata": {},
   "outputs": [],
   "source": [
    "save_path = save_dir / 'Zulauf-Berg.html'\n",
    "fig.write_html(save_path)"
   ]
  },
  {
   "cell_type": "code",
   "execution_count": null,
   "metadata": {},
   "outputs": [],
   "source": [
    "fig = go.Figure()\n",
    "fig.add_trace(go.Scatter(x=data.index, y=data.iloc[:,2], name='Venturi'))\n",
    "fig.add_trace(go.Scatter(x=data.index, y=data.iloc[:,3], name='Nivus'))\n",
    "\n",
    "fig.update_xaxes(title='Datum')\n",
    "fig.update_yaxes(title='Durchfluss [l/s]')\n",
    "\n",
    "fig.update_layout(\n",
    "    title='Zulauf See'\n",
    ")"
   ]
  },
  {
   "cell_type": "code",
   "execution_count": null,
   "metadata": {},
   "outputs": [],
   "source": [
    "save_path = save_dir / 'Zulauf-See.html'\n",
    "fig.write_html(save_path)"
   ]
  },
  {
   "cell_type": "markdown",
   "metadata": {},
   "source": [
    "# Stats"
   ]
  },
  {
   "cell_type": "code",
   "execution_count": null,
   "metadata": {},
   "outputs": [],
   "source": [
    "for i in range(len(data.columns)):\n",
    "    print_stats(data, i)"
   ]
  }
 ],
 "metadata": {
  "kernelspec": {
   "display_name": "hbt_projects",
   "language": "python",
   "name": "python3"
  },
  "language_info": {
   "codemirror_mode": {
    "name": "ipython",
    "version": 3
   },
   "file_extension": ".py",
   "mimetype": "text/x-python",
   "name": "python",
   "nbconvert_exporter": "python",
   "pygments_lexer": "ipython3",
   "version": "3.11.0"
  },
  "orig_nbformat": 4
 },
 "nbformat": 4,
 "nbformat_minor": 2
}
