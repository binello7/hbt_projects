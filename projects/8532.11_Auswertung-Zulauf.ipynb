{
 "cells": [
  {
   "cell_type": "markdown",
   "metadata": {},
   "source": [
    "# Imports"
   ]
  },
  {
   "cell_type": "code",
   "execution_count": null,
   "metadata": {},
   "outputs": [],
   "source": [
    "import pandas as pd\n",
    "import plotly.graph_objects as go\n",
    "from plotly.subplots import make_subplots\n",
    "from pathlib import Path"
   ]
  },
  {
   "cell_type": "markdown",
   "metadata": {},
   "source": [
    "# Functions"
   ]
  },
  {
   "cell_type": "code",
   "execution_count": null,
   "metadata": {},
   "outputs": [],
   "source": [
    "def print_stats(df, col):\n",
    "    data = df.iloc[:, col]\n",
    "    max_val = data.max()\n",
    "    min_val = data.min()\n",
    "    std_val = data.std()\n",
    "\n",
    "    name = df.columns[col]\n",
    "    ul = len(name) * '-'\n",
    "    print(f\"{name}\")\n",
    "    print(ul)\n",
    "    print(f\"max: {max_val}\")\n",
    "    print(f\"min: {min_val}\")\n",
    "    print(f\"std: {std_val}\\n\")\n",
    "#-------------------------------------------------------------------------------\n",
    "\n",
    "def hist_flow(\n",
    "    ts_flow: pd.DataFrame,\n",
    "    cols: list,\n",
    "    title,\n",
    "    names = ['Venturi', 'Nivus'],\n",
    "    ):\n",
    "    fig = make_subplots(rows=1, cols=len(cols), shared_yaxes=True)\n",
    "\n",
    "    for i, col in enumerate(cols):\n",
    "        fig.add_histogram(x=ts_flow.iloc[:,col], row=1, col=i+1, name=names[i])\n",
    "\n",
    "    fig.update_layout(title_text=title)\n",
    "    \n",
    "    return fig"
   ]
  },
  {
   "cell_type": "markdown",
   "metadata": {},
   "source": [
    "# Parameters"
   ]
  },
  {
   "cell_type": "code",
   "execution_count": null,
   "metadata": {},
   "outputs": [],
   "source": [
    "path_data = Path(r\"Q:\\Projekte\\8000-\\8500er\\8532\\8532.14 Richterswil Beratung \"\n",
    "    r\"Aussenbauwerke\\05 Berechnungen Grundlagen\\Zulauf Nivus-Venturi\"\n",
    "    r\"\\Daten_Nivus-Venturi.xlsx\")\n",
    "save_dir = Path(r\"Q:\\Projekte\\8000-\\8500er\\8532\\8532.14 Richterswil Beratung \"\n",
    "    r\"Aussenbauwerke\\05 Berechnungen Grundlagen\\Zulauf Nivus-Venturi\")"
   ]
  },
  {
   "cell_type": "markdown",
   "metadata": {},
   "source": [
    "# Read Data"
   ]
  },
  {
   "cell_type": "code",
   "execution_count": null,
   "metadata": {},
   "outputs": [],
   "source": [
    "data = pd.read_excel(path_data)\n",
    "data.set_index(data.columns[0], inplace=True)"
   ]
  },
  {
   "cell_type": "code",
   "execution_count": null,
   "metadata": {},
   "outputs": [],
   "source": [
    "# mask negative values\n",
    "mask = data < 0\n",
    "data[mask] = float('nan')\n",
    "\n",
    "# mask unplausible values\n",
    "mask = data > 150\n",
    "data[mask] = float('nan')"
   ]
  },
  {
   "cell_type": "markdown",
   "metadata": {},
   "source": [
    "# Plots"
   ]
  },
  {
   "cell_type": "markdown",
   "metadata": {},
   "source": [
    "## Comparison Nivus / Venturi"
   ]
  },
  {
   "cell_type": "code",
   "execution_count": null,
   "metadata": {},
   "outputs": [],
   "source": [
    "fig = go.Figure()\n",
    "fig.add_trace(go.Scatter(x=data.index, y=data.iloc[:,0], name='Venturi'))\n",
    "fig.add_trace(go.Scatter(x=data.index, y=data.iloc[:,1], name='Nivus'))\n",
    "\n",
    "fig.update_xaxes(title='Datum')\n",
    "fig.update_yaxes(title='Durchfluss [l/s]')\n",
    "\n",
    "fig.update_layout(\n",
    "    title='Zulauf Berg',\n",
    "    font=dict(size=25)\n",
    ")"
   ]
  },
  {
   "cell_type": "code",
   "execution_count": null,
   "metadata": {},
   "outputs": [],
   "source": [
    "save_path = save_dir / 'Zulauf-Berg.html'\n",
    "fig.write_html(save_path)"
   ]
  },
  {
   "cell_type": "code",
   "execution_count": null,
   "metadata": {},
   "outputs": [],
   "source": [
    "fig = go.Figure()\n",
    "fig.add_trace(go.Scatter(x=data.index, y=data.iloc[:,2], name='Venturi'))\n",
    "fig.add_trace(go.Scatter(x=data.index, y=data.iloc[:,3], name='Nivus'))\n",
    "\n",
    "fig.update_xaxes(title='Datum')\n",
    "fig.update_yaxes(title='Durchfluss [l/s]')\n",
    "\n",
    "fig.update_layout(\n",
    "    title='Zulauf See',\n",
    "    font=dict(size=25)\n",
    ")"
   ]
  },
  {
   "cell_type": "code",
   "execution_count": null,
   "metadata": {},
   "outputs": [],
   "source": [
    "save_path = save_dir / 'Zulauf-See.html'\n",
    "fig.write_html(save_path)"
   ]
  },
  {
   "cell_type": "markdown",
   "metadata": {},
   "source": [
    "## Comparison Berg / See"
   ]
  },
  {
   "cell_type": "code",
   "execution_count": null,
   "metadata": {},
   "outputs": [],
   "source": [
    "fig = make_subplots(rows=2, cols=1, shared_xaxes=True,\n",
    "    subplot_titles=['Zulauf Venturi', 'Zulauf Nivus'])\n",
    "\n",
    "fig.add_trace(go.Scatter(x=data.index, y=data.iloc[:,0], name='Venturi Berg'), \n",
    "    row=1, col=1)\n",
    "fig.add_trace(go.Scatter(x=data.index, y=data.iloc[:,2], name='Venturi See'),\n",
    "    row=1, col=1)\n",
    "\n",
    "fig.add_trace(go.Scatter(x=data.index, y=data.iloc[:,1], name='Nivus Berg'),\n",
    "    row=2, col=1)\n",
    "fig.add_trace(go.Scatter(x=data.index, y=data.iloc[:,3], name='Nivus See'),\n",
    "    row=2, col=1)\n",
    "\n",
    "fig.update_xaxes(title='Datum', row=2, col=1)\n",
    "fig.update_yaxes(title='Durchfluss [l/s]')\n",
    "\n",
    "fig.update_layout(\n",
    "    font=dict(size=25)\n",
    ")\n",
    "\n",
    "fig.update_annotations(\n",
    "    font_size=28\n",
    ")"
   ]
  },
  {
   "cell_type": "code",
   "execution_count": null,
   "metadata": {},
   "outputs": [],
   "source": [
    "save_path = save_dir / 'Zulauf_Venturi-Nivus.html'\n",
    "fig.write_html(save_path)"
   ]
  },
  {
   "cell_type": "markdown",
   "metadata": {},
   "source": [
    "## Histrograms"
   ]
  },
  {
   "cell_type": "code",
   "execution_count": null,
   "metadata": {},
   "outputs": [],
   "source": [
    "# Berg\n",
    "fig = hist_flow(data, cols=[0, 1], title='Histogramm Berg')\n",
    "fig.update_layout(\n",
    "    font=dict(size=25)\n",
    ")"
   ]
  },
  {
   "cell_type": "code",
   "execution_count": null,
   "metadata": {},
   "outputs": [],
   "source": [
    "save_path = save_dir / 'Histogramm-Berg.html'\n",
    "fig.write_html(save_path)"
   ]
  },
  {
   "cell_type": "code",
   "execution_count": null,
   "metadata": {},
   "outputs": [],
   "source": [
    "# See\n",
    "fig = hist_flow(data, cols=[2, 3], title='Histogramm See')\n",
    "fig.update_layout(\n",
    "    font=dict(size=25)\n",
    ")"
   ]
  },
  {
   "cell_type": "code",
   "execution_count": null,
   "metadata": {},
   "outputs": [],
   "source": [
    "save_path = save_dir / 'Histogramm-See.html'\n",
    "fig.write_html(save_path)"
   ]
  },
  {
   "cell_type": "markdown",
   "metadata": {},
   "source": [
    "# Stats"
   ]
  },
  {
   "cell_type": "code",
   "execution_count": null,
   "metadata": {},
   "outputs": [],
   "source": [
    "for i in range(len(data.columns)):\n",
    "    print_stats(data, i)"
   ]
  }
 ],
 "metadata": {
  "kernelspec": {
   "display_name": "hbt_projects",
   "language": "python",
   "name": "python3"
  },
  "language_info": {
   "codemirror_mode": {
    "name": "ipython",
    "version": 3
   },
   "file_extension": ".py",
   "mimetype": "text/x-python",
   "name": "python",
   "nbconvert_exporter": "python",
   "pygments_lexer": "ipython3",
   "version": "3.11.0"
  },
  "orig_nbformat": 4
 },
 "nbformat": 4,
 "nbformat_minor": 2
}
