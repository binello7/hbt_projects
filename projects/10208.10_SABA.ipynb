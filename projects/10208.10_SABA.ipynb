{
 "cells": [
  {
   "cell_type": "markdown",
   "metadata": {},
   "source": [
    "## Imports"
   ]
  },
  {
   "cell_type": "code",
   "execution_count": 1,
   "metadata": {},
   "outputs": [],
   "source": [
    "import math\n",
    "import plotly.graph_objects as go\n",
    "from datetime import datetime as dt\n",
    "from hbt_tools import utils_hbt as uh\n",
    "from pathlib import Path"
   ]
  },
  {
   "cell_type": "markdown",
   "metadata": {},
   "source": [
    "## Functions"
   ]
  },
  {
   "cell_type": "code",
   "execution_count": 2,
   "metadata": {},
   "outputs": [],
   "source": [
    "# Poleni\n",
    "def Q_poleni(mu, L, h_w):\n",
    "    return 2/3 * mu * math.sqrt(2*9.81) * L * h_w**(3/2)"
   ]
  },
  {
   "cell_type": "markdown",
   "metadata": {},
   "source": [
    "## Settings"
   ]
  },
  {
   "cell_type": "code",
   "execution_count": 3,
   "metadata": {},
   "outputs": [],
   "source": [
    "h_nws = 430.70 # m ü.M.\n",
    "h_hws = 431.05 # m ü.M.\n",
    "L_ueb = 1.9 # m\n",
    "\n",
    "save_dir = Path(r\"Q:\\Projekte\\10000-\\10208.10 Tangente Zug\"\n",
    "    r\"\\05 Berechnungen Grundlagen\\SABA\")"
   ]
  },
  {
   "cell_type": "markdown",
   "metadata": {},
   "source": [
    "## Read data"
   ]
  },
  {
   "cell_type": "code",
   "execution_count": 4,
   "metadata": {},
   "outputs": [],
   "source": [
    "dt_format = '%d.%m.%Y %H:%M:%S'\n",
    "dt_start = dt.strptime(\"21.04.2022 12:00:00\", dt_format)\n",
    "dt_end = dt.strptime(\"01.09.2022 00:00:00\", dt_format)\n",
    "h_asb = uh.hbtdb_get_data(919, dt_from=dt_start, dt_to=dt_end)\n",
    "h_0 = h_asb.iloc[:20].mean().values[0]\n",
    "h_asb += (h_nws - h_0)"
   ]
  },
  {
   "cell_type": "markdown",
   "metadata": {},
   "source": [
    "## Analysis"
   ]
  },
  {
   "cell_type": "code",
   "execution_count": 5,
   "metadata": {},
   "outputs": [],
   "source": [
    "df_ueb = h_asb[h_asb > h_hws]\n",
    "df_ueb.dropna(inplace=True)\n",
    "df_ueb -= h_hws\n",
    "df_ueb['Q [l/s]'] = Q_poleni(0.6, L_ueb, df_ueb['wert']) * 1e3\n",
    "df_ueb['Vol [l]'] = df_ueb['Q [l/s]'] * 60\n",
    "df_ueb['Vol_cum [m3]'] = df_ueb['Vol [l]'].cumsum() / 1e3\n",
    "\n",
    "save_path = save_dir / 'Überlaufmengen_ASB.csv'\n",
    "df_ueb.to_csv(save_path, sep=';')"
   ]
  },
  {
   "cell_type": "markdown",
   "metadata": {},
   "source": [
    "## Plots"
   ]
  },
  {
   "cell_type": "code",
   "execution_count": 10,
   "metadata": {},
   "outputs": [],
   "source": [
    "fig = go.Figure()\n",
    "\n",
    "x = h_asb.index\n",
    "y = h_asb.iloc[:,0]\n",
    "fig.add_trace(go.Scatter(x=x, y=y))\n",
    "fig.add_hline(y=h_hws, line_width=2, line_color='red')\n",
    "fig.add_annotation(x=x[0], y=h_hws,text=f'{h_hws} m ü.M.', font=dict(size=25,\n",
    "    color='red'))\n",
    "fig.update_xaxes(title='Datum')\n",
    "fig.update_yaxes(title='Niveau [m ü.M.]')\n",
    "fig.update_layout(title='Niveau Absetzbecken', font=dict(size=25))\n",
    "\n",
    "save_path = save_dir / 'Niveau_ASB.html'\n",
    "fig.write_html(save_path)"
   ]
  }
 ],
 "metadata": {
  "kernelspec": {
   "display_name": "Python 3.10.8 ('venv': venv)",
   "language": "python",
   "name": "python3"
  },
  "language_info": {
   "codemirror_mode": {
    "name": "ipython",
    "version": 3
   },
   "file_extension": ".py",
   "mimetype": "text/x-python",
   "name": "python",
   "nbconvert_exporter": "python",
   "pygments_lexer": "ipython3",
   "version": "3.11.0"
  },
  "orig_nbformat": 4,
  "vscode": {
   "interpreter": {
    "hash": "fcbcf634104c4732b8439a3fb9bd2e33824138a0380f5d18bd4ad379b42013a3"
   }
  }
 },
 "nbformat": 4,
 "nbformat_minor": 2
}
