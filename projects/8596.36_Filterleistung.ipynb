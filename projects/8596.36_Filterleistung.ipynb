{
 "cells": [
  {
   "attachments": {},
   "cell_type": "markdown",
   "metadata": {},
   "source": [
    "## Imports"
   ]
  },
  {
   "cell_type": "code",
   "execution_count": null,
   "metadata": {},
   "outputs": [],
   "source": [
    "from plotly import graph_objects as go\n",
    "from plotly.subplots import make_subplots\n",
    "from datetime import datetime as dt\n",
    "from pathlib import Path\n",
    "from hbt_tools import hydraulics as hd\n",
    "from hbt_tools import utils_hbt as uh"
   ]
  },
  {
   "attachments": {},
   "cell_type": "markdown",
   "metadata": {},
   "source": [
    "## Settings"
   ]
  },
  {
   "cell_type": "code",
   "execution_count": null,
   "metadata": {},
   "outputs": [],
   "source": [
    "save_dir = Path(r\"H:\\2 Projekte\\8000-\\8500er\\8596\\8596.36-Mühlestrasse\"\n",
    "    r\"\\05 Berechnungen Grundlagen\\Datenauswertung\\Plots\")\n",
    "\n",
    "date_from = dt(2021, 9, 28, 0, 0)\n",
    "date_to = dt(2022, 10, 1, 0, 0)\n",
    "\n",
    "id_rfb1 = 459\n",
    "id_rfb2 = 461\n",
    "id_Qab = 466\n",
    "id_Hzu = 465\n",
    "\n",
    "Dh_rfb1 = 1.727 # m\n",
    "Dh_rfb2 = 0.926 # m\n",
    "A_rfb1 = 150 # m2\n",
    "A_rfb2 = 150 # m2\n",
    "\n",
    "# Einzeln Beschickung\n",
    "rfb1_einzeln = [\n",
    "    (\"14.06.2022\", \"27.06.2022\"),\n",
    "    (\"11.10.2022\", \"08.11.2022\")\n",
    "]\n",
    "\n",
    "rfb2_einzeln = [\n",
    "    (\"27.06.2022\", \"04.07.2022\"),\n",
    "    (\"08.11.2022\", \"03.01.2023\")\n",
    "]"
   ]
  },
  {
   "attachments": {},
   "cell_type": "markdown",
   "metadata": {},
   "source": [
    "## Read data"
   ]
  },
  {
   "cell_type": "code",
   "execution_count": null,
   "metadata": {},
   "outputs": [],
   "source": [
    "h_rfb1 = uh.hbtdb_get_data(id_rfb1, date_from=date_from, date_to=date_to)\n",
    "h_rfb2 = uh.hbtdb_get_data(id_rfb2, date_from=date_from, date_to=date_to)\n",
    "h_zu = uh.hbtdb_get_data(id_Hzu, date_from=date_from, date_to=date_to)\n",
    "Q_ab = uh.hbtdb_get_data(id_Qab, date_from=date_from, date_to=date_to)"
   ]
  },
  {
   "attachments": {},
   "cell_type": "markdown",
   "metadata": {},
   "source": [
    "## Correct data"
   ]
  },
  {
   "cell_type": "code",
   "execution_count": null,
   "metadata": {},
   "outputs": [],
   "source": [
    "h_rfb1 = (h_rfb1 - Dh_rfb1) * (-1) * 100\n",
    "h_rfb2 = (h_rfb2 - Dh_rfb2) * (-1) * 100"
   ]
  },
  {
   "cell_type": "code",
   "execution_count": null,
   "metadata": {},
   "outputs": [],
   "source": [
    "mu = 0.6\n",
    "B = 4 # m, Breite, Schalungsplan\n",
    "h0 = 1.05 # m, anspringswert gemäss Christian\n",
    "\n",
    "h_zu = h_zu / 100 - h0 # Höhe über Überlaufkante\n",
    "Q_zu = h_zu.copy()\n",
    "\n",
    "Q_zu.iloc[:,0] = Q_zu.iloc[:,0].clip(lower=0).apply(lambda x:\n",
    "    hd.poleni_q(mu, B, x)) * 1000"
   ]
  },
  {
   "attachments": {},
   "cell_type": "markdown",
   "metadata": {},
   "source": [
    "## Plot data"
   ]
  },
  {
   "cell_type": "markdown",
   "metadata": {},
   "source": [
    "### RFB 1"
   ]
  },
  {
   "cell_type": "code",
   "execution_count": null,
   "metadata": {},
   "outputs": [],
   "source": [
    "fig = make_subplots(specs=[[{\"secondary_y\": True}]])\n",
    "\n",
    "fig.add_trace(go.Scatter(x=Q_zu.index, y=Q_zu.iloc[:,0], name='Q Zulauf'),\n",
    "    secondary_y=True)\n",
    "fig.add_trace(go.Scatter(x=Q_ab.index, y=Q_ab.iloc[:,0], name='Q Ablauf'),\n",
    "    secondary_y=True)\n",
    "fig.add_trace(go.Scatter(x=h_rfb1.index, y=h_rfb1.iloc[:,0], name='h RFB 1'),\n",
    "    secondary_y=False)\n",
    "\n",
    "fig.update_xaxes(title='Datum')\n",
    "fig.update_yaxes(title='Niveau [cm]', secondary_y=False)\n",
    "fig.update_yaxes(title='Durchfluss [l/s]', secondary_y=True)\n",
    "\n",
    "fig.update_layout(title='RFB 1', font=dict(size=25))\n",
    "fig.update_xaxes(title=dict(font=dict(size=25)))\n",
    "fig.update_yaxes(title=dict(font=dict(size=25)))\n",
    "\n",
    "save_path = save_dir / 'Filterleistung_RFB-1.html'\n",
    "fig.write_html(save_path)"
   ]
  },
  {
   "attachments": {},
   "cell_type": "markdown",
   "metadata": {},
   "source": [
    "### RFB 2"
   ]
  },
  {
   "cell_type": "code",
   "execution_count": null,
   "metadata": {},
   "outputs": [],
   "source": [
    "fig = make_subplots(specs=[[{\"secondary_y\": True}]])\n",
    "\n",
    "fig.add_trace(go.Scatter(x=Q_zu.index, y=Q_zu.iloc[:,0], name='Q Zulauf'),\n",
    "    secondary_y=True)\n",
    "fig.add_trace(go.Scatter(x=Q_ab.index, y=Q_ab.iloc[:,0], name='Q Ablauf'),\n",
    "    secondary_y=True)\n",
    "fig.add_trace(go.Scatter(x=h_rfb2.index, y=h_rfb2.iloc[:,0], name='h RFB 2'),\n",
    "    secondary_y=False)\n",
    "\n",
    "fig.update_xaxes(title='Datum')\n",
    "fig.update_yaxes(title='Niveau [cm]', secondary_y=False)\n",
    "fig.update_yaxes(title='Durchfluss [l/s]', secondary_y=True)\n",
    "\n",
    "fig.update_layout(title='RFB 2', font=dict(size=25))\n",
    "fig.update_xaxes(title=dict(font=dict(size=25)))\n",
    "fig.update_yaxes(title=dict(font=dict(size=25)))\n",
    "\n",
    "save_path = save_dir / 'Filterleistung_RFB-2.html'\n",
    "fig.write_html(save_path)"
   ]
  }
 ],
 "metadata": {
  "kernelspec": {
   "display_name": "Python 3.10.6 ('cenv')",
   "language": "python",
   "name": "python3"
  },
  "language_info": {
   "codemirror_mode": {
    "name": "ipython",
    "version": 3
   },
   "file_extension": ".py",
   "mimetype": "text/x-python",
   "name": "python",
   "nbconvert_exporter": "python",
   "pygments_lexer": "ipython3",
   "version": "3.11.0"
  },
  "orig_nbformat": 4,
  "vscode": {
   "interpreter": {
    "hash": "ab1415878b8670590be7cfb0d397ba278fb7336eefaa66780c43ead28065321d"
   }
  }
 },
 "nbformat": 4,
 "nbformat_minor": 2
}
