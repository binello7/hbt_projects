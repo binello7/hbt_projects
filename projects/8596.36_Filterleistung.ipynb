{
 "cells": [
  {
   "cell_type": "markdown",
   "metadata": {},
   "source": [
    "## Imports"
   ]
  },
  {
   "cell_type": "code",
   "execution_count": 2,
   "metadata": {},
   "outputs": [],
   "source": [
    "import numpy as np\n",
    "from datetime import datetime as dt\n",
    "from hbt import hydraulics as hd\n",
    "from hbt import utils_hbt as uh\n",
    "from hbt import utils_plot as up\n",
    "from pathlib import Path"
   ]
  },
  {
   "cell_type": "markdown",
   "metadata": {},
   "source": [
    "## Globals"
   ]
  },
  {
   "cell_type": "code",
   "execution_count": 3,
   "metadata": {},
   "outputs": [],
   "source": [
    "save_dir = Path(r\"Q:\\Projekte\\8000-\\8500er\\8596\\8596.36-Mühlestrasse\"\n",
    "    r\"\\05 Berechnungen Grundlagen\\Datenauswertung\\Plots\")"
   ]
  },
  {
   "cell_type": "markdown",
   "metadata": {},
   "source": [
    "## Settings"
   ]
  },
  {
   "cell_type": "code",
   "execution_count": 4,
   "metadata": {},
   "outputs": [],
   "source": [
    "dt_from_rfb1 = dt(2022, 10, 13, 12)\n",
    "dt_to_rfb1 = dt(2022, 11, 8)\n",
    "dt_from_rfb2 = dt(2022, 11, 8)\n",
    "dt_to_rfb2 = dt(2022, 12, 5)\n",
    "\n",
    "id_rfb1 = 459\n",
    "id_rfb2 = 461\n",
    "id_Qab = 466\n",
    "id_Hzu = 465\n",
    "\n",
    "Dh_rfb1 = 1.727 # m\n",
    "Dh_rfb2 = 0.926 # m\n",
    "A_rfb1 = 150 # m2\n",
    "A_rfb2 = 150 # m2\n",
    "\n",
    "bool_rfb1 = True\n",
    "bool_rfb2 = False"
   ]
  },
  {
   "cell_type": "markdown",
   "metadata": {},
   "source": [
    "## Read data"
   ]
  },
  {
   "cell_type": "markdown",
   "metadata": {},
   "source": [
    "### Raw data"
   ]
  },
  {
   "cell_type": "code",
   "execution_count": 5,
   "metadata": {},
   "outputs": [],
   "source": [
    "if bool_rfb1:\n",
    "    ts_rfb1 = uh.hbtdb_get_data(id_rfb1, dt_from=dt_from_rfb1,\n",
    "        dt_to=dt_to_rfb1)\n",
    "    ts_Qab = uh.hbtdb_get_data(id_Qab, dt_from=dt_from_rfb1, dt_to=dt_to_rfb1)\n",
    "    ts_Hzu = uh.hbtdb_get_data(id_Hzu, dt_from=dt_from_rfb1, dt_to=dt_to_rfb1)"
   ]
  },
  {
   "cell_type": "code",
   "execution_count": 6,
   "metadata": {},
   "outputs": [],
   "source": [
    "if bool_rfb2:\n",
    "    ts_rfb2 = uh.hbtdb_get_data(id_rfb2, dt_from=dt_from_rfb2,\n",
    "        dt_to=dt_to_rfb2)\n",
    "    ts_Qab = uh.hbtdb_get_data(id_Qab, dt_from=dt_from_rfb2, dt_to=dt_to_rfb2)\n",
    "    ts_Hzu = uh.hbtdb_get_data(id_Hzu, dt_from=dt_from_rfb2, dt_to=dt_to_rfb2)"
   ]
  },
  {
   "cell_type": "markdown",
   "metadata": {},
   "source": [
    "### Convert data"
   ]
  },
  {
   "cell_type": "code",
   "execution_count": 7,
   "metadata": {},
   "outputs": [],
   "source": [
    "if bool_rfb1:\n",
    "    ts_rfb1 = (ts_rfb1 - Dh_rfb1) * (-1)\n",
    "\n",
    "elif bool_rfb2:\n",
    "    ts_rfb2 = (ts_rfb2 - Dh_rfb2) * (-1)\n",
    "\n",
    "mu = 0.6\n",
    "B = 2.75 # m, Breite, Schalungsplan\n",
    "h0 = 1.05 # m, anspringswert gemäss Christian\n",
    "\n",
    "ts_Hzu = ts_Hzu / 100 - h0\n",
    "ts_Qzu = ts_Hzu.copy()\n",
    "\n",
    "ts_Qzu.iloc[:,0] = ts_Qzu.iloc[:,0].clip(lower=0).apply(lambda x:\n",
    "    hd.poleni_q(mu, B, x)) * 1000"
   ]
  },
  {
   "cell_type": "markdown",
   "metadata": {},
   "source": [
    "## Stats"
   ]
  },
  {
   "cell_type": "code",
   "execution_count": 8,
   "metadata": {},
   "outputs": [
    {
     "name": "stdout",
     "output_type": "stream",
     "text": [
      "{'max_Q_RFB1': 39.1022}\n"
     ]
    }
   ],
   "source": [
    "if bool_rfb1:\n",
    "    stats_rfb1 = {\n",
    "        'max_Q_RFB1': ts_Qab.max().values[0]\n",
    "    }\n",
    "    print(stats_rfb1)\n",
    "\n",
    "if bool_rfb2:\n",
    "    stats_rfb2 = {\n",
    "        'max_Q_RFB2': ts_Qab.max().values[0]\n",
    "    }\n",
    "    print(stats_rfb2)"
   ]
  },
  {
   "cell_type": "markdown",
   "metadata": {},
   "source": [
    "## Plot data"
   ]
  },
  {
   "cell_type": "markdown",
   "metadata": {},
   "source": [
    "### Übersicht RFB 1"
   ]
  },
  {
   "cell_type": "code",
   "execution_count": 9,
   "metadata": {},
   "outputs": [],
   "source": [
    "if bool_rfb1:\n",
    "    save_path = save_dir / 'Übersicht_RFB-1.html'\n",
    "\n",
    "    up.plotly_2y([ts_rfb1, ts_Hzu], [ts_Qzu, ts_Qab], names=['H RFB 1',\n",
    "        'H Zulauf', 'Q Zulauf', 'Q Auslauf'], xlabel='Datum',\n",
    "        ylabels=['Niveau [m]', 'Durchfluss [l/s]'], title='Übersicht RFB 1',\n",
    "        save_path=save_path)"
   ]
  },
  {
   "cell_type": "code",
   "execution_count": 10,
   "metadata": {},
   "outputs": [],
   "source": [
    "if bool_rfb2:\n",
    "    save_path = save_dir / 'Übersicht_RFB-2.html'\n",
    "\n",
    "    up.plotly_2y([ts_rfb2, ts_Hzu], [ts_Qzu, ts_Qab], names=['H RFB 2',\n",
    "        'H Zulauf', 'Q Zulauf', 'Q Auslauf'], xlabel='Datum',\n",
    "        ylabels=['Niveau [m]', 'Durchfluss [l/s]'], title='Übersicht RFB 2',\n",
    "        save_path=save_path)"
   ]
  },
  {
   "cell_type": "markdown",
   "metadata": {},
   "source": [
    "## Filterleistung"
   ]
  },
  {
   "cell_type": "markdown",
   "metadata": {},
   "source": [
    "### Niveau"
   ]
  },
  {
   "cell_type": "code",
   "execution_count": 15,
   "metadata": {},
   "outputs": [
    {
     "name": "stdout",
     "output_type": "stream",
     "text": [
      "[0.9791900526724798, 1.277144700064502, 1.4920634920634899, 1.9508196721311475, 1.4999999999999984, 9.062500000000002]\n"
     ]
    }
   ],
   "source": [
    "if bool_rfb1:\n",
    "    dts_h = [\n",
    "        (dt(2022, 10, 13, 15, 00, 42), dt(2022, 10, 13, 18, 13, 43)), # 1\n",
    "        (dt(2022, 10, 14, 1, 13, 46), dt(2022, 10, 14, 3, 48, 48)), # 2\n",
    "        (dt(2022, 10, 15, 4, 5, 55), dt(2022, 10, 15, 5, 8, 55)), # 3\n",
    "        (dt(2022, 10, 22, 10, 20, 54), dt(2022, 10, 22, 11, 21, 54)), # 4\n",
    "        (dt(2022, 11, 5, 10, 30, 20), dt(2022, 11, 5, 11, 8, 20)), # 5\n",
    "        (dt(2022, 11, 4, 0, 29, 9), dt(2022, 11, 4, 0, 45, 9)) # Sonderfall\n",
    "    ]\n",
    "\n",
    "    fl_h = uh.filterleistung_h(dts_h, ts_rfb1)\n",
    "    print(fl_h)\n",
    "    fl_h = np.array(fl_h)\n",
    "    # print(fl_h.mean())"
   ]
  },
  {
   "cell_type": "code",
   "execution_count": 12,
   "metadata": {},
   "outputs": [],
   "source": [
    "if bool_rfb2:\n",
    "    dts_h = [\n",
    "        (dt(2022, 11, 18, 7, 31, 42), dt(2022, 11, 18, 11, 31, 42)), # 1\n",
    "        (dt(2022, 11, 22, 5, 14, 42), dt(2022, 11, 22, 5, 54, 42)), # 2\n",
    "        (dt(2022, 11, 23, 19, 23, 35), dt(2022, 11, 23, 19, 46, 35)), # 3\n",
    "        (dt(2022, 11, 25, 20, 43, 35), dt(2022, 11, 25, 21, 23, 35)), # 4\n",
    "        (dt(2022, 11, 30, 3, 30, 35), dt(2022, 11, 30, 3, 59, 35)), # 5\n",
    "    ]\n",
    "\n",
    "    fl_h = uh.filterleistung_h(dts_h, ts_rfb2)\n",
    "    print(fl_h)\n",
    "    fl_h = np.array(fl_h)\n",
    "    print(fl_h.mean())"
   ]
  },
  {
   "cell_type": "markdown",
   "metadata": {},
   "source": [
    "### Durchfluss"
   ]
  },
  {
   "cell_type": "code",
   "execution_count": 16,
   "metadata": {},
   "outputs": [
    {
     "name": "stdout",
     "output_type": "stream",
     "text": [
      "[0.7641723711340206, 1.1297697435897434, 1.2796925000000001, 1.6345432258064514, 1.109916923076923, 12.530435294117648]\n"
     ]
    }
   ],
   "source": [
    "if bool_rfb1:\n",
    "    dts = [\n",
    "        dt(2022, 10, 13, 15, 53), # 1\n",
    "        dt(2022, 10, 14, 0, 31), # 2\n",
    "        dt(2022, 10, 15, 3, 40), # 3\n",
    "        dt(2022, 10, 22, 10, 00), # 4\n",
    "        dt(2022, 11, 5, 10, 59, 15), # 5\n",
    "        dt(2022, 11, 4, 0, 50, 15), # Sonderfall\n",
    "    ]\n",
    "\n",
    "    dts_Q = []\n",
    "    for i, dt1 in enumerate(dts):\n",
    "        dt_tuple = (dt1, dt1 + (dts_h[i][1] - dts_h[i][0]))\n",
    "        dts_Q.append(dt_tuple)\n",
    "\n",
    "    fl_Q = uh.filterleistung_Q(dts_Q, ts_Qab, A_rfb1)\n",
    "    print(fl_Q)\n",
    "    "
   ]
  },
  {
   "cell_type": "code",
   "execution_count": null,
   "metadata": {},
   "outputs": [],
   "source": []
  },
  {
   "cell_type": "code",
   "execution_count": 14,
   "metadata": {},
   "outputs": [],
   "source": [
    "if bool_rfb2:\n",
    "    dts = [ # Zeitverschiebung dts: ca. 20 Min.\n",
    "        dt(2022, 11, 18, 7, 51, 15), # 1\n",
    "        dt(2022, 11, 22, 5, 34, 15), # 2\n",
    "        dt(2022, 11, 23, 19, 43, 23), # 3\n",
    "        dt(2022, 11, 25, 21, 3, 23), # 4\n",
    "        dt(2022, 11, 30, 3, 50, 23), # 5\n",
    "    ]\n",
    "\n",
    "    dts_Q = []\n",
    "    for i, dt1 in enumerate(dts):\n",
    "        dt_tuple = (dt1, dt1 + (dts_h[i][1] - dts_h[i][0]))\n",
    "        dts_Q.append(dt_tuple)\n",
    "\n",
    "    fl_Q = uh.filterleistung_Q(dts_Q, ts_Qab, A_rfb2)\n",
    "    print(fl_Q)\n",
    "    fl_Q = np.array(fl_Q)\n",
    "    print(fl_Q.mean())"
   ]
  }
 ],
 "metadata": {
  "kernelspec": {
   "display_name": "Python 3.10.6 ('cenv')",
   "language": "python",
   "name": "python3"
  },
  "language_info": {
   "codemirror_mode": {
    "name": "ipython",
    "version": 3
   },
   "file_extension": ".py",
   "mimetype": "text/x-python",
   "name": "python",
   "nbconvert_exporter": "python",
   "pygments_lexer": "ipython3",
   "version": "3.10.6"
  },
  "orig_nbformat": 4,
  "vscode": {
   "interpreter": {
    "hash": "ab1415878b8670590be7cfb0d397ba278fb7336eefaa66780c43ead28065321d"
   }
  }
 },
 "nbformat": 4,
 "nbformat_minor": 2
}
