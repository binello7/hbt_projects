{
 "cells": [
  {
   "cell_type": "markdown",
   "metadata": {},
   "source": [
    "# Imports"
   ]
  },
  {
   "cell_type": "code",
   "execution_count": null,
   "metadata": {},
   "outputs": [],
   "source": [
    "import pandas as pd\n",
    "from hbt_tools import utils_hbt as uh\n",
    "from hbt_tools import plots as hp\n",
    "from pathlib import Path\n",
    "from pytz import timezone"
   ]
  },
  {
   "cell_type": "markdown",
   "metadata": {},
   "source": [
    "# Functions"
   ]
  },
  {
   "cell_type": "code",
   "execution_count": null,
   "metadata": {},
   "outputs": [],
   "source": [
    "def ts_filter_date(ts, date_from=None, date_to=None):\n",
    "    ts = ts.copy()\n",
    "    if (date_from is None and date_to is None):\n",
    "        pass\n",
    "\n",
    "    elif (date_to is None and date_from is not None):\n",
    "        ts = ts[ts.index>=date_from]\n",
    "    \n",
    "    elif (date_to is not None and date_from is None):\n",
    "        ts = ts[ts.index<=date_to]\n",
    "    else:\n",
    "        ts = ts[(ts.index>=date_from) & (ts.index<=date_to)]\n",
    "\n",
    "    return ts\n",
    "#-------------------------------------------------------------------------------\n",
    "\n",
    "def sum_per_period(ts, periods, date_format, idx_col=0):\n",
    "    res = pd.DataFrame(columns=['von', 'bis', 'summe'])\n",
    "    tz = timezone('Europe/Zurich')\n",
    "\n",
    "    res_list = []\n",
    "    for period in periods:\n",
    "        date_start = pd.to_datetime(period[0], format=date_format)\n",
    "        date_start = tz.localize(date_start)\n",
    "\n",
    "        date_end = pd.to_datetime(period[1], format=date_format)\n",
    "        date_end = tz.localize(date_end)\n",
    "\n",
    "        ts_period = ts[(ts.index>=date_start) & (ts.index<date_end)]\n",
    "        df_temp = pd.DataFrame({'von': [period[0]], 'bis': [period[1]],\n",
    "            'summe': [ts_period.iloc[:,idx_col].sum()]})\n",
    "        \n",
    "        res_list.append(df_temp)\n",
    "        \n",
    "    res = pd.concat(res_list)\n",
    "    \n",
    "    return res"
   ]
  },
  {
   "cell_type": "markdown",
   "metadata": {},
   "source": [
    "# Parameters"
   ]
  },
  {
   "cell_type": "code",
   "execution_count": null,
   "metadata": {},
   "outputs": [],
   "source": [
    "date_format = '%d.%m.%Y %H:%M'\n",
    "date_from = pd.to_datetime('12.09.2023 00:00', format=date_format)\n",
    "\n",
    "date_to = pd.to_datetime('06.12.2023 00:00', format=date_format)\n",
    "\n",
    "save_dir = Path(r\"H:\\2 Projekte\\8000-\\8500er\\8596\\8596.43 SABA Zugerland\\05 Berechnungen Grundlagen\\Datenanalyse\\Plots\")"
   ]
  },
  {
   "cell_type": "markdown",
   "metadata": {},
   "source": [
    "# Regen"
   ]
  },
  {
   "cell_type": "code",
   "execution_count": null,
   "metadata": {},
   "outputs": [],
   "source": [
    "id = 2063\n",
    "rain = uh.mdb_getdata(id, date_from, date_to)"
   ]
  },
  {
   "cell_type": "markdown",
   "metadata": {},
   "source": [
    "# Read Data"
   ]
  },
  {
   "cell_type": "markdown",
   "metadata": {},
   "source": [
    "## Niveau Pumpensumpf"
   ]
  },
  {
   "cell_type": "code",
   "execution_count": null,
   "metadata": {},
   "outputs": [],
   "source": [
    "id = 2899\n",
    "niveau_pw = uh.mdb_getdata(id, date_from, date_to)"
   ]
  },
  {
   "cell_type": "markdown",
   "metadata": {},
   "source": [
    "## Niveau Retentionsfilterbecken"
   ]
  },
  {
   "cell_type": "code",
   "execution_count": null,
   "metadata": {},
   "outputs": [],
   "source": [
    "id = 2900\n",
    "rfb1 = uh.mdb_getdata(id, date_from, date_to)\n",
    "\n",
    "id = 2901\n",
    "rfb2 = uh.mdb_getdata(id, date_from, date_to)"
   ]
  },
  {
   "cell_type": "markdown",
   "metadata": {},
   "source": [
    "# Plots"
   ]
  },
  {
   "cell_type": "markdown",
   "metadata": {},
   "source": [
    "## Niveau Pumpensumpf"
   ]
  },
  {
   "cell_type": "code",
   "execution_count": null,
   "metadata": {},
   "outputs": [],
   "source": [
    "save_path = save_dir / 'Niveau-Pumpensumpf.html'\n",
    "fig = hp.ply_2y(niveau_pw, rain, names=['Niveau Pumpensumpf', 'Regen Cham'], save_path=save_path,\n",
    "    xlabel='Zeit', ylabels=['Niveau [cm]', 'Regen [mm/10min]', 'Niveau Pumpensumpf'])\n",
    "fig"
   ]
  },
  {
   "cell_type": "markdown",
   "metadata": {},
   "source": [
    "## Niveau Retentionsfilterbecken"
   ]
  },
  {
   "cell_type": "code",
   "execution_count": null,
   "metadata": {},
   "outputs": [],
   "source": [
    "save_path = save_dir / 'Niveau-Retentionsfilterbecken.html'\n",
    "fig = hp.ply_2y([rfb1, rfb2], rain, names=['Niveau Retentionsfilterbecken 1', 'Niveau Retentionsfilterbecken 2', 'Regen Cham'],\n",
    "    save_path=save_path, xlabel='Zeit', ylabels=['Niveau [cm]', 'Regen [mm/10min]', 'Niveau Pumpensumpf'])\n",
    "fig"
   ]
  }
 ],
 "metadata": {
  "kernelspec": {
   "display_name": "venv",
   "language": "python",
   "name": "python3"
  },
  "language_info": {
   "codemirror_mode": {
    "name": "ipython",
    "version": 3
   },
   "file_extension": ".py",
   "mimetype": "text/x-python",
   "name": "python",
   "nbconvert_exporter": "python",
   "pygments_lexer": "ipython3",
   "version": "3.11.8"
  }
 },
 "nbformat": 4,
 "nbformat_minor": 2
}
