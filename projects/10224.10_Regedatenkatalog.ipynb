{
 "cells": [
  {
   "cell_type": "code",
   "execution_count": null,
   "metadata": {},
   "outputs": [],
   "source": [
    "from datetime import datetime as dt\n",
    "from pathlib import Path\n",
    "from hbt_tools import utils_hbt as uh\n",
    "from hbt_tools import plots as hp"
   ]
  },
  {
   "attachments": {},
   "cell_type": "markdown",
   "metadata": {},
   "source": [
    "## Read data"
   ]
  },
  {
   "cell_type": "code",
   "execution_count": null,
   "metadata": {},
   "outputs": [],
   "source": [
    "path_data = Path(r\"\\\\hunzikerwater.ch\\DFSHBT\\Daten-Winterthur\\Projekte\\10000-\"\n",
    "    r\"\\10224 Bachenbülach\\10224.10 GEP\\05 Berechnungen Grundlagen\"\n",
    "    r\"\\TP Entwässerungskonzept\\04 Regendaten\\03_Auswertung\\Regenereignisse\")\n",
    "\n",
    "files_list = list(path_data.glob('*.csv'))"
   ]
  },
  {
   "cell_type": "code",
   "execution_count": null,
   "metadata": {},
   "outputs": [],
   "source": [
    "for file in files_list:\n",
    "    name_elements = str(file.stem).split('_')\n",
    "    date = name_elements[1]\n",
    "    date = dt.strptime(date, '%Y%m%d')\n",
    "    date_str = date.strftime('%d.%m.%Y')\n",
    "    title = f'Regenereignis vom {date_str}'\n",
    "\n",
    "    save_path = path_data / (file.stem + '.png')\n",
    "\n",
    "    data = uh.read_raindata_meteoschweiz(file, abbr=False)\n",
    "    hp.plt_rain(data, save_path, title=title)"
   ]
  }
 ],
 "metadata": {
  "kernelspec": {
   "display_name": "hbt_projects",
   "language": "python",
   "name": "python3"
  },
  "language_info": {
   "codemirror_mode": {
    "name": "ipython",
    "version": 3
   },
   "file_extension": ".py",
   "mimetype": "text/x-python",
   "name": "python",
   "nbconvert_exporter": "python",
   "pygments_lexer": "ipython3",
   "version": "3.11.0"
  },
  "orig_nbformat": 4
 },
 "nbformat": 4,
 "nbformat_minor": 2
}
