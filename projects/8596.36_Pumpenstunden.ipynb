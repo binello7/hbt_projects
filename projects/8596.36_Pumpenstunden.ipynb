{
 "cells": [
  {
   "cell_type": "markdown",
   "metadata": {},
   "source": [
    "# Imports"
   ]
  },
  {
   "cell_type": "code",
   "execution_count": 1,
   "metadata": {},
   "outputs": [],
   "source": [
    "import pandas as pd\n",
    "import plotly.graph_objects as go\n",
    "import pytz\n",
    "from datetime import datetime as dt\n",
    "from hbt_tools import utils_hbt as uh\n",
    "from hbt_tools import plots as hp\n",
    "from pathlib import Path\n",
    "from plotly.subplots import make_subplots"
   ]
  },
  {
   "cell_type": "markdown",
   "metadata": {},
   "source": [
    "# Parameters"
   ]
  },
  {
   "cell_type": "code",
   "execution_count": 3,
   "metadata": {},
   "outputs": [],
   "source": [
    "dt_format = '%d.%m.%Y %H:%M'\n",
    "save_dir = Path(r\"Q:\\Projekte\\8000-\\8500er\\8596\\8596.36-Mühlestrasse\"\n",
    "    r\"\\05 Berechnungen Grundlagen\\Datenauswertung\\Pumpenstunden\")\n",
    "path_hirsen = Path(r\"\\\\SRVHBTFS01\\ProjekteK\\8000-\\8500er\\8596\"\n",
    "    r\"\\8596.36-Mühlestrasse\\05 Berechnungen Grundlagen\\Datenauswertung\"\n",
    "    r\"\\Pumpenstunden\\PWHIRS 01.10.2021-31.07.2023.xlsx\")\n",
    "path_sonnenberg = Path(r\"\\\\SRVHBTFS01\\ProjekteK\\8000-\\8500er\\8596\"\n",
    "    r\"\\8596.36-Mühlestrasse\\05 Berechnungen Grundlagen\\Datenauswertung\"\n",
    "    r\"\\Pumpenstunden\\PWSONB 01.10.2023-31.07.2023.xlsx\")"
   ]
  },
  {
   "cell_type": "markdown",
   "metadata": {},
   "source": [
    "# Read Data"
   ]
  }
 ],
 "metadata": {
  "kernelspec": {
   "display_name": "Python 3.10.8 ('venv': venv)",
   "language": "python",
   "name": "python3"
  },
  "language_info": {
   "codemirror_mode": {
    "name": "ipython",
    "version": 3
   },
   "file_extension": ".py",
   "mimetype": "text/x-python",
   "name": "python",
   "nbconvert_exporter": "python",
   "pygments_lexer": "ipython3",
   "version": "3.11.0"
  },
  "orig_nbformat": 4,
  "vscode": {
   "interpreter": {
    "hash": "fcbcf634104c4732b8439a3fb9bd2e33824138a0380f5d18bd4ad379b42013a3"
   }
  }
 },
 "nbformat": 4,
 "nbformat_minor": 2
}
