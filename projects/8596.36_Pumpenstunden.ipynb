{
 "cells": [
  {
   "cell_type": "markdown",
   "metadata": {},
   "source": [
    "# Imports"
   ]
  },
  {
   "cell_type": "code",
   "execution_count": null,
   "metadata": {},
   "outputs": [],
   "source": [
    "import pandas as pd\n",
    "import plotly.graph_objects as go\n",
    "from pathlib import Path\n",
    "from plotly.subplots import  make_subplots\n",
    "from datetime import timedelta as td\n",
    "from datetime import datetime as dt\n",
    "from hbt_tools import utils_hbt as uh"
   ]
  },
  {
   "cell_type": "markdown",
   "metadata": {},
   "source": [
    "# Functions"
   ]
  },
  {
   "cell_type": "code",
   "execution_count": null,
   "metadata": {},
   "outputs": [],
   "source": [
    "def make_df_betrieb(df_pw, on_name='On Time', off_name='Off Time'):\n",
    "    # On time\n",
    "    time_on = df_pw[on_name]\n",
    "    time_on = time_on.sort_values()\n",
    "    time_on2 = time_on - td(milliseconds=1)\n",
    "    time_on = pd.DataFrame(index=time_on)\n",
    "    time_on.index.rename(name='zeit', inplace=True)\n",
    "    time_on['betrieb'] = 1\n",
    "\n",
    "    time_on2 = pd.DataFrame(index=time_on2)\n",
    "    time_on2.index.rename(name='zeit', inplace=True)\n",
    "    time_on2['betrieb'] = 0\n",
    "\n",
    "    # Off time\n",
    "    time_off = df_pw[off_name]\n",
    "    time_off = time_off.sort_values()\n",
    "    time_off2 = time_off + td(milliseconds=1)\n",
    "    time_off = pd.DataFrame(index=time_off)\n",
    "    time_off.index.rename(name='zeit', inplace=True)\n",
    "    time_off['betrieb'] = 1\n",
    "\n",
    "    time_off2 = pd.DataFrame(index=time_off2)\n",
    "    time_off2.index.rename(name='zeit', inplace=True)\n",
    "    time_off2['betrieb'] = 0\n",
    "\n",
    "    # Conatenate\n",
    "    df_betrieb = pd.concat([time_on2, time_on, time_off, time_off2])\n",
    "    df_betrieb.sort_index(inplace=True)\n",
    "\n",
    "    # Compute 'betriebsdauer' / 'pumpenstunden'\n",
    "    df_betrieb['betriebdauer'] = df_betrieb.index\n",
    "    df_betrieb['betriebdauer'] -= df_betrieb['betriebdauer'].shift(1)\n",
    "\n",
    "    mask = df_betrieb['betrieb']==0\n",
    "    df_betrieb.loc[mask,'betriebdauer'] = td()\n",
    "\n",
    "    df_betrieb['pumpenstunden'] = df_betrieb['betriebdauer'].cumsum()\n",
    "    df_betrieb['pumpenstunden'] = df_betrieb['pumpenstunden'].dt.total_seconds() / (60**2)\n",
    "\n",
    "    return df_betrieb"
   ]
  },
  {
   "cell_type": "markdown",
   "metadata": {},
   "source": [
    "# Parameters"
   ]
  },
  {
   "cell_type": "code",
   "execution_count": null,
   "metadata": {},
   "outputs": [],
   "source": [
    "dt_format = '%d.%m.%Y %H:%M'\n",
    "save_dir = Path(r\"Q:\\Projekte\\8000-\\8500er\\8596\\8596.36-Mühlestrasse\"\n",
    "    r\"\\05 Berechnungen Grundlagen\\Datenauswertung\\Pumpenstunden\")\n",
    "path_hirsen = Path(r\"\\\\SRVHBTFS01\\ProjekteK\\8000-\\8500er\\8596\"\n",
    "    r\"\\8596.36-Mühlestrasse\\05 Berechnungen Grundlagen\\Datenauswertung\"\n",
    "    r\"\\Pumpenstunden\\PWHIRS 01.10.2021-31.07.2023.xlsx\")\n",
    "path_sonnenberg = Path(r\"\\\\SRVHBTFS01\\ProjekteK\\8000-\\8500er\\8596\"\n",
    "    r\"\\8596.36-Mühlestrasse\\05 Berechnungen Grundlagen\\Datenauswertung\"\n",
    "    r\"\\Pumpenstunden\\PWSONB 01.10.2023-31.07.2023.xlsx\")\n",
    "\n",
    "date_from = dt(2021, 10, 1)\n",
    "date_to = dt(2022, 9, 30)"
   ]
  },
  {
   "cell_type": "markdown",
   "metadata": {},
   "source": [
    "# Read Data"
   ]
  },
  {
   "cell_type": "markdown",
   "metadata": {},
   "source": [
    "## Pumpen"
   ]
  },
  {
   "cell_type": "code",
   "execution_count": null,
   "metadata": {},
   "outputs": [],
   "source": [
    "# PW Hirsen\n",
    "df_hirsen = pd.read_excel(path_hirsen, skiprows=10)\n",
    "idx = [0, 2, 3, 5, 6, 8, 12]\n",
    "cols = [df_hirsen.columns[i] for i in idx]\n",
    "df_hirsen.columns\n",
    "df_hirsen = df_hirsen.drop(columns=cols)\n",
    "mask = (df_hirsen['On Time']>=date_from) & (df_hirsen['On Time']<date_to)\n",
    "df_hirsen = df_hirsen[mask]"
   ]
  },
  {
   "cell_type": "code",
   "execution_count": null,
   "metadata": {},
   "outputs": [],
   "source": [
    "# Hirsen Pumpen\n",
    "mask = ((df_hirsen['Beschreibung']=='SPR PWHIRS WVA Abwasser NIVE BZ003 RB Niveau Pumpe 1 ein ')\n",
    "    | (df_hirsen['Beschreibung']=='SPR PWHIRS WVA Abwasser NIVE BZ003 RB Niveau Pumpe 2 ein ')\n",
    "    | (df_hirsen['Beschreibung']=='SPR PWHIRS WVA Abwasser NIVE BZ002 RB Niveau Pumpen aus '))\n",
    "df_hirsen_pumpen = df_hirsen[mask]\n",
    "df_hirsen_pumpen.set_index('On Time', inplace=True)\n",
    "idx = [0, 1, 3, 4, 5]\n",
    "cols = [df_hirsen_pumpen.columns[i] for i in idx]\n",
    "df_hirsen_pumpen.drop(columns=cols)"
   ]
  },
  {
   "cell_type": "code",
   "execution_count": null,
   "metadata": {},
   "outputs": [],
   "source": [
    "# Hirsen Pumpe 2\n",
    "df_hirsen_p2 = df_hirsen[df_hirsen[\n",
    "    'Beschreibung']=='SPR PWHIRS WVA Abwasser NIVE BZ004 RB Niveau Pumpe 2 ein ']\n",
    "df_hirsen_p2 = df_hirsen_p2.dropna()\n",
    "hirsen_betrieb2 = make_df_betrieb(df_hirsen_p2)"
   ]
  },
  {
   "cell_type": "code",
   "execution_count": null,
   "metadata": {},
   "outputs": [],
   "source": [
    "# PW Sonnenbergstrasse\n",
    "df_sonnenberg = pd.read_excel(path_hirsen, skiprows=10)\n",
    "idx = [0, 2, 3, 5, 6, 8, 12]\n",
    "cols = [df_sonnenberg.columns[i] for i in idx]\n",
    "df_sonnenberg.columns\n",
    "df_sonnenberg = df_sonnenberg.drop(columns=cols)\n",
    "mask = (df_sonnenberg['On Time']>=date_from) & (df_sonnenberg['On Time']<date_to)\n",
    "df_sonnenberg = df_sonnenberg[mask]"
   ]
  },
  {
   "cell_type": "code",
   "execution_count": null,
   "metadata": {},
   "outputs": [],
   "source": [
    "# Sonnenberg Pumpe 1\n",
    "df_sonnenberg_p1 = df_sonnenberg[df_sonnenberg[\n",
    "    'Beschreibung']=='HER PWSONB WVA Abwasser NIVE BZ003 RB Niveau Pumpe 1 ein ']\n",
    "df_sonnenberg_p1 = df_sonnenberg_p1.dropna()\n",
    "sonnenberg_betrieb1 = make_df_betrieb(df_sonnenberg_p1)"
   ]
  },
  {
   "cell_type": "code",
   "execution_count": null,
   "metadata": {},
   "outputs": [],
   "source": [
    "# Sonnenberg Pumpe 2\n",
    "df_sonnenberg_p2 = df_sonnenberg[df_sonnenberg[\n",
    "    'Beschreibung']=='HER PWSONB WVA Abwasser NIVE BZ004 RB Niveau Pumpe 2 ein ']\n",
    "df_sonnenberg_p2 = df_sonnenberg_p2.dropna()\n",
    "sonnenberg_betrieb2 = make_df_betrieb(df_sonnenberg_p2)"
   ]
  },
  {
   "cell_type": "markdown",
   "metadata": {},
   "source": [
    "## Filterleistung"
   ]
  },
  {
   "cell_type": "code",
   "execution_count": null,
   "metadata": {},
   "outputs": [],
   "source": [
    "path_filterleistung = Path(r\"Q:\\Projekte\\8000-\\8500er\\8596\"\n",
    "    r\"\\8596.36-Mühlestrasse\\05 Berechnungen Grundlagen\\Datenauswertung\"\n",
    "    r\"\\Pumpenstunden\\Daten-Filterleistung.xlsx\")\n",
    "\n",
    "filterleistung = pd.read_excel(path_filterleistung, skiprows=1, index_col=0)"
   ]
  },
  {
   "cell_type": "markdown",
   "metadata": {},
   "source": [
    "## Rain"
   ]
  },
  {
   "cell_type": "code",
   "execution_count": null,
   "metadata": {},
   "outputs": [],
   "source": [
    "path_rain = Path(r\"Q:\\Projekte\\8000-\\8500er\\8596\\8596.36-Mühlestrasse\"\n",
    "    r\"\\05 Berechnungen Grundlagen\\Regendaten\\LUZ_2020 bis 2023_data.csv\")\n",
    "\n",
    "rain = uh.read_raindata_meteoschweiz(path_rain, abbr=True)\n",
    "rain.index = rain.index.tz_localize(None)\n",
    "rain = rain[(rain.index>=date_from) & (rain.index<date_to)]\n",
    "rain['cumsum'] = rain.cumsum()"
   ]
  },
  {
   "cell_type": "markdown",
   "metadata": {},
   "source": [
    "# Plots"
   ]
  },
  {
   "cell_type": "code",
   "execution_count": null,
   "metadata": {},
   "outputs": [],
   "source": [
    "fig = make_subplots(specs=[[{\"secondary_y\": False}], [{\"secondary_y\": True}],\n",
    "    [{\"secondary_y\": True}], [{\"secondary_y\": True}]], cols=1, rows=4,\n",
    "    subplot_titles=['Filterleistung', 'PW Hirsen', 'PW Sonnenbergstrasse', 'Niederschlag'], shared_xaxes=True)\n",
    "\n",
    "# Row 1\n",
    "fig.add_trace(go.Scatter(\n",
    "    mode='markers',\n",
    "    x=filterleistung.index,\n",
    "    y=filterleistung.iloc[:,0],\n",
    "    name='RFB 1',\n",
    "    line=dict(color='red')\n",
    "), secondary_y=False, row=1, col=1)\n",
    "\n",
    "fig.add_trace(go.Scatter(\n",
    "    mode='markers',\n",
    "    x=filterleistung.index,\n",
    "    y=filterleistung.iloc[:,1],\n",
    "    name='RFB 2',\n",
    "    line=dict(color='blue')\n",
    "), secondary_y=False, row=1, col=1)\n",
    "\n",
    "# Row 2\n",
    "## Betrieb\n",
    "fig.add_trace(go.Scatter(\n",
    "    x=hirsen_betrieb1.index,\n",
    "    y=hirsen_betrieb1.iloc[:,0],\n",
    "    name='Betrieb Pumpe 1',\n",
    "    line=dict(color='red')\n",
    "), secondary_y=False, row=2, col=1)\n",
    "\n",
    "fig.add_trace(go.Scatter(\n",
    "    x=hirsen_betrieb2.index,\n",
    "    y=hirsen_betrieb2.iloc[:,0],\n",
    "    name='Betrieb Pumpe 2',\n",
    "    line=dict(color='blue')\n",
    "), secondary_y=False, row=2, col=1)\n",
    "\n",
    "## Pumpenstunden\n",
    "fig.add_trace(go.Scatter(\n",
    "    x=hirsen_betrieb1.index,\n",
    "    y=hirsen_betrieb1.iloc[:,2],\n",
    "    name='Pumpenstunden Pumpe 1',\n",
    "    line=dict(color='red', dash='dash')\n",
    "), secondary_y=True, row=2, col=1)\n",
    "\n",
    "fig.add_trace(go.Scatter(\n",
    "    x=hirsen_betrieb2.index,\n",
    "    y=hirsen_betrieb2.iloc[:,2],\n",
    "    name='Pumpenstunden Pumpe 2',\n",
    "    line=dict(color='blue', dash='dash')\n",
    "), secondary_y=True, row=2, col=1)\n",
    "\n",
    "# Row 3\n",
    "fig.add_trace(go.Scatter(\n",
    "    x=rain.index,\n",
    "    y=rain.iloc[:,0],\n",
    "    name='Regen',\n",
    "    line=dict(color='blue')\n",
    "), secondary_y=False, row=3, col=1)\n",
    "\n",
    "fig.add_trace(go.Scatter(\n",
    "    x=rain.index,\n",
    "    y=rain.iloc[:,1],\n",
    "    name='Regen kumulativ',\n",
    "    line=dict(color='blue', dash='dash')\n",
    "), secondary_y=True, row=3, col=1)\n",
    "\n",
    "save_path = Path(r\"Q:\\Projekte\\8000-\\8500er\\8596\\8596.36-Mühlestrasse\"\n",
    "    r\"\\05 Berechnungen Grundlagen\\Datenauswertung\\Pumpenstunden\\Plot-kombiniert.html\")\n",
    "fig.write_html(save_path)"
   ]
  }
 ],
 "metadata": {
  "kernelspec": {
   "display_name": "Python 3.10.8 ('venv': venv)",
   "language": "python",
   "name": "python3"
  },
  "language_info": {
   "codemirror_mode": {
    "name": "ipython",
    "version": 3
   },
   "file_extension": ".py",
   "mimetype": "text/x-python",
   "name": "python",
   "nbconvert_exporter": "python",
   "pygments_lexer": "ipython3",
   "version": "3.11.0"
  },
  "orig_nbformat": 4,
  "vscode": {
   "interpreter": {
    "hash": "fcbcf634104c4732b8439a3fb9bd2e33824138a0380f5d18bd4ad379b42013a3"
   }
  }
 },
 "nbformat": 4,
 "nbformat_minor": 2
}
