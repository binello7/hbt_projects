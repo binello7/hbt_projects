{
 "cells": [
  {
   "cell_type": "markdown",
   "metadata": {},
   "source": [
    "## Imports"
   ]
  },
  {
   "cell_type": "code",
   "execution_count": 18,
   "metadata": {},
   "outputs": [],
   "source": [
    "import pandas as pd\n",
    "from pathlib import Path"
   ]
  },
  {
   "cell_type": "markdown",
   "metadata": {},
   "source": [
    "## Settings"
   ]
  },
  {
   "cell_type": "code",
   "execution_count": 19,
   "metadata": {},
   "outputs": [],
   "source": [
    "path_data = Path(r\"\\\\hunzikerwater.ch\\DFSHBT\\Daten-Winterthur\\Projekte\\3000-\"\n",
    "    r\"\\3033\\3033.11 GEP\\05 Berechnungen Grundlagen\\Messkampagne\\Messungen\"\n",
    "    r\"\\Messdaten Messkampagne komplett\\02 Daten Aufbereitet\"\n",
    "    r\"\\Regendaten_filled.csv\")"
   ]
  },
  {
   "cell_type": "markdown",
   "metadata": {},
   "source": [
    "## Read data"
   ]
  },
  {
   "cell_type": "code",
   "execution_count": 20,
   "metadata": {},
   "outputs": [],
   "source": [
    "date_parser = lambda x: pd.to_datetime(x, format='%d.%m.%Y %H:%M:%S')\n",
    "df = pd.read_csv(path_data, sep=';', index_col=0, parse_dates=[0],\n",
    "    date_parser=date_parser)\n"
   ]
  },
  {
   "cell_type": "code",
   "execution_count": 21,
   "metadata": {},
   "outputs": [],
   "source": [
    "df_out = df.resample('1Min').sum()\n",
    "save_path = path_data.parent / 'Regendaten_filled_res.csv'\n",
    "df_out.to_csv(save_path, sep=';')"
   ]
  }
 ],
 "metadata": {
  "kernelspec": {
   "display_name": "Python 3.10.4 ('py3.10')",
   "language": "python",
   "name": "python3"
  },
  "language_info": {
   "codemirror_mode": {
    "name": "ipython",
    "version": 3
   },
   "file_extension": ".py",
   "mimetype": "text/x-python",
   "name": "python",
   "nbconvert_exporter": "python",
   "pygments_lexer": "ipython3",
   "version": "3.10.4"
  },
  "orig_nbformat": 4,
  "vscode": {
   "interpreter": {
    "hash": "590b78d8cb9270f73855948988b5d0ee0289dd910f80c46d744676df1f9b3d24"
   }
  }
 },
 "nbformat": 4,
 "nbformat_minor": 2
}
