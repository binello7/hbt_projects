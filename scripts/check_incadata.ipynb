{
 "cells": [
  {
   "cell_type": "code",
   "execution_count": null,
   "metadata": {},
   "outputs": [],
   "source": [
    "# Imports\n",
    "import pandas as pd\n",
    "from datetime import datetime as dt\n",
    "from pathlib import Path"
   ]
  },
  {
   "cell_type": "code",
   "execution_count": null,
   "metadata": {},
   "outputs": [],
   "source": [
    "# Parameters\n",
    "dir_path = Path(r\"C:\\Users\\sru\\Downloads\\202401\")\n",
    "\n",
    "start_date = dt(2024, 1, 1, 0, 0)\n",
    "end_date = dt(2024, 1, 9, 20, 20)\n",
    "\n",
    "dates_range = pd.date_range(start=start_date, end=end_date, freq='10min')\n",
    "dates_range\n",
    "\n",
    "files_list = list(dir_path.glob('*.nc'))\n",
    "dates_set2 = set()\n",
    "for file in files_list:\n",
    "    date_name = file.name\n",
    "    date_name = date_name.replace('RR_INCA_', '')\n",
    "    date_name = date_name.replace('.nc', '')\n",
    "    date = dt.strptime(date_name, '%Y%m%d%H%M')\n",
    "    date = pd.to_datetime(date)\n",
    "    dates_set2.add(date)"
   ]
  },
  {
   "cell_type": "code",
   "execution_count": null,
   "metadata": {},
   "outputs": [],
   "source": [
    "dates_range"
   ]
  },
  {
   "cell_type": "code",
   "execution_count": null,
   "metadata": {},
   "outputs": [],
   "source": [
    "dates_set1 = set(dates_range.tolist())\n",
    "print(len(dates_set1))\n",
    "print(len(dates_set2))"
   ]
  },
  {
   "cell_type": "code",
   "execution_count": null,
   "metadata": {},
   "outputs": [],
   "source": [
    "\n",
    "diff = dates_set1.difference(dates_set2)\n",
    "diff"
   ]
  }
 ],
 "metadata": {
  "kernelspec": {
   "display_name": "venv",
   "language": "python",
   "name": "python3"
  },
  "language_info": {
   "codemirror_mode": {
    "name": "ipython",
    "version": 3
   },
   "file_extension": ".py",
   "mimetype": "text/x-python",
   "name": "python",
   "nbconvert_exporter": "python",
   "pygments_lexer": "ipython3",
   "version": "3.11.7"
  }
 },
 "nbformat": 4,
 "nbformat_minor": 2
}
